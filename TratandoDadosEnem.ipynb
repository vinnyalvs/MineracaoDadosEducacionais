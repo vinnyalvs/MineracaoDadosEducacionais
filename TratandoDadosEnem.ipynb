{
 "cells": [
  {
   "cell_type": "code",
   "execution_count": 1,
   "metadata": {
    "colab": {},
    "colab_type": "code",
    "id": "Ce_jZdzf0WRL"
   },
   "outputs": [],
   "source": [
    "#!pip install apyori\n",
    "#!pip install mlxtend"
   ]
  },
  {
   "cell_type": "code",
   "execution_count": 2,
   "metadata": {
    "colab": {},
    "colab_type": "code",
    "id": "1PnnheVd0JyG"
   },
   "outputs": [],
   "source": [
    "import pandas as pd\n",
    "import numpy as np\n",
    "import matplotlib.pyplot as plt\n",
    "import seaborn as sns\n"
   ]
  },
  {
   "cell_type": "code",
   "execution_count": 3,
   "metadata": {},
   "outputs": [],
   "source": [
    "path=\"MicroDados2018MG.csv\""
   ]
  },
  {
   "cell_type": "code",
   "execution_count": 4,
   "metadata": {
    "colab": {
     "base_uri": "https://localhost:8080/",
     "height": 126
    },
    "colab_type": "code",
    "id": "VZtpLozA0JyU",
    "outputId": "ee7d1823-78f3-464c-b457-1c8ac910a50c"
   },
   "outputs": [
    {
     "data": {
      "text/html": [
       "<div>\n",
       "<style scoped>\n",
       "    .dataframe tbody tr th:only-of-type {\n",
       "        vertical-align: middle;\n",
       "    }\n",
       "\n",
       "    .dataframe tbody tr th {\n",
       "        vertical-align: top;\n",
       "    }\n",
       "\n",
       "    .dataframe thead th {\n",
       "        text-align: right;\n",
       "    }\n",
       "</style>\n",
       "<table border=\"1\" class=\"dataframe\">\n",
       "  <thead>\n",
       "    <tr style=\"text-align: right;\">\n",
       "      <th></th>\n",
       "      <th>NU_INSCRICAO</th>\n",
       "      <th>CO_MUNICIPIO_RESIDENCIA</th>\n",
       "      <th>CO_UF_RESIDENCIA</th>\n",
       "      <th>NU_IDADE</th>\n",
       "      <th>TP_SEXO</th>\n",
       "      <th>TP_ESTADO_CIVIL</th>\n",
       "      <th>TP_COR_RACA</th>\n",
       "      <th>TP_NACIONALIDADE</th>\n",
       "      <th>CO_MUNICIPIO_NASCIMENTO</th>\n",
       "      <th>NO_MUNICIPIO_NASCIMENTO</th>\n",
       "      <th>...</th>\n",
       "      <th>Q018</th>\n",
       "      <th>Q019</th>\n",
       "      <th>Q020</th>\n",
       "      <th>Q021</th>\n",
       "      <th>Q022</th>\n",
       "      <th>Q023</th>\n",
       "      <th>Q024</th>\n",
       "      <th>Q025</th>\n",
       "      <th>Q026</th>\n",
       "      <th>Q027</th>\n",
       "    </tr>\n",
       "  </thead>\n",
       "  <tbody>\n",
       "    <tr>\n",
       "      <th>0</th>\n",
       "      <td>180008895637</td>\n",
       "      <td>3119401</td>\n",
       "      <td>31</td>\n",
       "      <td>18.0</td>\n",
       "      <td>F</td>\n",
       "      <td>0.0</td>\n",
       "      <td>3</td>\n",
       "      <td>1</td>\n",
       "      <td>3119401.0</td>\n",
       "      <td>Coronel Fabriciano</td>\n",
       "      <td>...</td>\n",
       "      <td>A</td>\n",
       "      <td>B</td>\n",
       "      <td>B</td>\n",
       "      <td>A</td>\n",
       "      <td>C</td>\n",
       "      <td>A</td>\n",
       "      <td>A</td>\n",
       "      <td>B</td>\n",
       "      <td>B</td>\n",
       "      <td>A</td>\n",
       "    </tr>\n",
       "    <tr>\n",
       "      <th>1</th>\n",
       "      <td>180008309642</td>\n",
       "      <td>3154606</td>\n",
       "      <td>31</td>\n",
       "      <td>17.0</td>\n",
       "      <td>F</td>\n",
       "      <td>0.0</td>\n",
       "      <td>0</td>\n",
       "      <td>1</td>\n",
       "      <td>3106200.0</td>\n",
       "      <td>Belo Horizonte</td>\n",
       "      <td>...</td>\n",
       "      <td>A</td>\n",
       "      <td>B</td>\n",
       "      <td>A</td>\n",
       "      <td>B</td>\n",
       "      <td>B</td>\n",
       "      <td>A</td>\n",
       "      <td>B</td>\n",
       "      <td>B</td>\n",
       "      <td>B</td>\n",
       "      <td>A</td>\n",
       "    </tr>\n",
       "    <tr>\n",
       "      <th>2</th>\n",
       "      <td>180007290041</td>\n",
       "      <td>3153905</td>\n",
       "      <td>31</td>\n",
       "      <td>17.0</td>\n",
       "      <td>F</td>\n",
       "      <td>0.0</td>\n",
       "      <td>3</td>\n",
       "      <td>1</td>\n",
       "      <td>3153905.0</td>\n",
       "      <td>Raposos</td>\n",
       "      <td>...</td>\n",
       "      <td>A</td>\n",
       "      <td>B</td>\n",
       "      <td>A</td>\n",
       "      <td>A</td>\n",
       "      <td>C</td>\n",
       "      <td>A</td>\n",
       "      <td>A</td>\n",
       "      <td>B</td>\n",
       "      <td>B</td>\n",
       "      <td>A</td>\n",
       "    </tr>\n",
       "    <tr>\n",
       "      <th>3</th>\n",
       "      <td>180008199527</td>\n",
       "      <td>3170206</td>\n",
       "      <td>31</td>\n",
       "      <td>17.0</td>\n",
       "      <td>F</td>\n",
       "      <td>0.0</td>\n",
       "      <td>1</td>\n",
       "      <td>1</td>\n",
       "      <td>3170206.0</td>\n",
       "      <td>Uberlândia</td>\n",
       "      <td>...</td>\n",
       "      <td>B</td>\n",
       "      <td>B</td>\n",
       "      <td>A</td>\n",
       "      <td>A</td>\n",
       "      <td>C</td>\n",
       "      <td>B</td>\n",
       "      <td>B</td>\n",
       "      <td>B</td>\n",
       "      <td>B</td>\n",
       "      <td>A</td>\n",
       "    </tr>\n",
       "    <tr>\n",
       "      <th>4</th>\n",
       "      <td>180008205421</td>\n",
       "      <td>3103504</td>\n",
       "      <td>31</td>\n",
       "      <td>17.0</td>\n",
       "      <td>F</td>\n",
       "      <td>0.0</td>\n",
       "      <td>1</td>\n",
       "      <td>1</td>\n",
       "      <td>3502705.0</td>\n",
       "      <td>Apiaí</td>\n",
       "      <td>...</td>\n",
       "      <td>A</td>\n",
       "      <td>B</td>\n",
       "      <td>B</td>\n",
       "      <td>A</td>\n",
       "      <td>D</td>\n",
       "      <td>A</td>\n",
       "      <td>A</td>\n",
       "      <td>A</td>\n",
       "      <td>B</td>\n",
       "      <td>A</td>\n",
       "    </tr>\n",
       "  </tbody>\n",
       "</table>\n",
       "<p>5 rows × 73 columns</p>\n",
       "</div>"
      ],
      "text/plain": [
       "   NU_INSCRICAO  CO_MUNICIPIO_RESIDENCIA  CO_UF_RESIDENCIA  NU_IDADE TP_SEXO  \\\n",
       "0  180008895637                  3119401                31      18.0       F   \n",
       "1  180008309642                  3154606                31      17.0       F   \n",
       "2  180007290041                  3153905                31      17.0       F   \n",
       "3  180008199527                  3170206                31      17.0       F   \n",
       "4  180008205421                  3103504                31      17.0       F   \n",
       "\n",
       "   TP_ESTADO_CIVIL  TP_COR_RACA  TP_NACIONALIDADE  CO_MUNICIPIO_NASCIMENTO  \\\n",
       "0              0.0            3                 1                3119401.0   \n",
       "1              0.0            0                 1                3106200.0   \n",
       "2              0.0            3                 1                3153905.0   \n",
       "3              0.0            1                 1                3170206.0   \n",
       "4              0.0            1                 1                3502705.0   \n",
       "\n",
       "  NO_MUNICIPIO_NASCIMENTO  ...  Q018 Q019  Q020  Q021  Q022  Q023  Q024  Q025  \\\n",
       "0      Coronel Fabriciano  ...     A    B     B     A     C     A     A     B   \n",
       "1          Belo Horizonte  ...     A    B     A     B     B     A     B     B   \n",
       "2                 Raposos  ...     A    B     A     A     C     A     A     B   \n",
       "3              Uberlândia  ...     B    B     A     A     C     B     B     B   \n",
       "4                   Apiaí  ...     A    B     B     A     D     A     A     A   \n",
       "\n",
       "   Q026 Q027  \n",
       "0     B    A  \n",
       "1     B    A  \n",
       "2     B    A  \n",
       "3     B    A  \n",
       "4     B    A  \n",
       "\n",
       "[5 rows x 73 columns]"
      ]
     },
     "execution_count": 4,
     "metadata": {},
     "output_type": "execute_result"
    }
   ],
   "source": [
    "dadosEnem = pd.read_csv(path,sep=';',encoding='latin1',low_memory=False)\n",
    "\n",
    "dadosEnem.head()"
   ]
  },
  {
   "cell_type": "code",
   "execution_count": 5,
   "metadata": {
    "colab": {
     "base_uri": "https://localhost:8080/",
     "height": 1000
    },
    "colab_type": "code",
    "id": "_nRztMfIWL7d",
    "outputId": "c71ea091-4435-4878-fa62-6f21e3105bf1"
   },
   "outputs": [
    {
     "name": "stdout",
     "output_type": "stream",
     "text": [
      "<class 'pandas.core.frame.DataFrame'>\n",
      "RangeIndex: 137963 entries, 0 to 137962\n",
      "Data columns (total 73 columns):\n",
      " #   Column                   Non-Null Count   Dtype  \n",
      "---  ------                   --------------   -----  \n",
      " 0   NU_INSCRICAO             137963 non-null  int64  \n",
      " 1   CO_MUNICIPIO_RESIDENCIA  137963 non-null  int64  \n",
      " 2   CO_UF_RESIDENCIA         137963 non-null  int64  \n",
      " 3   NU_IDADE                 137958 non-null  float64\n",
      " 4   TP_SEXO                  137963 non-null  object \n",
      " 5   TP_ESTADO_CIVIL          135212 non-null  float64\n",
      " 6   TP_COR_RACA              137963 non-null  int64  \n",
      " 7   TP_NACIONALIDADE         137963 non-null  int64  \n",
      " 8   CO_MUNICIPIO_NASCIMENTO  131845 non-null  float64\n",
      " 9   NO_MUNICIPIO_NASCIMENTO  131845 non-null  object \n",
      " 10  CO_UF_NASCIMENTO         131845 non-null  float64\n",
      " 11  SG_UF_NASCIMENTO         131845 non-null  object \n",
      " 12  TP_ST_CONCLUSAO          137963 non-null  int64  \n",
      " 13  TP_ANO_CONCLUIU          137963 non-null  int64  \n",
      " 14  TP_ESCOLA                137963 non-null  int64  \n",
      " 15  TP_ENSINO                137932 non-null  float64\n",
      " 16  IN_TREINEIRO             137963 non-null  int64  \n",
      " 17  CO_ESCOLA                137963 non-null  float64\n",
      " 18  CO_MUNICIPIO_ESC         137963 non-null  float64\n",
      " 19  NO_MUNICIPIO_ESC         137963 non-null  object \n",
      " 20  SG_UF_ESC_x              137963 non-null  object \n",
      " 21  TP_DEPENDENCIA_ADM_ESC   137963 non-null  float64\n",
      " 22  TP_LOCALIZACAO_ESC       137963 non-null  float64\n",
      " 23  TP_SIT_FUNC_ESC          137963 non-null  float64\n",
      " 24  SG_UF_ESC_y              137963 non-null  object \n",
      " 25  CO_MUNICIPIO_PROVA       137963 non-null  int64  \n",
      " 26  NO_MUNICIPIO_PROVA       137963 non-null  object \n",
      " 27  CO_UF_PROVA              137963 non-null  int64  \n",
      " 28  SG_UF_PROVA              137963 non-null  object \n",
      " 29  TP_PRESENCA_CN           137959 non-null  float64\n",
      " 30  TP_PRESENCA_CH           137959 non-null  float64\n",
      " 31  TP_PRESENCA_LC           137959 non-null  float64\n",
      " 32  TP_PRESENCA_MT           137959 non-null  float64\n",
      " 33  NU_NOTA_CN               112494 non-null  float64\n",
      " 34  NU_NOTA_CH               117515 non-null  float64\n",
      " 35  NU_NOTA_LC               117515 non-null  float64\n",
      " 36  NU_NOTA_MT               112494 non-null  float64\n",
      " 37  TP_LINGUA                137963 non-null  int64  \n",
      " 38  TP_STATUS_REDACAO        117515 non-null  float64\n",
      " 39  NU_NOTA_COMP1            117515 non-null  float64\n",
      " 40  NU_NOTA_COMP2            117515 non-null  float64\n",
      " 41  NU_NOTA_COMP3            117515 non-null  float64\n",
      " 42  NU_NOTA_COMP4            117515 non-null  float64\n",
      " 43  NU_NOTA_COMP5            117515 non-null  float64\n",
      " 44  NU_NOTA_REDACAO          117515 non-null  float64\n",
      " 45  SG_UF_ESC                137963 non-null  object \n",
      " 46  Q001                     137963 non-null  object \n",
      " 47  Q002                     137963 non-null  object \n",
      " 48  Q003                     137963 non-null  object \n",
      " 49  Q004                     137963 non-null  object \n",
      " 50  Q005                     137963 non-null  int64  \n",
      " 51  Q006                     137963 non-null  object \n",
      " 52  Q007                     137963 non-null  object \n",
      " 53  Q008                     137963 non-null  object \n",
      " 54  Q009                     137963 non-null  object \n",
      " 55  Q010                     137963 non-null  object \n",
      " 56  Q011                     137963 non-null  object \n",
      " 57  Q012                     137963 non-null  object \n",
      " 58  Q013                     137963 non-null  object \n",
      " 59  Q014                     137963 non-null  object \n",
      " 60  Q015                     137963 non-null  object \n",
      " 61  Q016                     137963 non-null  object \n",
      " 62  Q017                     137963 non-null  object \n",
      " 63  Q018                     137963 non-null  object \n",
      " 64  Q019                     137963 non-null  object \n",
      " 65  Q020                     137963 non-null  object \n",
      " 66  Q021                     137963 non-null  object \n",
      " 67  Q022                     137963 non-null  object \n",
      " 68  Q023                     137963 non-null  object \n",
      " 69  Q024                     137963 non-null  object \n",
      " 70  Q025                     137963 non-null  object \n",
      " 71  Q026                     137962 non-null  object \n",
      " 72  Q027                     137963 non-null  object \n",
      "dtypes: float64(25), int64(13), object(35)\n",
      "memory usage: 76.8+ MB\n"
     ]
    }
   ],
   "source": [
    "dadosEnem.info()"
   ]
  },
  {
   "cell_type": "markdown",
   "metadata": {
    "colab_type": "text",
    "id": "rhXgOy1W0Jyn"
   },
   "source": [
    "#Colunas a serem retiradas\n",
    "* SG_UF_NASCIMENTO (valor duplicado)\n",
    "* TP_Nacionalidade\n",
    "* TP_Estado_Civil\n",
    "* SG_UF_ESC\n",
    "* SG_UF_PROVA\n",
    "* CO_MUNICIPIO_PROVA (nesta base, as outras referências aos municipios foram feitas por nome)\n",
    "\n",
    "O que mais foi feito:\n",
    "* Retirada dos valores nan e várias colunas\n",
    "* Tratamento de dados\n",
    "* Tentativa de rodar o apriori\n"
   ]
  },
  {
   "cell_type": "code",
   "execution_count": null,
   "metadata": {
    "colab": {},
    "colab_type": "code",
    "id": "O1PiVCUZcLEi"
   },
   "outputs": [],
   "source": []
  },
  {
   "cell_type": "code",
   "execution_count": 6,
   "metadata": {
    "colab": {},
    "colab_type": "code",
    "id": "hD_O64660Jyp"
   },
   "outputs": [],
   "source": [
    "dadosEnem = dadosEnem.drop(['SG_UF_NASCIMENTO' ], axis=1)\n",
    "dadosEnem = dadosEnem.drop(['TP_NACIONALIDADE' ], axis=1)\n",
    "dadosEnem = dadosEnem.drop(['TP_ESTADO_CIVIL' ], axis=1)\n",
    "#dadosEnem = dadosEnem.drop(['SG_UF_ESC'], axis=1)\n",
    "dadosEnem = dadosEnem.drop(['SG_UF_ESC_x'], axis=1)\n",
    "dadosEnem = dadosEnem.drop(['SG_UF_ESC_y'], axis=1)\n",
    "dadosEnem = dadosEnem.drop(['SG_UF_PROVA'], axis=1)\n",
    "dadosEnem = dadosEnem.drop(['CO_MUNICIPIO_PROVA'], axis=1)\n",
    "dadosEnem = dadosEnem.drop(['TP_PRESENCA_CN'], axis=1)\n",
    "dadosEnem = dadosEnem.drop(['TP_PRESENCA_CH'], axis=1)\n",
    "dadosEnem = dadosEnem.drop(['TP_PRESENCA_LC'], axis=1)\n",
    "dadosEnem = dadosEnem.drop(['TP_PRESENCA_MT'], axis=1)\n",
    "\n",
    "\n",
    "\n",
    "\n",
    "\n",
    "\n",
    "\n",
    "\n",
    "\n",
    "\n",
    "\n",
    "\n"
   ]
  },
  {
   "cell_type": "code",
   "execution_count": 7,
   "metadata": {
    "colab": {
     "base_uri": "https://localhost:8080/",
     "height": 1000
    },
    "colab_type": "code",
    "id": "LQiWYzoO6abP",
    "outputId": "1eca20dd-7e2e-47a6-daee-9801b945cdb3"
   },
   "outputs": [
    {
     "name": "stdout",
     "output_type": "stream",
     "text": [
      "<class 'pandas.core.frame.DataFrame'>\n",
      "RangeIndex: 137963 entries, 0 to 137962\n",
      "Data columns (total 62 columns):\n",
      " #   Column                   Non-Null Count   Dtype  \n",
      "---  ------                   --------------   -----  \n",
      " 0   NU_INSCRICAO             137963 non-null  int64  \n",
      " 1   CO_MUNICIPIO_RESIDENCIA  137963 non-null  int64  \n",
      " 2   CO_UF_RESIDENCIA         137963 non-null  int64  \n",
      " 3   NU_IDADE                 137958 non-null  float64\n",
      " 4   TP_SEXO                  137963 non-null  object \n",
      " 5   TP_COR_RACA              137963 non-null  int64  \n",
      " 6   CO_MUNICIPIO_NASCIMENTO  131845 non-null  float64\n",
      " 7   NO_MUNICIPIO_NASCIMENTO  131845 non-null  object \n",
      " 8   CO_UF_NASCIMENTO         131845 non-null  float64\n",
      " 9   TP_ST_CONCLUSAO          137963 non-null  int64  \n",
      " 10  TP_ANO_CONCLUIU          137963 non-null  int64  \n",
      " 11  TP_ESCOLA                137963 non-null  int64  \n",
      " 12  TP_ENSINO                137932 non-null  float64\n",
      " 13  IN_TREINEIRO             137963 non-null  int64  \n",
      " 14  CO_ESCOLA                137963 non-null  float64\n",
      " 15  CO_MUNICIPIO_ESC         137963 non-null  float64\n",
      " 16  NO_MUNICIPIO_ESC         137963 non-null  object \n",
      " 17  TP_DEPENDENCIA_ADM_ESC   137963 non-null  float64\n",
      " 18  TP_LOCALIZACAO_ESC       137963 non-null  float64\n",
      " 19  TP_SIT_FUNC_ESC          137963 non-null  float64\n",
      " 20  NO_MUNICIPIO_PROVA       137963 non-null  object \n",
      " 21  CO_UF_PROVA              137963 non-null  int64  \n",
      " 22  NU_NOTA_CN               112494 non-null  float64\n",
      " 23  NU_NOTA_CH               117515 non-null  float64\n",
      " 24  NU_NOTA_LC               117515 non-null  float64\n",
      " 25  NU_NOTA_MT               112494 non-null  float64\n",
      " 26  TP_LINGUA                137963 non-null  int64  \n",
      " 27  TP_STATUS_REDACAO        117515 non-null  float64\n",
      " 28  NU_NOTA_COMP1            117515 non-null  float64\n",
      " 29  NU_NOTA_COMP2            117515 non-null  float64\n",
      " 30  NU_NOTA_COMP3            117515 non-null  float64\n",
      " 31  NU_NOTA_COMP4            117515 non-null  float64\n",
      " 32  NU_NOTA_COMP5            117515 non-null  float64\n",
      " 33  NU_NOTA_REDACAO          117515 non-null  float64\n",
      " 34  SG_UF_ESC                137963 non-null  object \n",
      " 35  Q001                     137963 non-null  object \n",
      " 36  Q002                     137963 non-null  object \n",
      " 37  Q003                     137963 non-null  object \n",
      " 38  Q004                     137963 non-null  object \n",
      " 39  Q005                     137963 non-null  int64  \n",
      " 40  Q006                     137963 non-null  object \n",
      " 41  Q007                     137963 non-null  object \n",
      " 42  Q008                     137963 non-null  object \n",
      " 43  Q009                     137963 non-null  object \n",
      " 44  Q010                     137963 non-null  object \n",
      " 45  Q011                     137963 non-null  object \n",
      " 46  Q012                     137963 non-null  object \n",
      " 47  Q013                     137963 non-null  object \n",
      " 48  Q014                     137963 non-null  object \n",
      " 49  Q015                     137963 non-null  object \n",
      " 50  Q016                     137963 non-null  object \n",
      " 51  Q017                     137963 non-null  object \n",
      " 52  Q018                     137963 non-null  object \n",
      " 53  Q019                     137963 non-null  object \n",
      " 54  Q020                     137963 non-null  object \n",
      " 55  Q021                     137963 non-null  object \n",
      " 56  Q022                     137963 non-null  object \n",
      " 57  Q023                     137963 non-null  object \n",
      " 58  Q024                     137963 non-null  object \n",
      " 59  Q025                     137963 non-null  object \n",
      " 60  Q026                     137962 non-null  object \n",
      " 61  Q027                     137963 non-null  object \n",
      "dtypes: float64(20), int64(11), object(31)\n",
      "memory usage: 65.3+ MB\n"
     ]
    }
   ],
   "source": [
    "dadosEnem.info()"
   ]
  },
  {
   "cell_type": "markdown",
   "metadata": {
    "colab_type": "text",
    "id": "p52fIZWGXuni"
   },
   "source": [
    "## É necessário mudar o tipo de algumas colunas, já que li todas as colunas como tipo categoria"
   ]
  },
  {
   "cell_type": "code",
   "execution_count": 8,
   "metadata": {},
   "outputs": [
    {
     "name": "stdout",
     "output_type": "stream",
     "text": [
      "<class 'pandas.core.frame.DataFrame'>\n",
      "RangeIndex: 137963 entries, 0 to 137962\n",
      "Data columns (total 62 columns):\n",
      " #   Column                   Non-Null Count   Dtype   \n",
      "---  ------                   --------------   -----   \n",
      " 0   NU_INSCRICAO             137963 non-null  category\n",
      " 1   CO_MUNICIPIO_RESIDENCIA  137963 non-null  category\n",
      " 2   CO_UF_RESIDENCIA         137963 non-null  category\n",
      " 3   NU_IDADE                 137958 non-null  category\n",
      " 4   TP_SEXO                  137963 non-null  category\n",
      " 5   TP_COR_RACA              137963 non-null  category\n",
      " 6   CO_MUNICIPIO_NASCIMENTO  131845 non-null  category\n",
      " 7   NO_MUNICIPIO_NASCIMENTO  131845 non-null  category\n",
      " 8   CO_UF_NASCIMENTO         131845 non-null  category\n",
      " 9   TP_ST_CONCLUSAO          137963 non-null  category\n",
      " 10  TP_ANO_CONCLUIU          137963 non-null  category\n",
      " 11  TP_ESCOLA                137963 non-null  category\n",
      " 12  TP_ENSINO                137932 non-null  category\n",
      " 13  IN_TREINEIRO             137963 non-null  category\n",
      " 14  CO_ESCOLA                137963 non-null  category\n",
      " 15  CO_MUNICIPIO_ESC         137963 non-null  category\n",
      " 16  NO_MUNICIPIO_ESC         137963 non-null  category\n",
      " 17  TP_DEPENDENCIA_ADM_ESC   137963 non-null  category\n",
      " 18  TP_LOCALIZACAO_ESC       137963 non-null  category\n",
      " 19  TP_SIT_FUNC_ESC          137963 non-null  category\n",
      " 20  NO_MUNICIPIO_PROVA       137963 non-null  category\n",
      " 21  CO_UF_PROVA              137963 non-null  category\n",
      " 22  NU_NOTA_CN               112494 non-null  category\n",
      " 23  NU_NOTA_CH               117515 non-null  category\n",
      " 24  NU_NOTA_LC               117515 non-null  category\n",
      " 25  NU_NOTA_MT               112494 non-null  category\n",
      " 26  TP_LINGUA                137963 non-null  category\n",
      " 27  TP_STATUS_REDACAO        117515 non-null  category\n",
      " 28  NU_NOTA_COMP1            117515 non-null  category\n",
      " 29  NU_NOTA_COMP2            117515 non-null  category\n",
      " 30  NU_NOTA_COMP3            117515 non-null  category\n",
      " 31  NU_NOTA_COMP4            117515 non-null  category\n",
      " 32  NU_NOTA_COMP5            117515 non-null  category\n",
      " 33  NU_NOTA_REDACAO          117515 non-null  category\n",
      " 34  SG_UF_ESC                137963 non-null  category\n",
      " 35  Q001                     137963 non-null  category\n",
      " 36  Q002                     137963 non-null  category\n",
      " 37  Q003                     137963 non-null  category\n",
      " 38  Q004                     137963 non-null  category\n",
      " 39  Q005                     137963 non-null  category\n",
      " 40  Q006                     137963 non-null  category\n",
      " 41  Q007                     137963 non-null  category\n",
      " 42  Q008                     137963 non-null  category\n",
      " 43  Q009                     137963 non-null  category\n",
      " 44  Q010                     137963 non-null  category\n",
      " 45  Q011                     137963 non-null  category\n",
      " 46  Q012                     137963 non-null  category\n",
      " 47  Q013                     137963 non-null  category\n",
      " 48  Q014                     137963 non-null  category\n",
      " 49  Q015                     137963 non-null  category\n",
      " 50  Q016                     137963 non-null  category\n",
      " 51  Q017                     137963 non-null  category\n",
      " 52  Q018                     137963 non-null  category\n",
      " 53  Q019                     137963 non-null  category\n",
      " 54  Q020                     137963 non-null  category\n",
      " 55  Q021                     137963 non-null  category\n",
      " 56  Q022                     137963 non-null  category\n",
      " 57  Q023                     137963 non-null  category\n",
      " 58  Q024                     137963 non-null  category\n",
      " 59  Q025                     137963 non-null  category\n",
      " 60  Q026                     137962 non-null  category\n",
      " 61  Q027                     137963 non-null  category\n",
      "dtypes: category(62)\n",
      "memory usage: 17.3 MB\n"
     ]
    }
   ],
   "source": [
    "dadoEnem = dadosEnem.astype('category').info()"
   ]
  },
  {
   "cell_type": "code",
   "execution_count": 9,
   "metadata": {},
   "outputs": [
    {
     "name": "stdout",
     "output_type": "stream",
     "text": [
      "<class 'pandas.core.frame.DataFrame'>\n",
      "RangeIndex: 137963 entries, 0 to 137962\n",
      "Data columns (total 62 columns):\n",
      " #   Column                   Non-Null Count   Dtype  \n",
      "---  ------                   --------------   -----  \n",
      " 0   NU_INSCRICAO             137963 non-null  int64  \n",
      " 1   CO_MUNICIPIO_RESIDENCIA  137963 non-null  int64  \n",
      " 2   CO_UF_RESIDENCIA         137963 non-null  int64  \n",
      " 3   NU_IDADE                 137958 non-null  float64\n",
      " 4   TP_SEXO                  137963 non-null  object \n",
      " 5   TP_COR_RACA              137963 non-null  int64  \n",
      " 6   CO_MUNICIPIO_NASCIMENTO  131845 non-null  float64\n",
      " 7   NO_MUNICIPIO_NASCIMENTO  131845 non-null  object \n",
      " 8   CO_UF_NASCIMENTO         131845 non-null  float64\n",
      " 9   TP_ST_CONCLUSAO          137963 non-null  int64  \n",
      " 10  TP_ANO_CONCLUIU          137963 non-null  int64  \n",
      " 11  TP_ESCOLA                137963 non-null  int64  \n",
      " 12  TP_ENSINO                137932 non-null  float64\n",
      " 13  IN_TREINEIRO             137963 non-null  int64  \n",
      " 14  CO_ESCOLA                137963 non-null  float64\n",
      " 15  CO_MUNICIPIO_ESC         137963 non-null  float64\n",
      " 16  NO_MUNICIPIO_ESC         137963 non-null  object \n",
      " 17  TP_DEPENDENCIA_ADM_ESC   137963 non-null  float64\n",
      " 18  TP_LOCALIZACAO_ESC       137963 non-null  float64\n",
      " 19  TP_SIT_FUNC_ESC          137963 non-null  float64\n",
      " 20  NO_MUNICIPIO_PROVA       137963 non-null  object \n",
      " 21  CO_UF_PROVA              137963 non-null  int64  \n",
      " 22  NU_NOTA_CN               112494 non-null  float64\n",
      " 23  NU_NOTA_CH               117515 non-null  float64\n",
      " 24  NU_NOTA_LC               117515 non-null  float64\n",
      " 25  NU_NOTA_MT               112494 non-null  float64\n",
      " 26  TP_LINGUA                137963 non-null  int64  \n",
      " 27  TP_STATUS_REDACAO        117515 non-null  float64\n",
      " 28  NU_NOTA_COMP1            117515 non-null  float64\n",
      " 29  NU_NOTA_COMP2            117515 non-null  float64\n",
      " 30  NU_NOTA_COMP3            117515 non-null  float64\n",
      " 31  NU_NOTA_COMP4            117515 non-null  float64\n",
      " 32  NU_NOTA_COMP5            117515 non-null  float64\n",
      " 33  NU_NOTA_REDACAO          117515 non-null  float64\n",
      " 34  SG_UF_ESC                137963 non-null  object \n",
      " 35  Q001                     137963 non-null  object \n",
      " 36  Q002                     137963 non-null  object \n",
      " 37  Q003                     137963 non-null  object \n",
      " 38  Q004                     137963 non-null  object \n",
      " 39  Q005                     137963 non-null  int64  \n",
      " 40  Q006                     137963 non-null  object \n",
      " 41  Q007                     137963 non-null  object \n",
      " 42  Q008                     137963 non-null  object \n",
      " 43  Q009                     137963 non-null  object \n",
      " 44  Q010                     137963 non-null  object \n",
      " 45  Q011                     137963 non-null  object \n",
      " 46  Q012                     137963 non-null  object \n",
      " 47  Q013                     137963 non-null  object \n",
      " 48  Q014                     137963 non-null  object \n",
      " 49  Q015                     137963 non-null  object \n",
      " 50  Q016                     137963 non-null  object \n",
      " 51  Q017                     137963 non-null  object \n",
      " 52  Q018                     137963 non-null  object \n",
      " 53  Q019                     137963 non-null  object \n",
      " 54  Q020                     137963 non-null  object \n",
      " 55  Q021                     137963 non-null  object \n",
      " 56  Q022                     137963 non-null  object \n",
      " 57  Q023                     137963 non-null  object \n",
      " 58  Q024                     137963 non-null  object \n",
      " 59  Q025                     137963 non-null  object \n",
      " 60  Q026                     137962 non-null  object \n",
      " 61  Q027                     137963 non-null  object \n",
      "dtypes: float64(20), int64(11), object(31)\n",
      "memory usage: 65.3+ MB\n"
     ]
    }
   ],
   "source": [
    "dadosEnem.info()\n"
   ]
  },
  {
   "cell_type": "markdown",
   "metadata": {
    "colab_type": "text",
    "id": "nJbOZvNP0ksS"
   },
   "source": [
    "# Tratando dados faltantes\n",
    "\n",
    "TP_ENSINO , TP_SIT_FUNC_ESC"
   ]
  },
  {
   "cell_type": "code",
   "execution_count": null,
   "metadata": {},
   "outputs": [],
   "source": []
  },
  {
   "cell_type": "code",
   "execution_count": null,
   "metadata": {},
   "outputs": [],
   "source": []
  },
  {
   "cell_type": "code",
   "execution_count": 10,
   "metadata": {
    "colab": {},
    "colab_type": "code",
    "id": "KW6qXUfN0JzC"
   },
   "outputs": [],
   "source": [
    "dadosEnem['TP_ENSINO'].fillna(0,inplace=True)\n",
    "dadosEnem['TP_SIT_FUNC_ESC'].fillna(0,inplace=True)\n",
    "dadosEnem['NO_MUNICIPIO_NASCIMENTO'].fillna(\"Não Informado\",inplace=True)\n",
    "dadosEnem['CO_UF_NASCIMENTO'].fillna('00',inplace=True)"
   ]
  },
  {
   "cell_type": "markdown",
   "metadata": {
    "colab_type": "text",
    "id": "6c1JHdw50JzO"
   },
   "source": [
    "#Para calcular a idade de campos Nan vou usar a técninca de dubstituir os campos pela média dos valores da coluna"
   ]
  },
  {
   "cell_type": "code",
   "execution_count": 11,
   "metadata": {
    "colab": {},
    "colab_type": "code",
    "id": "GzasAVDn0JzF"
   },
   "outputs": [],
   "source": [
    "\n",
    "dadosEnem['NU_IDADE'].fillna(dadosEnem['NU_IDADE'].mean(),inplace=True)"
   ]
  },
  {
   "cell_type": "code",
   "execution_count": 12,
   "metadata": {},
   "outputs": [
    {
     "name": "stdout",
     "output_type": "stream",
     "text": [
      "<class 'pandas.core.frame.DataFrame'>\n",
      "RangeIndex: 137963 entries, 0 to 137962\n",
      "Data columns (total 62 columns):\n",
      " #   Column                   Non-Null Count   Dtype  \n",
      "---  ------                   --------------   -----  \n",
      " 0   NU_INSCRICAO             137963 non-null  int64  \n",
      " 1   CO_MUNICIPIO_RESIDENCIA  137963 non-null  int64  \n",
      " 2   CO_UF_RESIDENCIA         137963 non-null  int64  \n",
      " 3   NU_IDADE                 137963 non-null  float64\n",
      " 4   TP_SEXO                  137963 non-null  object \n",
      " 5   TP_COR_RACA              137963 non-null  int64  \n",
      " 6   CO_MUNICIPIO_NASCIMENTO  131845 non-null  float64\n",
      " 7   NO_MUNICIPIO_NASCIMENTO  137963 non-null  object \n",
      " 8   CO_UF_NASCIMENTO         137963 non-null  object \n",
      " 9   TP_ST_CONCLUSAO          137963 non-null  int64  \n",
      " 10  TP_ANO_CONCLUIU          137963 non-null  int64  \n",
      " 11  TP_ESCOLA                137963 non-null  int64  \n",
      " 12  TP_ENSINO                137963 non-null  float64\n",
      " 13  IN_TREINEIRO             137963 non-null  int64  \n",
      " 14  CO_ESCOLA                137963 non-null  float64\n",
      " 15  CO_MUNICIPIO_ESC         137963 non-null  float64\n",
      " 16  NO_MUNICIPIO_ESC         137963 non-null  object \n",
      " 17  TP_DEPENDENCIA_ADM_ESC   137963 non-null  float64\n",
      " 18  TP_LOCALIZACAO_ESC       137963 non-null  float64\n",
      " 19  TP_SIT_FUNC_ESC          137963 non-null  float64\n",
      " 20  NO_MUNICIPIO_PROVA       137963 non-null  object \n",
      " 21  CO_UF_PROVA              137963 non-null  int64  \n",
      " 22  NU_NOTA_CN               112494 non-null  float64\n",
      " 23  NU_NOTA_CH               117515 non-null  float64\n",
      " 24  NU_NOTA_LC               117515 non-null  float64\n",
      " 25  NU_NOTA_MT               112494 non-null  float64\n",
      " 26  TP_LINGUA                137963 non-null  int64  \n",
      " 27  TP_STATUS_REDACAO        117515 non-null  float64\n",
      " 28  NU_NOTA_COMP1            117515 non-null  float64\n",
      " 29  NU_NOTA_COMP2            117515 non-null  float64\n",
      " 30  NU_NOTA_COMP3            117515 non-null  float64\n",
      " 31  NU_NOTA_COMP4            117515 non-null  float64\n",
      " 32  NU_NOTA_COMP5            117515 non-null  float64\n",
      " 33  NU_NOTA_REDACAO          117515 non-null  float64\n",
      " 34  SG_UF_ESC                137963 non-null  object \n",
      " 35  Q001                     137963 non-null  object \n",
      " 36  Q002                     137963 non-null  object \n",
      " 37  Q003                     137963 non-null  object \n",
      " 38  Q004                     137963 non-null  object \n",
      " 39  Q005                     137963 non-null  int64  \n",
      " 40  Q006                     137963 non-null  object \n",
      " 41  Q007                     137963 non-null  object \n",
      " 42  Q008                     137963 non-null  object \n",
      " 43  Q009                     137963 non-null  object \n",
      " 44  Q010                     137963 non-null  object \n",
      " 45  Q011                     137963 non-null  object \n",
      " 46  Q012                     137963 non-null  object \n",
      " 47  Q013                     137963 non-null  object \n",
      " 48  Q014                     137963 non-null  object \n",
      " 49  Q015                     137963 non-null  object \n",
      " 50  Q016                     137963 non-null  object \n",
      " 51  Q017                     137963 non-null  object \n",
      " 52  Q018                     137963 non-null  object \n",
      " 53  Q019                     137963 non-null  object \n",
      " 54  Q020                     137963 non-null  object \n",
      " 55  Q021                     137963 non-null  object \n",
      " 56  Q022                     137963 non-null  object \n",
      " 57  Q023                     137963 non-null  object \n",
      " 58  Q024                     137963 non-null  object \n",
      " 59  Q025                     137963 non-null  object \n",
      " 60  Q026                     137962 non-null  object \n",
      " 61  Q027                     137963 non-null  object \n",
      "dtypes: float64(19), int64(11), object(32)\n",
      "memory usage: 65.3+ MB\n"
     ]
    }
   ],
   "source": [
    "dadosEnem.info()"
   ]
  },
  {
   "cell_type": "markdown",
   "metadata": {
    "colab_type": "text",
    "id": "hxy6I3F11NmN"
   },
   "source": [
    "#Problema: As Notas tem muitos campos sem valor, devido a ausência de alunos nas provas. Substituir todos os valores por 0 pode colocoar viés na base.\n",
    "\n",
    "Valores relacionados a média ficariam distorcidos.\n",
    "\n",
    "A solução que irei tomar é remover essas linhas com notas faltantes da minha base tratada. Caso voltemos atŕas é só descomentar e executar a célula abaixo que substitui as notas \"vazias\" por 0."
   ]
  },
  {
   "cell_type": "code",
   "execution_count": 13,
   "metadata": {
    "colab": {
     "base_uri": "https://localhost:8080/",
     "height": 55
    },
    "colab_type": "code",
    "id": "AHshJqg60JzH",
    "outputId": "2856f328-f369-47ca-8c4a-9351521f7cf4",
    "scrolled": true
   },
   "outputs": [
    {
     "data": {
      "text/plain": [
       "\" dadosEnem['NU_NOTA_CN'].fillna(0,inplace=True)\\ndadosEnem['NU_NOTA_CH'].fillna(0,inplace=True)\\ndadosEnem['NU_NOTA_LC'].fillna(0,inplace=True)\\ndadosEnem['NU_NOTA_MT'].fillna(0,inplace=True)\\ndadosEnem['TP_STATUS_REDACAO'].fillna(0,inplace=True)\\ndadosEnem['NU_NOTA_COMP1'].fillna(0,inplace=True)\\ndadosEnem['NU_NOTA_COMP2'].fillna(0,inplace=True)\\ndadosEnem['NU_NOTA_COMP3'].fillna(0,inplace=True)\\ndadosEnem['NU_NOTA_COMP4'].fillna(0,inplace=True)\\ndadosEnem['NU_NOTA_COMP5'].fillna(0,inplace=True)\\ndadosEnem['NU_NOTA_REDACAO'].fillna(0,inplace=True) \""
      ]
     },
     "execution_count": 13,
     "metadata": {},
     "output_type": "execute_result"
    }
   ],
   "source": [
    "''' dadosEnem['NU_NOTA_CN'].fillna(0,inplace=True)\n",
    "dadosEnem['NU_NOTA_CH'].fillna(0,inplace=True)\n",
    "dadosEnem['NU_NOTA_LC'].fillna(0,inplace=True)\n",
    "dadosEnem['NU_NOTA_MT'].fillna(0,inplace=True)\n",
    "dadosEnem['TP_STATUS_REDACAO'].fillna(0,inplace=True)\n",
    "dadosEnem['NU_NOTA_COMP1'].fillna(0,inplace=True)\n",
    "dadosEnem['NU_NOTA_COMP2'].fillna(0,inplace=True)\n",
    "dadosEnem['NU_NOTA_COMP3'].fillna(0,inplace=True)\n",
    "dadosEnem['NU_NOTA_COMP4'].fillna(0,inplace=True)\n",
    "dadosEnem['NU_NOTA_COMP5'].fillna(0,inplace=True)\n",
    "dadosEnem['NU_NOTA_REDACAO'].fillna(0,inplace=True) '''"
   ]
  },
  {
   "cell_type": "code",
   "execution_count": 14,
   "metadata": {
    "colab": {},
    "colab_type": "code",
    "id": "wZNoRrE50JzK"
   },
   "outputs": [],
   "source": [
    "#Limpando linhas vazias\n",
    "dadosTratados = dadosEnem.dropna()\n",
    "  "
   ]
  },
  {
   "cell_type": "code",
   "execution_count": 15,
   "metadata": {
    "colab": {
     "base_uri": "https://localhost:8080/",
     "height": 1000
    },
    "colab_type": "code",
    "id": "ViZ0Kg400JzP",
    "outputId": "883d5c62-f9fd-4d5d-bd85-eb26607de131"
   },
   "outputs": [
    {
     "name": "stdout",
     "output_type": "stream",
     "text": [
      "<class 'pandas.core.frame.DataFrame'>\n",
      "Int64Index: 107625 entries, 0 to 137962\n",
      "Data columns (total 62 columns):\n",
      " #   Column                   Non-Null Count   Dtype  \n",
      "---  ------                   --------------   -----  \n",
      " 0   NU_INSCRICAO             107625 non-null  int64  \n",
      " 1   CO_MUNICIPIO_RESIDENCIA  107625 non-null  int64  \n",
      " 2   CO_UF_RESIDENCIA         107625 non-null  int64  \n",
      " 3   NU_IDADE                 107625 non-null  float64\n",
      " 4   TP_SEXO                  107625 non-null  object \n",
      " 5   TP_COR_RACA              107625 non-null  int64  \n",
      " 6   CO_MUNICIPIO_NASCIMENTO  107625 non-null  float64\n",
      " 7   NO_MUNICIPIO_NASCIMENTO  107625 non-null  object \n",
      " 8   CO_UF_NASCIMENTO         107625 non-null  object \n",
      " 9   TP_ST_CONCLUSAO          107625 non-null  int64  \n",
      " 10  TP_ANO_CONCLUIU          107625 non-null  int64  \n",
      " 11  TP_ESCOLA                107625 non-null  int64  \n",
      " 12  TP_ENSINO                107625 non-null  float64\n",
      " 13  IN_TREINEIRO             107625 non-null  int64  \n",
      " 14  CO_ESCOLA                107625 non-null  float64\n",
      " 15  CO_MUNICIPIO_ESC         107625 non-null  float64\n",
      " 16  NO_MUNICIPIO_ESC         107625 non-null  object \n",
      " 17  TP_DEPENDENCIA_ADM_ESC   107625 non-null  float64\n",
      " 18  TP_LOCALIZACAO_ESC       107625 non-null  float64\n",
      " 19  TP_SIT_FUNC_ESC          107625 non-null  float64\n",
      " 20  NO_MUNICIPIO_PROVA       107625 non-null  object \n",
      " 21  CO_UF_PROVA              107625 non-null  int64  \n",
      " 22  NU_NOTA_CN               107625 non-null  float64\n",
      " 23  NU_NOTA_CH               107625 non-null  float64\n",
      " 24  NU_NOTA_LC               107625 non-null  float64\n",
      " 25  NU_NOTA_MT               107625 non-null  float64\n",
      " 26  TP_LINGUA                107625 non-null  int64  \n",
      " 27  TP_STATUS_REDACAO        107625 non-null  float64\n",
      " 28  NU_NOTA_COMP1            107625 non-null  float64\n",
      " 29  NU_NOTA_COMP2            107625 non-null  float64\n",
      " 30  NU_NOTA_COMP3            107625 non-null  float64\n",
      " 31  NU_NOTA_COMP4            107625 non-null  float64\n",
      " 32  NU_NOTA_COMP5            107625 non-null  float64\n",
      " 33  NU_NOTA_REDACAO          107625 non-null  float64\n",
      " 34  SG_UF_ESC                107625 non-null  object \n",
      " 35  Q001                     107625 non-null  object \n",
      " 36  Q002                     107625 non-null  object \n",
      " 37  Q003                     107625 non-null  object \n",
      " 38  Q004                     107625 non-null  object \n",
      " 39  Q005                     107625 non-null  int64  \n",
      " 40  Q006                     107625 non-null  object \n",
      " 41  Q007                     107625 non-null  object \n",
      " 42  Q008                     107625 non-null  object \n",
      " 43  Q009                     107625 non-null  object \n",
      " 44  Q010                     107625 non-null  object \n",
      " 45  Q011                     107625 non-null  object \n",
      " 46  Q012                     107625 non-null  object \n",
      " 47  Q013                     107625 non-null  object \n",
      " 48  Q014                     107625 non-null  object \n",
      " 49  Q015                     107625 non-null  object \n",
      " 50  Q016                     107625 non-null  object \n",
      " 51  Q017                     107625 non-null  object \n",
      " 52  Q018                     107625 non-null  object \n",
      " 53  Q019                     107625 non-null  object \n",
      " 54  Q020                     107625 non-null  object \n",
      " 55  Q021                     107625 non-null  object \n",
      " 56  Q022                     107625 non-null  object \n",
      " 57  Q023                     107625 non-null  object \n",
      " 58  Q024                     107625 non-null  object \n",
      " 59  Q025                     107625 non-null  object \n",
      " 60  Q026                     107625 non-null  object \n",
      " 61  Q027                     107625 non-null  object \n",
      "dtypes: float64(19), int64(11), object(32)\n",
      "memory usage: 51.7+ MB\n"
     ]
    }
   ],
   "source": [
    "dadosTratados.info()"
   ]
  },
  {
   "cell_type": "code",
   "execution_count": 16,
   "metadata": {
    "colab": {},
    "colab_type": "code",
    "id": "siVTXu_s0JzU"
   },
   "outputs": [],
   "source": [
    "dadosTratados.to_csv(\"MicrodadosMGTratado2018.csv\", encoding='latin1', index=False,sep=';')"
   ]
  },
  {
   "cell_type": "code",
   "execution_count": 17,
   "metadata": {
    "colab": {},
    "colab_type": "code",
    "id": "yNfbDFk10Jzb"
   },
   "outputs": [],
   "source": [
    "dadosEnem = pd.read_csv('MicrodadosMGTratado2018.csv',sep=';',encoding='latin1',low_memory=False)"
   ]
  },
  {
   "cell_type": "code",
   "execution_count": 18,
   "metadata": {
    "colab": {
     "base_uri": "https://localhost:8080/",
     "height": 218
    },
    "colab_type": "code",
    "id": "eSxZsJt015L8",
    "outputId": "8223e16b-6bfe-4943-a79c-cd53e8ea9212"
   },
   "outputs": [
    {
     "data": {
      "text/html": [
       "<div>\n",
       "<style scoped>\n",
       "    .dataframe tbody tr th:only-of-type {\n",
       "        vertical-align: middle;\n",
       "    }\n",
       "\n",
       "    .dataframe tbody tr th {\n",
       "        vertical-align: top;\n",
       "    }\n",
       "\n",
       "    .dataframe thead th {\n",
       "        text-align: right;\n",
       "    }\n",
       "</style>\n",
       "<table border=\"1\" class=\"dataframe\">\n",
       "  <thead>\n",
       "    <tr style=\"text-align: right;\">\n",
       "      <th></th>\n",
       "      <th>NU_INSCRICAO</th>\n",
       "      <th>CO_MUNICIPIO_RESIDENCIA</th>\n",
       "      <th>CO_UF_RESIDENCIA</th>\n",
       "      <th>NU_IDADE</th>\n",
       "      <th>TP_SEXO</th>\n",
       "      <th>TP_COR_RACA</th>\n",
       "      <th>CO_MUNICIPIO_NASCIMENTO</th>\n",
       "      <th>NO_MUNICIPIO_NASCIMENTO</th>\n",
       "      <th>CO_UF_NASCIMENTO</th>\n",
       "      <th>TP_ST_CONCLUSAO</th>\n",
       "      <th>...</th>\n",
       "      <th>Q018</th>\n",
       "      <th>Q019</th>\n",
       "      <th>Q020</th>\n",
       "      <th>Q021</th>\n",
       "      <th>Q022</th>\n",
       "      <th>Q023</th>\n",
       "      <th>Q024</th>\n",
       "      <th>Q025</th>\n",
       "      <th>Q026</th>\n",
       "      <th>Q027</th>\n",
       "    </tr>\n",
       "  </thead>\n",
       "  <tbody>\n",
       "    <tr>\n",
       "      <th>0</th>\n",
       "      <td>180008895637</td>\n",
       "      <td>3119401</td>\n",
       "      <td>31</td>\n",
       "      <td>18.0</td>\n",
       "      <td>F</td>\n",
       "      <td>3</td>\n",
       "      <td>3119401.0</td>\n",
       "      <td>Coronel Fabriciano</td>\n",
       "      <td>31.0</td>\n",
       "      <td>2</td>\n",
       "      <td>...</td>\n",
       "      <td>A</td>\n",
       "      <td>B</td>\n",
       "      <td>B</td>\n",
       "      <td>A</td>\n",
       "      <td>C</td>\n",
       "      <td>A</td>\n",
       "      <td>A</td>\n",
       "      <td>B</td>\n",
       "      <td>B</td>\n",
       "      <td>A</td>\n",
       "    </tr>\n",
       "    <tr>\n",
       "      <th>1</th>\n",
       "      <td>180007290041</td>\n",
       "      <td>3153905</td>\n",
       "      <td>31</td>\n",
       "      <td>17.0</td>\n",
       "      <td>F</td>\n",
       "      <td>3</td>\n",
       "      <td>3153905.0</td>\n",
       "      <td>Raposos</td>\n",
       "      <td>31.0</td>\n",
       "      <td>2</td>\n",
       "      <td>...</td>\n",
       "      <td>A</td>\n",
       "      <td>B</td>\n",
       "      <td>A</td>\n",
       "      <td>A</td>\n",
       "      <td>C</td>\n",
       "      <td>A</td>\n",
       "      <td>A</td>\n",
       "      <td>B</td>\n",
       "      <td>B</td>\n",
       "      <td>A</td>\n",
       "    </tr>\n",
       "    <tr>\n",
       "      <th>2</th>\n",
       "      <td>180008199527</td>\n",
       "      <td>3170206</td>\n",
       "      <td>31</td>\n",
       "      <td>17.0</td>\n",
       "      <td>F</td>\n",
       "      <td>1</td>\n",
       "      <td>3170206.0</td>\n",
       "      <td>Uberlândia</td>\n",
       "      <td>31.0</td>\n",
       "      <td>2</td>\n",
       "      <td>...</td>\n",
       "      <td>B</td>\n",
       "      <td>B</td>\n",
       "      <td>A</td>\n",
       "      <td>A</td>\n",
       "      <td>C</td>\n",
       "      <td>B</td>\n",
       "      <td>B</td>\n",
       "      <td>B</td>\n",
       "      <td>B</td>\n",
       "      <td>A</td>\n",
       "    </tr>\n",
       "    <tr>\n",
       "      <th>3</th>\n",
       "      <td>180008205421</td>\n",
       "      <td>3103504</td>\n",
       "      <td>31</td>\n",
       "      <td>17.0</td>\n",
       "      <td>F</td>\n",
       "      <td>1</td>\n",
       "      <td>3502705.0</td>\n",
       "      <td>Apiaí</td>\n",
       "      <td>35.0</td>\n",
       "      <td>2</td>\n",
       "      <td>...</td>\n",
       "      <td>A</td>\n",
       "      <td>B</td>\n",
       "      <td>B</td>\n",
       "      <td>A</td>\n",
       "      <td>D</td>\n",
       "      <td>A</td>\n",
       "      <td>A</td>\n",
       "      <td>A</td>\n",
       "      <td>B</td>\n",
       "      <td>A</td>\n",
       "    </tr>\n",
       "    <tr>\n",
       "      <th>4</th>\n",
       "      <td>180008414489</td>\n",
       "      <td>3139102</td>\n",
       "      <td>31</td>\n",
       "      <td>18.0</td>\n",
       "      <td>M</td>\n",
       "      <td>1</td>\n",
       "      <td>3129400.0</td>\n",
       "      <td>Ibertioga</td>\n",
       "      <td>31.0</td>\n",
       "      <td>2</td>\n",
       "      <td>...</td>\n",
       "      <td>A</td>\n",
       "      <td>B</td>\n",
       "      <td>A</td>\n",
       "      <td>A</td>\n",
       "      <td>C</td>\n",
       "      <td>A</td>\n",
       "      <td>A</td>\n",
       "      <td>B</td>\n",
       "      <td>B</td>\n",
       "      <td>A</td>\n",
       "    </tr>\n",
       "  </tbody>\n",
       "</table>\n",
       "<p>5 rows × 62 columns</p>\n",
       "</div>"
      ],
      "text/plain": [
       "   NU_INSCRICAO  CO_MUNICIPIO_RESIDENCIA  CO_UF_RESIDENCIA  NU_IDADE TP_SEXO  \\\n",
       "0  180008895637                  3119401                31      18.0       F   \n",
       "1  180007290041                  3153905                31      17.0       F   \n",
       "2  180008199527                  3170206                31      17.0       F   \n",
       "3  180008205421                  3103504                31      17.0       F   \n",
       "4  180008414489                  3139102                31      18.0       M   \n",
       "\n",
       "   TP_COR_RACA  CO_MUNICIPIO_NASCIMENTO NO_MUNICIPIO_NASCIMENTO  \\\n",
       "0            3                3119401.0      Coronel Fabriciano   \n",
       "1            3                3153905.0                 Raposos   \n",
       "2            1                3170206.0              Uberlândia   \n",
       "3            1                3502705.0                   Apiaí   \n",
       "4            1                3129400.0               Ibertioga   \n",
       "\n",
       "   CO_UF_NASCIMENTO  TP_ST_CONCLUSAO  ...  Q018  Q019  Q020  Q021  Q022  Q023  \\\n",
       "0              31.0                2  ...     A     B     B     A     C     A   \n",
       "1              31.0                2  ...     A     B     A     A     C     A   \n",
       "2              31.0                2  ...     B     B     A     A     C     B   \n",
       "3              35.0                2  ...     A     B     B     A     D     A   \n",
       "4              31.0                2  ...     A     B     A     A     C     A   \n",
       "\n",
       "  Q024  Q025  Q026  Q027  \n",
       "0    A     B     B     A  \n",
       "1    A     B     B     A  \n",
       "2    B     B     B     A  \n",
       "3    A     A     B     A  \n",
       "4    A     B     B     A  \n",
       "\n",
       "[5 rows x 62 columns]"
      ]
     },
     "execution_count": 18,
     "metadata": {},
     "output_type": "execute_result"
    }
   ],
   "source": [
    "dadosEnem.head()\n"
   ]
  },
  {
   "cell_type": "code",
   "execution_count": 19,
   "metadata": {
    "colab": {
     "base_uri": "https://localhost:8080/",
     "height": 398
    },
    "colab_type": "code",
    "id": "j4AKyjkp17y_",
    "outputId": "fda0b89f-a482-4b01-c866-ab3aa6e93d34"
   },
   "outputs": [
    {
     "data": {
      "text/html": [
       "<div>\n",
       "<style scoped>\n",
       "    .dataframe tbody tr th:only-of-type {\n",
       "        vertical-align: middle;\n",
       "    }\n",
       "\n",
       "    .dataframe tbody tr th {\n",
       "        vertical-align: top;\n",
       "    }\n",
       "\n",
       "    .dataframe thead th {\n",
       "        text-align: right;\n",
       "    }\n",
       "</style>\n",
       "<table border=\"1\" class=\"dataframe\">\n",
       "  <thead>\n",
       "    <tr style=\"text-align: right;\">\n",
       "      <th></th>\n",
       "      <th>NU_INSCRICAO</th>\n",
       "      <th>CO_MUNICIPIO_RESIDENCIA</th>\n",
       "      <th>CO_UF_RESIDENCIA</th>\n",
       "      <th>NU_IDADE</th>\n",
       "      <th>TP_SEXO</th>\n",
       "      <th>TP_COR_RACA</th>\n",
       "      <th>CO_MUNICIPIO_NASCIMENTO</th>\n",
       "      <th>NO_MUNICIPIO_NASCIMENTO</th>\n",
       "      <th>CO_UF_NASCIMENTO</th>\n",
       "      <th>TP_ST_CONCLUSAO</th>\n",
       "      <th>...</th>\n",
       "      <th>Q018</th>\n",
       "      <th>Q019</th>\n",
       "      <th>Q020</th>\n",
       "      <th>Q021</th>\n",
       "      <th>Q022</th>\n",
       "      <th>Q023</th>\n",
       "      <th>Q024</th>\n",
       "      <th>Q025</th>\n",
       "      <th>Q026</th>\n",
       "      <th>Q027</th>\n",
       "    </tr>\n",
       "  </thead>\n",
       "  <tbody>\n",
       "    <tr>\n",
       "      <th>count</th>\n",
       "      <td>1.076250e+05</td>\n",
       "      <td>1.076250e+05</td>\n",
       "      <td>107625.000000</td>\n",
       "      <td>107625.000000</td>\n",
       "      <td>107625</td>\n",
       "      <td>107625.000000</td>\n",
       "      <td>1.076250e+05</td>\n",
       "      <td>107625</td>\n",
       "      <td>107625.000000</td>\n",
       "      <td>107625.0</td>\n",
       "      <td>...</td>\n",
       "      <td>107625</td>\n",
       "      <td>107625</td>\n",
       "      <td>107625</td>\n",
       "      <td>107625</td>\n",
       "      <td>107625</td>\n",
       "      <td>107625</td>\n",
       "      <td>107625</td>\n",
       "      <td>107625</td>\n",
       "      <td>107625</td>\n",
       "      <td>107625</td>\n",
       "    </tr>\n",
       "    <tr>\n",
       "      <th>unique</th>\n",
       "      <td>NaN</td>\n",
       "      <td>NaN</td>\n",
       "      <td>NaN</td>\n",
       "      <td>NaN</td>\n",
       "      <td>2</td>\n",
       "      <td>NaN</td>\n",
       "      <td>NaN</td>\n",
       "      <td>1800</td>\n",
       "      <td>NaN</td>\n",
       "      <td>NaN</td>\n",
       "      <td>...</td>\n",
       "      <td>2</td>\n",
       "      <td>5</td>\n",
       "      <td>2</td>\n",
       "      <td>2</td>\n",
       "      <td>5</td>\n",
       "      <td>2</td>\n",
       "      <td>5</td>\n",
       "      <td>2</td>\n",
       "      <td>3</td>\n",
       "      <td>5</td>\n",
       "    </tr>\n",
       "    <tr>\n",
       "      <th>top</th>\n",
       "      <td>NaN</td>\n",
       "      <td>NaN</td>\n",
       "      <td>NaN</td>\n",
       "      <td>NaN</td>\n",
       "      <td>F</td>\n",
       "      <td>NaN</td>\n",
       "      <td>NaN</td>\n",
       "      <td>Belo Horizonte</td>\n",
       "      <td>NaN</td>\n",
       "      <td>NaN</td>\n",
       "      <td>...</td>\n",
       "      <td>A</td>\n",
       "      <td>B</td>\n",
       "      <td>A</td>\n",
       "      <td>A</td>\n",
       "      <td>D</td>\n",
       "      <td>A</td>\n",
       "      <td>B</td>\n",
       "      <td>B</td>\n",
       "      <td>B</td>\n",
       "      <td>A</td>\n",
       "    </tr>\n",
       "    <tr>\n",
       "      <th>freq</th>\n",
       "      <td>NaN</td>\n",
       "      <td>NaN</td>\n",
       "      <td>NaN</td>\n",
       "      <td>NaN</td>\n",
       "      <td>63269</td>\n",
       "      <td>NaN</td>\n",
       "      <td>NaN</td>\n",
       "      <td>18633</td>\n",
       "      <td>NaN</td>\n",
       "      <td>NaN</td>\n",
       "      <td>...</td>\n",
       "      <td>84150</td>\n",
       "      <td>66724</td>\n",
       "      <td>58314</td>\n",
       "      <td>75981</td>\n",
       "      <td>35938</td>\n",
       "      <td>70230</td>\n",
       "      <td>58599</td>\n",
       "      <td>88686</td>\n",
       "      <td>107599</td>\n",
       "      <td>81838</td>\n",
       "    </tr>\n",
       "    <tr>\n",
       "      <th>mean</th>\n",
       "      <td>1.800102e+11</td>\n",
       "      <td>3.135554e+06</td>\n",
       "      <td>31.012404</td>\n",
       "      <td>18.048411</td>\n",
       "      <td>NaN</td>\n",
       "      <td>2.042918</td>\n",
       "      <td>3.156842e+06</td>\n",
       "      <td>NaN</td>\n",
       "      <td>31.251010</td>\n",
       "      <td>2.0</td>\n",
       "      <td>...</td>\n",
       "      <td>NaN</td>\n",
       "      <td>NaN</td>\n",
       "      <td>NaN</td>\n",
       "      <td>NaN</td>\n",
       "      <td>NaN</td>\n",
       "      <td>NaN</td>\n",
       "      <td>NaN</td>\n",
       "      <td>NaN</td>\n",
       "      <td>NaN</td>\n",
       "      <td>NaN</td>\n",
       "    </tr>\n",
       "    <tr>\n",
       "      <th>std</th>\n",
       "      <td>1.773772e+06</td>\n",
       "      <td>4.947610e+04</td>\n",
       "      <td>0.447584</td>\n",
       "      <td>2.872875</td>\n",
       "      <td>NaN</td>\n",
       "      <td>1.014212</td>\n",
       "      <td>2.380545e+05</td>\n",
       "      <td>NaN</td>\n",
       "      <td>2.382471</td>\n",
       "      <td>0.0</td>\n",
       "      <td>...</td>\n",
       "      <td>NaN</td>\n",
       "      <td>NaN</td>\n",
       "      <td>NaN</td>\n",
       "      <td>NaN</td>\n",
       "      <td>NaN</td>\n",
       "      <td>NaN</td>\n",
       "      <td>NaN</td>\n",
       "      <td>NaN</td>\n",
       "      <td>NaN</td>\n",
       "      <td>NaN</td>\n",
       "    </tr>\n",
       "    <tr>\n",
       "      <th>min</th>\n",
       "      <td>1.800072e+11</td>\n",
       "      <td>1.302603e+06</td>\n",
       "      <td>13.000000</td>\n",
       "      <td>10.000000</td>\n",
       "      <td>NaN</td>\n",
       "      <td>0.000000</td>\n",
       "      <td>1.100023e+06</td>\n",
       "      <td>NaN</td>\n",
       "      <td>11.000000</td>\n",
       "      <td>2.0</td>\n",
       "      <td>...</td>\n",
       "      <td>NaN</td>\n",
       "      <td>NaN</td>\n",
       "      <td>NaN</td>\n",
       "      <td>NaN</td>\n",
       "      <td>NaN</td>\n",
       "      <td>NaN</td>\n",
       "      <td>NaN</td>\n",
       "      <td>NaN</td>\n",
       "      <td>NaN</td>\n",
       "      <td>NaN</td>\n",
       "    </tr>\n",
       "    <tr>\n",
       "      <th>25%</th>\n",
       "      <td>1.800087e+11</td>\n",
       "      <td>3.112505e+06</td>\n",
       "      <td>31.000000</td>\n",
       "      <td>17.000000</td>\n",
       "      <td>NaN</td>\n",
       "      <td>1.000000</td>\n",
       "      <td>3.106705e+06</td>\n",
       "      <td>NaN</td>\n",
       "      <td>31.000000</td>\n",
       "      <td>2.0</td>\n",
       "      <td>...</td>\n",
       "      <td>NaN</td>\n",
       "      <td>NaN</td>\n",
       "      <td>NaN</td>\n",
       "      <td>NaN</td>\n",
       "      <td>NaN</td>\n",
       "      <td>NaN</td>\n",
       "      <td>NaN</td>\n",
       "      <td>NaN</td>\n",
       "      <td>NaN</td>\n",
       "      <td>NaN</td>\n",
       "    </tr>\n",
       "    <tr>\n",
       "      <th>50%</th>\n",
       "      <td>1.800101e+11</td>\n",
       "      <td>3.134905e+06</td>\n",
       "      <td>31.000000</td>\n",
       "      <td>18.000000</td>\n",
       "      <td>NaN</td>\n",
       "      <td>2.000000</td>\n",
       "      <td>3.134202e+06</td>\n",
       "      <td>NaN</td>\n",
       "      <td>31.000000</td>\n",
       "      <td>2.0</td>\n",
       "      <td>...</td>\n",
       "      <td>NaN</td>\n",
       "      <td>NaN</td>\n",
       "      <td>NaN</td>\n",
       "      <td>NaN</td>\n",
       "      <td>NaN</td>\n",
       "      <td>NaN</td>\n",
       "      <td>NaN</td>\n",
       "      <td>NaN</td>\n",
       "      <td>NaN</td>\n",
       "      <td>NaN</td>\n",
       "    </tr>\n",
       "    <tr>\n",
       "      <th>75%</th>\n",
       "      <td>1.800115e+11</td>\n",
       "      <td>3.152204e+06</td>\n",
       "      <td>31.000000</td>\n",
       "      <td>18.000000</td>\n",
       "      <td>NaN</td>\n",
       "      <td>3.000000</td>\n",
       "      <td>3.152501e+06</td>\n",
       "      <td>NaN</td>\n",
       "      <td>31.000000</td>\n",
       "      <td>2.0</td>\n",
       "      <td>...</td>\n",
       "      <td>NaN</td>\n",
       "      <td>NaN</td>\n",
       "      <td>NaN</td>\n",
       "      <td>NaN</td>\n",
       "      <td>NaN</td>\n",
       "      <td>NaN</td>\n",
       "      <td>NaN</td>\n",
       "      <td>NaN</td>\n",
       "      <td>NaN</td>\n",
       "      <td>NaN</td>\n",
       "    </tr>\n",
       "    <tr>\n",
       "      <th>max</th>\n",
       "      <td>1.800140e+11</td>\n",
       "      <td>5.300108e+06</td>\n",
       "      <td>53.000000</td>\n",
       "      <td>80.000000</td>\n",
       "      <td>NaN</td>\n",
       "      <td>5.000000</td>\n",
       "      <td>5.300108e+06</td>\n",
       "      <td>NaN</td>\n",
       "      <td>53.000000</td>\n",
       "      <td>2.0</td>\n",
       "      <td>...</td>\n",
       "      <td>NaN</td>\n",
       "      <td>NaN</td>\n",
       "      <td>NaN</td>\n",
       "      <td>NaN</td>\n",
       "      <td>NaN</td>\n",
       "      <td>NaN</td>\n",
       "      <td>NaN</td>\n",
       "      <td>NaN</td>\n",
       "      <td>NaN</td>\n",
       "      <td>NaN</td>\n",
       "    </tr>\n",
       "  </tbody>\n",
       "</table>\n",
       "<p>11 rows × 62 columns</p>\n",
       "</div>"
      ],
      "text/plain": [
       "        NU_INSCRICAO  CO_MUNICIPIO_RESIDENCIA  CO_UF_RESIDENCIA  \\\n",
       "count   1.076250e+05             1.076250e+05     107625.000000   \n",
       "unique           NaN                      NaN               NaN   \n",
       "top              NaN                      NaN               NaN   \n",
       "freq             NaN                      NaN               NaN   \n",
       "mean    1.800102e+11             3.135554e+06         31.012404   \n",
       "std     1.773772e+06             4.947610e+04          0.447584   \n",
       "min     1.800072e+11             1.302603e+06         13.000000   \n",
       "25%     1.800087e+11             3.112505e+06         31.000000   \n",
       "50%     1.800101e+11             3.134905e+06         31.000000   \n",
       "75%     1.800115e+11             3.152204e+06         31.000000   \n",
       "max     1.800140e+11             5.300108e+06         53.000000   \n",
       "\n",
       "             NU_IDADE TP_SEXO    TP_COR_RACA  CO_MUNICIPIO_NASCIMENTO  \\\n",
       "count   107625.000000  107625  107625.000000             1.076250e+05   \n",
       "unique            NaN       2            NaN                      NaN   \n",
       "top               NaN       F            NaN                      NaN   \n",
       "freq              NaN   63269            NaN                      NaN   \n",
       "mean        18.048411     NaN       2.042918             3.156842e+06   \n",
       "std          2.872875     NaN       1.014212             2.380545e+05   \n",
       "min         10.000000     NaN       0.000000             1.100023e+06   \n",
       "25%         17.000000     NaN       1.000000             3.106705e+06   \n",
       "50%         18.000000     NaN       2.000000             3.134202e+06   \n",
       "75%         18.000000     NaN       3.000000             3.152501e+06   \n",
       "max         80.000000     NaN       5.000000             5.300108e+06   \n",
       "\n",
       "       NO_MUNICIPIO_NASCIMENTO  CO_UF_NASCIMENTO  TP_ST_CONCLUSAO  ...  \\\n",
       "count                   107625     107625.000000         107625.0  ...   \n",
       "unique                    1800               NaN              NaN  ...   \n",
       "top             Belo Horizonte               NaN              NaN  ...   \n",
       "freq                     18633               NaN              NaN  ...   \n",
       "mean                       NaN         31.251010              2.0  ...   \n",
       "std                        NaN          2.382471              0.0  ...   \n",
       "min                        NaN         11.000000              2.0  ...   \n",
       "25%                        NaN         31.000000              2.0  ...   \n",
       "50%                        NaN         31.000000              2.0  ...   \n",
       "75%                        NaN         31.000000              2.0  ...   \n",
       "max                        NaN         53.000000              2.0  ...   \n",
       "\n",
       "          Q018    Q019    Q020    Q021    Q022    Q023    Q024    Q025  \\\n",
       "count   107625  107625  107625  107625  107625  107625  107625  107625   \n",
       "unique       2       5       2       2       5       2       5       2   \n",
       "top          A       B       A       A       D       A       B       B   \n",
       "freq     84150   66724   58314   75981   35938   70230   58599   88686   \n",
       "mean       NaN     NaN     NaN     NaN     NaN     NaN     NaN     NaN   \n",
       "std        NaN     NaN     NaN     NaN     NaN     NaN     NaN     NaN   \n",
       "min        NaN     NaN     NaN     NaN     NaN     NaN     NaN     NaN   \n",
       "25%        NaN     NaN     NaN     NaN     NaN     NaN     NaN     NaN   \n",
       "50%        NaN     NaN     NaN     NaN     NaN     NaN     NaN     NaN   \n",
       "75%        NaN     NaN     NaN     NaN     NaN     NaN     NaN     NaN   \n",
       "max        NaN     NaN     NaN     NaN     NaN     NaN     NaN     NaN   \n",
       "\n",
       "          Q026    Q027  \n",
       "count   107625  107625  \n",
       "unique       3       5  \n",
       "top          B       A  \n",
       "freq    107599   81838  \n",
       "mean       NaN     NaN  \n",
       "std        NaN     NaN  \n",
       "min        NaN     NaN  \n",
       "25%        NaN     NaN  \n",
       "50%        NaN     NaN  \n",
       "75%        NaN     NaN  \n",
       "max        NaN     NaN  \n",
       "\n",
       "[11 rows x 62 columns]"
      ]
     },
     "execution_count": 19,
     "metadata": {},
     "output_type": "execute_result"
    }
   ],
   "source": [
    "dadosEnem.describe(include='all')\n"
   ]
  },
  {
   "cell_type": "code",
   "execution_count": null,
   "metadata": {
    "colab": {},
    "colab_type": "code",
    "id": "pndINXoZBI2o"
   },
   "outputs": [],
   "source": []
  },
  {
   "cell_type": "markdown",
   "metadata": {
    "colab_type": "text",
    "id": "jk1IwsHCEu8n"
   },
   "source": []
  },
  {
   "cell_type": "code",
   "execution_count": 20,
   "metadata": {
    "colab": {
     "base_uri": "https://localhost:8080/",
     "height": 440
    },
    "colab_type": "code",
    "id": "pvuhaI2tL7cA",
    "outputId": "9841694b-df05-4b26-baa0-edd9cd47e8af"
   },
   "outputs": [
    {
     "name": "stdout",
     "output_type": "stream",
     "text": [
      " A Nunca estudou. \n",
      " B Não completou a 4ª série/5º ano do Ensino Fundamental. \n",
      " C Completou a 4ª série/5º ano, mas não completou a 8ª série/9º ano do Ensino Fundamental. \n",
      " D Completou a 8ª série/9º ano do Ensino Fundamental, mas não completou o Ensino Médio. \n",
      " E Completou o Ensino Médio, mas não completou a Faculdade. \n",
      " F Completou a Faculdade, mas não completou a Pós-graduação. \n",
      " G Completou a Pós-graduação. \n",
      " H Não sei.\n"
     ]
    },
    {
     "data": {
      "image/png": "[encoded data removed]",
      "text/plain": [
       "<Figure size 432x288 with 1 Axes>"
      ]
     },
     "metadata": {
      "needs_background": "light"
     },
     "output_type": "display_data"
    }
   ],
   "source": [
    "contagem_de_questionario = dadosEnem['Q001'].value_counts().to_frame().reset_index()\n",
    "contagem_de_questionario.columns = [\"Respostas\", \"total\"]\n",
    "frequencia = dadosEnem['Q001'].value_counts(normalize=True)\n",
    "\n",
    "#contagem_de_questionario.head()\n",
    "plt.title('Até que série seu pai, ou o homem responsável por você, estudou?')\n",
    "\n",
    "\n",
    "sns.barplot(x=\"Respostas\", y = \"total\", data = contagem_de_questionario)\n",
    "\n",
    "\n",
    "print(\" A Nunca estudou. \\n B Não completou a 4ª série/5º ano do Ensino Fundamental. \\n C Completou a 4ª série/5º ano, mas não completou a 8ª série/9º ano do Ensino Fundamental. \\n D Completou a 8ª série/9º ano do Ensino Fundamental, mas não completou o Ensino Médio. \\n E Completou o Ensino Médio, mas não completou a Faculdade. \\n F Completou a Faculdade, mas não completou a Pós-graduação. \\n G Completou a Pós-graduação. \\n H Não sei.\")\n",
    "\n",
    "\n",
    "\n",
    "\n"
   ]
  },
  {
   "cell_type": "code",
   "execution_count": 21,
   "metadata": {
    "colab": {
     "base_uri": "https://localhost:8080/",
     "height": 440
    },
    "colab_type": "code",
    "id": "C4R08LhQLjlY",
    "outputId": "189ab62c-d945-42ed-bece-55b3316023e7"
   },
   "outputs": [
    {
     "name": "stdout",
     "output_type": "stream",
     "text": [
      "A Nunca estudou. \n",
      " B Não completou a 4ª série/5º ano do Ensino Fundamental. \n",
      " C Completou a 4ª série/5º ano, mas não completou a 8ª série/9º ano do Ensino Fundamental. \n",
      " D Completou a 8ª série/9º ano do Ensino Fundamental, mas não completou o Ensino Médio. \n",
      " E Completou o Ensino Médio, mas não completou a Faculdade. \n",
      " F Completou a Faculdade, mas não completou a Pós-graduação. \n",
      " G Completou a Pós-graduação. \n",
      " H Não sei.\n"
     ]
    },
    {
     "data": {
      "image/png": "[encoded data removed]",
      "text/plain": [
       "<Figure size 432x288 with 1 Axes>"
      ]
     },
     "metadata": {
      "needs_background": "light"
     },
     "output_type": "display_data"
    }
   ],
   "source": [
    "var = 'Q002'\n",
    "contagem_de_questionario = dadosEnem[var].value_counts().to_frame().reset_index()\n",
    "contagem_de_questionario.columns = [\"Respostas\", \"total\"]\n",
    "frequencia = dadosEnem[var].value_counts(normalize=True)\n",
    "\n",
    "plt.title('Até que série seu mãe, ou a mulher responsável por você, estudou?')\n",
    "\n",
    "sns.barplot(x=\"Respostas\", y = \"total\", data = contagem_de_questionario)\n",
    "\n",
    "\n",
    "print(\"A Nunca estudou. \\n B Não completou a 4ª série/5º ano do Ensino Fundamental. \\n C Completou a 4ª série/5º ano, mas não completou a 8ª série/9º ano do Ensino Fundamental. \\n D Completou a 8ª série/9º ano do Ensino Fundamental, mas não completou o Ensino Médio. \\n E Completou o Ensino Médio, mas não completou a Faculdade. \\n F Completou a Faculdade, mas não completou a Pós-graduação. \\n G Completou a Pós-graduação. \\n H Não sei.\")\n",
    "\n",
    "\n",
    "#array = pd.DataFrame(dadosEnem[var].value_counts(normalize=True))\n",
    "#array\n"
   ]
  },
  {
   "cell_type": "code",
   "execution_count": 22,
   "metadata": {
    "colab": {
     "base_uri": "https://localhost:8080/",
     "height": 424
    },
    "colab_type": "code",
    "id": "LIhlWUKYN08o",
    "outputId": "aea3c3cb-e4f9-4ca2-e7cf-44d5ec221646"
   },
   "outputs": [
    {
     "name": "stdout",
     "output_type": "stream",
     "text": [
      " A) Grupo 1: Lavrador, agricultor sem empregados, boia-fria, criador de animais, apicultor, pescador, lenhador, seringueiro, extrativista.  \n",
      " B) Grupo 2: Diarista, empregado doméstico, cuidador de idosos, babá, cozinheiro (em casas particulares), motorista particular, jardineiro, faxineiro de empresas e prédios, vigilante, porteiro, carteiro, office-boy, vendedor, caixa, atendente de loja, auxiliar administrativo, recepcionista, servente de pedreiro, repositor de mercadoria. \n",
      " C) Grupo 3: Padeiro, cozinheiro industrial ou em restaurantes, sapateiro, costureiro, joalheiro, torneiro mecânico, operador de máquinas, soldador, operário de fábrica, trabalhador da mineração, pedreiro, pintor, eletricista, encanador, motorista, caminhoneiro, taxista. \n",
      " D) Grupo 4: Professor (de ensino fundamental ou médio, idioma, música, artes etc.), técnico (de enfermagem, contabilidade, eletrônica etc.), policial, militar de baixa patente (soldado, cabo, sargento), corretor de imóveis, supervisor, gerente, mestre de obras, pastor, microempresário (proprietário de empresa com menos de 10 empregados), pequeno comerciante, pequeno proprietário de terras, trabalhador autônomo ou por conta própria. \n",
      " E)Grupo 5: Médico, engenheiro, dentista, psicólogo, economista, advogado, juiz, promotor, defensor, delegado, tenente, capitão, coronel, professor universitário, diretor em empresas públicas ou privadas, político, proprietário de empresas com mais de 10 empregados. \n",
      " F) Não sei.\n"
     ]
    },
    {
     "data": {
      "image/png": "[encoded data removed]",
      "text/plain": [
       "<Figure size 432x288 with 1 Axes>"
      ]
     },
     "metadata": {
      "needs_background": "light"
     },
     "output_type": "display_data"
    }
   ],
   "source": [
    "var = 'Q003'\n",
    "contagem_de_questionario = dadosEnem[var].value_counts().to_frame().reset_index()\n",
    "contagem_de_questionario.columns = [\"Respostas\", \"total\"]\n",
    "frequencia = dadosEnem[var].value_counts(normalize=True)\n",
    "\n",
    "plt.title('Profissão do pai')\n",
    "\n",
    "sns.barplot(x=\"Respostas\", y = \"total\", data = contagem_de_questionario)\n",
    "\n",
    "\n",
    "print(\" A) Grupo 1: Lavrador, agricultor sem empregados, boia-fria, criador de animais, apicultor, pescador, lenhador, seringueiro, extrativista.  \\n B) Grupo 2: Diarista, empregado doméstico, cuidador de idosos, babá, cozinheiro (em casas particulares), motorista particular, jardineiro, faxineiro de empresas e prédios, vigilante, porteiro, carteiro, office-boy, vendedor, caixa, atendente de loja, auxiliar administrativo, recepcionista, servente de pedreiro, repositor de mercadoria. \\n C) Grupo 3: Padeiro, cozinheiro industrial ou em restaurantes, sapateiro, costureiro, joalheiro, torneiro mecânico, operador de máquinas, soldador, operário de fábrica, trabalhador da mineração, pedreiro, pintor, eletricista, encanador, motorista, caminhoneiro, taxista. \\n D) Grupo 4: Professor (de ensino fundamental ou médio, idioma, música, artes etc.), técnico (de enfermagem, contabilidade, eletrônica etc.), policial, militar de baixa patente (soldado, cabo, sargento), corretor de imóveis, supervisor, gerente, mestre de obras, pastor, microempresário (proprietário de empresa com menos de 10 empregados), pequeno comerciante, pequeno proprietário de terras, trabalhador autônomo ou por conta própria. \\n E)Grupo 5: Médico, engenheiro, dentista, psicólogo, economista, advogado, juiz, promotor, defensor, delegado, tenente, capitão, coronel, professor universitário, diretor em empresas públicas ou privadas, político, proprietário de empresas com mais de 10 empregados. \\n F) Não sei.\")\n",
    "\n",
    "\n",
    "#array = pd.DataFrame(dadosEnem[var].value_counts(normalize=True))\n",
    "#array\n"
   ]
  },
  {
   "cell_type": "code",
   "execution_count": 23,
   "metadata": {
    "colab": {
     "base_uri": "https://localhost:8080/",
     "height": 424
    },
    "colab_type": "code",
    "id": "Q4fHH8M0Oobx",
    "outputId": "ecd83ae4-3657-4a41-d823-1b34de37a5bd"
   },
   "outputs": [
    {
     "name": "stdout",
     "output_type": "stream",
     "text": [
      " A) Grupo 1: Lavrador, agricultor sem empregados, boia-fria, criador de animais, apicultor, pescador, lenhador, seringueiro, extrativista.  \n",
      " B) Grupo 2: Diarista, empregado doméstico, cuidador de idosos, babá, cozinheiro (em casas particulares), motorista particular, jardineiro, faxineiro de empresas e prédios, vigilante, porteiro, carteiro, office-boy, vendedor, caixa, atendente de loja, auxiliar administrativo, recepcionista, servente de pedreiro, repositor de mercadoria. \n",
      " C) Grupo 3: Padeiro, cozinheiro industrial ou em restaurantes, sapateiro, costureiro, joalheiro, torneiro mecânico, operador de máquinas, soldador, operário de fábrica, trabalhador da mineração, pedreiro, pintor, eletricista, encanador, motorista, caminhoneiro, taxista. \n",
      " D) Grupo 4: Professor (de ensino fundamental ou médio, idioma, música, artes etc.), técnico (de enfermagem, contabilidade, eletrônica etc.), policial, militar de baixa patente (soldado, cabo, sargento), corretor de imóveis, supervisor, gerente, mestre de obras, pastor, microempresário (proprietário de empresa com menos de 10 empregados), pequeno comerciante, pequeno proprietário de terras, trabalhador autônomo ou por conta própria. \n",
      " E)Grupo 5: Médico, engenheiro, dentista, psicólogo, economista, advogado, juiz, promotor, defensor, delegado, tenente, capitão, coronel, professor universitário, diretor em empresas públicas ou privadas, político, proprietário de empresas com mais de 10 empregados. \n",
      " F) Não sei.\n"
     ]
    },
    {
     "data": {
      "image/png": "[encoded data removed]",
      "text/plain": [
       "<Figure size 432x288 with 1 Axes>"
      ]
     },
     "metadata": {
      "needs_background": "light"
     },
     "output_type": "display_data"
    }
   ],
   "source": [
    "var = 'Q004'\n",
    "contagem_de_questionario = dadosEnem[var].value_counts().to_frame().reset_index()\n",
    "contagem_de_questionario.columns = [\"Respostas\", \"total\"]\n",
    "frequencia = dadosEnem[var].value_counts(normalize=True)\n",
    "\n",
    "plt.title('Profissão da mãe')\n",
    "\n",
    "sns.barplot(x=\"Respostas\", y = \"total\", data = contagem_de_questionario)\n",
    "\n",
    "\n",
    "print(\" A) Grupo 1: Lavrador, agricultor sem empregados, boia-fria, criador de animais, apicultor, pescador, lenhador, seringueiro, extrativista.  \\n B) Grupo 2: Diarista, empregado doméstico, cuidador de idosos, babá, cozinheiro (em casas particulares), motorista particular, jardineiro, faxineiro de empresas e prédios, vigilante, porteiro, carteiro, office-boy, vendedor, caixa, atendente de loja, auxiliar administrativo, recepcionista, servente de pedreiro, repositor de mercadoria. \\n C) Grupo 3: Padeiro, cozinheiro industrial ou em restaurantes, sapateiro, costureiro, joalheiro, torneiro mecânico, operador de máquinas, soldador, operário de fábrica, trabalhador da mineração, pedreiro, pintor, eletricista, encanador, motorista, caminhoneiro, taxista. \\n D) Grupo 4: Professor (de ensino fundamental ou médio, idioma, música, artes etc.), técnico (de enfermagem, contabilidade, eletrônica etc.), policial, militar de baixa patente (soldado, cabo, sargento), corretor de imóveis, supervisor, gerente, mestre de obras, pastor, microempresário (proprietário de empresa com menos de 10 empregados), pequeno comerciante, pequeno proprietário de terras, trabalhador autônomo ou por conta própria. \\n E)Grupo 5: Médico, engenheiro, dentista, psicólogo, economista, advogado, juiz, promotor, defensor, delegado, tenente, capitão, coronel, professor universitário, diretor em empresas públicas ou privadas, político, proprietário de empresas com mais de 10 empregados. \\n F) Não sei.\")\n",
    "\n",
    "\n",
    "#array = pd.DataFrame(dadosEnem[var].value_counts(normalize=True))\n",
    "#array\n"
   ]
  },
  {
   "cell_type": "code",
   "execution_count": 24,
   "metadata": {
    "colab": {
     "base_uri": "https://localhost:8080/",
     "height": 576
    },
    "colab_type": "code",
    "id": "eC3CAIIgO-MD",
    "outputId": "e46c3964-9e0b-4910-c28e-ab837e5e3f45"
   },
   "outputs": [
    {
     "data": {
      "image/png": "[encoded data removed]",
      "text/plain": [
       "<Figure size 432x288 with 1 Axes>"
      ]
     },
     "metadata": {
      "needs_background": "light"
     },
     "output_type": "display_data"
    },
    {
     "data": {
      "text/plain": [
       "<matplotlib.axes._subplots.AxesSubplot at 0x22200a5d2c8>"
      ]
     },
     "execution_count": 24,
     "metadata": {},
     "output_type": "execute_result"
    },
    {
     "data": {
      "image/png": "[encoded data removed]",
      "text/plain": [
       "<Figure size 432x288 with 1 Axes>"
      ]
     },
     "metadata": {
      "needs_background": "light"
     },
     "output_type": "display_data"
    }
   ],
   "source": [
    "var = 'Q005'\n",
    "df = dadosEnem[var]\n",
    "hist = df.hist(bins=5)\n",
    "hist.set_xlim((0,12))\n",
    "plt.title('Incluindo você, quantas pessoas moram atualmente em sua residência?')\n",
    "plt.xlabel('Quantidade')\n",
    "plt.ylabel('Frequência')\n",
    "hist\n",
    "plt.show()\n",
    "\n",
    "sns.distplot(df)\n",
    "\n"
   ]
  },
  {
   "cell_type": "code",
   "execution_count": 25,
   "metadata": {
    "colab": {
     "base_uri": "https://localhost:8080/",
     "height": 622
    },
    "colab_type": "code",
    "id": "i5q75whtPc3Y",
    "outputId": "5ff0c8f7-e5d0-4a75-e184-7128b1214d50"
   },
   "outputs": [
    {
     "name": "stdout",
     "output_type": "stream",
     "text": [
      " A:Nenhuma renda. \n",
      " B:Até R$ 937,00. \n",
      " C:De R$ 937,01 até R$ 1.405,50. \n",
      " D:De R$ 1.405,51 até R$ 1.874,00. \n",
      " E:De R$ 1.874,01 até R$ 2.342,50. \n",
      " F:De R$ 2.342,51 até R$ 2.811,00. \n",
      " G:De R$ 2.811,01 até R$ 3.748,00. \n",
      " H:De R$ 3.748,01 até R$ 4.685,00. \n",
      " I:De R$ 4.685,01 até R$ 5.622,00. \n",
      " J:De R$ 5.622,01 até R$ 6.559,00. \n",
      " K:De R$ 6.559,01 até R$ 7.496,00. \n",
      " L:De R$ 7.496,01 até R$ 8.433,00. \n",
      " M:De R$ 8.433,01 até R$ 9.370,00. \n",
      " N:De R$ 9.370,01 até R$ 11.244,00. \n",
      " O:De R$ 11.244,01 até R$ 14.055,00. \n",
      " P:De R$ 14.055,01 até R$ 18.740,00. \n",
      " Q:Mais de R$ 18.740,00. \n",
      "\n"
     ]
    },
    {
     "data": {
      "image/png": "[encoded data removed]",
      "text/plain": [
       "<Figure size 432x288 with 1 Axes>"
      ]
     },
     "metadata": {
      "needs_background": "light"
     },
     "output_type": "display_data"
    }
   ],
   "source": [
    "var = \"Q006\"\n",
    "contagem_de_questionario = dadosEnem[var].value_counts().to_frame().reset_index()\n",
    "contagem_de_questionario.columns = [\"Respostas\", \"total\"]\n",
    "frequencia = dadosEnem[var].value_counts(normalize=True)\n",
    "\n",
    "plt.title('Renda Mensal da Família')\n",
    "\n",
    "sns.barplot(x=\"Respostas\", y = \"total\", data = contagem_de_questionario)\n",
    "\n",
    "print(\" A:Nenhuma renda. \\n B:Até R$ 937,00. \\n C:De R$ 937,01 até R$ 1.405,50. \\n D:De R$ 1.405,51 até R$ 1.874,00. \\n E:De R$ 1.874,01 até R$ 2.342,50. \\n F:De R$ 2.342,51 até R$ 2.811,00. \\n G:De R$ 2.811,01 até R$ 3.748,00. \\n H:De R$ 3.748,01 até R$ 4.685,00. \\n I:De R$ 4.685,01 até R$ 5.622,00. \\n J:De R$ 5.622,01 até R$ 6.559,00. \\n K:De R$ 6.559,01 até R$ 7.496,00. \\n L:De R$ 7.496,01 até R$ 8.433,00. \\n M:De R$ 8.433,01 até R$ 9.370,00. \\n N:De R$ 9.370,01 até R$ 11.244,00. \\n O:De R$ 11.244,01 até R$ 14.055,00. \\n P:De R$ 14.055,01 até R$ 18.740,00. \\n Q:Mais de R$ 18.740,00. \\n\" ) \n",
    "\n"
   ]
  },
  {
   "cell_type": "code",
   "execution_count": 26,
   "metadata": {
    "colab": {
     "base_uri": "https://localhost:8080/",
     "height": 575
    },
    "colab_type": "code",
    "id": "5iNr7ccWQw0j",
    "outputId": "4eb377f2-9237-4e1a-d38e-38343032560d"
   },
   "outputs": [
    {
     "data": {
      "image/png": "[encoded data removed]",
      "text/plain": [
       "<Figure size 432x288 with 1 Axes>"
      ]
     },
     "metadata": {
      "needs_background": "light"
     },
     "output_type": "display_data"
    },
    {
     "data": {
      "text/plain": [
       "<matplotlib.axes._subplots.AxesSubplot at 0x22200b94508>"
      ]
     },
     "execution_count": 26,
     "metadata": {},
     "output_type": "execute_result"
    },
    {
     "data": {
      "image/png": "[encoded data removed]",
      "text/plain": [
       "<Figure size 432x288 with 1 Axes>"
      ]
     },
     "metadata": {
      "needs_background": "light"
     },
     "output_type": "display_data"
    }
   ],
   "source": [
    "dados_C = dadosEnem.query(\"Q006 == 'C'\")\n",
    "var = 'Q005'\n",
    "df = dados_C[var]\n",
    "hist = df.hist(bins=6)\n",
    "hist.set_xlim((0,12))\n",
    "plt.title('Incluindo você, quantas pessoas moram atualmente em sua residência?')\n",
    "plt.xlabel('Quantidade')\n",
    "plt.ylabel('Frequência')\n",
    "hist\n",
    "plt.show()\n",
    "\n",
    "sns.distplot(df)\n",
    "\n"
   ]
  },
  {
   "cell_type": "code",
   "execution_count": null,
   "metadata": {
    "colab": {},
    "colab_type": "code",
    "id": "2ZWVHaOiTFWj"
   },
   "outputs": [],
   "source": []
  },
  {
   "cell_type": "code",
   "execution_count": null,
   "metadata": {
    "colab": {},
    "colab_type": "code",
    "id": "Y2CjThJ0XSn_"
   },
   "outputs": [],
   "source": []
  },
  {
   "cell_type": "markdown",
   "metadata": {
    "colab_type": "text",
    "id": "PACvEUFbb2Ep"
   },
   "source": [
    "# O que foi feito?\n",
    "\n",
    "\n",
    "\n",
    "1.   Análise das bases de dados públicas e ficou decidido que inicialmente iriamos focar nos dados do Enem de Minas Gerais.\n",
    "2.   Análise exploratória dos dados do Enem 2017 ( Microdados_Enem_Aluno e Microdados_Enem_Escola)\n",
    "3.   Busca sobre trabalhos relacionados a clusterização e trabalhos sobre mineração de dados do enem\n",
    "4.  Surgiu a intenção de relacionar os alunos com a proximidade à Instituições de Ensino Superior Públicas (IESP) e enriquecer a base com dados das cidades de MG.\n",
    "5. Para saber quais cidades possuiam um IESP o Stênio forneceu uma base. Entretanto, essa base não incluia todos os Campi das IESP, acredito eu só tinha as sedes das instituições. Para conseguir quais cidades possuiam um Campus de uma IESP fui na base do Enade.\n",
    "6. Para saber mais informações da cidades tenho duas bases:\n",
    " uma mais simples que tem a estimativa da população e alguns dados\n",
    "    1. Estimativas de população enviadas ao TCU (DTB_MG_POP)\n",
    "    1. PIB dos Munícipios (DTB_MG_PIB) \n",
    "\n",
    "\n",
    "    #Datasets\n",
    "\n",
    "|          Nome          | Fonte |  Ano |                        Observações                        | Linhas | Colunas |\n",
    "|:----------------------:|:-----:|:----:|:---------------------------------------------------------:|:------:|:-------:|\n",
    "|  Microdados_Enem_Aluno |  Inep | 2017 |        Algumas Colunas Foram retiradas da Original        | 177552 |    67   |\n",
    "| Microdados_Enem_Escola |  Inep | 2017 |        Algumas Colunas Foram retiradas da Original        |  1185  |    27   |\n",
    "|       DTB_MG_POP       |  IBGE | 2017 | Adicionada coluna possui_IESP a partir da base Enade 2017 |   854  |    9    |\n",
    "|       DTB_MG_PIB       |  IBGE | 2017 |      Falta limpar algumas colunas \"estranhas\" da base     |   854  |    83   |\n",
    "\n"
   ]
  }
 ],
 "metadata": {
  "colab": {
   "collapsed_sections": [],
   "name": "TratandoDadosEnem.ipynb",
   "provenance": [],
   "toc_visible": true
  },
  "hide_input": false,
  "kernelspec": {
   "display_name": "Python 3",
   "language": "python",
   "name": "python3"
  },
  "language_info": {
   "codemirror_mode": {
    "name": "ipython",
    "version": 3
   },
   "file_extension": ".py",
   "mimetype": "text/x-python",
   "name": "python",
   "nbconvert_exporter": "python",
   "pygments_lexer": "ipython3",
   "version": "3.7.6"
  }
 },
 "nbformat": 4,
 "nbformat_minor": 1
}
