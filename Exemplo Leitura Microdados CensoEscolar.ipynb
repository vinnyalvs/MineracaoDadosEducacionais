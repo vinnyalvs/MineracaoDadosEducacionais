{
 "cells": [
  {
   "cell_type": "code",
   "execution_count": 1,
   "metadata": {
    "colab": {},
    "colab_type": "code",
    "id": "l6-bytsCNeda"
   },
   "outputs": [],
   "source": [
    "import pandas as pd\n",
    "import numpy as np\n",
    "import matplotlib.pyplot as plt\n",
    "import seaborn as sns"
   ]
  },
  {
   "cell_type": "code",
   "execution_count": 0,
   "metadata": {
    "colab": {},
    "colab_type": "code",
    "id": "aUnsiKOTNedk"
   },
   "outputs": [],
   "source": [
    "#data = pd.read_csv('MICRODADOS_ENEM_ESCOLA.csv',sep=';',encoding='latin1',low_memory=False)\n",
    "#newData = data[data['CO_UF_ESCOLA'] == 31]\n",
    "#newData.to_csv(\"escolasMG.csv\", encoding='latin1', index=False,sep=';')\n"
   ]
  },
  {
   "cell_type": "code",
   "execution_count": null,
   "metadata": {},
   "outputs": [],
   "source": [
    "data_de nascimento = [\"NU_DIA\",\"NU_MES\",\"NU_ANO\"]\n",
    "\n",
    "firstCols = [\"ID_ALUNO\",\"ID_MATRICULA\",\"NU_IDADE_REFERENCIA\",\"NU_IDADE\",\"NU_DURACAO_TURMA\",\"NU_DUR_ATIV_COMP_MESMA_REDE\"\n",
    "NU_DUR_ATIV_COMP_OUTRAS_REDES\n",
    "NU_DUR_AEE_MESMA_REDE\n",
    "NU_DUR_AEE_OUTRAS_REDES\n",
    "NU_DIAS_ATIVIDADE\n",
    "TP_SEXO\n",
    "TP_COR_RACA\n",
    "TP_NACIONALIDADE\n",
    "CO_PAIS_ORIGEM\n",
    "CO_UF_NASC\n",
    "CO_MUNICIPIO_NASC\n",
    "CO_UF_END\n",
    "CO_MUNICIPIO_END\n",
    "TP_ZONA_RESIDENCIAL\n",
    "TP_OUTRO_LOCAL_AULA\n",
    "\n",
    "TP_MEDIACAO_DIDATICO_PEDAGO\n",
    "IN_ESPECIAL_EXCLUSIVA\n",
    "IN_REGULAR\n",
    "IN_EJA\n",
    "IN_PROFISSIONALIZANTE\n",
    "TP_ETAPA_ENSINO\n",
    "\n",
    "\n",
    "\n",
    "ID_TURMA\n",
    "CO_CURSO_EDUC_PROFISSIONAL\n",
    "TP_UNIFICADA\n",
    "TP_TIPO_TURMA\n",
    "\n",
    "CO_ENTIDADE\n",
    "CO_REGIAO\n",
    "CO_MESORREGIAO\n",
    "CO_MICRORREGIAO\n",
    "CO_UF\n",
    "CO_MUNICIPIO\n",
    "CO_DISTRITO\n",
    "TP_DEPENDENCIA\n",
    "TP_LOCALIZACAO\n",
    "TP_CATEGORIA_ESCOLA_PRIVADA\n",
    "IN_CONVENIADA_PP\n",
    "TP_CONVENIO_PODER_PUBLICO\n",
    "IN_MANT_ESCOLA_PRIVADA_EMP\n",
    "IN_MANT_ESCOLA_PRIVADA_ONG\n",
    "IN_MANT_ESCOLA_PRIVADA_SIND\n",
    "IN_MANT_ESCOLA_PRIVADA_SIST_S\n",
    "IN_MANT_ESCOLA_PRIVADA_S_FINS\n",
    "TP_REGULAMENTACAO\n",
    "TP_LOCALIZACAO_DIFERENCIADA\n",
    "IN_EDUCACAO_INDIGENA\n",
    "             \n",
    "''' outros = IN_TRANSPORTE_PUBLICO\n",
    "TP_RESPONSAVEL_TRANSPORTE\n",
    "IN_TRANSP_VANS_KOMBI\n",
    "IN_TRANSP_MICRO_ONIBUS\n",
    "IN_TRANSP_ONIBUS\n",
    "IN_TRANSP_BICICLETA\n",
    "IN_TRANSP_TR_ANIMAL\n",
    "IN_TRANSP_OUTRO_VEICULO\n",
    "IN_TRANSP_EMBAR_ATE5\n",
    "IN_TRANSP_EMBAR_5A15\n",
    "IN_TRANSP_EMBAR_15A35\n",
    "IN_TRANSP_EMBAR_35\n",
    "IN_TRANSP_TREM_METRO\n",
    "IN_NECESSIDADE_ESPECIAL\n",
    "IN_CEGUEIRA\n",
    "IN_BAIXA_VISAO\n",
    "IN_SURDEZ\n",
    "IN_DEF_AUDITIVA\n",
    "IN_SURDOCEGUEIRA\n",
    "IN_DEF_FISICA\n",
    "IN_DEF_INTELECTUAL\n",
    "IN_DEF_MULTIPLA\n",
    "IN_AUTISMO\n",
    "IN_SINDROME_ASPERGER\n",
    "IN_SINDROME_RETT\n",
    "IN_TRANSTORNO_DI\n",
    "IN_SUPERDOTACAO\n",
    "IN_RECURSO_LEDOR\n",
    "IN_RECURSO_TRANSCRICAO\n",
    "IN_RECURSO_INTERPRETE\n",
    "IN_RECURSO_LIBRAS\n",
    "IN_RECURSO_LABIAL\n",
    "IN_RECURSO_BRAILLE\n",
    "IN_RECURSO_AMPLIADA_16\n",
    "IN_RECURSO_AMPLIADA_20\n",
    "IN_RECURSO_AMPLIADA_24\n",
    "IN_RECURSO_NENHUM\n",
    "TP_INGRESSO_FEDERAIS'''\n"
   ]
  },
  {
   "cell_type": "code",
   "execution_count": 2,
   "metadata": {
    "colab": {},
    "colab_type": "code",
    "id": "B4eEMtnINedo"
   },
   "outputs": [],
   "source": [
    "path = \"C:\\\\Users\\\\vinic\\\\Documents\\\\GitHub\\\\Dados_Enem\\\\microdados_ed_basica_2018\\\\DADOS\\\\MATRICULA_SUDESTE\\\\MATRICULA_SUDESTE.csv\""
   ]
  },
  {
   "cell_type": "code",
   "execution_count": 3,
   "metadata": {
    "colab": {},
    "colab_type": "code",
    "id": "awgDHANeNeeK",
    "scrolled": true
   },
   "outputs": [],
   "source": [
    "import pandas as pd\n",
    "import numpy as np\n",
    "import matplotlib.pyplot as plt\n",
    "use_cols = [\"NU_INSCRICAO\",\"SG_UF_ESC\", \"Q001\",\"Q002\",\"Q003\",\"Q004\",\"Q005\",\"Q006\",\"Q007\",\"Q008\",\"Q008\",\"Q009\",\"Q010\",\"Q011\",\"Q012\",\"Q013\",\"Q014\",\"Q015\",\"Q016\",\"Q017\",\"Q018\",\"Q019\",\"Q020\",\"Q021\",\"Q022\",\"Q023\",\"Q024\",\"Q025\",\"Q026\",\"Q027\"]\n",
    "data_iterator = pd.read_csv(path,sep=';',encoding='latin1',low_memory=False,chunksize=10000, usecols=use_cols)\n",
    "chunk_list = []  \n",
    "\n",
    "# Each chunk is in dataframe format\n",
    "for data_chunk in data_iterator:  \n",
    "   # filtered_chunk =  chunk_preprocessing(data_chunk)\n",
    "    chunk_list.append(data_chunk)\n",
    "    \n",
    "filtered_data = pd.concat(chunk_list)"
   ]
  },
  {
   "cell_type": "code",
   "execution_count": 4,
   "metadata": {
    "colab": {},
    "colab_type": "code",
    "id": "CqbAyj1BNeeT"
   },
   "outputs": [],
   "source": [
    "filtered_data = filtered_data[filtered_data['SG_UF_ESC'] == 'MG']"
   ]
  },
  {
   "cell_type": "code",
   "execution_count": 5,
   "metadata": {
    "colab": {},
    "colab_type": "code",
    "id": "T5ku0rp3NeeX"
   },
   "outputs": [],
   "source": [
    "filtered_data.to_csv(\"QuestionarioPorAlunoMG2018.csv\", encoding='latin1', index=False,sep=';')"
   ]
  },
  {
   "cell_type": "code",
   "execution_count": 6,
   "metadata": {
    "colab": {},
    "colab_type": "code",
    "id": "x83uZ_q_Neea"
   },
   "outputs": [],
   "source": [
    "import pandas as pd\n",
    "import numpy as np\n",
    "import matplotlib.pyplot as plt\n",
    "use_cols = [\"NU_INSCRICAO\",\"SG_UF_ESC\", \"CO_MUNICIPIO_RESIDENCIA\",\"CO_UF_RESIDENCIA\",\"NU_IDADE\",\"TP_SEXO\",\"TP_ESTADO_CIVIL\",\"TP_COR_RACA\",\"TP_NACIONALIDADE\",\"CO_MUNICIPIO_NASCIMENTO\",\"NO_MUNICIPIO_NASCIMENTO\",\"CO_UF_NASCIMENTO\", \"SG_UF_NASCIMENTO\", \"TP_ST_CONCLUSAO\", \"TP_ANO_CONCLUIU\", \"TP_ESCOLA\" ,\"TP_ENSINO\", \"IN_TREINEIRO\",\"CO_ESCOLA\",\"CO_MUNICIPIO_ESC\",\"NO_MUNICIPIO_ESC\",\"TP_DEPENDENCIA_ADM_ESC\",\"TP_LOCALIZACAO_ESC\",\"TP_SIT_FUNC_ESC\"]\n",
    "data_iterator = pd.read_csv(path,sep=';',encoding='latin1',low_memory=False,chunksize=10000, usecols=use_cols)\n",
    "chunk_list = []  \n",
    "\n",
    "# Each chunk is in dataframe format\n",
    "for data_chunk in data_iterator:  \n",
    "   # filtered_chunk =  chunk_preprocessing(data_chunk)\n",
    "    chunk_list.append(data_chunk)\n",
    "    \n",
    "filtered_data = pd.concat(chunk_list)\n",
    "\n"
   ]
  },
  {
   "cell_type": "code",
   "execution_count": 7,
   "metadata": {
    "colab": {},
    "colab_type": "code",
    "id": "zA8_dDT4Neee"
   },
   "outputs": [
    {
     "ename": "KeyboardInterrupt",
     "evalue": "",
     "output_type": "error",
     "traceback": [
      "\u001b[1;31m---------------------------------------------------------------------------\u001b[0m",
      "\u001b[1;31mKeyboardInterrupt\u001b[0m                         Traceback (most recent call last)",
      "\u001b[1;32m<ipython-input-7-36b13c27150b>\u001b[0m in \u001b[0;36m<module>\u001b[1;34m\u001b[0m\n\u001b[1;32m----> 1\u001b[1;33m \u001b[0mfiltered_data\u001b[0m\u001b[1;33m.\u001b[0m\u001b[0mto_csv\u001b[0m\u001b[1;33m(\u001b[0m\u001b[1;34m\"MicroDados2018.csv\"\u001b[0m\u001b[1;33m,\u001b[0m \u001b[0mencoding\u001b[0m\u001b[1;33m=\u001b[0m\u001b[1;34m'latin1'\u001b[0m\u001b[1;33m,\u001b[0m \u001b[0mindex\u001b[0m\u001b[1;33m=\u001b[0m\u001b[1;32mFalse\u001b[0m\u001b[1;33m,\u001b[0m\u001b[0msep\u001b[0m\u001b[1;33m=\u001b[0m\u001b[1;34m';'\u001b[0m\u001b[1;33m)\u001b[0m\u001b[1;33m\u001b[0m\u001b[1;33m\u001b[0m\u001b[0m\n\u001b[0m",
      "\u001b[1;32m~\\anaconda3\\lib\\site-packages\\pandas\\core\\generic.py\u001b[0m in \u001b[0;36mto_csv\u001b[1;34m(self, path_or_buf, sep, na_rep, float_format, columns, header, index, index_label, mode, encoding, compression, quoting, quotechar, line_terminator, chunksize, date_format, doublequote, escapechar, decimal)\u001b[0m\n\u001b[0;32m   3202\u001b[0m             \u001b[0mdecimal\u001b[0m\u001b[1;33m=\u001b[0m\u001b[0mdecimal\u001b[0m\u001b[1;33m,\u001b[0m\u001b[1;33m\u001b[0m\u001b[1;33m\u001b[0m\u001b[0m\n\u001b[0;32m   3203\u001b[0m         )\n\u001b[1;32m-> 3204\u001b[1;33m         \u001b[0mformatter\u001b[0m\u001b[1;33m.\u001b[0m\u001b[0msave\u001b[0m\u001b[1;33m(\u001b[0m\u001b[1;33m)\u001b[0m\u001b[1;33m\u001b[0m\u001b[1;33m\u001b[0m\u001b[0m\n\u001b[0m\u001b[0;32m   3205\u001b[0m \u001b[1;33m\u001b[0m\u001b[0m\n\u001b[0;32m   3206\u001b[0m         \u001b[1;32mif\u001b[0m \u001b[0mpath_or_buf\u001b[0m \u001b[1;32mis\u001b[0m \u001b[1;32mNone\u001b[0m\u001b[1;33m:\u001b[0m\u001b[1;33m\u001b[0m\u001b[1;33m\u001b[0m\u001b[0m\n",
      "\u001b[1;32m~\\anaconda3\\lib\\site-packages\\pandas\\io\\formats\\csvs.py\u001b[0m in \u001b[0;36msave\u001b[1;34m(self)\u001b[0m\n\u001b[0;32m    202\u001b[0m             )\n\u001b[0;32m    203\u001b[0m \u001b[1;33m\u001b[0m\u001b[0m\n\u001b[1;32m--> 204\u001b[1;33m             \u001b[0mself\u001b[0m\u001b[1;33m.\u001b[0m\u001b[0m_save\u001b[0m\u001b[1;33m(\u001b[0m\u001b[1;33m)\u001b[0m\u001b[1;33m\u001b[0m\u001b[1;33m\u001b[0m\u001b[0m\n\u001b[0m\u001b[0;32m    205\u001b[0m \u001b[1;33m\u001b[0m\u001b[0m\n\u001b[0;32m    206\u001b[0m         \u001b[1;32mfinally\u001b[0m\u001b[1;33m:\u001b[0m\u001b[1;33m\u001b[0m\u001b[1;33m\u001b[0m\u001b[0m\n",
      "\u001b[1;32m~\\anaconda3\\lib\\site-packages\\pandas\\io\\formats\\csvs.py\u001b[0m in \u001b[0;36m_save\u001b[1;34m(self)\u001b[0m\n\u001b[0;32m    321\u001b[0m                 \u001b[1;32mbreak\u001b[0m\u001b[1;33m\u001b[0m\u001b[1;33m\u001b[0m\u001b[0m\n\u001b[0;32m    322\u001b[0m \u001b[1;33m\u001b[0m\u001b[0m\n\u001b[1;32m--> 323\u001b[1;33m             \u001b[0mself\u001b[0m\u001b[1;33m.\u001b[0m\u001b[0m_save_chunk\u001b[0m\u001b[1;33m(\u001b[0m\u001b[0mstart_i\u001b[0m\u001b[1;33m,\u001b[0m \u001b[0mend_i\u001b[0m\u001b[1;33m)\u001b[0m\u001b[1;33m\u001b[0m\u001b[1;33m\u001b[0m\u001b[0m\n\u001b[0m\u001b[0;32m    324\u001b[0m \u001b[1;33m\u001b[0m\u001b[0m\n\u001b[0;32m    325\u001b[0m     \u001b[1;32mdef\u001b[0m \u001b[0m_save_chunk\u001b[0m\u001b[1;33m(\u001b[0m\u001b[0mself\u001b[0m\u001b[1;33m,\u001b[0m \u001b[0mstart_i\u001b[0m\u001b[1;33m:\u001b[0m \u001b[0mint\u001b[0m\u001b[1;33m,\u001b[0m \u001b[0mend_i\u001b[0m\u001b[1;33m:\u001b[0m \u001b[0mint\u001b[0m\u001b[1;33m)\u001b[0m \u001b[1;33m->\u001b[0m \u001b[1;32mNone\u001b[0m\u001b[1;33m:\u001b[0m\u001b[1;33m\u001b[0m\u001b[1;33m\u001b[0m\u001b[0m\n",
      "\u001b[1;32m~\\anaconda3\\lib\\site-packages\\pandas\\io\\formats\\csvs.py\u001b[0m in \u001b[0;36m_save_chunk\u001b[1;34m(self, start_i, end_i)\u001b[0m\n\u001b[0;32m    336\u001b[0m                 \u001b[0mdecimal\u001b[0m\u001b[1;33m=\u001b[0m\u001b[0mself\u001b[0m\u001b[1;33m.\u001b[0m\u001b[0mdecimal\u001b[0m\u001b[1;33m,\u001b[0m\u001b[1;33m\u001b[0m\u001b[1;33m\u001b[0m\u001b[0m\n\u001b[0;32m    337\u001b[0m                 \u001b[0mdate_format\u001b[0m\u001b[1;33m=\u001b[0m\u001b[0mself\u001b[0m\u001b[1;33m.\u001b[0m\u001b[0mdate_format\u001b[0m\u001b[1;33m,\u001b[0m\u001b[1;33m\u001b[0m\u001b[1;33m\u001b[0m\u001b[0m\n\u001b[1;32m--> 338\u001b[1;33m                 \u001b[0mquoting\u001b[0m\u001b[1;33m=\u001b[0m\u001b[0mself\u001b[0m\u001b[1;33m.\u001b[0m\u001b[0mquoting\u001b[0m\u001b[1;33m,\u001b[0m\u001b[1;33m\u001b[0m\u001b[1;33m\u001b[0m\u001b[0m\n\u001b[0m\u001b[0;32m    339\u001b[0m             )\n\u001b[0;32m    340\u001b[0m \u001b[1;33m\u001b[0m\u001b[0m\n",
      "\u001b[1;32m~\\anaconda3\\lib\\site-packages\\pandas\\core\\internals\\blocks.py\u001b[0m in \u001b[0;36mto_native_types\u001b[1;34m(self, slicer, na_rep, quoting, **kwargs)\u001b[0m\n\u001b[0;32m    686\u001b[0m                 \u001b[0mvalues\u001b[0m \u001b[1;33m=\u001b[0m \u001b[0mvalues\u001b[0m\u001b[1;33m.\u001b[0m\u001b[0mastype\u001b[0m\u001b[1;33m(\u001b[0m\u001b[1;34mf\"<U{itemsize}\"\u001b[0m\u001b[1;33m)\u001b[0m\u001b[1;33m\u001b[0m\u001b[1;33m\u001b[0m\u001b[0m\n\u001b[0;32m    687\u001b[0m         \u001b[1;32melse\u001b[0m\u001b[1;33m:\u001b[0m\u001b[1;33m\u001b[0m\u001b[1;33m\u001b[0m\u001b[0m\n\u001b[1;32m--> 688\u001b[1;33m             \u001b[0mvalues\u001b[0m \u001b[1;33m=\u001b[0m \u001b[0mnp\u001b[0m\u001b[1;33m.\u001b[0m\u001b[0marray\u001b[0m\u001b[1;33m(\u001b[0m\u001b[0mvalues\u001b[0m\u001b[1;33m,\u001b[0m \u001b[0mdtype\u001b[0m\u001b[1;33m=\u001b[0m\u001b[1;34m\"object\"\u001b[0m\u001b[1;33m)\u001b[0m\u001b[1;33m\u001b[0m\u001b[1;33m\u001b[0m\u001b[0m\n\u001b[0m\u001b[0;32m    689\u001b[0m \u001b[1;33m\u001b[0m\u001b[0m\n\u001b[0;32m    690\u001b[0m         \u001b[0mvalues\u001b[0m\u001b[1;33m[\u001b[0m\u001b[0mmask\u001b[0m\u001b[1;33m]\u001b[0m \u001b[1;33m=\u001b[0m \u001b[0mna_rep\u001b[0m\u001b[1;33m\u001b[0m\u001b[1;33m\u001b[0m\u001b[0m\n",
      "\u001b[1;31mKeyboardInterrupt\u001b[0m: "
     ]
    }
   ],
   "source": [
    "filtered_data.to_csv(\"MicroDados2018.csv\", encoding='latin1', index=False,sep=';')"
   ]
  },
  {
   "cell_type": "code",
   "execution_count": 8,
   "metadata": {
    "colab": {},
    "colab_type": "code",
    "id": "Xtf5zcWwNeei"
   },
   "outputs": [],
   "source": [
    "filtered_data = filtered_data[filtered_data['SG_UF_ESC'] == 'MG']"
   ]
  },
  {
   "cell_type": "code",
   "execution_count": 10,
   "metadata": {
    "colab": {},
    "colab_type": "code",
    "id": "BxjPB6DgNeel"
   },
   "outputs": [],
   "source": [
    "filtered_data.to_csv(\"Semi2018MG.csv\", encoding='latin1', index=False,sep=';')"
   ]
  },
  {
   "cell_type": "code",
   "execution_count": 12,
   "metadata": {
    "colab": {},
    "colab_type": "code",
    "id": "JpJlNx_5Neen"
   },
   "outputs": [],
   "source": [
    "import pandas as pd\n",
    "import numpy as np\n",
    "import matplotlib.pyplot as plt\n",
    "use_cols = [\"NU_INSCRICAO\", \"SG_UF_ESC\",\"CO_MUNICIPIO_PROVA\", \"NO_MUNICIPIO_PROVA\", \"CO_UF_PROVA\", \"SG_UF_PROVA\" , \"NU_NOTA_CN\" , \"NU_NOTA_CH\" , \"NU_NOTA_LC\" , \"NU_NOTA_MT\" ,  \"TP_LINGUA\", \"TP_STATUS_REDACAO\", \"NU_NOTA_COMP1\", \"NU_NOTA_COMP2\", \"NU_NOTA_COMP3\", \"NU_NOTA_COMP4\", \"NU_NOTA_COMP5\", \"NU_NOTA_REDACAO\",'TP_PRESENCA_CN','TP_PRESENCA_CH','TP_PRESENCA_LC','TP_PRESENCA_MT']\n",
    "data_iterator = pd.read_csv(path,sep=';',encoding='latin1',low_memory=False,chunksize=10000, usecols=use_cols)\n",
    "chunk_list = []  \n",
    "\n",
    "# Each chunk is in dataframe format\n",
    "for data_chunk in data_iterator:  \n",
    "   # filtered_chunk =  chunk_preprocessing(data_chunk)\n",
    "    chunk_list.append(data_chunk)\n",
    "    \n",
    "filtered_data = pd.concat(chunk_list)\n",
    "\n",
    "\n",
    "filtered_data = filtered_data[filtered_data['SG_UF_ESC'] == 'MG']\n",
    "\n",
    "filtered_data.to_csv(\"MicroDadosProva&RespostasMG.csv\", encoding='latin1', index=False,sep=';')\n",
    "\n"
   ]
  },
  {
   "cell_type": "code",
   "execution_count": 13,
   "metadata": {
    "colab": {},
    "colab_type": "code",
    "id": "FST446ZoNeey"
   },
   "outputs": [],
   "source": [
    "import pandas as pd\n",
    "import numpy as np\n",
    "import matplotlib.pyplot as plt\n",
    "data_1 = pd.read_csv('Semi2018MG.csv',sep=';',encoding='latin1',low_memory=False)\n",
    "data_2 = pd.read_csv('MicroDadosProva&RespostasMG.csv',sep=';',encoding='latin1',low_memory=False)\n",
    " \n",
    "\n",
    "df = data_1.merge(data_2,on='NU_INSCRICAO')\n",
    "\n",
    "df.to_csv(\"MicroDadosSemiMG.csv\", encoding='latin1', index=False,sep=';')"
   ]
  },
  {
   "cell_type": "code",
   "execution_count": 14,
   "metadata": {
    "colab": {},
    "colab_type": "code",
    "id": "1NZlSr_1Nee1"
   },
   "outputs": [],
   "source": [
    "import pandas as pd\n",
    "import numpy as np\n",
    "import matplotlib.pyplot as plt\n",
    "data_1 = pd.read_csv('MicroDadosSemiMG.csv',sep=';',encoding='latin1',low_memory=False)\n",
    "data_2 = pd.read_csv('QuestionarioPorAlunoMG2018.csv',sep=';',encoding='latin1',low_memory=False)\n",
    " \n",
    "\n",
    "df = data_1.merge(data_2,on='NU_INSCRICAO')\n",
    "\n",
    "df.to_csv(\"MicroDados2018MG.csv\", encoding='latin1', index=False,sep=';')"
   ]
  },
  {
   "cell_type": "code",
   "execution_count": 0,
   "metadata": {
    "colab": {},
    "colab_type": "code",
    "id": "EJyephx7Nee5"
   },
   "outputs": [],
   "source": [
    "import pandas as pd\n",
    "import numpy as np\n",
    "import matplotlib.pyplot as plt\n",
    "data_1 = pd.read_csv('Microdados/MicroDadosQuaseCompletoMG.csv',sep=';',encoding='latin1',low_memory=False)"
   ]
  },
  {
   "cell_type": "code",
   "execution_count": 0,
   "metadata": {
    "colab": {},
    "colab_type": "code",
    "id": "78xqOMnoNee8"
   },
   "outputs": [],
   "source": [
    "len(data_1.index)\n"
   ]
  },
  {
   "cell_type": "code",
   "execution_count": 0,
   "metadata": {
    "colab": {},
    "colab_type": "code",
    "id": "Dy4oYMZ_Nee_"
   },
   "outputs": [],
   "source": [
    "labels = 'M' , 'F'\n",
    "size1 = len(data_1.TP_SEXO == 'M')\n",
    "size2 = len(data_1.TP_SEXO == 'F')"
   ]
  },
  {
   "cell_type": "code",
   "execution_count": 0,
   "metadata": {
    "colab": {},
    "colab_type": "code",
    "id": "xn2C3z7WNefD",
    "outputId": "e1eb8a81-a1b9-4f0b-bd0e-34ea9721635a"
   },
   "outputs": [
    {
     "data": {
      "image/png": "[encoded data removed]",
      "text/plain": [
       "<matplotlib.figure.Figure at 0x178dec792b0>"
      ]
     },
     "metadata": {
      "tags": []
     },
     "output_type": "display_data"
    },
    {
     "name": "stdout",
     "output_type": "stream",
     "text": [
      "Total: 177552\n"
     ]
    }
   ],
   "source": [
    "import pandas as pd\n",
    "import numpy as np\n",
    "import matplotlib.pyplot as plt\n",
    "data_1 = pd.read_csv('Microdados/MicroDadosQuaseCompletoMG.csv',sep=';',encoding='latin1',low_memory=False)\n",
    "size1 = data_1[data_1['TP_SEXO'] == 'M']\n",
    "s1 = len(size1)\n",
    "size2 = data_1[data_1['TP_SEXO'] == 'F']\n",
    "s2 = len(size2)\n",
    "aux = 'Masculino: ' + str(s1) \n",
    "aux2 = 'Feminino: ' + str(s2) \n",
    "labels = aux , aux2\n",
    "fig1, ax1 = plt.subplots(figsize=(10, 10))\n",
    "sizes = [s1,s2]\n",
    "ax1.pie(sizes, labels=labels, autopct='%1.1f%%',shadow=True, startangle=90)\n",
    "ax1.axis('equal')\n",
    "plt.show()\n",
    "print(\"Total: \" + str(s1 + s2))\n",
    "\n"
   ]
  },
  {
   "cell_type": "code",
   "execution_count": 0,
   "metadata": {
    "colab": {},
    "colab_type": "code",
    "id": "GERocL4rNefI",
    "outputId": "40fad6ad-22c6-4c33-c25a-03c4ce156b35"
   },
   "outputs": [
    {
     "data": {
      "image/png": "[encoded data removed]",
      "text/plain": [
       "<matplotlib.figure.Figure at 0x1788126f780>"
      ]
     },
     "metadata": {
      "tags": []
     },
     "output_type": "display_data"
    }
   ],
   "source": [
    "import pandas as pd\n",
    "import numpy as np\n",
    "import matplotlib.pyplot as plt\n",
    "data_1 = pd.read_csv('Microdados/MicroDadosQuaseCompletoMG.csv',sep=';',encoding='latin1',low_memory=False)\n",
    "collum = 'TP_COR_RACA'\n",
    "sizes = []\n",
    "for i in range(0, 6): \n",
    "    sizes.append(len(data_1[data_1['TP_COR_RACA'] == i]))\n",
    "\n",
    "labels = []\n",
    "for i in range(0, 6): \n",
    "    labels.append(str(i))\n",
    "fig1, ax1 = plt.subplots(figsize=(10, 10))\n",
    "ax1.pie(sizes, labels=labels, autopct='%1.1f%%',shadow=True, startangle=90)\n",
    "ax1.axis('equal')\n",
    "plt.show()\n"
   ]
  },
  {
   "cell_type": "code",
   "execution_count": 0,
   "metadata": {
    "colab": {},
    "colab_type": "code",
    "id": "OCqz72fCNefL",
    "outputId": "eee83c2d-c053-4ca0-de6b-2c43dc544b90"
   },
   "outputs": [
    {
     "name": "stdout",
     "output_type": "stream",
     "text": [
      "0\n",
      "1\n",
      "2\n",
      "3\n",
      "4\n",
      "5\n"
     ]
    }
   ],
   "source": []
  },
  {
   "cell_type": "code",
   "execution_count": 0,
   "metadata": {
    "colab": {},
    "colab_type": "code",
    "id": "z0NIhoIeNefO"
   },
   "outputs": [],
   "source": []
  },
  {
   "cell_type": "code",
   "execution_count": 0,
   "metadata": {
    "colab": {},
    "colab_type": "code",
    "id": "f9uYBXS0NefR"
   },
   "outputs": [],
   "source": []
  }
 ],
 "metadata": {
  "colab": {
   "name": "Exemplo Leitura Microdados Enem por Escola.ipynb",
   "provenance": []
  },
  "hide_input": false,
  "kernelspec": {
   "display_name": "Python 3",
   "language": "python",
   "name": "python3"
  },
  "language_info": {
   "codemirror_mode": {
    "name": "ipython",
    "version": 3
   },
   "file_extension": ".py",
   "mimetype": "text/x-python",
   "name": "python",
   "nbconvert_exporter": "python",
   "pygments_lexer": "ipython3",
   "version": "3.7.6"
  }
 },
 "nbformat": 4,
 "nbformat_minor": 1
}
