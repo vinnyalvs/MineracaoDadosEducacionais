{
 "cells": [
  {
   "cell_type": "code",
   "execution_count": 96,
   "metadata": {},
   "outputs": [],
   "source": [
    "%matplotlib inline\n",
    "import pandas as pd\n",
    "import numpy as np\n",
    "import seaborn as sns\n",
    "import matplotlib.pyplot as plt\n",
    "\n",
    "plt.rc('figure', figsize = (10, 10))"
   ]
  },
  {
   "cell_type": "code",
   "execution_count": 97,
   "metadata": {},
   "outputs": [],
   "source": [
    "import matplotlib.style as style\n",
    "style.available\n",
    "style.use('seaborn-poster') #sets the size of the charts\n",
    "style.use('ggplot')"
   ]
  },
  {
   "cell_type": "code",
   "execution_count": 98,
   "metadata": {},
   "outputs": [],
   "source": [
    "path = \"C:\\\\Users\\\\vinic\\\\Documents\\\\GitHub\\\\Enem\\\\2018\\\\Microdados_2018_MG_Tratado.csv\"\n"
   ]
  },
  {
   "cell_type": "code",
   "execution_count": 99,
   "metadata": {},
   "outputs": [],
   "source": [
    "dadosEnem = pd.read_csv(path,sep=';',encoding='latin1',low_memory=False)\n",
    "\n",
    "#var = 'Q001'\n",
    "#naoSabem_pai = dadosEnem.query( \"Q001 == 'H' \" )\n",
    "#naoSabem_pai['Q003'].value_counts()"
   ]
  },
  {
   "cell_type": "markdown",
   "metadata": {},
   "source": [
    " <font color='red'>\n",
    "    \n",
    "## Ao agrupar valores/ trocar valores é importante considerar\n",
    "### Se estamos trocando valores para gerar melhores visualizações\n",
    "### Se estamos trocando valores para facilitar o trabalho dos algoritmos\n",
    "### E qual algoritmo estamos focando\n",
    "\n",
    "</font> \n"
   ]
  },
  {
   "cell_type": "code",
   "execution_count": 100,
   "metadata": {},
   "outputs": [],
   "source": [
    "#Vou fazer um outro tratamento de dados, de acordo com as discussoes para remover colunas que não estamos usando.\n",
    "\n",
    "dadosEnem = dadosEnem.drop(['NU_NOTA_COMP5'], axis=1)\n",
    "dadosEnem = dadosEnem.drop(['NU_NOTA_COMP4'], axis=1)\n",
    "dadosEnem = dadosEnem.drop(['NU_NOTA_COMP3'], axis=1)\n",
    "dadosEnem = dadosEnem.drop(['NU_NOTA_COMP2'], axis=1)\n",
    "dadosEnem = dadosEnem.drop(['NU_NOTA_COMP1'], axis=1)\n",
    "\n",
    "dadosEnem = dadosEnem.drop(['CO_ESCOLA'], axis=1)\n",
    "dadosEnem = dadosEnem.drop(['NO_MUNICIPIO_ESC'], axis=1)\n",
    "dadosEnem = dadosEnem.drop(['CO_MUNICIPIO_ESC'], axis=1)\n",
    "dadosEnem = dadosEnem.drop(['TP_ENSINO'], axis=1)\n",
    "dadosEnem = dadosEnem.drop(['TP_STATUS_REDACAO'], axis=1)\n",
    "\n",
    "\n",
    "dadosEnem = dadosEnem.drop(['CO_MUNICIPIO_NASCIMENTO'], axis=1)\n",
    "dadosEnem = dadosEnem.drop(['NO_MUNICIPIO_NASCIMENTO'], axis=1)\n",
    "dadosEnem = dadosEnem.drop(['CO_UF_RESIDENCIA'], axis=1)\n",
    "dadosEnem = dadosEnem.drop(['CO_MUNICIPIO_RESIDENCIA'], axis=1)\n",
    "dadosEnem = dadosEnem.drop(['CO_UF_NASCIMENTO'], axis=1)\n",
    "dadosEnem = dadosEnem.drop(['TP_ST_CONCLUSAO'], axis=1)\n",
    "dadosEnem = dadosEnem.drop(['TP_ANO_CONCLUIU'], axis=1)\n",
    "dadosEnem = dadosEnem.drop(['TP_ESCOLA'], axis=1)\n",
    "dadosEnem = dadosEnem.drop(['SG_UF_ESC'], axis=1)\n",
    "dadosEnem = dadosEnem.drop(['TP_SIT_FUNC_ESC'], axis=1)\n",
    "dadosEnem = dadosEnem.drop(['NU_INSCRICAO'], axis=1)\n",
    "\n",
    "\n",
    "dadosEnem = dadosEnem.drop(['IN_TREINEIRO'], axis=1)\n",
    "dadosEnem = dadosEnem.drop(['NO_MUNICIPIO_PROVA'], axis=1)\n",
    "dadosEnem = dadosEnem.drop(['CO_UF_PROVA'], axis=1)\n",
    "\n",
    "#questionario\n",
    "dadosEnem = dadosEnem.drop(['Q007'], axis=1)\n",
    "dadosEnem = dadosEnem.drop(['Q008'], axis=1)\n",
    "dadosEnem = dadosEnem.drop(['Q010'], axis=1)\n",
    "dadosEnem = dadosEnem.drop(['Q011'], axis=1)\n",
    "dadosEnem = dadosEnem.drop(['Q012'], axis=1)\n",
    "dadosEnem = dadosEnem.drop(['Q013'], axis=1)\n",
    "dadosEnem = dadosEnem.drop(['Q014'], axis=1)\n",
    "dadosEnem = dadosEnem.drop(['Q015'], axis=1)\n",
    "dadosEnem = dadosEnem.drop(['Q016'], axis=1)\n",
    "dadosEnem = dadosEnem.drop(['Q017'], axis=1)\n",
    "dadosEnem = dadosEnem.drop(['Q018'], axis=1)\n",
    "dadosEnem = dadosEnem.drop(['Q019'], axis=1)\n",
    "dadosEnem = dadosEnem.drop(['Q020'], axis=1)\n",
    "dadosEnem = dadosEnem.drop(['Q021'], axis=1)\n",
    "dadosEnem = dadosEnem.drop(['Q026'], axis=1)\n",
    "dadosEnem = dadosEnem.drop(['Q027'], axis=1)\n",
    "dadosEnem = dadosEnem.drop(['Q023'], axis=1)"
   ]
  },
  {
   "cell_type": "markdown",
   "metadata": {},
   "source": [
    "\n",
    "\n",
    "# Agrupar faixas de Renda Q006\n",
    "## De A ~ E -> Grupo 1\n",
    "## De F ~ N -> Grupo 2\n",
    "## De O ~   -> Grupo 3"
   ]
  },
  {
   "cell_type": "code",
   "execution_count": 101,
   "metadata": {},
   "outputs": [
    {
     "name": "stdout",
     "output_type": "stream",
     "text": [
      "10.740637605973623\n"
     ]
    }
   ],
   "source": [
    "var = \"Q006\"\n",
    "dadosEnem[var].replace(to_replace =['A','B','C','D','E'], \n",
    "                 value =\"1\",inplace=True) \n",
    "dadosEnem[var].replace(to_replace =['F','G','H','I','J','K','L','M','N'], \n",
    "                 value =\"2\",inplace=True) \n",
    "dadosEnem[var].replace(to_replace =['O','P','Q'], \n",
    "                 value =\"3\",inplace=True) \n",
    "\n",
    "var = 'TP_DEPENDENCIA_ADM_ESC'\n",
    "dadosEnem[var].replace(to_replace =[1.0], \n",
    "                 value =1,inplace=True) #Federal\n",
    "dadosEnem[var].replace(to_replace =[2.0], \n",
    "                 value =2,inplace=True) #Estadual\n",
    "dadosEnem[var].replace(to_replace =[3.0], \n",
    "                 value =3,inplace=True) #Municipal\n",
    "dadosEnem[var].replace(to_replace =[4.0], \n",
    "                 value =4,inplace=True) #Particular\n",
    "\n",
    "\n",
    "var = 'Q025'\n",
    "dadosEnem[var].replace(to_replace =['A'], \n",
    "                 value =\"0\",inplace=True) \n",
    "dadosEnem[var].replace(to_replace =['B'], \n",
    "                 value =\"1\",inplace=True) \n",
    "\n",
    "#var = 'Q024'\n",
    "#dadosEnem[var].replace(to_replace =['A'], \n",
    "#                 value =\"Não\",inplace=True) \n",
    "#dadosEnem[var].replace(to_replace =['B'], \n",
    "#                 value =\"Um\",inplace=True) \n",
    "#dadosEnem[var].replace(to_replace =['C'], \n",
    "#                 value =\"Dois\",inplace=True)\n",
    "#dadosEnem[var].replace(to_replace =['D'], \n",
    "#                 value =\"Três\",inplace=True)\n",
    "#dadosEnem[var].replace(to_replace =['E'], \n",
    "#                 value =\"4 ou mais\",inplace=True)\n",
    "\n",
    "#var = 'Q022'\n",
    "#dadosEnem[var].replace(to_replace =['A'], \n",
    "#                 value =\"Não\",inplace=True) \n",
    "#dadosEnem[var].replace(to_replace =['B'], \n",
    "#                 value =\"Um\",inplace=True) \n",
    "#dadosEnem[var].replace(to_replace =['C'], \n",
    "#                 value =\"Dois\",inplace=True)\n",
    "#dadosEnem[var].replace(to_replace =['D'], \n",
    "#                 value =\"Três\",inplace=True)\n",
    "#dadosEnem[var].replace(to_replace =['E'], \n",
    "#                 value =\"4 ou mais\",inplace=True)\n",
    "\n",
    "var = 'Q022'\n",
    "dadosEnem[var].replace(to_replace =['A'], \n",
    "                 value =0,inplace=True) \n",
    "dadosEnem[var].replace(to_replace =['B','C','D','E'], \n",
    "                 value =1,inplace=True) \n",
    "var = 'Q024'\n",
    "dadosEnem[var].replace(to_replace =['A'], \n",
    "                 value =0,inplace=True) \n",
    "dadosEnem[var].replace(to_replace =['B','C','D','E'], \n",
    "                 value =1,inplace=True) \n",
    "\n",
    "\n",
    "\n",
    "var = 'Q009'\n",
    "dadosEnem[var].replace(to_replace =['A'], \n",
    "                 value =0,inplace=True) \n",
    "dadosEnem[var].replace(to_replace =['B'], \n",
    "                 value =1,inplace=True) \n",
    "dadosEnem[var].replace(to_replace =['C'], \n",
    "                 value =2,inplace=True)\n",
    "dadosEnem[var].replace(to_replace =['D'], \n",
    "                 value =3,inplace=True)\n",
    "dadosEnem[var].replace(to_replace =['E'], \n",
    "                 value =4,inplace=True)\n",
    "\n",
    "var = 'Q001'\n",
    "dadosEnem[var].replace(to_replace =['A'], \n",
    "                 value =0,inplace=True) \n",
    "dadosEnem[var].replace(to_replace =['B'], \n",
    "                 value =4,inplace=True) \n",
    "dadosEnem[var].replace(to_replace =['C'], \n",
    "                 value =8,inplace=True)\n",
    "dadosEnem[var].replace(to_replace =['D'], \n",
    "                 value =9,inplace=True)\n",
    "dadosEnem[var].replace(to_replace =['E'], \n",
    "                 value =12,inplace=True)\n",
    "dadosEnem[var].replace(to_replace =['F', 'G'], \n",
    "                 value =16,inplace=True)\n",
    "\n",
    "MediaAnosDeEstudo = dadosEnem[dadosEnem.Q001 != 'H'].Q001.mean()\n",
    "dadosEnem[var].replace(to_replace =['H'], \n",
    "                 value =MediaAnosDeEstudo,inplace=True)\n",
    "\n",
    "var = 'Q002'\n",
    "#Ensino Fundamental\n",
    "#dadosEnem[var].replace(to_replace =['B','C','D'], \n",
    "#                 value =1,inplace=True) \n",
    "#Ensino Médio\n",
    "#dadosEnem[var].replace(to_replace =['E'], \n",
    "#                 value =2,inplace=True) \n",
    "#Ensino Superior, Pós Graduação\n",
    "#dadosEnem[var].replace(to_replace =['F','G'], \n",
    "#                 value =3,inplace=True)\n",
    "#Não sabe, Não estudou\n",
    "#dadosEnem[var].replace(to_replace =['A','H'], \n",
    "#                 value =0,inplace=True)\n",
    "\n",
    "var = 'Q002'\n",
    "dadosEnem[var].replace(to_replace =['A'], \n",
    "                 value =0,inplace=True) \n",
    "dadosEnem[var].replace(to_replace =['B'], \n",
    "                 value =4,inplace=True) \n",
    "dadosEnem[var].replace(to_replace =['C'], \n",
    "                 value =8,inplace=True)\n",
    "dadosEnem[var].replace(to_replace =['D'], \n",
    "                 value =9,inplace=True)\n",
    "dadosEnem[var].replace(to_replace =['E'], \n",
    "                 value =12,inplace=True)\n",
    "dadosEnem[var].replace(to_replace =['F', 'G'], \n",
    "                 value =16,inplace=True)\n",
    "\n",
    "\n",
    "MediaAnosDeEstudo = dadosEnem[dadosEnem.Q002 != 'H'].Q002.mean()\n",
    "dadosEnem[var].replace(to_replace =['H'], \n",
    "                 value =MediaAnosDeEstudo,inplace=True)\n",
    "print(MediaAnosDeEstudo)\n",
    "\n",
    "\n",
    "\n",
    "var = 'Q003'\n",
    "dadosEnem[var].replace(to_replace =['A','B','C'], \n",
    "                 value =1,inplace=True) \n",
    "dadosEnem[var].replace(to_replace =['D','E'], \n",
    "                 value =2,inplace=True) \n",
    "dadosEnem[var].replace(to_replace =['F'], \n",
    "                 value =0,inplace=True)\n",
    "\n",
    "\n",
    "var = 'Q004'\n",
    "dadosEnem[var].replace(to_replace =['A','B','C'], \n",
    "                 value =1,inplace=True) \n",
    "dadosEnem[var].replace(to_replace =['D','E'], \n",
    "                 value =2,inplace=True) \n",
    "dadosEnem[var].replace(to_replace =['F'], \n",
    "                 value =0,inplace=True)\n",
    "\n",
    "var = 'TP_SEXO'\n",
    "dadosEnem[var].replace(to_replace =['F'], \n",
    "                 value =1,inplace=True) \n",
    "dadosEnem[var].replace(to_replace =['M'], \n",
    "                 value =0,inplace=True) \n",
    "\n",
    "\n",
    "\n",
    "\n",
    "\n"
   ]
  },
  {
   "cell_type": "code",
   "execution_count": 102,
   "metadata": {},
   "outputs": [],
   "source": [
    "#Adicionando nova coluna quarto por pessoas e removendo as correspondentes\n",
    "pessoas = 'Q005'\n",
    "quartos = 'Q009'\n",
    "\n",
    "\n",
    "dadosEnem['QuartoPessoas'] = (dadosEnem[quartos]/dadosEnem[pessoas])\n",
    "\n",
    "precision = 2\n",
    "dadosEnem['QuartoPessoas'] = dadosEnem['QuartoPessoas'].round(decimals = precision)\n",
    "\n",
    "dadosEnem = dadosEnem.drop([pessoas], axis=1)\n",
    "dadosEnem = dadosEnem.drop([quartos], axis=1)"
   ]
  },
  {
   "cell_type": "code",
   "execution_count": null,
   "metadata": {},
   "outputs": [],
   "source": []
  },
  {
   "cell_type": "code",
   "execution_count": 103,
   "metadata": {},
   "outputs": [],
   "source": [
    "#Adicionando nova coluna Média de anos de estudo e removendo\n",
    "\n",
    "anos_pai = 'Q001'\n",
    "anos_mae = 'Q002'\n",
    "\n",
    "dadosEnem['MediaEstudoPais'] = (dadosEnem[anos_pai] + dadosEnem[anos_mae])/2\n",
    "precision = 2\n",
    "dadosEnem['MediaEstudoPais'] = dadosEnem['MediaEstudoPais'].round(decimals = precision)\n",
    "\n",
    "#questionario\n",
    "dadosEnem = dadosEnem.drop([anos_pai], axis=1)\n",
    "dadosEnem = dadosEnem.drop([anos_mae], axis=1)\n",
    "\n"
   ]
  },
  {
   "cell_type": "code",
   "execution_count": 110,
   "metadata": {},
   "outputs": [
    {
     "data": {
      "text/plain": [
       "100    10.500000\n",
       "101    14.000000\n",
       "102    12.000000\n",
       "103     9.000000\n",
       "104    14.000000\n",
       "105    16.000000\n",
       "106    16.000000\n",
       "107     8.500000\n",
       "108    16.000000\n",
       "109     9.000000\n",
       "110     8.819729\n",
       "111    12.000000\n",
       "112    16.000000\n",
       "113    10.819729\n",
       "114     6.000000\n",
       "115    10.000000\n",
       "116    10.000000\n",
       "117    12.000000\n",
       "118    12.000000\n",
       "119    12.000000\n",
       "120    16.000000\n",
       "121     6.000000\n",
       "122     8.000000\n",
       "123    10.500000\n",
       "124    12.000000\n",
       "125     4.000000\n",
       "126    14.000000\n",
       "127    10.190047\n",
       "128     4.000000\n",
       "129    14.000000\n",
       "Name: MediaEstudoPais, dtype: float64"
      ]
     },
     "execution_count": 110,
     "metadata": {},
     "output_type": "execute_result"
    }
   ],
   "source": [
    "dadosEnem.iloc[100:130]['MediaEstudoPais']"
   ]
  },
  {
   "cell_type": "code",
   "execution_count": 104,
   "metadata": {},
   "outputs": [
    {
     "ename": "PermissionError",
     "evalue": "[Errno 13] Permission denied: 'MicrodadosParaPrevisao.csv'",
     "output_type": "error",
     "traceback": [
      "\u001b[1;31m---------------------------------------------------------------------------\u001b[0m",
      "\u001b[1;31mPermissionError\u001b[0m                           Traceback (most recent call last)",
      "\u001b[1;32m<ipython-input-104-f1d9f453ed29>\u001b[0m in \u001b[0;36m<module>\u001b[1;34m\u001b[0m\n\u001b[1;32m----> 1\u001b[1;33m \u001b[0mdadosEnem\u001b[0m\u001b[1;33m.\u001b[0m\u001b[0mto_csv\u001b[0m\u001b[1;33m(\u001b[0m\u001b[1;34m\"MicrodadosParaPrevisao.csv\"\u001b[0m\u001b[1;33m,\u001b[0m \u001b[0mencoding\u001b[0m\u001b[1;33m=\u001b[0m\u001b[1;34m'latin1'\u001b[0m\u001b[1;33m,\u001b[0m \u001b[0mindex\u001b[0m\u001b[1;33m=\u001b[0m\u001b[1;32mFalse\u001b[0m\u001b[1;33m,\u001b[0m\u001b[0msep\u001b[0m\u001b[1;33m=\u001b[0m\u001b[1;34m';'\u001b[0m\u001b[1;33m)\u001b[0m\u001b[1;33m\u001b[0m\u001b[1;33m\u001b[0m\u001b[0m\n\u001b[0m",
      "\u001b[1;32m~\\anaconda3\\lib\\site-packages\\pandas\\core\\generic.py\u001b[0m in \u001b[0;36mto_csv\u001b[1;34m(self, path_or_buf, sep, na_rep, float_format, columns, header, index, index_label, mode, encoding, compression, quoting, quotechar, line_terminator, chunksize, date_format, doublequote, escapechar, decimal)\u001b[0m\n\u001b[0;32m   3202\u001b[0m             \u001b[0mdecimal\u001b[0m\u001b[1;33m=\u001b[0m\u001b[0mdecimal\u001b[0m\u001b[1;33m,\u001b[0m\u001b[1;33m\u001b[0m\u001b[1;33m\u001b[0m\u001b[0m\n\u001b[0;32m   3203\u001b[0m         )\n\u001b[1;32m-> 3204\u001b[1;33m         \u001b[0mformatter\u001b[0m\u001b[1;33m.\u001b[0m\u001b[0msave\u001b[0m\u001b[1;33m(\u001b[0m\u001b[1;33m)\u001b[0m\u001b[1;33m\u001b[0m\u001b[1;33m\u001b[0m\u001b[0m\n\u001b[0m\u001b[0;32m   3205\u001b[0m \u001b[1;33m\u001b[0m\u001b[0m\n\u001b[0;32m   3206\u001b[0m         \u001b[1;32mif\u001b[0m \u001b[0mpath_or_buf\u001b[0m \u001b[1;32mis\u001b[0m \u001b[1;32mNone\u001b[0m\u001b[1;33m:\u001b[0m\u001b[1;33m\u001b[0m\u001b[1;33m\u001b[0m\u001b[0m\n",
      "\u001b[1;32m~\\anaconda3\\lib\\site-packages\\pandas\\io\\formats\\csvs.py\u001b[0m in \u001b[0;36msave\u001b[1;34m(self)\u001b[0m\n\u001b[0;32m    186\u001b[0m                 \u001b[0mself\u001b[0m\u001b[1;33m.\u001b[0m\u001b[0mmode\u001b[0m\u001b[1;33m,\u001b[0m\u001b[1;33m\u001b[0m\u001b[1;33m\u001b[0m\u001b[0m\n\u001b[0;32m    187\u001b[0m                 \u001b[0mencoding\u001b[0m\u001b[1;33m=\u001b[0m\u001b[0mself\u001b[0m\u001b[1;33m.\u001b[0m\u001b[0mencoding\u001b[0m\u001b[1;33m,\u001b[0m\u001b[1;33m\u001b[0m\u001b[1;33m\u001b[0m\u001b[0m\n\u001b[1;32m--> 188\u001b[1;33m                 \u001b[0mcompression\u001b[0m\u001b[1;33m=\u001b[0m\u001b[0mdict\u001b[0m\u001b[1;33m(\u001b[0m\u001b[0mself\u001b[0m\u001b[1;33m.\u001b[0m\u001b[0mcompression_args\u001b[0m\u001b[1;33m,\u001b[0m \u001b[0mmethod\u001b[0m\u001b[1;33m=\u001b[0m\u001b[0mself\u001b[0m\u001b[1;33m.\u001b[0m\u001b[0mcompression\u001b[0m\u001b[1;33m)\u001b[0m\u001b[1;33m,\u001b[0m\u001b[1;33m\u001b[0m\u001b[1;33m\u001b[0m\u001b[0m\n\u001b[0m\u001b[0;32m    189\u001b[0m             )\n\u001b[0;32m    190\u001b[0m             \u001b[0mclose\u001b[0m \u001b[1;33m=\u001b[0m \u001b[1;32mTrue\u001b[0m\u001b[1;33m\u001b[0m\u001b[1;33m\u001b[0m\u001b[0m\n",
      "\u001b[1;32m~\\anaconda3\\lib\\site-packages\\pandas\\io\\common.py\u001b[0m in \u001b[0;36mget_handle\u001b[1;34m(path_or_buf, mode, encoding, compression, memory_map, is_text)\u001b[0m\n\u001b[0;32m    426\u001b[0m         \u001b[1;32mif\u001b[0m \u001b[0mencoding\u001b[0m\u001b[1;33m:\u001b[0m\u001b[1;33m\u001b[0m\u001b[1;33m\u001b[0m\u001b[0m\n\u001b[0;32m    427\u001b[0m             \u001b[1;31m# Encoding\u001b[0m\u001b[1;33m\u001b[0m\u001b[1;33m\u001b[0m\u001b[1;33m\u001b[0m\u001b[0m\n\u001b[1;32m--> 428\u001b[1;33m             \u001b[0mf\u001b[0m \u001b[1;33m=\u001b[0m \u001b[0mopen\u001b[0m\u001b[1;33m(\u001b[0m\u001b[0mpath_or_buf\u001b[0m\u001b[1;33m,\u001b[0m \u001b[0mmode\u001b[0m\u001b[1;33m,\u001b[0m \u001b[0mencoding\u001b[0m\u001b[1;33m=\u001b[0m\u001b[0mencoding\u001b[0m\u001b[1;33m,\u001b[0m \u001b[0mnewline\u001b[0m\u001b[1;33m=\u001b[0m\u001b[1;34m\"\"\u001b[0m\u001b[1;33m)\u001b[0m\u001b[1;33m\u001b[0m\u001b[1;33m\u001b[0m\u001b[0m\n\u001b[0m\u001b[0;32m    429\u001b[0m         \u001b[1;32melif\u001b[0m \u001b[0mis_text\u001b[0m\u001b[1;33m:\u001b[0m\u001b[1;33m\u001b[0m\u001b[1;33m\u001b[0m\u001b[0m\n\u001b[0;32m    430\u001b[0m             \u001b[1;31m# No explicit encoding\u001b[0m\u001b[1;33m\u001b[0m\u001b[1;33m\u001b[0m\u001b[1;33m\u001b[0m\u001b[0m\n",
      "\u001b[1;31mPermissionError\u001b[0m: [Errno 13] Permission denied: 'MicrodadosParaPrevisao.csv'"
     ]
    }
   ],
   "source": [
    "dadosEnem.to_csv(\"MicrodadosParaPrevisao.csv\", encoding='latin1', index=False,sep=';')"
   ]
  },
  {
   "cell_type": "code",
   "execution_count": null,
   "metadata": {},
   "outputs": [],
   "source": [
    "dadosEnem.info()"
   ]
  },
  {
   "cell_type": "code",
   "execution_count": null,
   "metadata": {},
   "outputs": [],
   "source": [
    "df = dadosEnem[['MediaEstudoPais','NU_NOTA_REDACAO']]\n",
    "\n",
    "sns.paiot(df)"
   ]
  },
  {
   "cell_type": "code",
   "execution_count": null,
   "metadata": {},
   "outputs": [],
   "source": [
    "df = dadosEnem[['NU_NOTA_CH','NU_NOTA_LC']]\n",
    "\n",
    "df = df[(df != 0).all(1)]\n",
    "\n",
    "sns.scatterplot(x=\"NU_NOTA_CH\", y=\"NU_NOTA_LC\",data=df)\n",
    "\n",
    "\n"
   ]
  },
  {
   "cell_type": "code",
   "execution_count": null,
   "metadata": {},
   "outputs": [],
   "source": [
    "from sklearn.model_selection import train_test_split\n",
    "import numpy as np\n",
    "\n",
    "np.random.seed(43267)\n",
    "\n",
    "df = dadosEnem[['NU_NOTA_CH','NU_NOTA_LC','NU_NOTA_MT','NU_NOTA_REDACAO','NU_NOTA_CN']]\n",
    "\n",
    "df = df[(df != 0).all(1)]\n",
    "\n",
    "y_adivinhar = df['NU_NOTA_LC']\n",
    "\n",
    "x_variaveis =  df.loc[:, df.columns != 'NU_NOTA_LC']\n",
    "#x_variaveis = df[['NU_NOTA_CH','NU_NOTA_MT','NU_NOTA_REDACAO','NU_NOTA_CN']]\n",
    "\n",
    "\n",
    "#y_adivinhar\n",
    "\n",
    "# f(x) = y\n",
    "x_treino, x_teste, y_treino, y_teste = train_test_split(x_variaveis, y_adivinhar)\n",
    "\n",
    "print(x_treino.shape)\n",
    "print(x_teste.shape)\n",
    "print(y_treino)\n",
    "print(y_teste.shape)\n",
    "\n"
   ]
  },
  {
   "cell_type": "code",
   "execution_count": null,
   "metadata": {},
   "outputs": [],
   "source": [
    "from sklearn.dummy import DummyRegressor\n",
    "\n",
    "modelo_dummy = DummyRegressor()\n",
    "modelo_dummy.fit(x_treino, y_treino)\n",
    "dummy_predicoes = modelo_dummy.predict(x_teste)\n",
    "\n",
    "mean_squared_error(y_teste, dummy_predicoes)"
   ]
  },
  {
   "cell_type": "code",
   "execution_count": null,
   "metadata": {},
   "outputs": [],
   "source": [
    "def tree_to_code(tree, feature_names):\n",
    "    tree_ = tree.tree_\n",
    "    feature_name = [\n",
    "        feature_names[i] if i != _tree.TREE_UNDEFINED else \"undefined!\"\n",
    "        for i in tree_.feature\n",
    "    ]\n",
    "    print ('def tree({}):'.format(\", \".join(feature_names)))\n",
    "\n",
    "    def recurse(node, depth):\n",
    "        indent = \"  \" * depth\n",
    "        if tree_.feature[node] != _tree.TREE_UNDEFINED:\n",
    "            name = feature_name[node]\n",
    "            threshold = tree_.threshold[node]\n",
    "            print (\"{}if {} <= {}:\".format(indent, name, threshold))\n",
    "            recurse(tree_.children_left[node], depth + 1)\n",
    "            print (\"{}else:  # if {} > {}\".format(indent, name, threshold))\n",
    "            recurse(tree_.children_right[node], depth + 1)\n",
    "        else:\n",
    "            print (\"{}return {}\".format(indent, tree_.value[node]))\n",
    "\n",
    "    recurse(0, 1)"
   ]
  },
  {
   "cell_type": "code",
   "execution_count": null,
   "metadata": {},
   "outputs": [],
   "source": [
    "np.random.seed(43267)\n",
    "\n",
    "df = dadosEnem[['NU_NOTA_CH','NU_NOTA_LC','NU_NOTA_MT','NU_NOTA_REDACAO','NU_NOTA_CN']]\n",
    "\n",
    "df = df[(df != 0).all(1)]\n",
    "\n",
    "var_adivinhar = 'NU_NOTA_MT';\n",
    "y_adivinhar = dadosEnem[var_adivinhar]\n",
    "\n",
    "x_variaveis = dadosEnem\n",
    "x_variaveis =  x_variaveis.loc[:, dadosEnem.columns != 'NU_NOTA_CN']\n",
    "x_variaveis =  x_variaveis.loc[:, x_variaveis.columns != 'NU_NOTA_LC']\n",
    "x_variaveis =  x_variaveis.loc[:, x_variaveis.columns != 'NU_NOTA_MT']\n",
    "x_variaveis =  x_variaveis.loc[:, x_variaveis.columns != 'NU_NOTA_REDACAO']\n",
    "x_variaveis =  x_variaveis.loc[:, x_variaveis.columns != 'NU_NOTA_CH']\n",
    "\n",
    "\n",
    "#x_variaveis = df[['NU_NOTA_CH','NU_NOTA_MT','NU_NOTA_REDACAO','NU_NOTA_CN']]\n",
    "\n",
    "\n",
    "#y_adivinhar\n",
    "\n",
    "# f(x) = y\n",
    "x_treino, x_teste, y_treino, y_teste = train_test_split(x_variaveis, y_adivinhar)\n",
    "\n",
    "\n",
    "modelo = DecisionTreeRegressor(max_depth=8)\n",
    "modelo.fit(x_treino, y_treino)\n",
    "predicoes_notas_lc = modelo.predict(x_teste)\n",
    "\n",
    "print(mean_squared_error(y_teste, predicoes_notas_lc))\n",
    "\n",
    "# Plot the results\n",
    "plt.figure()\n",
    "plt.scatter(x_treino[:,0], y_treino, s=20, edgecolor=\"black\",\n",
    "            c=\"darkorange\")\n",
    "plt.plot(x_teste.head(), y_teste.head(), color=\"cornflowerblue\", linewidth=2)\n",
    "#plt.plot(X_test, y_2, color=\"yellowgreen\", label=\"max_depth=5\", linewidth=2)\n",
    "plt.xlabel(\"data\")\n",
    "plt.ylabel(\"target\")\n",
    "plt.title(\"Decision Tree Regression\")\n",
    "plt.legend()\n",
    "plt.show()\n"
   ]
  },
  {
   "cell_type": "code",
   "execution_count": null,
   "metadata": {},
   "outputs": [],
   "source": [
    "from sklearn.dummy import DummyRegressor\n",
    "\n",
    "modelo_dummy = DummyRegressor()\n",
    "modelo_dummy.fit(x_treino, y_treino)\n",
    "dummy_predicoes = modelo_dummy.predict(x_teste)\n",
    "\n",
    "mean_squared_error(y_teste, dummy_predicoes)"
   ]
  },
  {
   "cell_type": "code",
   "execution_count": null,
   "metadata": {},
   "outputs": [],
   "source": [
    "df = dadosEnem[['NU_NOTA_CH','NU_NOTA_LC','NU_NOTA_MT','NU_NOTA_REDACAO','NU_NOTA_CN']]\n",
    "\n",
    "df = df[(df != 0).all(1)]\n",
    "\n",
    "y_adivinhar = df['NU_NOTA_REDACAO']\n",
    "\n",
    "x_variaveis =  df.loc[:, df.columns != 'NU_NOTA_REDACAO']\n",
    "#x_variaveis = df[['NU_NOTA_CH','NU_NOTA_MT','NU_NOTA_REDACAO','NU_NOTA_CN']]\n",
    "\n",
    "\n",
    "#y_adivinhar\n",
    "\n",
    "# f(x) = y\n",
    "x_treino, x_teste, y_treino, y_teste = train_test_split(x_variaveis, y_adivinhar)\n",
    "\n",
    "\n",
    "\n",
    "modelo = DecisionTreeRegressor()\n",
    "modelo.fit(x_treino, y_treino)\n",
    "predicoes_notas_lc = modelo.predict(x_teste)\n",
    "plt.figure(figsize=(9,9))\n",
    "sns.scatterplot(x=x_teste['NU_NOTA_LC'].values, y=predicoes_notas_lc)\n",
    "sns.scatterplot(x=x_teste['NU_NOTA_LC'].values, y=y_teste.values)\n",
    "\n",
    "print(mean_squared_error(y_teste, predicoes_notas_lc))"
   ]
  },
  {
   "cell_type": "code",
   "execution_count": null,
   "metadata": {},
   "outputs": [],
   "source": [
    "from sklearn.tree import DecisionTreeRegressor\n",
    "from sklearn.metrics import mean_squared_error\n",
    "\n",
    "modelo = DecisionTreeRegressor()\n",
    "modelo.fit(x_treino, y_treino)\n",
    "predicoes_notas_lc = modelo.predict(x_teste)\n",
    "plt.figure(figsize=(9,9))\n",
    "sns.scatterplot(x=x_teste['NU_NOTA_REDACAO'].values, y=predicoes_notas_lc)\n",
    "sns.scatterplot(x=x_teste['NU_NOTA_REDACAO'].values, y=y_teste.values)\n",
    "\n",
    "#print(mean_squared_error(y_teste, predicoes_notas_lc))\n",
    "\n"
   ]
  },
  {
   "cell_type": "code",
   "execution_count": null,
   "metadata": {},
   "outputs": [],
   "source": [
    "#treino = np.array(x_treino).reshape(len(x_treino))\n",
    "#teste = np.array(x_teste).reshape(len(x_teste))\n",
    "#treino_labels = np.array(y_treino).reshape(len(y_treino),1)\n",
    "#teste_labels = np.array(y_teste).reshape(len(y_teste),1)\n",
    "\n",
    "treino = x_treino.sample(20000)\n",
    "teste = x_teste.sample(20000)\n",
    "treino_labels = y_treino.sample(20000)\n",
    "teste_labels = y_teste.sample(20000)\n",
    "\n",
    "\n",
    "modelo = DecisionTreeRegressor(max_depth=27)\n",
    "modelo.fit(treino, treino_labels)\n",
    "\n",
    "\n",
    "modelo.score(treino, treino_labels)\n",
    "\n",
    "modelo.decision_path(treino)\n",
    "\n",
    "\n"
   ]
  },
  {
   "cell_type": "code",
   "execution_count": null,
   "metadata": {},
   "outputs": [],
   "source": [
    "y_teste.values[:5]"
   ]
  },
  {
   "cell_type": "code",
   "execution_count": null,
   "metadata": {},
   "outputs": [],
   "source": [
    "dadosEnem[var].value_counts()"
   ]
  },
  {
   "cell_type": "code",
   "execution_count": null,
   "metadata": {},
   "outputs": [],
   "source": [
    "dadosEnem.info()"
   ]
  },
  {
   "cell_type": "code",
   "execution_count": null,
   "metadata": {},
   "outputs": [],
   "source": []
  },
  {
   "cell_type": "code",
   "execution_count": null,
   "metadata": {},
   "outputs": [],
   "source": [
    "area = plt.figure()\n",
    "\n",
    "\n",
    "\n",
    "var = \"Q006\"\n",
    "array = pd.DataFrame(dadosEnem[var].value_counts())\n",
    "array2 = pd.DataFrame(dadosEnem[var].value_counts(normalize=True) * 100).round()\n",
    "array['Porcentagem'] = array2\n",
    "contagem_de_questionario = dadosEnem[var].value_counts().to_frame().reset_index()\n",
    "contagem_de_questionario.columns = [\"Respostas\",\"total\"]\n",
    "contagem_de_questionario.Respostas = ['Até 2.342 R$ - ' + str(array['Porcentagem'][0]) + '% ','Até 11.244 R$ - ' + str(array['Porcentagem'][1]) +  '% ','Mais que 11.244,01 - ' + str(array['Porcentagem'][2]) +  '% ']\n",
    "contagem_de_questionario\n",
    "\n",
    "\n",
    "\n",
    "g = sns.barplot(x=\"Respostas\", y = \"total\", data = contagem_de_questionario, hue = \"Respostas\",dodge = False)\n",
    "g.set_xticklabels(\" \")\n",
    "g.set_xlabel(\" \")"
   ]
  },
  {
   "cell_type": "code",
   "execution_count": null,
   "metadata": {},
   "outputs": [],
   "source": [
    "agrupado = dadosEnem.groupby('Q006')"
   ]
  },
  {
   "cell_type": "markdown",
   "metadata": {},
   "source": [
    "# Analisando Faixas de Renda"
   ]
  },
  {
   "cell_type": "code",
   "execution_count": null,
   "metadata": {},
   "outputs": [],
   "source": [
    "Grupo_1 = agrupado.get_group(\"1\")\n",
    "Grupo_2 = agrupado.get_group(\"2\")\n",
    "Grupo_3 = agrupado.get_group(\"3\")"
   ]
  },
  {
   "cell_type": "code",
   "execution_count": null,
   "metadata": {},
   "outputs": [],
   "source": [
    "def my_distplot(Grupo,var,G):\n",
    "    G = sns.distplot(Grupo[var],kde=False, rug=True)\n",
    "    G.set(xlabel=' ')\n",
    "    G.set_xlim(0,1000)\n",
    "    #plt.title('Quantidade de pessoas na casa')"
   ]
  },
  {
   "cell_type": "code",
   "execution_count": null,
   "metadata": {},
   "outputs": [],
   "source": [
    "def my_violin(Grupo,var,G):\n",
    "    fig, ax = plt.subplots(figsize=(8, 8))\n",
    "    escolas_notas = Grupo[[var,'TP_DEPENDENCIA_ADM_ESC']] \n",
    "    escolas_notas.sort_values('TP_DEPENDENCIA_ADM_ESC',  ascending=True, inplace=True)\n",
    "    G = sns.violinplot(x=var, y=\"TP_DEPENDENCIA_ADM_ESC\", data=escolas_notas, cut = 0)\n",
    "    G.set_xlabel(\" \")\n",
    "    G.set_ylabel(\" \")\n",
    "    G.set_xlim(0,1000)"
   ]
  },
  {
   "cell_type": "code",
   "execution_count": null,
   "metadata": {},
   "outputs": [],
   "source": [
    "def my_function(Grupo,var,G):\n",
    "    array = pd.DataFrame(Grupo[var].value_counts())\n",
    "    array2 = pd.DataFrame(Grupo[var].value_counts(normalize=True) * 100).round()\n",
    "    array['Porcentagem'] = array2\n",
    "    array\n",
    "\n",
    "    tipo_escola = Grupo[var].value_counts().to_frame().reset_index()\n",
    "    tipo_escola.columns = [\"Respostas\", \"total\"]\n",
    "    tipo_escola.sort_values('Respostas',  ascending=True, inplace=True)\n",
    "    print(array)\n",
    "    #tipo_escola.Tipo_Escola = ['Pública ' + str(array['Porcentagem'][2]) + '%','Exterior ' + str(array['Porcentagem'][4]) + '%','Privada ' + str(array['Porcentagem'][1]) + '%','Não Respondeu ' + str(array['Porcentagem'][3]) + '%']\n",
    "    total = float(len(tipo_escola))\n",
    "    G = sns.barplot(x=\"Respostas\", y = \"total\", data = tipo_escola)\n",
    "    G.set_xlabel(\" \")\n",
    "    G.set_ylabel(\" \")"
   ]
  },
  {
   "cell_type": "code",
   "execution_count": null,
   "metadata": {},
   "outputs": [],
   "source": []
  },
  {
   "cell_type": "markdown",
   "metadata": {},
   "source": [
    "# Tipo de Dependencia Administrativa Escola"
   ]
  },
  {
   "cell_type": "code",
   "execution_count": null,
   "metadata": {},
   "outputs": [],
   "source": [
    "\n",
    "area = plt.figure()\n",
    "var = 'TP_DEPENDENCIA_ADM_ESC'\n",
    "\n",
    "area.tight_layout(pad=10)\n",
    "\n",
    "g1 = area.add_subplot(3, 1, 1)\n",
    "my_function(Grupo_1,var,g1)\n",
    "\n",
    "\n",
    "g2 = area.add_subplot(3, 1, 2)\n",
    "my_function(Grupo_2,var,g2)\n",
    "\n",
    "g3 = area.add_subplot(3, 1, 3)\n",
    "my_function(Grupo_3,var,g3)\n",
    "\n",
    "#1\tFederal\n",
    "#2\tEstadual\n",
    "#3\tMunicipal\n",
    "#4\tPrivada\n",
    "\n"
   ]
  },
  {
   "cell_type": "markdown",
   "metadata": {},
   "source": [
    "# Internet"
   ]
  },
  {
   "cell_type": "code",
   "execution_count": null,
   "metadata": {},
   "outputs": [],
   "source": [
    "area = plt.figure()\n",
    "var = 'Q025'\n",
    "\n",
    "area.tight_layout(pad=10)\n",
    "\n",
    "g1 = area.add_subplot(3, 1, 1)\n",
    "my_function(Grupo_1,var,g1)\n",
    "\n",
    "\n",
    "g2 = area.add_subplot(3, 1, 2)\n",
    "my_function(Grupo_2,var,g2)\n",
    "\n",
    "g3 = area.add_subplot(3, 1, 3)\n",
    "my_function(Grupo_3,var,g3)\n",
    "\n",
    "\n"
   ]
  },
  {
   "cell_type": "markdown",
   "metadata": {},
   "source": [
    "# Computador"
   ]
  },
  {
   "cell_type": "code",
   "execution_count": null,
   "metadata": {},
   "outputs": [],
   "source": [
    "area = plt.figure()\n",
    "var = 'Q024'\n",
    "\n",
    "area.tight_layout(pad=10)\n",
    "\n",
    "g1 = area.add_subplot(3, 1, 1)\n",
    "my_function(Grupo_1,var,g1)\n",
    "\n",
    "\n",
    "g2 = area.add_subplot(3, 1, 2)\n",
    "my_function(Grupo_2,var,g2)\n",
    "\n",
    "g3 = area.add_subplot(3, 1, 3)\n",
    "my_function(Grupo_3,var,g3)\n",
    "\n",
    "\n"
   ]
  },
  {
   "cell_type": "markdown",
   "metadata": {},
   "source": [
    "# Telefone Celular"
   ]
  },
  {
   "cell_type": "code",
   "execution_count": null,
   "metadata": {},
   "outputs": [],
   "source": [
    "area = plt.figure()\n",
    "var = 'Q022'\n",
    "\n",
    "area.tight_layout(pad=10)\n",
    "\n",
    "g1 = area.add_subplot(3, 1, 1)\n",
    "my_function(Grupo_1,var,g1)\n",
    "\n",
    "\n",
    "g2 = area.add_subplot(3, 1, 2)\n",
    "my_function(Grupo_2,var,g2)\n",
    "\n",
    "g3 = area.add_subplot(3, 1, 3)\n",
    "my_function(Grupo_3,var,g3)\n",
    "\n",
    "\n"
   ]
  },
  {
   "cell_type": "markdown",
   "metadata": {},
   "source": [
    "# Trabalho do Pai"
   ]
  },
  {
   "cell_type": "code",
   "execution_count": null,
   "metadata": {},
   "outputs": [],
   "source": [
    "area = plt.figure()\n",
    "var = 'Q003'\n",
    "\n",
    "area.tight_layout(pad=10)\n",
    "\n",
    "g1 = area.add_subplot(3, 1, 1)\n",
    "my_function(Grupo_1,var,g1)\n",
    "\n",
    "\n",
    "g2 = area.add_subplot(3, 1, 2)\n",
    "my_function(Grupo_2,var,g2)\n",
    "\n",
    "g3 = area.add_subplot(3, 1, 3)\n",
    "my_function(Grupo_3,var,g3)\n"
   ]
  },
  {
   "cell_type": "markdown",
   "metadata": {},
   "source": [
    "# Trabalho da mãe"
   ]
  },
  {
   "cell_type": "code",
   "execution_count": null,
   "metadata": {},
   "outputs": [],
   "source": [
    "area = plt.figure()\n",
    "var = 'Q004'\n",
    "\n",
    "area.tight_layout(pad=10)\n",
    "\n",
    "g1 = area.add_subplot(3, 1, 1)\n",
    "my_function(Grupo_1,var,g1)\n",
    "\n",
    "\n",
    "g2 = area.add_subplot(3, 1, 2)\n",
    "my_function(Grupo_2,var,g2)\n",
    "\n",
    "g3 = area.add_subplot(3, 1, 3)\n",
    "my_function(Grupo_3,var,g3)\n"
   ]
  },
  {
   "cell_type": "markdown",
   "metadata": {},
   "source": [
    "# Estudo do Pai"
   ]
  },
  {
   "cell_type": "code",
   "execution_count": null,
   "metadata": {},
   "outputs": [],
   "source": [
    "area = plt.figure()\n",
    "var = 'Q001'\n",
    "\n",
    "area.tight_layout(pad=10)\n",
    "\n",
    "g1 = area.add_subplot(3, 1, 1)\n",
    "my_function(Grupo_1,var,g1)\n",
    "\n",
    "\n",
    "g2 = area.add_subplot(3, 1, 2)\n",
    "my_function(Grupo_2,var,g2)\n",
    "\n",
    "g3 = area.add_subplot(3, 1, 3)\n",
    "my_function(Grupo_3,var,g3)\n"
   ]
  },
  {
   "cell_type": "markdown",
   "metadata": {},
   "source": [
    "# Estudo da Mãe"
   ]
  },
  {
   "cell_type": "code",
   "execution_count": null,
   "metadata": {},
   "outputs": [],
   "source": [
    "area = plt.figure()\n",
    "var = 'Q002'\n",
    "\n",
    "area.tight_layout(pad=10)\n",
    "\n",
    "g1 = area.add_subplot(3, 1, 1)\n",
    "my_function(Grupo_1,var,g1)\n",
    "\n",
    "\n",
    "g2 = area.add_subplot(3, 1, 2)\n",
    "my_function(Grupo_2,var,g2)\n",
    "\n",
    "g3 = area.add_subplot(3, 1, 3)\n",
    "my_function(Grupo_3,var,g3)\n"
   ]
  },
  {
   "cell_type": "markdown",
   "metadata": {},
   "source": [
    "# Número de pessoas na casa"
   ]
  },
  {
   "cell_type": "code",
   "execution_count": null,
   "metadata": {},
   "outputs": [],
   "source": [
    "area = plt.figure()\n",
    "var = 'Q005'\n",
    "\n",
    "area.tight_layout(pad=10)\n",
    "\n",
    "g1 = area.add_subplot(3, 1, 1)\n",
    "my_distplot(Grupo_1,var,g1)\n",
    "\n",
    "\n",
    "g2 = area.add_subplot(3, 1, 2)\n",
    "my_distplot(Grupo_2,var,g2)\n",
    "\n",
    "g3 = area.add_subplot(3, 1, 3)\n",
    "my_distplot(Grupo_3,var,g3)\n",
    "\n",
    "\n"
   ]
  },
  {
   "cell_type": "markdown",
   "metadata": {},
   "source": [
    "# Número de quartos para dormir"
   ]
  },
  {
   "cell_type": "code",
   "execution_count": null,
   "metadata": {},
   "outputs": [],
   "source": [
    "area = plt.figure()\n",
    "var = 'Q009'\n",
    "\n",
    "area.tight_layout(pad=10)\n",
    "\n",
    "g1 = area.add_subplot(3, 1, 1)\n",
    "my_function(Grupo_1,var,g1)\n",
    "\n",
    "\n",
    "g2 = area.add_subplot(3, 1, 2)\n",
    "my_function(Grupo_2,var,g2)\n",
    "\n",
    "g3 = area.add_subplot(3, 1, 3)\n",
    "my_function(Grupo_3,var,g3)"
   ]
  },
  {
   "cell_type": "code",
   "execution_count": null,
   "metadata": {},
   "outputs": [],
   "source": [
    "#Tentar contabilizar razão moradores/quartos por grupo\n"
   ]
  },
  {
   "cell_type": "code",
   "execution_count": null,
   "metadata": {},
   "outputs": [],
   "source": [
    "pessoas = 'Q005'\n",
    "quartos = 'Q009'\n",
    "\n",
    "pessoasPorQuarto_1 = pd.DataFrame(Grupo_1[pessoas]/Grupo_1[quartos])\n",
    "pessoasPorQuarto_2 = pd.DataFrame(Grupo_2[pessoas]/Grupo_2[quartos])\n",
    "pessoasPorQuarto_3 = pd.DataFrame(Grupo_3[pessoas]/Grupo_3[quartos])\n",
    "\n",
    "pessoasPorQuarto_1.replace([np.inf, -np.inf], np.nan, inplace=True)\n",
    "pessoasPorQuarto_2.replace([np.inf, -np.inf], np.nan, inplace=True)\n",
    "pessoasPorQuarto_3.replace([np.inf, -np.inf], np.nan, inplace=True)\n",
    "\n",
    "area = plt.figure()\n",
    "\n",
    "\n",
    "g1 = area.add_subplot(3, 1, 1)\n",
    "g1 = sns.distplot(pessoasPorQuarto_1)\n",
    "g1.set_xlim(1,10)\n",
    "\n",
    "\n",
    "g2 = area.add_subplot(3, 1, 2)\n",
    "g2 = sns.distplot(pessoasPorQuarto_2)\n",
    "g2.set_xlim(0,8)\n",
    "\n",
    "g3 = area.add_subplot(3, 1, 3)\n",
    "g3 = sns.distplot(pessoasPorQuarto_3)\n"
   ]
  },
  {
   "cell_type": "markdown",
   "metadata": {},
   "source": [
    "# Nota Ciências da Natureza"
   ]
  },
  {
   "cell_type": "code",
   "execution_count": null,
   "metadata": {},
   "outputs": [],
   "source": [
    "area = plt.figure()\n",
    "var = 'NU_NOTA_CN'\n",
    "\n",
    "area.tight_layout(pad=10)\n",
    "\n",
    "g1 = area.add_subplot(3, 1, 1)\n",
    "my_distplot(Grupo_1,var,g1)\n",
    "\n",
    "\n",
    "g2 = area.add_subplot(3, 1, 2)\n",
    "my_distplot(Grupo_2,var,g2)\n",
    "\n",
    "g3 = area.add_subplot(3, 1, 3)\n",
    "my_distplot(Grupo_3,var,g3)"
   ]
  },
  {
   "cell_type": "markdown",
   "metadata": {},
   "source": [
    "# Nota Ciências Humanas"
   ]
  },
  {
   "cell_type": "code",
   "execution_count": null,
   "metadata": {},
   "outputs": [],
   "source": [
    "area = plt.figure()\n",
    "var = 'NU_NOTA_CH'\n",
    "\n",
    "area.tight_layout(pad=10)\n",
    "\n",
    "g1 = area.add_subplot(3, 1, 1)\n",
    "my_distplot(Grupo_1,var,g1)\n",
    "\n",
    "\n",
    "g2 = area.add_subplot(3, 1, 2)\n",
    "my_distplot(Grupo_2,var,g2)\n",
    "\n",
    "g3 = area.add_subplot(3, 1, 3)\n",
    "my_distplot(Grupo_3,var,g3)"
   ]
  },
  {
   "cell_type": "markdown",
   "metadata": {},
   "source": [
    "# Nota Matemática e Suas Tecnologias"
   ]
  },
  {
   "cell_type": "code",
   "execution_count": null,
   "metadata": {},
   "outputs": [],
   "source": [
    "area = plt.figure()\n",
    "var = 'NU_NOTA_MT'\n",
    "\n",
    "area.tight_layout(pad=10)\n",
    "\n",
    "g1 = area.add_subplot(3, 1, 1)\n",
    "my_distplot(Grupo_1,var,g1)\n",
    "\n",
    "\n",
    "g2 = area.add_subplot(3, 1, 2)\n",
    "my_distplot(Grupo_2,var,g2)\n",
    "\n",
    "g3 = area.add_subplot(3, 1, 3)\n",
    "my_distplot(Grupo_3,var,g3)"
   ]
  },
  {
   "cell_type": "markdown",
   "metadata": {},
   "source": [
    "# Nota Linguagens"
   ]
  },
  {
   "cell_type": "code",
   "execution_count": null,
   "metadata": {},
   "outputs": [],
   "source": [
    "area = plt.figure()\n",
    "var = 'NU_NOTA_LC'\n",
    "\n",
    "area.tight_layout(pad=10)\n",
    "\n",
    "g1 = area.add_subplot(3, 1, 1)\n",
    "my_distplot(Grupo_1,var,g1)\n",
    "\n",
    "\n",
    "g2 = area.add_subplot(3, 1, 2)\n",
    "my_distplot(Grupo_2,var,g2)\n",
    "\n",
    "g3 = area.add_subplot(3, 1, 3)\n",
    "my_distplot(Grupo_3,var,g3)"
   ]
  },
  {
   "cell_type": "markdown",
   "metadata": {},
   "source": [
    "# Nota Redação"
   ]
  },
  {
   "cell_type": "code",
   "execution_count": null,
   "metadata": {},
   "outputs": [],
   "source": [
    "area = plt.figure()\n",
    "var = 'NU_NOTA_REDACAO'\n",
    "\n",
    "\n",
    "\n",
    "g1 = area.add_subplot(3, 1, 1)\n",
    "my_distplot(Grupo_1,var,g1)\n",
    "\n",
    "\n",
    "g2 = area.add_subplot(3, 1, 2)\n",
    "my_distplot(Grupo_2,var,g2)\n",
    "\n",
    "g3 = area.add_subplot(3, 1, 3)\n",
    "my_distplot(Grupo_3,var,g3)"
   ]
  },
  {
   "cell_type": "code",
   "execution_count": null,
   "metadata": {},
   "outputs": [],
   "source": [
    "def my_violin2(Grupo,var,G):\n",
    "    fig, ax = plt.subplots(figsize=(8, 8))\n",
    "    escolas_notas = pd.DataFrame(Grupo[[var,'TP_DEPENDENCIA_ADM_ESC']]) \n",
    "    escolas_notas.sort_values('TP_DEPENDENCIA_ADM_ESC',  ascending=True, inplace=True)\n",
    "\n",
    "    G = sns.violinplot(x=var, y=\"TP_DEPENDENCIA_ADM_ESC\", data=escolas_notas, cut = 0)\n",
    "    G.set_xlabel(\" \")\n",
    "    G.set_ylabel(\" \")\n",
    "    G.set_xlim(0,1000)\n",
    "\n",
    "    print(escolas_notas[var].describe())"
   ]
  },
  {
   "cell_type": "code",
   "execution_count": null,
   "metadata": {},
   "outputs": [],
   "source": [
    "\n",
    "var = 'NU_NOTA_REDACAO'\n",
    "\n",
    "\n",
    "area = plt.figure()\n",
    "\n",
    "\n",
    "\n",
    "my_violin2(Grupo_1,var,g1)\n",
    "my_violin2(Grupo_2,var,g1)\n",
    "my_violin2(Grupo_3,var,g1)"
   ]
  },
  {
   "cell_type": "code",
   "execution_count": null,
   "metadata": {},
   "outputs": [],
   "source": [
    "\n",
    "var = 'NU_NOTA_LC'\n",
    "\n",
    "\n",
    "area = plt.figure()\n",
    "\n",
    "\n",
    "\n",
    "my_violin(Grupo_1,var,g1)\n",
    "my_violin(Grupo_2,var,g1)\n",
    "my_violin(Grupo_3,var,g1)\n",
    "\n"
   ]
  },
  {
   "cell_type": "code",
   "execution_count": null,
   "metadata": {},
   "outputs": [],
   "source": [
    "\n",
    "var = 'NU_NOTA_CN'\n",
    "\n",
    "\n",
    "area = plt.figure()\n",
    "\n",
    "\n",
    "\n",
    "my_violin2(Grupo_1,var,g1)\n",
    "my_violin2(Grupo_2,var,g1)\n",
    "my_violin2(Grupo_3,var,g1)"
   ]
  },
  {
   "cell_type": "code",
   "execution_count": null,
   "metadata": {},
   "outputs": [],
   "source": [
    "\n",
    "var = 'NU_NOTA_CH'\n",
    "\n",
    "\n",
    "area = plt.figure()\n",
    "\n",
    "\n",
    "\n",
    "my_violin2(Grupo_1,var,g1)\n",
    "my_violin2(Grupo_2,var,g1)\n",
    "my_violin2(Grupo_3,var,g1)"
   ]
  },
  {
   "cell_type": "code",
   "execution_count": null,
   "metadata": {},
   "outputs": [],
   "source": [
    "\n",
    "var = 'NU_NOTA_MT'\n",
    "\n",
    "\n",
    "area = plt.figure()\n",
    "\n",
    "\n",
    "\n",
    "my_violin2(Grupo_1,var,g1)\n",
    "my_violin2(Grupo_2,var,g1)\n",
    "my_violin2(Grupo_3,var,g1)"
   ]
  },
  {
   "cell_type": "code",
   "execution_count": null,
   "metadata": {},
   "outputs": [],
   "source": [
    "def my_boxplot(Grupo,var,G):\n",
    "    fig, ax = plt.subplots(figsize=(8, 8))\n",
    "    escolas_notas = pd.DataFrame(Grupo[[var,'TP_DEPENDENCIA_ADM_ESC']]) \n",
    "    escolas_notas.sort_values('TP_DEPENDENCIA_ADM_ESC',  ascending=True, inplace=True)\n",
    "    G = sns.boxplot(x=var, y=\"TP_DEPENDENCIA_ADM_ESC\", data=escolas_notas)\n",
    "    G.set_xlabel(\" \")\n",
    "    G.set_ylabel(\" \")\n",
    "    G.set_xlim(0,1000)\n",
    "\n"
   ]
  },
  {
   "cell_type": "code",
   "execution_count": null,
   "metadata": {},
   "outputs": [],
   "source": [
    "var = 'NU_NOTA_MT'\n",
    "\n",
    "\n",
    "area = plt.figure()\n",
    "\n",
    "\n",
    "\n",
    "my_boxplot(Grupo_1,var,g1)\n",
    "my_boxplot(Grupo_2,var,g1)\n",
    "my_boxplot(Grupo_3,var,g1)"
   ]
  },
  {
   "cell_type": "code",
   "execution_count": null,
   "metadata": {},
   "outputs": [],
   "source": []
  }
 ],
 "metadata": {
  "hide_input": false,
  "kernelspec": {
   "display_name": "Python 3",
   "language": "python",
   "name": "python3"
  },
  "language_info": {
   "codemirror_mode": {
    "name": "ipython",
    "version": 3
   },
   "file_extension": ".py",
   "mimetype": "text/x-python",
   "name": "python",
   "nbconvert_exporter": "python",
   "pygments_lexer": "ipython3",
   "version": "3.7.6"
  }
 },
 "nbformat": 4,
 "nbformat_minor": 4
}
