{
 "cells": [
  {
   "cell_type": "code",
   "execution_count": 1,
   "metadata": {
    "colab": {},
    "colab_type": "code",
    "id": "Ce_jZdzf0WRL"
   },
   "outputs": [],
   "source": [
    "#!pip install apyori\n",
    "#!pip install mlxtend"
   ]
  },
  {
   "cell_type": "code",
   "execution_count": 2,
   "metadata": {
    "colab": {},
    "colab_type": "code",
    "id": "1PnnheVd0JyG"
   },
   "outputs": [],
   "source": [
    "import pandas as pd\n",
    "import numpy as np\n",
    "import matplotlib.pyplot as plt\n",
    "import seaborn as sns\n"
   ]
  },
  {
   "cell_type": "code",
   "execution_count": 3,
   "metadata": {},
   "outputs": [],
   "source": [
    "path = \"C:\\\\Users\\\\vinic\\\\Documents\\\\GitHub\\\\Dados_Enem\\\\m_basica_2019\\\\DADOS\\\\TURMAS.csvicrodados_educacao\""
   ]
  },
  {
   "cell_type": "code",
   "execution_count": 4,
   "metadata": {
    "colab": {
     "base_uri": "https://localhost:8080/",
     "height": 126
    },
    "colab_type": "code",
    "id": "VZtpLozA0JyU",
    "outputId": "ee7d1823-78f3-464c-b457-1c8ac910a50c"
   },
   "outputs": [
    {
     "ename": "FileNotFoundError",
     "evalue": "[Errno 2] No such file or directory: 'MicroDados2018MG.csv'",
     "output_type": "error",
     "traceback": [
      "\u001b[1;31m---------------------------------------------------------------------------\u001b[0m",
      "\u001b[1;31mFileNotFoundError\u001b[0m                         Traceback (most recent call last)",
      "\u001b[1;32m<ipython-input-4-98192b0f0ab9>\u001b[0m in \u001b[0;36m<module>\u001b[1;34m\u001b[0m\n\u001b[1;32m----> 1\u001b[1;33m \u001b[0mdadosEnem\u001b[0m \u001b[1;33m=\u001b[0m \u001b[0mpd\u001b[0m\u001b[1;33m.\u001b[0m\u001b[0mread_csv\u001b[0m\u001b[1;33m(\u001b[0m\u001b[0mpath\u001b[0m\u001b[1;33m,\u001b[0m\u001b[0msep\u001b[0m\u001b[1;33m=\u001b[0m\u001b[1;34m';'\u001b[0m\u001b[1;33m,\u001b[0m\u001b[0mencoding\u001b[0m\u001b[1;33m=\u001b[0m\u001b[1;34m'latin1'\u001b[0m\u001b[1;33m,\u001b[0m\u001b[0mlow_memory\u001b[0m\u001b[1;33m=\u001b[0m\u001b[1;32mFalse\u001b[0m\u001b[1;33m)\u001b[0m\u001b[1;33m\u001b[0m\u001b[1;33m\u001b[0m\u001b[0m\n\u001b[0m\u001b[0;32m      2\u001b[0m \u001b[1;33m\u001b[0m\u001b[0m\n\u001b[0;32m      3\u001b[0m \u001b[0mdadosEnem\u001b[0m\u001b[1;33m.\u001b[0m\u001b[0mhead\u001b[0m\u001b[1;33m(\u001b[0m\u001b[1;33m)\u001b[0m\u001b[1;33m\u001b[0m\u001b[1;33m\u001b[0m\u001b[0m\n",
      "\u001b[1;32m~\\anaconda3\\lib\\site-packages\\pandas\\io\\parsers.py\u001b[0m in \u001b[0;36mparser_f\u001b[1;34m(filepath_or_buffer, sep, delimiter, header, names, index_col, usecols, squeeze, prefix, mangle_dupe_cols, dtype, engine, converters, true_values, false_values, skipinitialspace, skiprows, skipfooter, nrows, na_values, keep_default_na, na_filter, verbose, skip_blank_lines, parse_dates, infer_datetime_format, keep_date_col, date_parser, dayfirst, cache_dates, iterator, chunksize, compression, thousands, decimal, lineterminator, quotechar, quoting, doublequote, escapechar, comment, encoding, dialect, error_bad_lines, warn_bad_lines, delim_whitespace, low_memory, memory_map, float_precision)\u001b[0m\n\u001b[0;32m    674\u001b[0m         )\n\u001b[0;32m    675\u001b[0m \u001b[1;33m\u001b[0m\u001b[0m\n\u001b[1;32m--> 676\u001b[1;33m         \u001b[1;32mreturn\u001b[0m \u001b[0m_read\u001b[0m\u001b[1;33m(\u001b[0m\u001b[0mfilepath_or_buffer\u001b[0m\u001b[1;33m,\u001b[0m \u001b[0mkwds\u001b[0m\u001b[1;33m)\u001b[0m\u001b[1;33m\u001b[0m\u001b[1;33m\u001b[0m\u001b[0m\n\u001b[0m\u001b[0;32m    677\u001b[0m \u001b[1;33m\u001b[0m\u001b[0m\n\u001b[0;32m    678\u001b[0m     \u001b[0mparser_f\u001b[0m\u001b[1;33m.\u001b[0m\u001b[0m__name__\u001b[0m \u001b[1;33m=\u001b[0m \u001b[0mname\u001b[0m\u001b[1;33m\u001b[0m\u001b[1;33m\u001b[0m\u001b[0m\n",
      "\u001b[1;32m~\\anaconda3\\lib\\site-packages\\pandas\\io\\parsers.py\u001b[0m in \u001b[0;36m_read\u001b[1;34m(filepath_or_buffer, kwds)\u001b[0m\n\u001b[0;32m    446\u001b[0m \u001b[1;33m\u001b[0m\u001b[0m\n\u001b[0;32m    447\u001b[0m     \u001b[1;31m# Create the parser.\u001b[0m\u001b[1;33m\u001b[0m\u001b[1;33m\u001b[0m\u001b[1;33m\u001b[0m\u001b[0m\n\u001b[1;32m--> 448\u001b[1;33m     \u001b[0mparser\u001b[0m \u001b[1;33m=\u001b[0m \u001b[0mTextFileReader\u001b[0m\u001b[1;33m(\u001b[0m\u001b[0mfp_or_buf\u001b[0m\u001b[1;33m,\u001b[0m \u001b[1;33m**\u001b[0m\u001b[0mkwds\u001b[0m\u001b[1;33m)\u001b[0m\u001b[1;33m\u001b[0m\u001b[1;33m\u001b[0m\u001b[0m\n\u001b[0m\u001b[0;32m    449\u001b[0m \u001b[1;33m\u001b[0m\u001b[0m\n\u001b[0;32m    450\u001b[0m     \u001b[1;32mif\u001b[0m \u001b[0mchunksize\u001b[0m \u001b[1;32mor\u001b[0m \u001b[0miterator\u001b[0m\u001b[1;33m:\u001b[0m\u001b[1;33m\u001b[0m\u001b[1;33m\u001b[0m\u001b[0m\n",
      "\u001b[1;32m~\\anaconda3\\lib\\site-packages\\pandas\\io\\parsers.py\u001b[0m in \u001b[0;36m__init__\u001b[1;34m(self, f, engine, **kwds)\u001b[0m\n\u001b[0;32m    878\u001b[0m             \u001b[0mself\u001b[0m\u001b[1;33m.\u001b[0m\u001b[0moptions\u001b[0m\u001b[1;33m[\u001b[0m\u001b[1;34m\"has_index_names\"\u001b[0m\u001b[1;33m]\u001b[0m \u001b[1;33m=\u001b[0m \u001b[0mkwds\u001b[0m\u001b[1;33m[\u001b[0m\u001b[1;34m\"has_index_names\"\u001b[0m\u001b[1;33m]\u001b[0m\u001b[1;33m\u001b[0m\u001b[1;33m\u001b[0m\u001b[0m\n\u001b[0;32m    879\u001b[0m \u001b[1;33m\u001b[0m\u001b[0m\n\u001b[1;32m--> 880\u001b[1;33m         \u001b[0mself\u001b[0m\u001b[1;33m.\u001b[0m\u001b[0m_make_engine\u001b[0m\u001b[1;33m(\u001b[0m\u001b[0mself\u001b[0m\u001b[1;33m.\u001b[0m\u001b[0mengine\u001b[0m\u001b[1;33m)\u001b[0m\u001b[1;33m\u001b[0m\u001b[1;33m\u001b[0m\u001b[0m\n\u001b[0m\u001b[0;32m    881\u001b[0m \u001b[1;33m\u001b[0m\u001b[0m\n\u001b[0;32m    882\u001b[0m     \u001b[1;32mdef\u001b[0m \u001b[0mclose\u001b[0m\u001b[1;33m(\u001b[0m\u001b[0mself\u001b[0m\u001b[1;33m)\u001b[0m\u001b[1;33m:\u001b[0m\u001b[1;33m\u001b[0m\u001b[1;33m\u001b[0m\u001b[0m\n",
      "\u001b[1;32m~\\anaconda3\\lib\\site-packages\\pandas\\io\\parsers.py\u001b[0m in \u001b[0;36m_make_engine\u001b[1;34m(self, engine)\u001b[0m\n\u001b[0;32m   1112\u001b[0m     \u001b[1;32mdef\u001b[0m \u001b[0m_make_engine\u001b[0m\u001b[1;33m(\u001b[0m\u001b[0mself\u001b[0m\u001b[1;33m,\u001b[0m \u001b[0mengine\u001b[0m\u001b[1;33m=\u001b[0m\u001b[1;34m\"c\"\u001b[0m\u001b[1;33m)\u001b[0m\u001b[1;33m:\u001b[0m\u001b[1;33m\u001b[0m\u001b[1;33m\u001b[0m\u001b[0m\n\u001b[0;32m   1113\u001b[0m         \u001b[1;32mif\u001b[0m \u001b[0mengine\u001b[0m \u001b[1;33m==\u001b[0m \u001b[1;34m\"c\"\u001b[0m\u001b[1;33m:\u001b[0m\u001b[1;33m\u001b[0m\u001b[1;33m\u001b[0m\u001b[0m\n\u001b[1;32m-> 1114\u001b[1;33m             \u001b[0mself\u001b[0m\u001b[1;33m.\u001b[0m\u001b[0m_engine\u001b[0m \u001b[1;33m=\u001b[0m \u001b[0mCParserWrapper\u001b[0m\u001b[1;33m(\u001b[0m\u001b[0mself\u001b[0m\u001b[1;33m.\u001b[0m\u001b[0mf\u001b[0m\u001b[1;33m,\u001b[0m \u001b[1;33m**\u001b[0m\u001b[0mself\u001b[0m\u001b[1;33m.\u001b[0m\u001b[0moptions\u001b[0m\u001b[1;33m)\u001b[0m\u001b[1;33m\u001b[0m\u001b[1;33m\u001b[0m\u001b[0m\n\u001b[0m\u001b[0;32m   1115\u001b[0m         \u001b[1;32melse\u001b[0m\u001b[1;33m:\u001b[0m\u001b[1;33m\u001b[0m\u001b[1;33m\u001b[0m\u001b[0m\n\u001b[0;32m   1116\u001b[0m             \u001b[1;32mif\u001b[0m \u001b[0mengine\u001b[0m \u001b[1;33m==\u001b[0m \u001b[1;34m\"python\"\u001b[0m\u001b[1;33m:\u001b[0m\u001b[1;33m\u001b[0m\u001b[1;33m\u001b[0m\u001b[0m\n",
      "\u001b[1;32m~\\anaconda3\\lib\\site-packages\\pandas\\io\\parsers.py\u001b[0m in \u001b[0;36m__init__\u001b[1;34m(self, src, **kwds)\u001b[0m\n\u001b[0;32m   1872\u001b[0m         \u001b[1;32mif\u001b[0m \u001b[0mkwds\u001b[0m\u001b[1;33m.\u001b[0m\u001b[0mget\u001b[0m\u001b[1;33m(\u001b[0m\u001b[1;34m\"compression\"\u001b[0m\u001b[1;33m)\u001b[0m \u001b[1;32mis\u001b[0m \u001b[1;32mNone\u001b[0m \u001b[1;32mand\u001b[0m \u001b[0mencoding\u001b[0m\u001b[1;33m:\u001b[0m\u001b[1;33m\u001b[0m\u001b[1;33m\u001b[0m\u001b[0m\n\u001b[0;32m   1873\u001b[0m             \u001b[1;32mif\u001b[0m \u001b[0misinstance\u001b[0m\u001b[1;33m(\u001b[0m\u001b[0msrc\u001b[0m\u001b[1;33m,\u001b[0m \u001b[0mstr\u001b[0m\u001b[1;33m)\u001b[0m\u001b[1;33m:\u001b[0m\u001b[1;33m\u001b[0m\u001b[1;33m\u001b[0m\u001b[0m\n\u001b[1;32m-> 1874\u001b[1;33m                 \u001b[0msrc\u001b[0m \u001b[1;33m=\u001b[0m \u001b[0mopen\u001b[0m\u001b[1;33m(\u001b[0m\u001b[0msrc\u001b[0m\u001b[1;33m,\u001b[0m \u001b[1;34m\"rb\"\u001b[0m\u001b[1;33m)\u001b[0m\u001b[1;33m\u001b[0m\u001b[1;33m\u001b[0m\u001b[0m\n\u001b[0m\u001b[0;32m   1875\u001b[0m                 \u001b[0mself\u001b[0m\u001b[1;33m.\u001b[0m\u001b[0mhandles\u001b[0m\u001b[1;33m.\u001b[0m\u001b[0mappend\u001b[0m\u001b[1;33m(\u001b[0m\u001b[0msrc\u001b[0m\u001b[1;33m)\u001b[0m\u001b[1;33m\u001b[0m\u001b[1;33m\u001b[0m\u001b[0m\n\u001b[0;32m   1876\u001b[0m \u001b[1;33m\u001b[0m\u001b[0m\n",
      "\u001b[1;31mFileNotFoundError\u001b[0m: [Errno 2] No such file or directory: 'MicroDados2018MG.csv'"
     ]
    }
   ],
   "source": [
    "dadosEnem = pd.read_csv(path,sep=';',encoding='latin1',low_memory=False)\n",
    "\n",
    "dadosEnem.head()"
   ]
  },
  {
   "cell_type": "code",
   "execution_count": null,
   "metadata": {
    "colab": {
     "base_uri": "https://localhost:8080/",
     "height": 1000
    },
    "colab_type": "code",
    "id": "_nRztMfIWL7d",
    "outputId": "c71ea091-4435-4878-fa62-6f21e3105bf1"
   },
   "outputs": [],
   "source": [
    "dadosEnem.info()"
   ]
  },
  {
   "cell_type": "markdown",
   "metadata": {
    "colab_type": "text",
    "id": "rhXgOy1W0Jyn"
   },
   "source": [
    "#Colunas a serem retiradas\n",
    "* SG_UF_NASCIMENTO (valor duplicado)\n",
    "* TP_Nacionalidade\n",
    "* TP_Estado_Civil\n",
    "* SG_UF_ESC\n",
    "* SG_UF_PROVA\n",
    "* CO_MUNICIPIO_PROVA (nesta base, as outras referências aos municipios foram feitas por nome)\n",
    "\n",
    "O que mais foi feito:\n",
    "* Retirada dos valores nan e várias colunas\n",
    "* Tratamento de dados\n",
    "* Tentativa de rodar o apriori\n"
   ]
  },
  {
   "cell_type": "code",
   "execution_count": null,
   "metadata": {
    "colab": {},
    "colab_type": "code",
    "id": "O1PiVCUZcLEi"
   },
   "outputs": [],
   "source": []
  },
  {
   "cell_type": "code",
   "execution_count": null,
   "metadata": {
    "colab": {},
    "colab_type": "code",
    "id": "hD_O64660Jyp"
   },
   "outputs": [],
   "source": [
    "dadosEnem = dadosEnem.drop(['SG_UF_NASCIMENTO' ], axis=1)\n",
    "dadosEnem = dadosEnem.drop(['TP_NACIONALIDADE' ], axis=1)\n",
    "dadosEnem = dadosEnem.drop(['TP_ESTADO_CIVIL' ], axis=1)\n",
    "#dadosEnem = dadosEnem.drop(['SG_UF_ESC'], axis=1)\n",
    "dadosEnem = dadosEnem.drop(['SG_UF_ESC_x'], axis=1)\n",
    "dadosEnem = dadosEnem.drop(['SG_UF_ESC_y'], axis=1)\n",
    "dadosEnem = dadosEnem.drop(['SG_UF_PROVA'], axis=1)\n",
    "dadosEnem = dadosEnem.drop(['CO_MUNICIPIO_PROVA'], axis=1)\n",
    "dadosEnem = dadosEnem.drop(['TP_PRESENCA_CN'], axis=1)\n",
    "dadosEnem = dadosEnem.drop(['TP_PRESENCA_CH'], axis=1)\n",
    "dadosEnem = dadosEnem.drop(['TP_PRESENCA_LC'], axis=1)\n",
    "dadosEnem = dadosEnem.drop(['TP_PRESENCA_MT'], axis=1)\n",
    "\n",
    "\n",
    "\n",
    "\n",
    "\n",
    "\n",
    "\n",
    "\n",
    "\n",
    "\n",
    "\n",
    "\n"
   ]
  },
  {
   "cell_type": "code",
   "execution_count": null,
   "metadata": {
    "colab": {
     "base_uri": "https://localhost:8080/",
     "height": 1000
    },
    "colab_type": "code",
    "id": "LQiWYzoO6abP",
    "outputId": "1eca20dd-7e2e-47a6-daee-9801b945cdb3"
   },
   "outputs": [],
   "source": [
    "dadosEnem.info()"
   ]
  },
  {
   "cell_type": "markdown",
   "metadata": {
    "colab_type": "text",
    "id": "p52fIZWGXuni"
   },
   "source": [
    "## É necessário mudar o tipo de algumas colunas, já que li todas as colunas como tipo categoria"
   ]
  },
  {
   "cell_type": "code",
   "execution_count": null,
   "metadata": {},
   "outputs": [],
   "source": [
    "dadoEnem = dadosEnem.astype('category').info()"
   ]
  },
  {
   "cell_type": "code",
   "execution_count": null,
   "metadata": {},
   "outputs": [],
   "source": [
    "dadosEnem.info()\n"
   ]
  },
  {
   "cell_type": "markdown",
   "metadata": {
    "colab_type": "text",
    "id": "nJbOZvNP0ksS"
   },
   "source": [
    "# Tratando dados faltantes\n",
    "\n",
    "TP_ENSINO , TP_SIT_FUNC_ESC"
   ]
  },
  {
   "cell_type": "code",
   "execution_count": null,
   "metadata": {},
   "outputs": [],
   "source": []
  },
  {
   "cell_type": "code",
   "execution_count": null,
   "metadata": {},
   "outputs": [],
   "source": []
  },
  {
   "cell_type": "code",
   "execution_count": null,
   "metadata": {
    "colab": {},
    "colab_type": "code",
    "id": "KW6qXUfN0JzC"
   },
   "outputs": [],
   "source": [
    "dadosEnem['TP_ENSINO'].fillna(0,inplace=True)\n",
    "dadosEnem['TP_SIT_FUNC_ESC'].fillna(0,inplace=True)\n",
    "dadosEnem['NO_MUNICIPIO_NASCIMENTO'].fillna(\"Não Informado\",inplace=True)\n",
    "dadosEnem['CO_UF_NASCIMENTO'].fillna('00',inplace=True)"
   ]
  },
  {
   "cell_type": "markdown",
   "metadata": {
    "colab_type": "text",
    "id": "6c1JHdw50JzO"
   },
   "source": [
    "#Para calcular a idade de campos Nan vou usar a técninca de dubstituir os campos pela média dos valores da coluna"
   ]
  },
  {
   "cell_type": "code",
   "execution_count": null,
   "metadata": {
    "colab": {},
    "colab_type": "code",
    "id": "GzasAVDn0JzF"
   },
   "outputs": [],
   "source": [
    "\n",
    "dadosEnem['NU_IDADE'].fillna(dadosEnem['NU_IDADE'].mean(),inplace=True)"
   ]
  },
  {
   "cell_type": "code",
   "execution_count": null,
   "metadata": {},
   "outputs": [],
   "source": [
    "dadosEnem.info()"
   ]
  },
  {
   "cell_type": "markdown",
   "metadata": {
    "colab_type": "text",
    "id": "hxy6I3F11NmN"
   },
   "source": [
    "#Problema: As Notas tem muitos campos sem valor, devido a ausência de alunos nas provas. Substituir todos os valores por 0 pode colocoar viés na base.\n",
    "\n",
    "Valores relacionados a média ficariam distorcidos.\n",
    "\n",
    "A solução que irei tomar é remover essas linhas com notas faltantes da minha base tratada. Caso voltemos atŕas é só descomentar e executar a célula abaixo que substitui as notas \"vazias\" por 0."
   ]
  },
  {
   "cell_type": "code",
   "execution_count": null,
   "metadata": {
    "colab": {
     "base_uri": "https://localhost:8080/",
     "height": 55
    },
    "colab_type": "code",
    "id": "AHshJqg60JzH",
    "outputId": "2856f328-f369-47ca-8c4a-9351521f7cf4",
    "scrolled": true
   },
   "outputs": [],
   "source": [
    "''' dadosEnem['NU_NOTA_CN'].fillna(0,inplace=True)\n",
    "dadosEnem['NU_NOTA_CH'].fillna(0,inplace=True)\n",
    "dadosEnem['NU_NOTA_LC'].fillna(0,inplace=True)\n",
    "dadosEnem['NU_NOTA_MT'].fillna(0,inplace=True)\n",
    "dadosEnem['TP_STATUS_REDACAO'].fillna(0,inplace=True)\n",
    "dadosEnem['NU_NOTA_COMP1'].fillna(0,inplace=True)\n",
    "dadosEnem['NU_NOTA_COMP2'].fillna(0,inplace=True)\n",
    "dadosEnem['NU_NOTA_COMP3'].fillna(0,inplace=True)\n",
    "dadosEnem['NU_NOTA_COMP4'].fillna(0,inplace=True)\n",
    "dadosEnem['NU_NOTA_COMP5'].fillna(0,inplace=True)\n",
    "dadosEnem['NU_NOTA_REDACAO'].fillna(0,inplace=True) '''"
   ]
  },
  {
   "cell_type": "code",
   "execution_count": null,
   "metadata": {
    "colab": {},
    "colab_type": "code",
    "id": "wZNoRrE50JzK"
   },
   "outputs": [],
   "source": [
    "#Limpando linhas vazias\n",
    "dadosTratados = dadosEnem.dropna()\n",
    "  "
   ]
  },
  {
   "cell_type": "code",
   "execution_count": null,
   "metadata": {
    "colab": {
     "base_uri": "https://localhost:8080/",
     "height": 1000
    },
    "colab_type": "code",
    "id": "ViZ0Kg400JzP",
    "outputId": "883d5c62-f9fd-4d5d-bd85-eb26607de131"
   },
   "outputs": [],
   "source": [
    "dadosTratados.info()"
   ]
  },
  {
   "cell_type": "code",
   "execution_count": null,
   "metadata": {
    "colab": {},
    "colab_type": "code",
    "id": "siVTXu_s0JzU"
   },
   "outputs": [],
   "source": [
    "dadosTratados.to_csv(\"MicrodadosMGTratado2018.csv\", encoding='latin1', index=False,sep=';')"
   ]
  },
  {
   "cell_type": "code",
   "execution_count": null,
   "metadata": {
    "colab": {},
    "colab_type": "code",
    "id": "yNfbDFk10Jzb"
   },
   "outputs": [],
   "source": [
    "dadosEnem = pd.read_csv('MicrodadosMGTratado2018.csv',sep=';',encoding='latin1',low_memory=False)"
   ]
  },
  {
   "cell_type": "code",
   "execution_count": null,
   "metadata": {
    "colab": {
     "base_uri": "https://localhost:8080/",
     "height": 218
    },
    "colab_type": "code",
    "id": "eSxZsJt015L8",
    "outputId": "8223e16b-6bfe-4943-a79c-cd53e8ea9212"
   },
   "outputs": [],
   "source": [
    "dadosEnem.head()\n"
   ]
  },
  {
   "cell_type": "code",
   "execution_count": null,
   "metadata": {
    "colab": {
     "base_uri": "https://localhost:8080/",
     "height": 398
    },
    "colab_type": "code",
    "id": "j4AKyjkp17y_",
    "outputId": "fda0b89f-a482-4b01-c866-ab3aa6e93d34"
   },
   "outputs": [],
   "source": [
    "dadosEnem.describe(include='all')\n"
   ]
  },
  {
   "cell_type": "code",
   "execution_count": null,
   "metadata": {
    "colab": {},
    "colab_type": "code",
    "id": "pndINXoZBI2o"
   },
   "outputs": [],
   "source": []
  },
  {
   "cell_type": "markdown",
   "metadata": {
    "colab_type": "text",
    "id": "jk1IwsHCEu8n"
   },
   "source": []
  },
  {
   "cell_type": "code",
   "execution_count": null,
   "metadata": {
    "colab": {
     "base_uri": "https://localhost:8080/",
     "height": 440
    },
    "colab_type": "code",
    "id": "pvuhaI2tL7cA",
    "outputId": "9841694b-df05-4b26-baa0-edd9cd47e8af"
   },
   "outputs": [],
   "source": [
    "contagem_de_questionario = dadosEnem['Q001'].value_counts().to_frame().reset_index()\n",
    "contagem_de_questionario.columns = [\"Respostas\", \"total\"]\n",
    "frequencia = dadosEnem['Q001'].value_counts(normalize=True)\n",
    "\n",
    "#contagem_de_questionario.head()\n",
    "plt.title('Até que série seu pai, ou o homem responsável por você, estudou?')\n",
    "\n",
    "\n",
    "sns.barplot(x=\"Respostas\", y = \"total\", data = contagem_de_questionario)\n",
    "\n",
    "\n",
    "print(\" A Nunca estudou. \\n B Não completou a 4ª série/5º ano do Ensino Fundamental. \\n C Completou a 4ª série/5º ano, mas não completou a 8ª série/9º ano do Ensino Fundamental. \\n D Completou a 8ª série/9º ano do Ensino Fundamental, mas não completou o Ensino Médio. \\n E Completou o Ensino Médio, mas não completou a Faculdade. \\n F Completou a Faculdade, mas não completou a Pós-graduação. \\n G Completou a Pós-graduação. \\n H Não sei.\")\n",
    "\n",
    "\n",
    "\n",
    "\n"
   ]
  },
  {
   "cell_type": "code",
   "execution_count": null,
   "metadata": {
    "colab": {
     "base_uri": "https://localhost:8080/",
     "height": 440
    },
    "colab_type": "code",
    "id": "C4R08LhQLjlY",
    "outputId": "189ab62c-d945-42ed-bece-55b3316023e7"
   },
   "outputs": [],
   "source": [
    "var = 'Q002'\n",
    "contagem_de_questionario = dadosEnem[var].value_counts().to_frame().reset_index()\n",
    "contagem_de_questionario.columns = [\"Respostas\", \"total\"]\n",
    "frequencia = dadosEnem[var].value_counts(normalize=True)\n",
    "\n",
    "plt.title('Até que série seu mãe, ou a mulher responsável por você, estudou?')\n",
    "\n",
    "sns.barplot(x=\"Respostas\", y = \"total\", data = contagem_de_questionario)\n",
    "\n",
    "\n",
    "print(\"A Nunca estudou. \\n B Não completou a 4ª série/5º ano do Ensino Fundamental. \\n C Completou a 4ª série/5º ano, mas não completou a 8ª série/9º ano do Ensino Fundamental. \\n D Completou a 8ª série/9º ano do Ensino Fundamental, mas não completou o Ensino Médio. \\n E Completou o Ensino Médio, mas não completou a Faculdade. \\n F Completou a Faculdade, mas não completou a Pós-graduação. \\n G Completou a Pós-graduação. \\n H Não sei.\")\n",
    "\n",
    "\n",
    "#array = pd.DataFrame(dadosEnem[var].value_counts(normalize=True))\n",
    "#array\n"
   ]
  },
  {
   "cell_type": "code",
   "execution_count": null,
   "metadata": {
    "colab": {
     "base_uri": "https://localhost:8080/",
     "height": 424
    },
    "colab_type": "code",
    "id": "LIhlWUKYN08o",
    "outputId": "aea3c3cb-e4f9-4ca2-e7cf-44d5ec221646"
   },
   "outputs": [],
   "source": [
    "var = 'Q003'\n",
    "contagem_de_questionario = dadosEnem[var].value_counts().to_frame().reset_index()\n",
    "contagem_de_questionario.columns = [\"Respostas\", \"total\"]\n",
    "frequencia = dadosEnem[var].value_counts(normalize=True)\n",
    "\n",
    "plt.title('Profissão do pai')\n",
    "\n",
    "sns.barplot(x=\"Respostas\", y = \"total\", data = contagem_de_questionario)\n",
    "\n",
    "\n",
    "print(\" A) Grupo 1: Lavrador, agricultor sem empregados, boia-fria, criador de animais, apicultor, pescador, lenhador, seringueiro, extrativista.  \\n B) Grupo 2: Diarista, empregado doméstico, cuidador de idosos, babá, cozinheiro (em casas particulares), motorista particular, jardineiro, faxineiro de empresas e prédios, vigilante, porteiro, carteiro, office-boy, vendedor, caixa, atendente de loja, auxiliar administrativo, recepcionista, servente de pedreiro, repositor de mercadoria. \\n C) Grupo 3: Padeiro, cozinheiro industrial ou em restaurantes, sapateiro, costureiro, joalheiro, torneiro mecânico, operador de máquinas, soldador, operário de fábrica, trabalhador da mineração, pedreiro, pintor, eletricista, encanador, motorista, caminhoneiro, taxista. \\n D) Grupo 4: Professor (de ensino fundamental ou médio, idioma, música, artes etc.), técnico (de enfermagem, contabilidade, eletrônica etc.), policial, militar de baixa patente (soldado, cabo, sargento), corretor de imóveis, supervisor, gerente, mestre de obras, pastor, microempresário (proprietário de empresa com menos de 10 empregados), pequeno comerciante, pequeno proprietário de terras, trabalhador autônomo ou por conta própria. \\n E)Grupo 5: Médico, engenheiro, dentista, psicólogo, economista, advogado, juiz, promotor, defensor, delegado, tenente, capitão, coronel, professor universitário, diretor em empresas públicas ou privadas, político, proprietário de empresas com mais de 10 empregados. \\n F) Não sei.\")\n",
    "\n",
    "\n",
    "#array = pd.DataFrame(dadosEnem[var].value_counts(normalize=True))\n",
    "#array\n"
   ]
  },
  {
   "cell_type": "code",
   "execution_count": null,
   "metadata": {
    "colab": {
     "base_uri": "https://localhost:8080/",
     "height": 424
    },
    "colab_type": "code",
    "id": "Q4fHH8M0Oobx",
    "outputId": "ecd83ae4-3657-4a41-d823-1b34de37a5bd"
   },
   "outputs": [],
   "source": [
    "var = 'Q004'\n",
    "contagem_de_questionario = dadosEnem[var].value_counts().to_frame().reset_index()\n",
    "contagem_de_questionario.columns = [\"Respostas\", \"total\"]\n",
    "frequencia = dadosEnem[var].value_counts(normalize=True)\n",
    "\n",
    "plt.title('Profissão da mãe')\n",
    "\n",
    "sns.barplot(x=\"Respostas\", y = \"total\", data = contagem_de_questionario)\n",
    "\n",
    "\n",
    "print(\" A) Grupo 1: Lavrador, agricultor sem empregados, boia-fria, criador de animais, apicultor, pescador, lenhador, seringueiro, extrativista.  \\n B) Grupo 2: Diarista, empregado doméstico, cuidador de idosos, babá, cozinheiro (em casas particulares), motorista particular, jardineiro, faxineiro de empresas e prédios, vigilante, porteiro, carteiro, office-boy, vendedor, caixa, atendente de loja, auxiliar administrativo, recepcionista, servente de pedreiro, repositor de mercadoria. \\n C) Grupo 3: Padeiro, cozinheiro industrial ou em restaurantes, sapateiro, costureiro, joalheiro, torneiro mecânico, operador de máquinas, soldador, operário de fábrica, trabalhador da mineração, pedreiro, pintor, eletricista, encanador, motorista, caminhoneiro, taxista. \\n D) Grupo 4: Professor (de ensino fundamental ou médio, idioma, música, artes etc.), técnico (de enfermagem, contabilidade, eletrônica etc.), policial, militar de baixa patente (soldado, cabo, sargento), corretor de imóveis, supervisor, gerente, mestre de obras, pastor, microempresário (proprietário de empresa com menos de 10 empregados), pequeno comerciante, pequeno proprietário de terras, trabalhador autônomo ou por conta própria. \\n E)Grupo 5: Médico, engenheiro, dentista, psicólogo, economista, advogado, juiz, promotor, defensor, delegado, tenente, capitão, coronel, professor universitário, diretor em empresas públicas ou privadas, político, proprietário de empresas com mais de 10 empregados. \\n F) Não sei.\")\n",
    "\n",
    "\n",
    "#array = pd.DataFrame(dadosEnem[var].value_counts(normalize=True))\n",
    "#array\n"
   ]
  },
  {
   "cell_type": "code",
   "execution_count": null,
   "metadata": {
    "colab": {
     "base_uri": "https://localhost:8080/",
     "height": 576
    },
    "colab_type": "code",
    "id": "eC3CAIIgO-MD",
    "outputId": "e46c3964-9e0b-4910-c28e-ab837e5e3f45"
   },
   "outputs": [],
   "source": [
    "var = 'Q005'\n",
    "df = dadosEnem[var]\n",
    "hist = df.hist(bins=5)\n",
    "hist.set_xlim((0,12))\n",
    "plt.title('Incluindo você, quantas pessoas moram atualmente em sua residência?')\n",
    "plt.xlabel('Quantidade')\n",
    "plt.ylabel('Frequência')\n",
    "hist\n",
    "plt.show()\n",
    "\n",
    "sns.distplot(df)\n",
    "\n"
   ]
  },
  {
   "cell_type": "code",
   "execution_count": null,
   "metadata": {
    "colab": {
     "base_uri": "https://localhost:8080/",
     "height": 622
    },
    "colab_type": "code",
    "id": "i5q75whtPc3Y",
    "outputId": "5ff0c8f7-e5d0-4a75-e184-7128b1214d50"
   },
   "outputs": [],
   "source": [
    "var = \"Q006\"\n",
    "contagem_de_questionario = dadosEnem[var].value_counts().to_frame().reset_index()\n",
    "contagem_de_questionario.columns = [\"Respostas\", \"total\"]\n",
    "frequencia = dadosEnem[var].value_counts(normalize=True)\n",
    "\n",
    "plt.title('Renda Mensal da Família')\n",
    "\n",
    "sns.barplot(x=\"Respostas\", y = \"total\", data = contagem_de_questionario)\n",
    "\n",
    "print(\" A:Nenhuma renda. \\n B:Até R$ 937,00. \\n C:De R$ 937,01 até R$ 1.405,50. \\n D:De R$ 1.405,51 até R$ 1.874,00. \\n E:De R$ 1.874,01 até R$ 2.342,50. \\n F:De R$ 2.342,51 até R$ 2.811,00. \\n G:De R$ 2.811,01 até R$ 3.748,00. \\n H:De R$ 3.748,01 até R$ 4.685,00. \\n I:De R$ 4.685,01 até R$ 5.622,00. \\n J:De R$ 5.622,01 até R$ 6.559,00. \\n K:De R$ 6.559,01 até R$ 7.496,00. \\n L:De R$ 7.496,01 até R$ 8.433,00. \\n M:De R$ 8.433,01 até R$ 9.370,00. \\n N:De R$ 9.370,01 até R$ 11.244,00. \\n O:De R$ 11.244,01 até R$ 14.055,00. \\n P:De R$ 14.055,01 até R$ 18.740,00. \\n Q:Mais de R$ 18.740,00. \\n\" ) \n",
    "\n",
    "array = pd.DataFrame(dadosEnem[var].value_counts())\n",
    "array2 = pd.DataFrame(dadosEnem[var].value_counts(normalize=True) * 100)\n",
    "array['Porcentagem (%)'] = array2\n",
    "array\n"
   ]
  },
  {
   "cell_type": "code",
   "execution_count": null,
   "metadata": {
    "colab": {
     "base_uri": "https://localhost:8080/",
     "height": 575
    },
    "colab_type": "code",
    "id": "5iNr7ccWQw0j",
    "outputId": "4eb377f2-9237-4e1a-d38e-38343032560d"
   },
   "outputs": [],
   "source": [
    "dados_C = dadosEnem.query(\"Q006 == 'C'\")\n",
    "var = 'Q005'\n",
    "df = dados_C[var]\n",
    "hist = df.hist(bins=6)\n",
    "hist.set_xlim((0,12))\n",
    "plt.title('Incluindo você, quantas pessoas moram atualmente em sua residência?')\n",
    "plt.xlabel('Quantidade')\n",
    "plt.ylabel('Frequência')\n",
    "hist\n",
    "plt.show()\n",
    "\n",
    "sns.distplot(df)\n",
    "\n"
   ]
  },
  {
   "cell_type": "code",
   "execution_count": null,
   "metadata": {
    "colab": {},
    "colab_type": "code",
    "id": "2ZWVHaOiTFWj"
   },
   "outputs": [],
   "source": []
  },
  {
   "cell_type": "code",
   "execution_count": null,
   "metadata": {
    "colab": {},
    "colab_type": "code",
    "id": "Y2CjThJ0XSn_"
   },
   "outputs": [],
   "source": []
  },
  {
   "cell_type": "markdown",
   "metadata": {
    "colab_type": "text",
    "id": "PACvEUFbb2Ep"
   },
   "source": [
    "# O que foi feito?\n",
    "\n",
    "\n",
    "\n",
    "1.   Análise das bases de dados públicas e ficou decidido que inicialmente iriamos focar nos dados do Enem de Minas Gerais.\n",
    "2.   Análise exploratória dos dados do Enem 2017 ( Microdados_Enem_Aluno e Microdados_Enem_Escola)\n",
    "3.   Busca sobre trabalhos relacionados a clusterização e trabalhos sobre mineração de dados do enem\n",
    "4.  Surgiu a intenção de relacionar os alunos com a proximidade à Instituições de Ensino Superior Públicas (IESP) e enriquecer a base com dados das cidades de MG.\n",
    "5. Para saber quais cidades possuiam um IESP o Stênio forneceu uma base. Entretanto, essa base não incluia todos os Campi das IESP, acredito eu só tinha as sedes das instituições. Para conseguir quais cidades possuiam um Campus de uma IESP fui na base do Enade.\n",
    "6. Para saber mais informações da cidades tenho duas bases:\n",
    " uma mais simples que tem a estimativa da população e alguns dados\n",
    "    1. Estimativas de população enviadas ao TCU (DTB_MG_POP)\n",
    "    1. PIB dos Munícipios (DTB_MG_PIB) \n",
    "\n",
    "\n",
    "    #Datasets\n",
    "\n",
    "|          Nome          | Fonte |  Ano |                        Observações                        | Linhas | Colunas |\n",
    "|:----------------------:|:-----:|:----:|:---------------------------------------------------------:|:------:|:-------:|\n",
    "|  Microdados_Enem_Aluno |  Inep | 2017 |        Algumas Colunas Foram retiradas da Original        | 177552 |    67   |\n",
    "| Microdados_Enem_Escola |  Inep | 2017 |        Algumas Colunas Foram retiradas da Original        |  1185  |    27   |\n",
    "|       DTB_MG_POP       |  IBGE | 2017 | Adicionada coluna possui_IESP a partir da base Enade 2017 |   854  |    9    |\n",
    "|       DTB_MG_PIB       |  IBGE | 2017 |      Falta limpar algumas colunas \"estranhas\" da base     |   854  |    83   |\n",
    "\n"
   ]
  }
 ],
 "metadata": {
  "colab": {
   "collapsed_sections": [],
   "name": "TratandoDadosEnem.ipynb",
   "provenance": [],
   "toc_visible": true
  },
  "hide_input": false,
  "kernelspec": {
   "display_name": "Python 3",
   "language": "python",
   "name": "python3"
  },
  "language_info": {
   "codemirror_mode": {
    "name": "ipython",
    "version": 3
   },
   "file_extension": ".py",
   "mimetype": "text/x-python",
   "name": "python",
   "nbconvert_exporter": "python",
   "pygments_lexer": "ipython3",
   "version": "3.7.6"
  }
 },
 "nbformat": 4,
 "nbformat_minor": 1
}
