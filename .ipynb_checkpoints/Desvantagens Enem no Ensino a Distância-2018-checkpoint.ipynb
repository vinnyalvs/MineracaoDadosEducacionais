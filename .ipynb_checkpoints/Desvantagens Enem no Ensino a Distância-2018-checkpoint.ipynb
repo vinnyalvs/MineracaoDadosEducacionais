{
 "cells": [
  {
   "cell_type": "code",
   "execution_count": 1,
   "metadata": {},
   "outputs": [],
   "source": [
    "import pandas as pd\n",
    "import numpy as np\n",
    "import seaborn as sns\n",
    "import matplotlib.pyplot as plt\n",
    "\n"
   ]
  },
  {
   "cell_type": "code",
   "execution_count": 2,
   "metadata": {},
   "outputs": [],
   "source": [
    "path = \"C:\\\\Users\\\\vinic\\\\Documents\\\\GitHub\\\\Enem\\\\2018\\\\Microdados_2018_MG_Tratado.csv\"\n",
    "\n"
   ]
  },
  {
   "cell_type": "code",
   "execution_count": 3,
   "metadata": {},
   "outputs": [],
   "source": [
    "dadosEnem = pd.read_csv(path,sep=';',encoding='latin1',low_memory=False)"
   ]
  },
  {
   "cell_type": "code",
   "execution_count": 4,
   "metadata": {},
   "outputs": [],
   "source": [
    "#dadosEnem.info()"
   ]
  },
  {
   "cell_type": "code",
   "execution_count": 5,
   "metadata": {},
   "outputs": [
    {
     "name": "stdout",
     "output_type": "stream",
     "text": [
      " A\tNão.\n",
      " B\tSim, um.\n",
      " C\tSim, dois.\n",
      " D\tSim, três.\n",
      " E\tSim, quatro ou mais.\n"
     ]
    },
    {
     "data": {
      "image/png": "[encoded data removed]",
      "text/plain": [
       "<Figure size 432x288 with 1 Axes>"
      ]
     },
     "metadata": {
      "needs_background": "light"
     },
     "output_type": "display_data"
    }
   ],
   "source": [
    "var = \"Q022\"\n",
    "contagem_de_questionario = dadosEnem[var].value_counts().to_frame().reset_index()\n",
    "contagem_de_questionario.columns = [\"Respostas\", \"total\"]\n",
    "frequencia = dadosEnem[var].value_counts(normalize=True)\n",
    "\n",
    "plt.title('Na sua casa tem telefone celular?')\n",
    "\n",
    "sns.barplot(x=\"Respostas\", y = \"total\", data = contagem_de_questionario)\n",
    "\n",
    "print(\" A\tNão.\\n B\tSim, um.\\n C\tSim, dois.\\n D\tSim, três.\\n E\tSim, quatro ou mais.\")\n",
    "\n"
   ]
  },
  {
   "cell_type": "code",
   "execution_count": 6,
   "metadata": {},
   "outputs": [
    {
     "name": "stdout",
     "output_type": "stream",
     "text": [
      " A\tNão.\n",
      " B\tSim, um.\n",
      " C\tSim, dois.\n",
      " D\tSim, três.\n",
      " E\tSim, quatro ou mais.\n"
     ]
    },
    {
     "data": {
      "image/png": "[encoded data removed]",
      "text/plain": [
       "<Figure size 432x288 with 1 Axes>"
      ]
     },
     "metadata": {
      "needs_background": "light"
     },
     "output_type": "display_data"
    }
   ],
   "source": [
    "var = \"Q024\"\n",
    "contagem_de_questionario = dadosEnem[var].value_counts().to_frame().reset_index()\n",
    "contagem_de_questionario.columns = [\"Respostas\", \"total\"]\n",
    "frequencia = dadosEnem[var].value_counts(normalize=True)\n",
    "\n",
    "plt.title('Na sua casa tem acesso a computador?')\n",
    "\n",
    "sns.barplot(x=\"Respostas\", y = \"total\", data = contagem_de_questionario)\n",
    "\n",
    "print(\" A\tNão.\\n B\tSim, um.\\n C\tSim, dois.\\n D\tSim, três.\\n E\tSim, quatro ou mais.\")\n",
    "\n"
   ]
  },
  {
   "cell_type": "code",
   "execution_count": 7,
   "metadata": {},
   "outputs": [
    {
     "name": "stdout",
     "output_type": "stream",
     "text": [
      " A\tNão.\n",
      " B\tSim\n"
     ]
    },
    {
     "data": {
      "image/png": "[encoded data removed]",
      "text/plain": [
       "<Figure size 432x288 with 1 Axes>"
      ]
     },
     "metadata": {
      "needs_background": "light"
     },
     "output_type": "display_data"
    }
   ],
   "source": [
    "var = \"Q025\"\n",
    "contagem_de_questionario = dadosEnem[var].value_counts().to_frame().reset_index()\n",
    "contagem_de_questionario.columns = [\"Respostas\", \"total\"]\n",
    "frequencia = dadosEnem[var].value_counts(normalize=True)\n",
    "\n",
    "plt.title('Na sua casa tem acesso a internet?')\n",
    "\n",
    "sns.barplot(x=\"Respostas\", y = \"total\", data = contagem_de_questionario)\n",
    "\n",
    "print(\" A\tNão.\\n B\tSim\")\n",
    "\n"
   ]
  },
  {
   "cell_type": "markdown",
   "metadata": {},
   "source": [
    "# Analisando Escola Públicas\n"
   ]
  },
  {
   "cell_type": "code",
   "execution_count": null,
   "metadata": {},
   "outputs": [],
   "source": []
  },
  {
   "cell_type": "code",
   "execution_count": 8,
   "metadata": {},
   "outputs": [],
   "source": [
    "#tipo_escola = dadosEnem['TP_ESCOLA'].value_counts().to_frame().reset_index()\n",
    "#tipo_escola.columns = [\"Tipo Escola\", \"total\"]\n",
    "\n",
    "\n",
    "#plt.title('Tipo de Escola')\n",
    "\n",
    "#sns.barplot(x=\"Tipo Escola\", y = \"total\", data = tipo_escola)\n",
    "\n",
    "#print(\" 1\tNão Respondeu \\n 2\tPública \\n 3\tPrivada \\n 4\tExterior\")\n"
   ]
  },
  {
   "cell_type": "code",
   "execution_count": 9,
   "metadata": {},
   "outputs": [],
   "source": [
    "#tipo = dadosEnem['TP_ESCOLA'].value_counts().index\n",
    "#frequencia = dadosEnem['TP_ESCOLA'].value_counts().values\n",
    "#tipo, frequencia\n",
    "#plt.pie(x=frequencia, labels=tipo, autopct='%2.2f%%',shadow=True, startangle=90)\n",
    "#plt.ylabel('Tipo de Escola')\n",
    "#plt.show()\n",
    "\n",
    "#array = pd.DataFrame(dadosEnem['TP_ESCOLA'].value_counts())\n",
    "#array2 = pd.DataFrame(dadosEnem['TP_ESCOLA'].value_counts(normalize=True))\n",
    "#array['TP_ESCOLA_Normalizado'] = array2\n",
    "#array\n",
    "\n",
    "#print(\" 1\tNão Respondeu \\n 2\tPública \\n 3\tPrivada \\n 4\tExterior \")"
   ]
  },
  {
   "cell_type": "code",
   "execution_count": 10,
   "metadata": {},
   "outputs": [],
   "source": [
    "dadosEscolaPublica = dadosEnem.query(\"TP_ESCOLA == 2\")"
   ]
  },
  {
   "cell_type": "code",
   "execution_count": 11,
   "metadata": {},
   "outputs": [
    {
     "name": "stdout",
     "output_type": "stream",
     "text": [
      "Total de participantes de escola pública: 80555\n"
     ]
    }
   ],
   "source": [
    "print(\"Total de participantes de escola pública:\",dadosEscolaPublica.shape[0])"
   ]
  },
  {
   "cell_type": "code",
   "execution_count": null,
   "metadata": {},
   "outputs": [],
   "source": []
  },
  {
   "cell_type": "markdown",
   "metadata": {},
   "source": [
    "# Acesso a Internet"
   ]
  },
  {
   "cell_type": "code",
   "execution_count": 12,
   "metadata": {},
   "outputs": [
    {
     "name": "stdout",
     "output_type": "stream",
     "text": [
      " A\tNão.\n",
      " B\tSim\n"
     ]
    },
    {
     "data": {
      "image/png": "[encoded data removed]",
      "text/plain": [
       "<Figure size 432x288 with 1 Axes>"
      ]
     },
     "metadata": {
      "needs_background": "light"
     },
     "output_type": "display_data"
    }
   ],
   "source": [
    "var = \"Q025\"\n",
    "contagem_de_questionario = dadosEscolaPublica[var].value_counts().to_frame().reset_index()\n",
    "contagem_de_questionario.columns = [\"Respostas\", \"total\"]\n",
    "frequencia = dadosEscolaPublica[var].value_counts().values\n",
    "\n",
    "\n",
    "plt.title('Na sua casa tem acesso a internet?')\n",
    "\n",
    "sns.barplot(x=\"Respostas\", y = \"total\", data = contagem_de_questionario)\n",
    "\n",
    "print(\" A\tNão.\\n B\tSim\")\n"
   ]
  },
  {
   "cell_type": "code",
   "execution_count": 13,
   "metadata": {},
   "outputs": [],
   "source": [
    "dados_Internet = dadosEscolaPublica.query(\"Q025 == 'B'\") "
   ]
  },
  {
   "cell_type": "code",
   "execution_count": 14,
   "metadata": {},
   "outputs": [
    {
     "name": "stdout",
     "output_type": "stream",
     "text": [
      " A\tNão.\n",
      " B\tSim, um.\n",
      " C\tSim, dois.\n",
      " D\tSim, três.\n",
      " E\tSim, quatro ou mais.\n"
     ]
    },
    {
     "data": {
      "text/html": [
       "<div>\n",
       "<style scoped>\n",
       "    .dataframe tbody tr th:only-of-type {\n",
       "        vertical-align: middle;\n",
       "    }\n",
       "\n",
       "    .dataframe tbody tr th {\n",
       "        vertical-align: top;\n",
       "    }\n",
       "\n",
       "    .dataframe thead th {\n",
       "        text-align: right;\n",
       "    }\n",
       "</style>\n",
       "<table border=\"1\" class=\"dataframe\">\n",
       "  <thead>\n",
       "    <tr style=\"text-align: right;\">\n",
       "      <th></th>\n",
       "      <th>Q024</th>\n",
       "      <th>Porcentagem (%)</th>\n",
       "    </tr>\n",
       "  </thead>\n",
       "  <tbody>\n",
       "    <tr>\n",
       "      <th>B</th>\n",
       "      <td>40743</td>\n",
       "      <td>65.018192</td>\n",
       "    </tr>\n",
       "    <tr>\n",
       "      <th>A</th>\n",
       "      <td>16423</td>\n",
       "      <td>26.208030</td>\n",
       "    </tr>\n",
       "    <tr>\n",
       "      <th>C</th>\n",
       "      <td>4518</td>\n",
       "      <td>7.209881</td>\n",
       "    </tr>\n",
       "    <tr>\n",
       "      <th>D</th>\n",
       "      <td>778</td>\n",
       "      <td>1.241542</td>\n",
       "    </tr>\n",
       "    <tr>\n",
       "      <th>E</th>\n",
       "      <td>202</td>\n",
       "      <td>0.322354</td>\n",
       "    </tr>\n",
       "  </tbody>\n",
       "</table>\n",
       "</div>"
      ],
      "text/plain": [
       "    Q024  Porcentagem (%)\n",
       "B  40743        65.018192\n",
       "A  16423        26.208030\n",
       "C   4518         7.209881\n",
       "D    778         1.241542\n",
       "E    202         0.322354"
      ]
     },
     "execution_count": 14,
     "metadata": {},
     "output_type": "execute_result"
    },
    {
     "data": {
      "image/png": "[encoded data removed]",
      "text/plain": [
       "<Figure size 432x288 with 1 Axes>"
      ]
     },
     "metadata": {
      "needs_background": "light"
     },
     "output_type": "display_data"
    }
   ],
   "source": [
    "var = \"Q024\"\n",
    "contagem_de_questionario = dados_Internet[var].value_counts().to_frame().reset_index()\n",
    "contagem_de_questionario.columns = [\"Respostas\", \"total\"]\n",
    "\n",
    "\n",
    "plt.title('Na sua casa tem acesso a computador?')\n",
    "\n",
    "sns.barplot(x=\"Respostas\", y = \"total\", data = contagem_de_questionario)\n",
    "\n",
    "print(\" A\tNão.\\n B\tSim, um.\\n C\tSim, dois.\\n D\tSim, três.\\n E\tSim, quatro ou mais.\")\n",
    "\n",
    "array = pd.DataFrame(dados_Internet[var].value_counts())\n",
    "array2 = pd.DataFrame(dados_Internet[var].value_counts(normalize=True) * 100)\n",
    "array['Porcentagem (%)'] = array2\n",
    "array\n"
   ]
  },
  {
   "cell_type": "code",
   "execution_count": 15,
   "metadata": {},
   "outputs": [
    {
     "data": {
      "text/plain": [
       "pandas.core.frame.DataFrame"
      ]
     },
     "execution_count": 15,
     "metadata": {},
     "output_type": "execute_result"
    }
   ],
   "source": [
    "type(contagem_de_questionario)"
   ]
  },
  {
   "cell_type": "code",
   "execution_count": 16,
   "metadata": {},
   "outputs": [
    {
     "data": {
      "image/png": "[encoded data removed]",
      "text/plain": [
       "<Figure size 432x288 with 1 Axes>"
      ]
     },
     "metadata": {},
     "output_type": "display_data"
    },
    {
     "name": "stdout",
     "output_type": "stream",
     "text": [
      " A\tNão.\n",
      " B\tSim, um.\n",
      " C\tSim, dois.\n",
      " D\tSim, três.\n",
      " E\tSim, quatro ou mais.\n"
     ]
    },
    {
     "data": {
      "text/html": [
       "<div>\n",
       "<style scoped>\n",
       "    .dataframe tbody tr th:only-of-type {\n",
       "        vertical-align: middle;\n",
       "    }\n",
       "\n",
       "    .dataframe tbody tr th {\n",
       "        vertical-align: top;\n",
       "    }\n",
       "\n",
       "    .dataframe thead th {\n",
       "        text-align: right;\n",
       "    }\n",
       "</style>\n",
       "<table border=\"1\" class=\"dataframe\">\n",
       "  <thead>\n",
       "    <tr style=\"text-align: right;\">\n",
       "      <th></th>\n",
       "      <th>Q024</th>\n",
       "      <th>Porcentagem (%)</th>\n",
       "    </tr>\n",
       "  </thead>\n",
       "  <tbody>\n",
       "    <tr>\n",
       "      <th>B</th>\n",
       "      <td>40743</td>\n",
       "      <td>65.018192</td>\n",
       "    </tr>\n",
       "    <tr>\n",
       "      <th>A</th>\n",
       "      <td>16423</td>\n",
       "      <td>26.208030</td>\n",
       "    </tr>\n",
       "    <tr>\n",
       "      <th>C</th>\n",
       "      <td>4518</td>\n",
       "      <td>7.209881</td>\n",
       "    </tr>\n",
       "    <tr>\n",
       "      <th>D</th>\n",
       "      <td>778</td>\n",
       "      <td>1.241542</td>\n",
       "    </tr>\n",
       "    <tr>\n",
       "      <th>E</th>\n",
       "      <td>202</td>\n",
       "      <td>0.322354</td>\n",
       "    </tr>\n",
       "  </tbody>\n",
       "</table>\n",
       "</div>"
      ],
      "text/plain": [
       "    Q024  Porcentagem (%)\n",
       "B  40743        65.018192\n",
       "A  16423        26.208030\n",
       "C   4518         7.209881\n",
       "D    778         1.241542\n",
       "E    202         0.322354"
      ]
     },
     "execution_count": 16,
     "metadata": {},
     "output_type": "execute_result"
    }
   ],
   "source": [
    "var = \"Q024\"\n",
    "tipo = dados_Internet[var].value_counts().index\n",
    "frequencia = dados_Internet[var].value_counts().values\n",
    "tipo, frequencia\n",
    "plt.pie(x=frequencia, labels=tipo, autopct='%2.2f%%',shadow=True, startangle=90)\n",
    "plt.title('Na sua casa tem acesso a computador?')\n",
    "plt.show()\n",
    "\n",
    "print(\" A\tNão.\\n B\tSim, um.\\n C\tSim, dois.\\n D\tSim, três.\\n E\tSim, quatro ou mais.\")\n",
    "\n",
    "array = pd.DataFrame(dados_Internet[var].value_counts())\n",
    "array2 = pd.DataFrame(dados_Internet[var].value_counts(normalize=True) * 100)\n",
    "array['Porcentagem (%)'] = array2\n",
    "array"
   ]
  },
  {
   "cell_type": "code",
   "execution_count": 17,
   "metadata": {},
   "outputs": [
    {
     "data": {
      "image/png": "[encoded data removed]",
      "text/plain": [
       "<Figure size 432x288 with 1 Axes>"
      ]
     },
     "metadata": {},
     "output_type": "display_data"
    },
    {
     "data": {
      "text/html": [
       "<div>\n",
       "<style scoped>\n",
       "    .dataframe tbody tr th:only-of-type {\n",
       "        vertical-align: middle;\n",
       "    }\n",
       "\n",
       "    .dataframe tbody tr th {\n",
       "        vertical-align: top;\n",
       "    }\n",
       "\n",
       "    .dataframe thead th {\n",
       "        text-align: right;\n",
       "    }\n",
       "</style>\n",
       "<table border=\"1\" class=\"dataframe\">\n",
       "  <thead>\n",
       "    <tr style=\"text-align: right;\">\n",
       "      <th></th>\n",
       "      <th>Q025</th>\n",
       "      <th>Porcentagem (%)</th>\n",
       "    </tr>\n",
       "  </thead>\n",
       "  <tbody>\n",
       "    <tr>\n",
       "      <th>B</th>\n",
       "      <td>62664</td>\n",
       "      <td>77.79033</td>\n",
       "    </tr>\n",
       "    <tr>\n",
       "      <th>A</th>\n",
       "      <td>17891</td>\n",
       "      <td>22.20967</td>\n",
       "    </tr>\n",
       "  </tbody>\n",
       "</table>\n",
       "</div>"
      ],
      "text/plain": [
       "    Q025  Porcentagem (%)\n",
       "B  62664         77.79033\n",
       "A  17891         22.20967"
      ]
     },
     "execution_count": 17,
     "metadata": {},
     "output_type": "execute_result"
    }
   ],
   "source": [
    "var = \"Q025\"\n",
    "tipo = dadosEscolaPublica[var].value_counts().index\n",
    "frequencia = dadosEscolaPublica[var].value_counts().values\n",
    "tipo, frequencia\n",
    "plt.pie(x=frequencia, labels=['Sim','Não'], autopct='%2.2f%%',shadow=True, startangle=90)\n",
    "plt.title('Na sua casa tem acesso a internet?')\n",
    "plt.show()\n",
    "\n",
    "\n",
    "array = pd.DataFrame(dadosEscolaPublica[var].value_counts())\n",
    "array2 = pd.DataFrame(dadosEscolaPublica[var].value_counts(normalize=True) * 100)\n",
    "array['Porcentagem (%)'] = array2\n",
    "array"
   ]
  },
  {
   "cell_type": "code",
   "execution_count": 18,
   "metadata": {},
   "outputs": [
    {
     "data": {
      "text/plain": [
       "Index(['B', 'A'], dtype='object')"
      ]
     },
     "execution_count": 18,
     "metadata": {},
     "output_type": "execute_result"
    }
   ],
   "source": [
    "tipo"
   ]
  },
  {
   "cell_type": "markdown",
   "metadata": {},
   "source": [
    "# Acesso a Computador"
   ]
  },
  {
   "cell_type": "code",
   "execution_count": 19,
   "metadata": {},
   "outputs": [
    {
     "name": "stdout",
     "output_type": "stream",
     "text": [
      " A\tNão.\n",
      " B\tSim, um.\n",
      " C\tSim, dois.\n",
      " D\tSim, três.\n",
      " E\tSim, quatro ou mais.\n"
     ]
    },
    {
     "data": {
      "text/html": [
       "<div>\n",
       "<style scoped>\n",
       "    .dataframe tbody tr th:only-of-type {\n",
       "        vertical-align: middle;\n",
       "    }\n",
       "\n",
       "    .dataframe tbody tr th {\n",
       "        vertical-align: top;\n",
       "    }\n",
       "\n",
       "    .dataframe thead th {\n",
       "        text-align: right;\n",
       "    }\n",
       "</style>\n",
       "<table border=\"1\" class=\"dataframe\">\n",
       "  <thead>\n",
       "    <tr style=\"text-align: right;\">\n",
       "      <th></th>\n",
       "      <th>Q024</th>\n",
       "      <th>Porcentagem (%)</th>\n",
       "    </tr>\n",
       "  </thead>\n",
       "  <tbody>\n",
       "    <tr>\n",
       "      <th>B</th>\n",
       "      <td>43798</td>\n",
       "      <td>54.370306</td>\n",
       "    </tr>\n",
       "    <tr>\n",
       "      <th>A</th>\n",
       "      <td>31139</td>\n",
       "      <td>38.655577</td>\n",
       "    </tr>\n",
       "    <tr>\n",
       "      <th>C</th>\n",
       "      <td>4614</td>\n",
       "      <td>5.727764</td>\n",
       "    </tr>\n",
       "    <tr>\n",
       "      <th>D</th>\n",
       "      <td>794</td>\n",
       "      <td>0.985662</td>\n",
       "    </tr>\n",
       "    <tr>\n",
       "      <th>E</th>\n",
       "      <td>210</td>\n",
       "      <td>0.260691</td>\n",
       "    </tr>\n",
       "  </tbody>\n",
       "</table>\n",
       "</div>"
      ],
      "text/plain": [
       "    Q024  Porcentagem (%)\n",
       "B  43798        54.370306\n",
       "A  31139        38.655577\n",
       "C   4614         5.727764\n",
       "D    794         0.985662\n",
       "E    210         0.260691"
      ]
     },
     "execution_count": 19,
     "metadata": {},
     "output_type": "execute_result"
    },
    {
     "data": {
      "image/png": "[encoded data removed]",
      "text/plain": [
       "<Figure size 432x288 with 1 Axes>"
      ]
     },
     "metadata": {
      "needs_background": "light"
     },
     "output_type": "display_data"
    }
   ],
   "source": [
    "var = \"Q024\"\n",
    "contagem_de_questionario = dadosEscolaPublica[var].value_counts().to_frame().reset_index()\n",
    "contagem_de_questionario.columns = [\"Respostas\", \"total\"]\n",
    "\n",
    "\n",
    "plt.title('Na sua casa tem acesso a computador?')\n",
    "\n",
    "sns.barplot(x=\"Respostas\", y = \"total\", data = contagem_de_questionario)\n",
    "\n",
    "print(\" A\tNão.\\n B\tSim, um.\\n C\tSim, dois.\\n D\tSim, três.\\n E\tSim, quatro ou mais.\")\n",
    "\n",
    "array = pd.DataFrame(dadosEscolaPublica[var].value_counts())\n",
    "array2 = pd.DataFrame(dadosEscolaPublica[var].value_counts(normalize=True) * 100)\n",
    "array['Porcentagem (%)'] = array2\n",
    "array\n"
   ]
  },
  {
   "cell_type": "markdown",
   "metadata": {},
   "source": [
    "# Acesso a telefone Celular"
   ]
  },
  {
   "cell_type": "code",
   "execution_count": 20,
   "metadata": {},
   "outputs": [
    {
     "name": "stdout",
     "output_type": "stream",
     "text": [
      " A\tNão.\n",
      " B\tSim, um.\n",
      " C\tSim, dois.\n",
      " D\tSim, três.\n",
      " E\tSim, quatro ou mais.\n"
     ]
    },
    {
     "data": {
      "image/png": "[encoded data removed]",
      "text/plain": [
       "<Figure size 432x288 with 1 Axes>"
      ]
     },
     "metadata": {
      "needs_background": "light"
     },
     "output_type": "display_data"
    }
   ],
   "source": [
    "var = \"Q022\"\n",
    "contagem_de_questionario = dadosEscolaPublica[var].value_counts().to_frame().reset_index()\n",
    "contagem_de_questionario.columns = [\"Respostas\", \"total\"]\n",
    "frequencia = dadosEscolaPublica[var].value_counts(normalize=True)\n",
    "\n",
    "plt.title('Na sua casa tem telefone celular?')\n",
    "\n",
    "sns.barplot(x=\"Respostas\", y = \"total\", data = contagem_de_questionario)\n",
    "\n",
    "print(\" A\tNão.\\n B\tSim, um.\\n C\tSim, dois.\\n D\tSim, três.\\n E\tSim, quatro ou mais.\")"
   ]
  },
  {
   "cell_type": "code",
   "execution_count": 21,
   "metadata": {},
   "outputs": [
    {
     "data": {
      "image/png": "[encoded data removed]",
      "text/plain": [
       "<Figure size 432x288 with 1 Axes>"
      ]
     },
     "metadata": {},
     "output_type": "display_data"
    },
    {
     "data": {
      "text/html": [
       "<div>\n",
       "<style scoped>\n",
       "    .dataframe tbody tr th:only-of-type {\n",
       "        vertical-align: middle;\n",
       "    }\n",
       "\n",
       "    .dataframe tbody tr th {\n",
       "        vertical-align: top;\n",
       "    }\n",
       "\n",
       "    .dataframe thead th {\n",
       "        text-align: right;\n",
       "    }\n",
       "</style>\n",
       "<table border=\"1\" class=\"dataframe\">\n",
       "  <thead>\n",
       "    <tr style=\"text-align: right;\">\n",
       "      <th></th>\n",
       "      <th>Q022</th>\n",
       "      <th>Porcentagem (%)</th>\n",
       "    </tr>\n",
       "  </thead>\n",
       "  <tbody>\n",
       "    <tr>\n",
       "      <th>D</th>\n",
       "      <td>25785</td>\n",
       "      <td>32.009186</td>\n",
       "    </tr>\n",
       "    <tr>\n",
       "      <th>C</th>\n",
       "      <td>23772</td>\n",
       "      <td>29.510272</td>\n",
       "    </tr>\n",
       "    <tr>\n",
       "      <th>E</th>\n",
       "      <td>16662</td>\n",
       "      <td>20.684005</td>\n",
       "    </tr>\n",
       "    <tr>\n",
       "      <th>B</th>\n",
       "      <td>13075</td>\n",
       "      <td>16.231146</td>\n",
       "    </tr>\n",
       "    <tr>\n",
       "      <th>A</th>\n",
       "      <td>1261</td>\n",
       "      <td>1.565390</td>\n",
       "    </tr>\n",
       "  </tbody>\n",
       "</table>\n",
       "</div>"
      ],
      "text/plain": [
       "    Q022  Porcentagem (%)\n",
       "D  25785        32.009186\n",
       "C  23772        29.510272\n",
       "E  16662        20.684005\n",
       "B  13075        16.231146\n",
       "A   1261         1.565390"
      ]
     },
     "execution_count": 21,
     "metadata": {},
     "output_type": "execute_result"
    }
   ],
   "source": [
    "var = \"Q022\"\n",
    "tipo = dadosEscolaPublica[var].value_counts().index\n",
    "frequencia = dadosEscolaPublica[var].value_counts().values\n",
    "tipo, frequencia\n",
    "plt.pie(x=frequencia, labels=tipo, autopct='%2.2f%%',shadow=True, startangle=90)\n",
    "plt.ylabel('Na sua casa tem telefone celular?')\n",
    "plt.show()\n",
    "\n",
    "\n",
    "array = pd.DataFrame(dadosEscolaPublica[var].value_counts())\n",
    "array2 = pd.DataFrame(dadosEscolaPublica[var].value_counts(normalize=True) * 100)\n",
    "array['Porcentagem (%)'] = array2\n",
    "array"
   ]
  },
  {
   "cell_type": "code",
   "execution_count": 22,
   "metadata": {},
   "outputs": [
    {
     "data": {
      "image/png": "[encoded data removed]",
      "text/plain": [
       "<Figure size 432x288 with 1 Axes>"
      ]
     },
     "metadata": {},
     "output_type": "display_data"
    },
    {
     "name": "stdout",
     "output_type": "stream",
     "text": [
      " 1 - Urbano \n",
      " 2 - Rural\n"
     ]
    },
    {
     "data": {
      "text/html": [
       "<div>\n",
       "<style scoped>\n",
       "    .dataframe tbody tr th:only-of-type {\n",
       "        vertical-align: middle;\n",
       "    }\n",
       "\n",
       "    .dataframe tbody tr th {\n",
       "        vertical-align: top;\n",
       "    }\n",
       "\n",
       "    .dataframe thead th {\n",
       "        text-align: right;\n",
       "    }\n",
       "</style>\n",
       "<table border=\"1\" class=\"dataframe\">\n",
       "  <thead>\n",
       "    <tr style=\"text-align: right;\">\n",
       "      <th></th>\n",
       "      <th>TP_LOCALIZACAO_ESC</th>\n",
       "      <th>Porcentagem (%)</th>\n",
       "    </tr>\n",
       "  </thead>\n",
       "  <tbody>\n",
       "    <tr>\n",
       "      <th>1.0</th>\n",
       "      <td>79390</td>\n",
       "      <td>98.553783</td>\n",
       "    </tr>\n",
       "    <tr>\n",
       "      <th>2.0</th>\n",
       "      <td>1165</td>\n",
       "      <td>1.446217</td>\n",
       "    </tr>\n",
       "  </tbody>\n",
       "</table>\n",
       "</div>"
      ],
      "text/plain": [
       "     TP_LOCALIZACAO_ESC  Porcentagem (%)\n",
       "1.0               79390        98.553783\n",
       "2.0                1165         1.446217"
      ]
     },
     "execution_count": 22,
     "metadata": {},
     "output_type": "execute_result"
    }
   ],
   "source": [
    "var = \"TP_LOCALIZACAO_ESC\"\n",
    "tipo = dadosEscolaPublica[var].value_counts().index\n",
    "frequencia = dadosEscolaPublica[var].value_counts().values\n",
    "tipo, frequencia\n",
    "plt.pie(x=frequencia, labels=tipo, autopct='%2.2f%%',shadow=True, startangle=90)\n",
    "plt.ylabel('Localização da Escola')\n",
    "plt.show()\n",
    "\n",
    "print(\" 1 - Urbano \\n 2 - Rural\")\n",
    "\n",
    "array = pd.DataFrame(dadosEscolaPublica[var].value_counts())\n",
    "array2 = pd.DataFrame(dadosEscolaPublica[var].value_counts(normalize=True) * 100)\n",
    "array['Porcentagem (%)'] = array2\n",
    "array"
   ]
  },
  {
   "cell_type": "markdown",
   "metadata": {},
   "source": [
    "# Quantidade de aluno no ensinom médio"
   ]
  },
  {
   "cell_type": "code",
   "execution_count": 23,
   "metadata": {},
   "outputs": [
    {
     "data": {
      "image/png": "[encoded data removed]",
      "text/plain": [
       "<Figure size 432x288 with 1 Axes>"
      ]
     },
     "metadata": {},
     "output_type": "display_data"
    },
    {
     "name": "stdout",
     "output_type": "stream",
     "text": [
      " 1 - Urbano \n",
      " 2 - Rural\n"
     ]
    },
    {
     "data": {
      "text/html": [
       "<div>\n",
       "<style scoped>\n",
       "    .dataframe tbody tr th:only-of-type {\n",
       "        vertical-align: middle;\n",
       "    }\n",
       "\n",
       "    .dataframe tbody tr th {\n",
       "        vertical-align: top;\n",
       "    }\n",
       "\n",
       "    .dataframe thead th {\n",
       "        text-align: right;\n",
       "    }\n",
       "</style>\n",
       "<table border=\"1\" class=\"dataframe\">\n",
       "  <thead>\n",
       "    <tr style=\"text-align: right;\">\n",
       "      <th></th>\n",
       "      <th>TP_LOCALIZACAO_ESC</th>\n",
       "      <th>Porcentagem (%)</th>\n",
       "    </tr>\n",
       "  </thead>\n",
       "  <tbody>\n",
       "    <tr>\n",
       "      <th>1.0</th>\n",
       "      <td>79390</td>\n",
       "      <td>98.553783</td>\n",
       "    </tr>\n",
       "    <tr>\n",
       "      <th>2.0</th>\n",
       "      <td>1165</td>\n",
       "      <td>1.446217</td>\n",
       "    </tr>\n",
       "  </tbody>\n",
       "</table>\n",
       "</div>"
      ],
      "text/plain": [
       "     TP_LOCALIZACAO_ESC  Porcentagem (%)\n",
       "1.0               79390        98.553783\n",
       "2.0                1165         1.446217"
      ]
     },
     "execution_count": 23,
     "metadata": {},
     "output_type": "execute_result"
    }
   ],
   "source": [
    "var = \"TP_LOCALIZACAO_ESC\"\n",
    "tipo = dadosEscolaPublica[var].value_counts().index\n",
    "frequencia = dadosEscolaPublica[var].value_counts().values\n",
    "tipo, frequencia\n",
    "plt.pie(x=frequencia, labels=tipo, autopct='%2.2f%%',shadow=True, startangle=90)\n",
    "plt.ylabel('Localização da Escola')\n",
    "plt.show()\n",
    "\n",
    "print(\" 1 - Urbano \\n 2 - Rural\")\n",
    "\n",
    "array = pd.DataFrame(dadosEscolaPublica[var].value_counts())\n",
    "array2 = pd.DataFrame(dadosEscolaPublica[var].value_counts(normalize=True) * 100)\n",
    "array['Porcentagem (%)'] = array2\n",
    "array"
   ]
  },
  {
   "cell_type": "code",
   "execution_count": 24,
   "metadata": {},
   "outputs": [
    {
     "name": "stdout",
     "output_type": "stream",
     "text": [
      "   TP_ST_CONCLUSAO  Porcentagem (%)\n",
      "2            80555            100.0\n"
     ]
    }
   ],
   "source": [
    "etapa_em = dadosEscolaPublica.query('TP_ST_CONCLUSAO == 2 or TP_ST_CONCLUSAO == 3')\n",
    "array = pd.DataFrame(etapa_em['TP_ST_CONCLUSAO'].value_counts())\n",
    "array2 = pd.DataFrame(etapa_em['TP_ST_CONCLUSAO'].value_counts(normalize=True) * 100)\n",
    "array['Porcentagem (%)'] = array2\n",
    "print(array)\n",
    "\n",
    "\n",
    "array3 = pd.DataFrame(dadosEscolaPublica['TP_ST_CONCLUSAO'].value_counts())\n",
    "array4 = pd.DataFrame(dadosEscolaPublica['TP_ST_CONCLUSAO'].value_counts(normalize=True) * 100)\n",
    "array['Porcentagem (%)'] = array4\n",
    "\n"
   ]
  },
  {
   "cell_type": "code",
   "execution_count": 25,
   "metadata": {},
   "outputs": [
    {
     "name": "stdout",
     "output_type": "stream",
     "text": [
      "   TP_ST_CONCLUSAO\n",
      "2            80555\n"
     ]
    }
   ],
   "source": [
    "print(array3)"
   ]
  },
  {
   "cell_type": "code",
   "execution_count": 26,
   "metadata": {},
   "outputs": [
    {
     "name": "stdout",
     "output_type": "stream",
     "text": [
      "Não Informado\n"
     ]
    },
    {
     "data": {
      "image/png": "[encoded data removed]",
      "text/plain": [
       "<Figure size 432x288 with 1 Axes>"
      ]
     },
     "metadata": {
      "needs_background": "light"
     },
     "output_type": "display_data"
    }
   ],
   "source": [
    "var = \"TP_ANO_CONCLUIU\"\n",
    "contagem_de_questionario = dadosEscolaPublica[var].value_counts().to_frame().reset_index()\n",
    "contagem_de_questionario.columns = [\"Respostas\", \"total\"]\n",
    "frequencia = dadosEscolaPublica[var].value_counts().values\n",
    "\n",
    "\n",
    "plt.title('ANo de conclusão do Ensino Médio')\n",
    "\n",
    "sns.barplot(x=\"Respostas\", y = \"total\", data = contagem_de_questionario)\n",
    "\n",
    "print(\"Não Informado\")"
   ]
  },
  {
   "cell_type": "code",
   "execution_count": null,
   "metadata": {},
   "outputs": [],
   "source": []
  },
  {
   "cell_type": "code",
   "execution_count": null,
   "metadata": {},
   "outputs": [],
   "source": []
  },
  {
   "cell_type": "code",
   "execution_count": null,
   "metadata": {},
   "outputs": [],
   "source": []
  },
  {
   "cell_type": "code",
   "execution_count": null,
   "metadata": {},
   "outputs": [],
   "source": []
  },
  {
   "cell_type": "code",
   "execution_count": null,
   "metadata": {},
   "outputs": [],
   "source": []
  },
  {
   "cell_type": "code",
   "execution_count": null,
   "metadata": {},
   "outputs": [],
   "source": []
  },
  {
   "cell_type": "code",
   "execution_count": null,
   "metadata": {},
   "outputs": [],
   "source": []
  },
  {
   "cell_type": "code",
   "execution_count": null,
   "metadata": {},
   "outputs": [],
   "source": []
  },
  {
   "cell_type": "code",
   "execution_count": null,
   "metadata": {},
   "outputs": [],
   "source": []
  },
  {
   "cell_type": "code",
   "execution_count": null,
   "metadata": {},
   "outputs": [],
   "source": []
  },
  {
   "cell_type": "code",
   "execution_count": null,
   "metadata": {},
   "outputs": [],
   "source": []
  },
  {
   "cell_type": "code",
   "execution_count": null,
   "metadata": {},
   "outputs": [],
   "source": []
  },
  {
   "cell_type": "code",
   "execution_count": null,
   "metadata": {},
   "outputs": [],
   "source": []
  },
  {
   "cell_type": "code",
   "execution_count": null,
   "metadata": {},
   "outputs": [],
   "source": []
  },
  {
   "cell_type": "code",
   "execution_count": null,
   "metadata": {},
   "outputs": [],
   "source": []
  },
  {
   "cell_type": "code",
   "execution_count": null,
   "metadata": {},
   "outputs": [],
   "source": []
  },
  {
   "cell_type": "code",
   "execution_count": null,
   "metadata": {},
   "outputs": [],
   "source": []
  },
  {
   "cell_type": "code",
   "execution_count": null,
   "metadata": {},
   "outputs": [],
   "source": []
  },
  {
   "cell_type": "code",
   "execution_count": null,
   "metadata": {},
   "outputs": [],
   "source": []
  },
  {
   "cell_type": "markdown",
   "metadata": {},
   "source": [
    "# Escolas Privadas"
   ]
  },
  {
   "cell_type": "code",
   "execution_count": 27,
   "metadata": {},
   "outputs": [],
   "source": [
    "dadosEscolaPrivada= dadosEnem.query(\"TP_ESCOLA == 3\")"
   ]
  },
  {
   "cell_type": "code",
   "execution_count": 28,
   "metadata": {},
   "outputs": [
    {
     "name": "stdout",
     "output_type": "stream",
     "text": [
      " A\tNão.\n",
      " B\tSim\n"
     ]
    },
    {
     "data": {
      "image/png": "[encoded data removed]",
      "text/plain": [
       "<Figure size 432x288 with 1 Axes>"
      ]
     },
     "metadata": {
      "needs_background": "light"
     },
     "output_type": "display_data"
    }
   ],
   "source": [
    "var = \"Q025\"\n",
    "contagem_de_questionario = dadosEscolaPrivada[var].value_counts().to_frame().reset_index()\n",
    "contagem_de_questionario.columns = [\"Respostas\", \"total\"]\n",
    "frequencia = dadosEscolaPrivada[var].value_counts().values\n",
    "\n",
    "\n",
    "plt.title('Na sua casa tem acesso a internet?')\n",
    "\n",
    "sns.barplot(x=\"Respostas\", y = \"total\", data = contagem_de_questionario)\n",
    "\n",
    "print(\" A\tNão.\\n B\tSim\")\n"
   ]
  },
  {
   "cell_type": "code",
   "execution_count": 29,
   "metadata": {},
   "outputs": [
    {
     "data": {
      "image/png": "[encoded data removed]",
      "text/plain": [
       "<Figure size 432x288 with 1 Axes>"
      ]
     },
     "metadata": {},
     "output_type": "display_data"
    },
    {
     "name": "stdout",
     "output_type": "stream",
     "text": [
      " A\tNão.\n",
      " B\tSim\n"
     ]
    },
    {
     "data": {
      "text/html": [
       "<div>\n",
       "<style scoped>\n",
       "    .dataframe tbody tr th:only-of-type {\n",
       "        vertical-align: middle;\n",
       "    }\n",
       "\n",
       "    .dataframe tbody tr th {\n",
       "        vertical-align: top;\n",
       "    }\n",
       "\n",
       "    .dataframe thead th {\n",
       "        text-align: right;\n",
       "    }\n",
       "</style>\n",
       "<table border=\"1\" class=\"dataframe\">\n",
       "  <thead>\n",
       "    <tr style=\"text-align: right;\">\n",
       "      <th></th>\n",
       "      <th>Q025</th>\n",
       "      <th>Porcentagem</th>\n",
       "    </tr>\n",
       "  </thead>\n",
       "  <tbody>\n",
       "    <tr>\n",
       "      <th>B</th>\n",
       "      <td>1060</td>\n",
       "      <td>0.866721</td>\n",
       "    </tr>\n",
       "    <tr>\n",
       "      <th>A</th>\n",
       "      <td>163</td>\n",
       "      <td>0.133279</td>\n",
       "    </tr>\n",
       "  </tbody>\n",
       "</table>\n",
       "</div>"
      ],
      "text/plain": [
       "   Q025  Porcentagem\n",
       "B  1060     0.866721\n",
       "A   163     0.133279"
      ]
     },
     "execution_count": 29,
     "metadata": {},
     "output_type": "execute_result"
    }
   ],
   "source": [
    "var = \"Q025\"\n",
    "tipo = dadosEscolaPrivada[var].value_counts().index\n",
    "frequencia = dadosEscolaPrivada[var].value_counts().values\n",
    "tipo, frequencia\n",
    "plt.pie(x=frequencia, labels=tipo, autopct='%2.2f%%',shadow=True, startangle=90)\n",
    "plt.title('Na sua casa tem acesso a internet?')\n",
    "plt.show()\n",
    "\n",
    "print(\" A\tNão.\\n B\tSim\")\n",
    "\n",
    "array = pd.DataFrame(dadosEscolaPrivada[var].value_counts())\n",
    "array2 = pd.DataFrame(dadosEscolaPrivada[var].value_counts(normalize=True))\n",
    "array['Porcentagem'] = array2\n",
    "array"
   ]
  },
  {
   "cell_type": "code",
   "execution_count": 30,
   "metadata": {},
   "outputs": [
    {
     "name": "stdout",
     "output_type": "stream",
     "text": [
      " A\tNão.\n",
      " B\tSim, um.\n",
      " C\tSim, dois.\n",
      " D\tSim, três.\n",
      " E\tSim, quatro ou mais.\n"
     ]
    },
    {
     "data": {
      "image/png": "[encoded data removed]",
      "text/plain": [
       "<Figure size 432x288 with 1 Axes>"
      ]
     },
     "metadata": {
      "needs_background": "light"
     },
     "output_type": "display_data"
    }
   ],
   "source": [
    "var = \"Q024\"\n",
    "contagem_de_questionario = dadosEscolaPrivada[var].value_counts().to_frame().reset_index()\n",
    "contagem_de_questionario.columns = [\"Respostas\", \"total\"]\n",
    "\n",
    "\n",
    "plt.title('Na sua casa tem acesso a computador?')\n",
    "\n",
    "sns.barplot(x=\"Respostas\", y = \"total\", data = contagem_de_questionario)\n",
    "\n",
    "print(\" A\tNão.\\n B\tSim, um.\\n C\tSim, dois.\\n D\tSim, três.\\n E\tSim, quatro ou mais.\")"
   ]
  },
  {
   "cell_type": "markdown",
   "metadata": {},
   "source": [
    "# Acesso a Computador"
   ]
  },
  {
   "cell_type": "code",
   "execution_count": 31,
   "metadata": {},
   "outputs": [
    {
     "data": {
      "image/png": "[encoded data removed]",
      "text/plain": [
       "<Figure size 432x288 with 1 Axes>"
      ]
     },
     "metadata": {},
     "output_type": "display_data"
    },
    {
     "name": "stdout",
     "output_type": "stream",
     "text": [
      " A\tNão.\n",
      " B\tSim, um.\n",
      " C\tSim, dois.\n",
      " D\tSim, três.\n",
      " E\tSim, quatro ou mais.\n"
     ]
    },
    {
     "data": {
      "text/html": [
       "<div>\n",
       "<style scoped>\n",
       "    .dataframe tbody tr th:only-of-type {\n",
       "        vertical-align: middle;\n",
       "    }\n",
       "\n",
       "    .dataframe tbody tr th {\n",
       "        vertical-align: top;\n",
       "    }\n",
       "\n",
       "    .dataframe thead th {\n",
       "        text-align: right;\n",
       "    }\n",
       "</style>\n",
       "<table border=\"1\" class=\"dataframe\">\n",
       "  <thead>\n",
       "    <tr style=\"text-align: right;\">\n",
       "      <th></th>\n",
       "      <th>Q024</th>\n",
       "      <th>Porcentagem</th>\n",
       "    </tr>\n",
       "  </thead>\n",
       "  <tbody>\n",
       "    <tr>\n",
       "      <th>B</th>\n",
       "      <td>766</td>\n",
       "      <td>0.626329</td>\n",
       "    </tr>\n",
       "    <tr>\n",
       "      <th>A</th>\n",
       "      <td>317</td>\n",
       "      <td>0.259199</td>\n",
       "    </tr>\n",
       "    <tr>\n",
       "      <th>C</th>\n",
       "      <td>108</td>\n",
       "      <td>0.088307</td>\n",
       "    </tr>\n",
       "    <tr>\n",
       "      <th>D</th>\n",
       "      <td>25</td>\n",
       "      <td>0.020442</td>\n",
       "    </tr>\n",
       "    <tr>\n",
       "      <th>E</th>\n",
       "      <td>7</td>\n",
       "      <td>0.005724</td>\n",
       "    </tr>\n",
       "  </tbody>\n",
       "</table>\n",
       "</div>"
      ],
      "text/plain": [
       "   Q024  Porcentagem\n",
       "B   766     0.626329\n",
       "A   317     0.259199\n",
       "C   108     0.088307\n",
       "D    25     0.020442\n",
       "E     7     0.005724"
      ]
     },
     "execution_count": 31,
     "metadata": {},
     "output_type": "execute_result"
    }
   ],
   "source": [
    "var = \"Q024\"\n",
    "tipo = dadosEscolaPrivada[var].value_counts().index\n",
    "frequencia = dadosEscolaPrivada[var].value_counts().values\n",
    "tipo, frequencia\n",
    "plt.pie(x=frequencia, labels=tipo, autopct='%2.2f%%',shadow=True, startangle=90)\n",
    "plt.title('Na sua casa tem acesso a computador?')\n",
    "plt.show()\n",
    "\n",
    "print(\" A\tNão.\\n B\tSim, um.\\n C\tSim, dois.\\n D\tSim, três.\\n E\tSim, quatro ou mais.\")\n",
    "\n",
    "array = pd.DataFrame(dadosEscolaPrivada[var].value_counts())\n",
    "array2 = pd.DataFrame(dadosEscolaPrivada[var].value_counts(normalize=True))\n",
    "array['Porcentagem'] = array2\n",
    "array"
   ]
  },
  {
   "cell_type": "code",
   "execution_count": 32,
   "metadata": {},
   "outputs": [
    {
     "name": "stdout",
     "output_type": "stream",
     "text": [
      " A\tNão.\n",
      " B\tSim, um.\n",
      " C\tSim, dois.\n",
      " D\tSim, três.\n",
      " E\tSim, quatro ou mais.\n"
     ]
    },
    {
     "data": {
      "image/png": "[encoded data removed]",
      "text/plain": [
       "<Figure size 432x288 with 1 Axes>"
      ]
     },
     "metadata": {
      "needs_background": "light"
     },
     "output_type": "display_data"
    }
   ],
   "source": [
    "var = \"Q022\"\n",
    "contagem_de_questionario = dadosEscolaPrivada[var].value_counts().to_frame().reset_index()\n",
    "contagem_de_questionario.columns = [\"Respostas\", \"total\"]\n",
    "frequencia = dadosEscolaPrivada[var].value_counts(normalize=True)\n",
    "\n",
    "plt.title('Na sua casa tem telefone celular?')\n",
    "\n",
    "sns.barplot(x=\"Respostas\", y = \"total\", data = contagem_de_questionario)\n",
    "\n",
    "print(\" A\tNão.\\n B\tSim, um.\\n C\tSim, dois.\\n D\tSim, três.\\n E\tSim, quatro ou mais.\")"
   ]
  },
  {
   "cell_type": "code",
   "execution_count": 33,
   "metadata": {},
   "outputs": [
    {
     "data": {
      "image/png": "[encoded data removed]",
      "text/plain": [
       "<Figure size 432x288 with 1 Axes>"
      ]
     },
     "metadata": {},
     "output_type": "display_data"
    },
    {
     "name": "stdout",
     "output_type": "stream",
     "text": [
      " A\tNão.\n",
      " B\tSim, um.\n",
      " C\tSim, dois.\n",
      " D\tSim, três.\n",
      " E\tSim, quatro ou mais.\n"
     ]
    },
    {
     "data": {
      "text/html": [
       "<div>\n",
       "<style scoped>\n",
       "    .dataframe tbody tr th:only-of-type {\n",
       "        vertical-align: middle;\n",
       "    }\n",
       "\n",
       "    .dataframe tbody tr th {\n",
       "        vertical-align: top;\n",
       "    }\n",
       "\n",
       "    .dataframe thead th {\n",
       "        text-align: right;\n",
       "    }\n",
       "</style>\n",
       "<table border=\"1\" class=\"dataframe\">\n",
       "  <thead>\n",
       "    <tr style=\"text-align: right;\">\n",
       "      <th></th>\n",
       "      <th>Q022</th>\n",
       "      <th>Porcentagem</th>\n",
       "    </tr>\n",
       "  </thead>\n",
       "  <tbody>\n",
       "    <tr>\n",
       "      <th>D</th>\n",
       "      <td>436</td>\n",
       "      <td>0.356500</td>\n",
       "    </tr>\n",
       "    <tr>\n",
       "      <th>C</th>\n",
       "      <td>314</td>\n",
       "      <td>0.256746</td>\n",
       "    </tr>\n",
       "    <tr>\n",
       "      <th>E</th>\n",
       "      <td>297</td>\n",
       "      <td>0.242845</td>\n",
       "    </tr>\n",
       "    <tr>\n",
       "      <th>B</th>\n",
       "      <td>165</td>\n",
       "      <td>0.134914</td>\n",
       "    </tr>\n",
       "    <tr>\n",
       "      <th>A</th>\n",
       "      <td>11</td>\n",
       "      <td>0.008994</td>\n",
       "    </tr>\n",
       "  </tbody>\n",
       "</table>\n",
       "</div>"
      ],
      "text/plain": [
       "   Q022  Porcentagem\n",
       "D   436     0.356500\n",
       "C   314     0.256746\n",
       "E   297     0.242845\n",
       "B   165     0.134914\n",
       "A    11     0.008994"
      ]
     },
     "execution_count": 33,
     "metadata": {},
     "output_type": "execute_result"
    }
   ],
   "source": [
    "var = \"Q022\"\n",
    "tipo = dadosEscolaPrivada[var].value_counts().index\n",
    "frequencia = dadosEscolaPrivada[var].value_counts().values\n",
    "tipo, frequencia\n",
    "plt.pie(x=frequencia, labels=tipo, autopct='%2.2f%%',shadow=True, startangle=90)\n",
    "plt.ylabel('Na sua casa tem telefone celular?')\n",
    "plt.show()\n",
    "\n",
    "print(\" A\tNão.\\n B\tSim, um.\\n C\tSim, dois.\\n D\tSim, três.\\n E\tSim, quatro ou mais.\")\n",
    "\n",
    "array = pd.DataFrame(dadosEscolaPrivada[var].value_counts())\n",
    "array2 = pd.DataFrame(dadosEscolaPrivada[var].value_counts(normalize=True))\n",
    "array['Porcentagem'] = array2\n",
    "array"
   ]
  },
  {
   "cell_type": "markdown",
   "metadata": {},
   "source": []
  }
 ],
 "metadata": {
  "hide_input": false,
  "kernelspec": {
   "display_name": "Python 3",
   "language": "python",
   "name": "python3"
  },
  "language_info": {
   "codemirror_mode": {
    "name": "ipython",
    "version": 3
   },
   "file_extension": ".py",
   "mimetype": "text/x-python",
   "name": "python",
   "nbconvert_exporter": "python",
   "pygments_lexer": "ipython3",
   "version": "3.7.6"
  }
 },
 "nbformat": 4,
 "nbformat_minor": 4
}
