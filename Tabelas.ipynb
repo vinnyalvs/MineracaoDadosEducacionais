{
 "cells": [
  {
   "cell_type": "code",
   "execution_count": 0,
   "metadata": {
    "colab": {},
    "colab_type": "code",
    "hide_input": true,
    "id": "gDCFLTkBKUyC"
   },
   "outputs": [],
   "source": [
    "import pandas as pd\n",
    "import numpy as np\n",
    "import matplotlib.pyplot as plt\n",
    "data_1 = pd.read_csv('Microdados/QuestionarioPorAlunoMG.csv',sep=';',encoding='latin1',low_memory=False)\n",
    " "
   ]
  },
  {
   "cell_type": "code",
   "execution_count": 0,
   "metadata": {
    "colab": {},
    "colab_type": "code",
    "id": "NtzgE7SgKUyF",
    "outputId": "5b0aa0eb-a364-48e0-c494-bfc25edbcfd2",
    "tags": [
     "hide_input"
    ]
   },
   "outputs": [
    {
     "data": {
      "text/html": [
       "<div>\n",
       "<style>\n",
       "    .dataframe thead tr:only-child th {\n",
       "        text-align: right;\n",
       "    }\n",
       "\n",
       "    .dataframe thead th {\n",
       "        text-align: left;\n",
       "    }\n",
       "\n",
       "    .dataframe tbody tr th {\n",
       "        vertical-align: top;\n",
       "    }\n",
       "</style>\n",
       "<table border=\"1\" class=\"dataframe\">\n",
       "  <thead>\n",
       "    <tr style=\"text-align: right;\">\n",
       "      <th></th>\n",
       "      <th>TP_SEXO</th>\n",
       "      <th>Frquencia Relativa</th>\n",
       "    </tr>\n",
       "  </thead>\n",
       "  <tbody>\n",
       "    <tr>\n",
       "      <th>F</th>\n",
       "      <td>104338</td>\n",
       "      <td>0.587648</td>\n",
       "    </tr>\n",
       "    <tr>\n",
       "      <th>M</th>\n",
       "      <td>73214</td>\n",
       "      <td>0.412352</td>\n",
       "    </tr>\n",
       "  </tbody>\n",
       "</table>\n",
       "</div>"
      ],
      "text/plain": [
       "   TP_SEXO  Frquencia Relativa\n",
       "F   104338            0.587648\n",
       "M    73214            0.412352"
      ]
     },
     "execution_count": 232,
     "metadata": {
      "tags": []
     },
     "output_type": "execute_result"
    }
   ],
   "source": [
    "\n",
    "array = pd.DataFrame(data_1['TP_SEXO'].value_counts())\n",
    "array2 = data_1['TP_SEXO'].value_counts(normalize=True)\n",
    "array3 = data_1['TP_SEXO'].value_counts().cumsum()\n",
    "array['Frquencia Relativa'] = array2\n",
    "dataF = pd.DataFrame(array)\n",
    "dataF"
   ]
  },
  {
   "cell_type": "code",
   "execution_count": 0,
   "metadata": {
    "colab": {},
    "colab_type": "code",
    "id": "m0hQwBfrKUyJ",
    "outputId": "b274a437-c62f-4f5b-a9bb-93ab8e9eb9fd"
   },
   "outputs": [
    {
     "data": {
      "text/html": [
       "<div>\n",
       "<style>\n",
       "    .dataframe thead tr:only-child th {\n",
       "        text-align: right;\n",
       "    }\n",
       "\n",
       "    .dataframe thead th {\n",
       "        text-align: left;\n",
       "    }\n",
       "\n",
       "    .dataframe tbody tr th {\n",
       "        vertical-align: top;\n",
       "    }\n",
       "</style>\n",
       "<table border=\"1\" class=\"dataframe\">\n",
       "  <thead>\n",
       "    <tr style=\"text-align: right;\">\n",
       "      <th></th>\n",
       "      <th>TP_ESTADO_CIVIL</th>\n",
       "      <th>TP_ESTADO_CIVIL_Relativo</th>\n",
       "    </tr>\n",
       "  </thead>\n",
       "  <tbody>\n",
       "    <tr>\n",
       "      <th>0.0</th>\n",
       "      <td>168014</td>\n",
       "      <td>0.965198</td>\n",
       "    </tr>\n",
       "    <tr>\n",
       "      <th>1.0</th>\n",
       "      <td>5137</td>\n",
       "      <td>0.029511</td>\n",
       "    </tr>\n",
       "    <tr>\n",
       "      <th>2.0</th>\n",
       "      <td>779</td>\n",
       "      <td>0.004475</td>\n",
       "    </tr>\n",
       "    <tr>\n",
       "      <th>3.0</th>\n",
       "      <td>142</td>\n",
       "      <td>0.000816</td>\n",
       "    </tr>\n",
       "  </tbody>\n",
       "</table>\n",
       "</div>"
      ],
      "text/plain": [
       "     TP_ESTADO_CIVIL  TP_ESTADO_CIVIL_Relativo\n",
       "0.0           168014                  0.965198\n",
       "1.0             5137                  0.029511\n",
       "2.0              779                  0.004475\n",
       "3.0              142                  0.000816"
      ]
     },
     "execution_count": 214,
     "metadata": {
      "tags": []
     },
     "output_type": "execute_result"
    }
   ],
   "source": [
    "array = pd.DataFrame(data_1['TP_ESTADO_CIVIL'].value_counts())\n",
    "array2 = pd.DataFrame(data_1['TP_ESTADO_CIVIL'].value_counts(normalize=True))\n",
    "array['TP_ESTADO_CIVIL_Relativo'] = array2\n",
    "array"
   ]
  },
  {
   "cell_type": "code",
   "execution_count": 0,
   "metadata": {
    "colab": {},
    "colab_type": "code",
    "id": "DbPYFXCaKUyL",
    "outputId": "03046f26-9e5b-432c-89bd-fb581ec10d07"
   },
   "outputs": [
    {
     "data": {
      "image/png": "[encoded data removed]",
      "text/plain": [
       "<matplotlib.figure.Figure at 0x1d5e138e438>"
      ]
     },
     "metadata": {
      "tags": []
     },
     "output_type": "display_data"
    },
    {
     "data": {
      "text/html": [
       "<div>\n",
       "<style>\n",
       "    .dataframe thead tr:only-child th {\n",
       "        text-align: right;\n",
       "    }\n",
       "\n",
       "    .dataframe thead th {\n",
       "        text-align: left;\n",
       "    }\n",
       "\n",
       "    .dataframe tbody tr th {\n",
       "        vertical-align: top;\n",
       "    }\n",
       "</style>\n",
       "<table border=\"1\" class=\"dataframe\">\n",
       "  <thead>\n",
       "    <tr style=\"text-align: right;\">\n",
       "      <th></th>\n",
       "      <th>Desvio Padrão</th>\n",
       "      <th>Media</th>\n",
       "      <th>Moda</th>\n",
       "      <th>Variancia</th>\n",
       "    </tr>\n",
       "  </thead>\n",
       "  <tbody>\n",
       "    <tr>\n",
       "      <th>0</th>\n",
       "      <td>4.479501</td>\n",
       "      <td>18.859087</td>\n",
       "      <td>0    18.0\n",
       "dtype: float64</td>\n",
       "      <td>20.065929</td>\n",
       "    </tr>\n",
       "  </tbody>\n",
       "</table>\n",
       "</div>"
      ],
      "text/plain": [
       "   Desvio Padrão      Media                      Moda  Variancia\n",
       "0       4.479501  18.859087  0    18.0\n",
       "dtype: float64  20.065929"
      ]
     },
     "execution_count": 219,
     "metadata": {
      "tags": []
     },
     "output_type": "execute_result"
    }
   ],
   "source": [
    "df = data_1['NU_IDADE']\n",
    "hist = df.hist(bins=5)\n",
    "plt.title('Histograma da Variável NU_IDADE')\n",
    "plt.xlabel('Idade')\n",
    "plt.ylabel('Frequência')\n",
    "hist\n",
    "plt.show()\n",
    "moda = data_1['NU_IDADE'].mode()\n",
    "media = data_1['NU_IDADE'].mean()\n",
    "var = data_1['NU_IDADE'].var()\n",
    "desvio = data_1['NU_IDADE'].std()\n",
    "data = {'Moda':[moda], 'Media':[media], 'Variancia':[var], 'Desvio Padrão': [desvio]} \n",
    "\n",
    "pd.DataFrame(data)\n",
    "\n",
    "#pd.DataFrame(data_1['NU_IDADE'].value_counts())\n",
    "\n"
   ]
  },
  {
   "cell_type": "code",
   "execution_count": 0,
   "metadata": {
    "colab": {},
    "colab_type": "code",
    "id": "3f-vGaydKUyO",
    "outputId": "e890c348-5aea-43fe-bccc-17f2355f1be6"
   },
   "outputs": [
    {
     "data": {
      "text/html": [
       "<div>\n",
       "<style>\n",
       "    .dataframe thead tr:only-child th {\n",
       "        text-align: right;\n",
       "    }\n",
       "\n",
       "    .dataframe thead th {\n",
       "        text-align: left;\n",
       "    }\n",
       "\n",
       "    .dataframe tbody tr th {\n",
       "        vertical-align: top;\n",
       "    }\n",
       "</style>\n",
       "<table border=\"1\" class=\"dataframe\">\n",
       "  <thead>\n",
       "    <tr style=\"text-align: right;\">\n",
       "      <th></th>\n",
       "      <th>TP_COR_RACA</th>\n",
       "      <th>TP_COR_RACA_Relativo</th>\n",
       "    </tr>\n",
       "  </thead>\n",
       "  <tbody>\n",
       "    <tr>\n",
       "      <th>3</th>\n",
       "      <td>78844</td>\n",
       "      <td>0.444061</td>\n",
       "    </tr>\n",
       "    <tr>\n",
       "      <th>1</th>\n",
       "      <td>64689</td>\n",
       "      <td>0.364338</td>\n",
       "    </tr>\n",
       "    <tr>\n",
       "      <th>2</th>\n",
       "      <td>25441</td>\n",
       "      <td>0.143288</td>\n",
       "    </tr>\n",
       "    <tr>\n",
       "      <th>4</th>\n",
       "      <td>4399</td>\n",
       "      <td>0.024776</td>\n",
       "    </tr>\n",
       "    <tr>\n",
       "      <th>0</th>\n",
       "      <td>3070</td>\n",
       "      <td>0.017291</td>\n",
       "    </tr>\n",
       "    <tr>\n",
       "      <th>5</th>\n",
       "      <td>1109</td>\n",
       "      <td>0.006246</td>\n",
       "    </tr>\n",
       "  </tbody>\n",
       "</table>\n",
       "</div>"
      ],
      "text/plain": [
       "   TP_COR_RACA  TP_COR_RACA_Relativo\n",
       "3        78844              0.444061\n",
       "1        64689              0.364338\n",
       "2        25441              0.143288\n",
       "4         4399              0.024776\n",
       "0         3070              0.017291\n",
       "5         1109              0.006246"
      ]
     },
     "execution_count": 220,
     "metadata": {
      "tags": []
     },
     "output_type": "execute_result"
    }
   ],
   "source": [
    "array = pd.DataFrame(data_1['TP_COR_RACA'].value_counts())\n",
    "array2 = pd.DataFrame(data_1['TP_COR_RACA'].value_counts(normalize=True))\n",
    "array['TP_COR_RACA_Relativo'] = array2\n",
    "array"
   ]
  },
  {
   "cell_type": "code",
   "execution_count": 0,
   "metadata": {
    "colab": {},
    "colab_type": "code",
    "id": "ot8AnsS9KUyQ",
    "outputId": "dd0bc58d-44c9-4c2a-f706-8033d63866d3"
   },
   "outputs": [
    {
     "data": {
      "text/html": [
       "<div>\n",
       "<style>\n",
       "    .dataframe thead tr:only-child th {\n",
       "        text-align: right;\n",
       "    }\n",
       "\n",
       "    .dataframe thead th {\n",
       "        text-align: left;\n",
       "    }\n",
       "\n",
       "    .dataframe tbody tr th {\n",
       "        vertical-align: top;\n",
       "    }\n",
       "</style>\n",
       "<table border=\"1\" class=\"dataframe\">\n",
       "  <thead>\n",
       "    <tr style=\"text-align: right;\">\n",
       "      <th></th>\n",
       "      <th>NO_MUNICIPIO_NASCIMENTO</th>\n",
       "    </tr>\n",
       "  </thead>\n",
       "  <tbody>\n",
       "    <tr>\n",
       "      <th>Belo Horizonte</th>\n",
       "      <td>29836</td>\n",
       "    </tr>\n",
       "    <tr>\n",
       "      <th>Uberlândia</th>\n",
       "      <td>4686</td>\n",
       "    </tr>\n",
       "    <tr>\n",
       "      <th>Montes Claros</th>\n",
       "      <td>4515</td>\n",
       "    </tr>\n",
       "    <tr>\n",
       "      <th>Contagem</th>\n",
       "      <td>4462</td>\n",
       "    </tr>\n",
       "    <tr>\n",
       "      <th>Juiz de Fora</th>\n",
       "      <td>4213</td>\n",
       "    </tr>\n",
       "    <tr>\n",
       "      <th>Betim</th>\n",
       "      <td>2870</td>\n",
       "    </tr>\n",
       "    <tr>\n",
       "      <th>Governador Valadares</th>\n",
       "      <td>2471</td>\n",
       "    </tr>\n",
       "    <tr>\n",
       "      <th>Uberaba</th>\n",
       "      <td>2398</td>\n",
       "    </tr>\n",
       "    <tr>\n",
       "      <th>Ipatinga</th>\n",
       "      <td>2335</td>\n",
       "    </tr>\n",
       "    <tr>\n",
       "      <th>Divinópolis</th>\n",
       "      <td>2106</td>\n",
       "    </tr>\n",
       "    <tr>\n",
       "      <th>Sete Lagoas</th>\n",
       "      <td>1852</td>\n",
       "    </tr>\n",
       "    <tr>\n",
       "      <th>São Paulo</th>\n",
       "      <td>1716</td>\n",
       "    </tr>\n",
       "    <tr>\n",
       "      <th>Barbacena</th>\n",
       "      <td>1445</td>\n",
       "    </tr>\n",
       "    <tr>\n",
       "      <th>Coronel Fabriciano</th>\n",
       "      <td>1444</td>\n",
       "    </tr>\n",
       "    <tr>\n",
       "      <th>Patos de Minas</th>\n",
       "      <td>1421</td>\n",
       "    </tr>\n",
       "    <tr>\n",
       "      <th>Teófilo Otoni</th>\n",
       "      <td>1369</td>\n",
       "    </tr>\n",
       "    <tr>\n",
       "      <th>Lavras</th>\n",
       "      <td>1233</td>\n",
       "    </tr>\n",
       "    <tr>\n",
       "      <th>Passos</th>\n",
       "      <td>1151</td>\n",
       "    </tr>\n",
       "    <tr>\n",
       "      <th>Pouso Alegre</th>\n",
       "      <td>1150</td>\n",
       "    </tr>\n",
       "    <tr>\n",
       "      <th>Ubá</th>\n",
       "      <td>1125</td>\n",
       "    </tr>\n",
       "    <tr>\n",
       "      <th>Viçosa</th>\n",
       "      <td>1103</td>\n",
       "    </tr>\n",
       "    <tr>\n",
       "      <th>Ribeirão das Neves</th>\n",
       "      <td>1093</td>\n",
       "    </tr>\n",
       "    <tr>\n",
       "      <th>Poços de Caldas</th>\n",
       "      <td>1075</td>\n",
       "    </tr>\n",
       "    <tr>\n",
       "      <th>Conselheiro Lafaiete</th>\n",
       "      <td>1066</td>\n",
       "    </tr>\n",
       "    <tr>\n",
       "      <th>Itajubá</th>\n",
       "      <td>1063</td>\n",
       "    </tr>\n",
       "    <tr>\n",
       "      <th>Janaúba</th>\n",
       "      <td>1058</td>\n",
       "    </tr>\n",
       "    <tr>\n",
       "      <th>Muriaé</th>\n",
       "      <td>1053</td>\n",
       "    </tr>\n",
       "    <tr>\n",
       "      <th>Caratinga</th>\n",
       "      <td>1034</td>\n",
       "    </tr>\n",
       "    <tr>\n",
       "      <th>São João del Rei</th>\n",
       "      <td>1034</td>\n",
       "    </tr>\n",
       "    <tr>\n",
       "      <th>Varginha</th>\n",
       "      <td>1005</td>\n",
       "    </tr>\n",
       "  </tbody>\n",
       "</table>\n",
       "</div>"
      ],
      "text/plain": [
       "                      NO_MUNICIPIO_NASCIMENTO\n",
       "Belo Horizonte                          29836\n",
       "Uberlândia                               4686\n",
       "Montes Claros                            4515\n",
       "Contagem                                 4462\n",
       "Juiz de Fora                             4213\n",
       "Betim                                    2870\n",
       "Governador Valadares                     2471\n",
       "Uberaba                                  2398\n",
       "Ipatinga                                 2335\n",
       "Divinópolis                              2106\n",
       "Sete Lagoas                              1852\n",
       "São Paulo                                1716\n",
       "Barbacena                                1445\n",
       "Coronel Fabriciano                       1444\n",
       "Patos de Minas                           1421\n",
       "Teófilo Otoni                            1369\n",
       "Lavras                                   1233\n",
       "Passos                                   1151\n",
       "Pouso Alegre                             1150\n",
       "Ubá                                      1125\n",
       "Viçosa                                   1103\n",
       "Ribeirão das Neves                       1093\n",
       "Poços de Caldas                          1075\n",
       "Conselheiro Lafaiete                     1066\n",
       "Itajubá                                  1063\n",
       "Janaúba                                  1058\n",
       "Muriaé                                   1053\n",
       "Caratinga                                1034\n",
       "São João del Rei                         1034\n",
       "Varginha                                 1005"
      ]
     },
     "execution_count": 229,
     "metadata": {
      "tags": []
     },
     "output_type": "execute_result"
    }
   ],
   "source": [
    "pd.DataFrame(data_1['NO_MUNICIPIO_NASCIMENTO'].value_counts()) \n",
    "data_2 = pd.DataFrame(data_1['NO_MUNICIPIO_NASCIMENTO'].value_counts()) \n",
    "data_2= data_2[data_2.NO_MUNICIPIO_NASCIMENTO > 1000]          \n",
    "data_2\n"
   ]
  },
  {
   "cell_type": "code",
   "execution_count": 0,
   "metadata": {
    "colab": {},
    "colab_type": "code",
    "id": "_bON7piQKUyT",
    "outputId": "113957e2-6cce-4a1b-f21c-f04678f1baa6"
   },
   "outputs": [
    {
     "data": {
      "image/png": "[encoded data removed]",
      "text/plain": [
       "<matplotlib.figure.Figure at 0x1d5e8d916d8>"
      ]
     },
     "metadata": {
      "tags": []
     },
     "output_type": "display_data"
    },
    {
     "data": {
      "text/html": [
       "<div>\n",
       "<style>\n",
       "    .dataframe thead tr:only-child th {\n",
       "        text-align: right;\n",
       "    }\n",
       "\n",
       "    .dataframe thead th {\n",
       "        text-align: left;\n",
       "    }\n",
       "\n",
       "    .dataframe tbody tr th {\n",
       "        vertical-align: top;\n",
       "    }\n",
       "</style>\n",
       "<table border=\"1\" class=\"dataframe\">\n",
       "  <thead>\n",
       "    <tr style=\"text-align: right;\">\n",
       "      <th></th>\n",
       "      <th>TP_ESCOLA</th>\n",
       "      <th>TP_ESCOLA_Normalizado</th>\n",
       "    </tr>\n",
       "  </thead>\n",
       "  <tbody>\n",
       "    <tr>\n",
       "      <th>2</th>\n",
       "      <td>154436</td>\n",
       "      <td>0.869807</td>\n",
       "    </tr>\n",
       "    <tr>\n",
       "      <th>3</th>\n",
       "      <td>22728</td>\n",
       "      <td>0.128008</td>\n",
       "    </tr>\n",
       "    <tr>\n",
       "      <th>4</th>\n",
       "      <td>388</td>\n",
       "      <td>0.002185</td>\n",
       "    </tr>\n",
       "  </tbody>\n",
       "</table>\n",
       "</div>"
      ],
      "text/plain": [
       "   TP_ESCOLA  TP_ESCOLA_Normalizado\n",
       "2     154436               0.869807\n",
       "3      22728               0.128008\n",
       "4        388               0.002185"
      ]
     },
     "execution_count": 71,
     "metadata": {
      "tags": []
     },
     "output_type": "execute_result"
    }
   ],
   "source": [
    "tipo = data_1['TP_ESCOLA'].value_counts().index\n",
    "frequencia = data_1['TP_ESCOLA'].value_counts().values\n",
    "tipo, frequencia\n",
    "plt.pie(x=frequencia, labels=tipo, autopct='%2.2f%%',shadow=True, startangle=90)\n",
    "plt.ylabel('Tipo de Escola')\n",
    "plt.show()\n",
    "\n",
    "array = pd.DataFrame(data_1['TP_ESCOLA'].value_counts())\n",
    "array2 = pd.DataFrame(data_1['TP_ESCOLA'].value_counts(normalize=True))\n",
    "array['TP_ESCOLA_Normalizado'] = array2\n",
    "array\n"
   ]
  },
  {
   "cell_type": "code",
   "execution_count": 0,
   "metadata": {
    "colab": {},
    "colab_type": "code",
    "id": "MrsTBjrVKUyW",
    "outputId": "c154071e-64c4-4166-d866-393dc07b682e"
   },
   "outputs": [
    {
     "data": {
      "text/html": [
       "<div>\n",
       "<style>\n",
       "    .dataframe thead tr:only-child th {\n",
       "        text-align: right;\n",
       "    }\n",
       "\n",
       "    .dataframe thead th {\n",
       "        text-align: left;\n",
       "    }\n",
       "\n",
       "    .dataframe tbody tr th {\n",
       "        vertical-align: top;\n",
       "    }\n",
       "</style>\n",
       "<table border=\"1\" class=\"dataframe\">\n",
       "  <thead>\n",
       "    <tr style=\"text-align: right;\">\n",
       "      <th></th>\n",
       "      <th>TP_ENSINO</th>\n",
       "      <th>TP_ENSINO_Normalizado</th>\n",
       "    </tr>\n",
       "  </thead>\n",
       "  <tbody>\n",
       "    <tr>\n",
       "      <th>1.0</th>\n",
       "      <td>153252</td>\n",
       "      <td>0.863158</td>\n",
       "    </tr>\n",
       "    <tr>\n",
       "      <th>3.0</th>\n",
       "      <td>22786</td>\n",
       "      <td>0.128337</td>\n",
       "    </tr>\n",
       "    <tr>\n",
       "      <th>2.0</th>\n",
       "      <td>1510</td>\n",
       "      <td>0.008505</td>\n",
       "    </tr>\n",
       "  </tbody>\n",
       "</table>\n",
       "</div>"
      ],
      "text/plain": [
       "     TP_ENSINO  TP_ENSINO_Normalizado\n",
       "1.0     153252               0.863158\n",
       "3.0      22786               0.128337\n",
       "2.0       1510               0.008505"
      ]
     },
     "execution_count": 73,
     "metadata": {
      "tags": []
     },
     "output_type": "execute_result"
    }
   ],
   "source": [
    "array = pd.DataFrame(data_1['TP_ENSINO'].value_counts())\n",
    "array2 = pd.DataFrame(data_1['TP_ENSINO'].value_counts(normalize=True))\n",
    "array['TP_ENSINO_Normalizado'] = array2\n",
    "array\n"
   ]
  },
  {
   "cell_type": "code",
   "execution_count": 0,
   "metadata": {
    "colab": {},
    "colab_type": "code",
    "id": "BPutj2YkKUyY",
    "outputId": "038d777e-e6ca-4a0b-bc3c-55445788b774"
   },
   "outputs": [
    {
     "data": {
      "text/html": [
       "<div>\n",
       "<style>\n",
       "    .dataframe thead tr:only-child th {\n",
       "        text-align: right;\n",
       "    }\n",
       "\n",
       "    .dataframe thead th {\n",
       "        text-align: left;\n",
       "    }\n",
       "\n",
       "    .dataframe tbody tr th {\n",
       "        vertical-align: top;\n",
       "    }\n",
       "</style>\n",
       "<table border=\"1\" class=\"dataframe\">\n",
       "  <thead>\n",
       "    <tr style=\"text-align: right;\">\n",
       "      <th></th>\n",
       "      <th>TP_DEPENDENCIA_ADM_ESC</th>\n",
       "      <th>TP_DEPENDENCIA_ADM_ESC_Relativo</th>\n",
       "    </tr>\n",
       "  </thead>\n",
       "  <tbody>\n",
       "    <tr>\n",
       "      <th>2.0</th>\n",
       "      <td>146155</td>\n",
       "      <td>0.823167</td>\n",
       "    </tr>\n",
       "    <tr>\n",
       "      <th>4.0</th>\n",
       "      <td>23116</td>\n",
       "      <td>0.130193</td>\n",
       "    </tr>\n",
       "    <tr>\n",
       "      <th>1.0</th>\n",
       "      <td>5787</td>\n",
       "      <td>0.032593</td>\n",
       "    </tr>\n",
       "    <tr>\n",
       "      <th>3.0</th>\n",
       "      <td>2494</td>\n",
       "      <td>0.014047</td>\n",
       "    </tr>\n",
       "  </tbody>\n",
       "</table>\n",
       "</div>"
      ],
      "text/plain": [
       "     TP_DEPENDENCIA_ADM_ESC  TP_DEPENDENCIA_ADM_ESC_Relativo\n",
       "2.0                  146155                         0.823167\n",
       "4.0                   23116                         0.130193\n",
       "1.0                    5787                         0.032593\n",
       "3.0                    2494                         0.014047"
      ]
     },
     "execution_count": 75,
     "metadata": {
      "tags": []
     },
     "output_type": "execute_result"
    }
   ],
   "source": [
    "array = pd.DataFrame(data_1['TP_DEPENDENCIA_ADM_ESC'].value_counts())\n",
    "array2 = pd.DataFrame(data_1['TP_DEPENDENCIA_ADM_ESC'].value_counts(normalize=True))\n",
    "array['TP_DEPENDENCIA_ADM_ESC_Relativo'] = array2\n",
    "array\n",
    "\n"
   ]
  },
  {
   "cell_type": "code",
   "execution_count": 0,
   "metadata": {
    "colab": {},
    "colab_type": "code",
    "id": "m4s9plHcKUya",
    "outputId": "f8f83f5a-c426-44a2-db8b-f42bec673e64"
   },
   "outputs": [
    {
     "data": {
      "text/html": [
       "<div>\n",
       "<style>\n",
       "    .dataframe thead tr:only-child th {\n",
       "        text-align: right;\n",
       "    }\n",
       "\n",
       "    .dataframe thead th {\n",
       "        text-align: left;\n",
       "    }\n",
       "\n",
       "    .dataframe tbody tr th {\n",
       "        vertical-align: top;\n",
       "    }\n",
       "</style>\n",
       "<table border=\"1\" class=\"dataframe\">\n",
       "  <thead>\n",
       "    <tr style=\"text-align: right;\">\n",
       "      <th></th>\n",
       "      <th>TP_LOCALIZACAO_ESC</th>\n",
       "      <th>TP_LOCALIZACAO_ESC_Relativo</th>\n",
       "    </tr>\n",
       "  </thead>\n",
       "  <tbody>\n",
       "    <tr>\n",
       "      <th>1.0</th>\n",
       "      <td>173777</td>\n",
       "      <td>0.978739</td>\n",
       "    </tr>\n",
       "    <tr>\n",
       "      <th>2.0</th>\n",
       "      <td>3775</td>\n",
       "      <td>0.021261</td>\n",
       "    </tr>\n",
       "  </tbody>\n",
       "</table>\n",
       "</div>"
      ],
      "text/plain": [
       "     TP_LOCALIZACAO_ESC  TP_LOCALIZACAO_ESC_Relativo\n",
       "1.0              173777                     0.978739\n",
       "2.0                3775                     0.021261"
      ]
     },
     "execution_count": 76,
     "metadata": {
      "tags": []
     },
     "output_type": "execute_result"
    }
   ],
   "source": [
    "array = pd.DataFrame(data_1['TP_LOCALIZACAO_ESC'].value_counts())\n",
    "array2 = pd.DataFrame(data_1['TP_LOCALIZACAO_ESC'].value_counts(normalize=True))\n",
    "array['TP_LOCALIZACAO_ESC_Relativo'] = array2\n",
    "array\n",
    "\n"
   ]
  },
  {
   "cell_type": "code",
   "execution_count": 0,
   "metadata": {
    "colab": {},
    "colab_type": "code",
    "id": "D9O3qQf9KUyc",
    "outputId": "94ad8ff6-cd48-4e99-de5c-9789652d04b3"
   },
   "outputs": [
    {
     "data": {
      "text/html": [
       "<div>\n",
       "<style>\n",
       "    .dataframe thead tr:only-child th {\n",
       "        text-align: right;\n",
       "    }\n",
       "\n",
       "    .dataframe thead th {\n",
       "        text-align: left;\n",
       "    }\n",
       "\n",
       "    .dataframe tbody tr th {\n",
       "        vertical-align: top;\n",
       "    }\n",
       "</style>\n",
       "<table border=\"1\" class=\"dataframe\">\n",
       "  <thead>\n",
       "    <tr style=\"text-align: right;\">\n",
       "      <th></th>\n",
       "      <th>TP_SIT_FUNC_ESC</th>\n",
       "      <th>TP_SIT_FUNC_ESC_Relativo</th>\n",
       "    </tr>\n",
       "  </thead>\n",
       "  <tbody>\n",
       "    <tr>\n",
       "      <th>1.0</th>\n",
       "      <td>177283</td>\n",
       "      <td>0.999543</td>\n",
       "    </tr>\n",
       "    <tr>\n",
       "      <th>2.0</th>\n",
       "      <td>78</td>\n",
       "      <td>0.000440</td>\n",
       "    </tr>\n",
       "    <tr>\n",
       "      <th>3.0</th>\n",
       "      <td>3</td>\n",
       "      <td>0.000017</td>\n",
       "    </tr>\n",
       "  </tbody>\n",
       "</table>\n",
       "</div>"
      ],
      "text/plain": [
       "     TP_SIT_FUNC_ESC  TP_SIT_FUNC_ESC_Relativo\n",
       "1.0           177283                  0.999543\n",
       "2.0               78                  0.000440\n",
       "3.0                3                  0.000017"
      ]
     },
     "execution_count": 77,
     "metadata": {
      "tags": []
     },
     "output_type": "execute_result"
    }
   ],
   "source": [
    "array = pd.DataFrame(data_1['TP_SIT_FUNC_ESC'].value_counts())\n",
    "array2 = pd.DataFrame(data_1['TP_SIT_FUNC_ESC'].value_counts(normalize=True))\n",
    "array['TP_SIT_FUNC_ESC_Relativo'] = array2\n",
    "array\n",
    "\n"
   ]
  },
  {
   "cell_type": "code",
   "execution_count": 0,
   "metadata": {
    "colab": {},
    "colab_type": "code",
    "id": "3LtY3Bu-KUyf",
    "outputId": "3961d712-36d0-4033-fc7a-028e1923a107"
   },
   "outputs": [
    {
     "data": {
      "image/png": "[encoded data removed]",
      "text/plain": [
       "<matplotlib.figure.Figure at 0x1d5e8f0e320>"
      ]
     },
     "metadata": {
      "tags": []
     },
     "output_type": "display_data"
    },
    {
     "data": {
      "image/png": "[encoded data removed]",
      "text/plain": [
       "<matplotlib.figure.Figure at 0x1d5e92d6320>"
      ]
     },
     "metadata": {
      "tags": []
     },
     "output_type": "display_data"
    },
    {
     "data": {
      "image/png": "[encoded data removed]",
      "text/plain": [
       "<matplotlib.figure.Figure at 0x1d5e8f0b668>"
      ]
     },
     "metadata": {
      "tags": []
     },
     "output_type": "display_data"
    },
    {
     "data": {
      "image/png": "[encoded data removed]",
      "text/plain": [
       "<matplotlib.figure.Figure at 0x1d5e8aac518>"
      ]
     },
     "metadata": {
      "tags": []
     },
     "output_type": "display_data"
    }
   ],
   "source": [
    "df = data_1['NU_NOTA_CN']\n",
    "hist = df.hist(bins=6)\n",
    "plt.title('Histograma da Variável NU_NOTA_CN (Ciências da Natureza)')\n",
    "plt.xlabel('Nota')\n",
    "plt.ylabel('Frequência')\n",
    "hist\n",
    "plt.show()\n",
    "\n",
    "df = data_1['NU_NOTA_MT']\n",
    "hist = df.hist(bins=4)\n",
    "plt.title('Histograma da Variável NU_NOTA_MT (Matemática) ')\n",
    "plt.xlabel('Nota')\n",
    "plt.ylabel('Frequência')\n",
    "hist\n",
    "plt.show()\n",
    "\n",
    "\n",
    "df = data_1['NU_NOTA_CH']\n",
    "hist = df.hist(bins=4)\n",
    "plt.title('Histograma da Variável NU_NOTA_CH (Ciências Humanas)')\n",
    "plt.xlabel('Nota')\n",
    "plt.ylabel('Frequência')\n",
    "hist\n",
    "plt.show()\n",
    "\n",
    "df = data_1['NU_NOTA_LC']\n",
    "hist = df.hist(bins=4)\n",
    "plt.title('Histograma da Variável NU_NOTA_LC (Linguagens) ')\n",
    "plt.xlabel('Nota')\n",
    "plt.ylabel('Frequência')\n",
    "hist\n",
    "plt.show()\n",
    "\n"
   ]
  },
  {
   "cell_type": "code",
   "execution_count": 0,
   "metadata": {
    "colab": {},
    "colab_type": "code",
    "id": "SGvObwIHKUyi",
    "outputId": "515ae0c9-a624-4e6c-d6fd-f9a4cff3b45f"
   },
   "outputs": [
    {
     "data": {
      "image/png": "[encoded data removed]",
      "text/plain": [
       "<matplotlib.figure.Figure at 0x1d5e8ee3b70>"
      ]
     },
     "metadata": {
      "tags": []
     },
     "output_type": "display_data"
    },
    {
     "data": {
      "image/png": "[encoded data removed]",
      "text/plain": [
       "<matplotlib.figure.Figure at 0x1d5e9202f60>"
      ]
     },
     "metadata": {
      "tags": []
     },
     "output_type": "display_data"
    },
    {
     "data": {
      "image/png": "[encoded data removed]",
      "text/plain": [
       "<matplotlib.figure.Figure at 0x1d5e9ee7b38>"
      ]
     },
     "metadata": {
      "tags": []
     },
     "output_type": "display_data"
    },
    {
     "data": {
      "image/png": "[encoded data removed]",
      "text/plain": [
       "<matplotlib.figure.Figure at 0x1d5e8b41358>"
      ]
     },
     "metadata": {
      "tags": []
     },
     "output_type": "display_data"
    },
    {
     "data": {
      "image/png": "[encoded data removed]",
      "text/plain": [
       "<matplotlib.figure.Figure at 0x1d5e8e29860>"
      ]
     },
     "metadata": {
      "tags": []
     },
     "output_type": "display_data"
    },
    {
     "data": {
      "image/png": "[encoded data removed]",
      "text/plain": [
       "<matplotlib.figure.Figure at 0x1d5e8ed4828>"
      ]
     },
     "metadata": {
      "tags": []
     },
     "output_type": "display_data"
    }
   ],
   "source": [
    "df = data_1['NU_NOTA_REDACAO']\n",
    "hist = df.hist(bins=5)\n",
    "plt.title('Histograma da Variável NU_NOTA_CN (Redação)')\n",
    "plt.xlabel('Nota')\n",
    "plt.ylabel('Frequência')\n",
    "hist\n",
    "plt.show()\n",
    "\n",
    "df = data_1['NU_NOTA_COMP1']\n",
    "hist = df.hist(bins=3)\n",
    "plt.title('Histograma da Variável NU_NOTA_COMP1 (Redação)')\n",
    "plt.xlabel('Nota')\n",
    "plt.ylabel('Frequência')\n",
    "hist\n",
    "plt.show()\n",
    "\n",
    "df = data_1['NU_NOTA_COMP2']\n",
    "hist = df.hist(bins=3)\n",
    "plt.title('Histograma da Variável NU_NOTA_COMP2 (Redação)')\n",
    "plt.xlabel('Nota')\n",
    "plt.ylabel('Frequência')\n",
    "hist\n",
    "plt.show()\n",
    "\n",
    "df = data_1['NU_NOTA_COMP3']\n",
    "hist = df.hist(bins=3)\n",
    "plt.title('Histograma da Variável NU_NOTA_COMP3 (Redação)')\n",
    "plt.xlabel('Nota')\n",
    "plt.ylabel('Frequência')\n",
    "hist\n",
    "plt.show()\n",
    "\n",
    "df = data_1['NU_NOTA_COMP4']\n",
    "hist = df.hist(bins=3)\n",
    "plt.title('Histograma da Variável NU_NOTA_COMP4 (Redação)')\n",
    "plt.xlabel('Nota')\n",
    "plt.ylabel('Frequência')\n",
    "hist\n",
    "plt.show()\n",
    "\n",
    "df = data_1['NU_NOTA_COMP5']\n",
    "hist = df.hist(bins=3)\n",
    "plt.title('Histograma da Variável NU_NOTA_COMP5 (Redação)')\n",
    "plt.xlabel('Nota')\n",
    "plt.ylabel('Frequência')\n",
    "hist\n",
    "plt.show()\n"
   ]
  },
  {
   "cell_type": "code",
   "execution_count": 0,
   "metadata": {
    "colab": {},
    "colab_type": "code",
    "id": "OP7O_h_RKUyk",
    "outputId": "5813ff74-09f0-4516-ba58-cd8f941e8f6b"
   },
   "outputs": [
    {
     "data": {
      "image/png": "[encoded data removed]",
      "text/plain": [
       "<matplotlib.figure.Figure at 0x1d5e95b2c18>"
      ]
     },
     "metadata": {
      "tags": []
     },
     "output_type": "display_data"
    },
    {
     "name": "stdout",
     "output_type": "stream",
     "text": [
      "A Nunca estudou. \n",
      " B Não completou a 4ª série/5º ano do Ensino Fundamental. \n",
      " C Completou a 4ª série/5º ano, mas não completou a 8ª série/9º ano do Ensino Fundamental. \n",
      " D Completou a 8ª série/9º ano do Ensino Fundamental, mas não completou o Ensino Médio. \n",
      " E Completou o Ensino Médio, mas não completou a Faculdade. \n",
      " F Completou a Faculdade, mas não completou a Pós-graduação. \n",
      " G Completou a Pós-graduação. \n",
      " H Não sei.\n"
     ]
    },
    {
     "data": {
      "text/html": [
       "<div>\n",
       "<style>\n",
       "    .dataframe thead tr:only-child th {\n",
       "        text-align: right;\n",
       "    }\n",
       "\n",
       "    .dataframe thead th {\n",
       "        text-align: left;\n",
       "    }\n",
       "\n",
       "    .dataframe tbody tr th {\n",
       "        vertical-align: top;\n",
       "    }\n",
       "</style>\n",
       "<table border=\"1\" class=\"dataframe\">\n",
       "  <thead>\n",
       "    <tr style=\"text-align: right;\">\n",
       "      <th></th>\n",
       "      <th>Q001</th>\n",
       "    </tr>\n",
       "  </thead>\n",
       "  <tbody>\n",
       "    <tr>\n",
       "      <th>E</th>\n",
       "      <td>41903</td>\n",
       "    </tr>\n",
       "    <tr>\n",
       "      <th>B</th>\n",
       "      <td>36556</td>\n",
       "    </tr>\n",
       "    <tr>\n",
       "      <th>C</th>\n",
       "      <td>33494</td>\n",
       "    </tr>\n",
       "    <tr>\n",
       "      <th>D</th>\n",
       "      <td>25684</td>\n",
       "    </tr>\n",
       "    <tr>\n",
       "      <th>H</th>\n",
       "      <td>16883</td>\n",
       "    </tr>\n",
       "    <tr>\n",
       "      <th>F</th>\n",
       "      <td>11409</td>\n",
       "    </tr>\n",
       "    <tr>\n",
       "      <th>G</th>\n",
       "      <td>6822</td>\n",
       "    </tr>\n",
       "    <tr>\n",
       "      <th>A</th>\n",
       "      <td>4801</td>\n",
       "    </tr>\n",
       "  </tbody>\n",
       "</table>\n",
       "</div>"
      ],
      "text/plain": [
       "    Q001\n",
       "E  41903\n",
       "B  36556\n",
       "C  33494\n",
       "D  25684\n",
       "H  16883\n",
       "F  11409\n",
       "G   6822\n",
       "A   4801"
      ]
     },
     "execution_count": 177,
     "metadata": {
      "tags": []
     },
     "output_type": "execute_result"
    }
   ],
   "source": [
    "tipo = data_1['Q001'].value_counts().index\n",
    "frequencia = data_1['Q001'].value_counts().values\n",
    "tipo, frequencia\n",
    "plt.pie(x=frequencia, labels=tipo, autopct='%2.2f%%',shadow=True, startangle=20)\n",
    "plt.title('Até que série seu pai, ou o homem responsável por você, estudou?')\n",
    "plt.show()\n",
    "\n",
    "\n",
    "print(\"A Nunca estudou. \\n B Não completou a 4ª série/5º ano do Ensino Fundamental. \\n C Completou a 4ª série/5º ano, mas não completou a 8ª série/9º ano do Ensino Fundamental. \\n D Completou a 8ª série/9º ano do Ensino Fundamental, mas não completou o Ensino Médio. \\n E Completou o Ensino Médio, mas não completou a Faculdade. \\n F Completou a Faculdade, mas não completou a Pós-graduação. \\n G Completou a Pós-graduação. \\n H Não sei.\")\n",
    "\n",
    "array = pd.DataFrame(data_1['Q001'].value_counts())\n",
    "\n",
    "array\n"
   ]
  },
  {
   "cell_type": "code",
   "execution_count": 0,
   "metadata": {
    "colab": {},
    "colab_type": "code",
    "id": "hT2Ne_BvKUyn",
    "outputId": "30e4b926-5e7d-44af-a399-c5ddfd0387b5"
   },
   "outputs": [
    {
     "data": {
      "image/png": "[encoded data removed]",
      "text/plain": [
       "<matplotlib.figure.Figure at 0x1d5e878d860>"
      ]
     },
     "metadata": {
      "tags": []
     },
     "output_type": "display_data"
    },
    {
     "name": "stdout",
     "output_type": "stream",
     "text": [
      "A Nunca estudou. \n",
      " B Não completou a 4ª série/5º ano do Ensino Fundamental. \n",
      " C Completou a 4ª série/5º ano, mas não completou a 8ª série/9º ano do Ensino Fundamental. \n",
      " D Completou a 8ª série/9º ano do Ensino Fundamental, mas não completou o Ensino Médio. \n",
      " E Completou o Ensino Médio, mas não completou a Faculdade. \n",
      " F Completou a Faculdade, mas não completou a Pós-graduação. \n",
      " G Completou a Pós-graduação. \n",
      " H Não sei.\n"
     ]
    },
    {
     "data": {
      "text/html": [
       "<div>\n",
       "<style>\n",
       "    .dataframe thead tr:only-child th {\n",
       "        text-align: right;\n",
       "    }\n",
       "\n",
       "    .dataframe thead th {\n",
       "        text-align: left;\n",
       "    }\n",
       "\n",
       "    .dataframe tbody tr th {\n",
       "        vertical-align: top;\n",
       "    }\n",
       "</style>\n",
       "<table border=\"1\" class=\"dataframe\">\n",
       "  <thead>\n",
       "    <tr style=\"text-align: right;\">\n",
       "      <th></th>\n",
       "      <th>Q002</th>\n",
       "    </tr>\n",
       "  </thead>\n",
       "  <tbody>\n",
       "    <tr>\n",
       "      <th>E</th>\n",
       "      <td>51196</td>\n",
       "    </tr>\n",
       "    <tr>\n",
       "      <th>C</th>\n",
       "      <td>30955</td>\n",
       "    </tr>\n",
       "    <tr>\n",
       "      <th>D</th>\n",
       "      <td>27744</td>\n",
       "    </tr>\n",
       "    <tr>\n",
       "      <th>B</th>\n",
       "      <td>27388</td>\n",
       "    </tr>\n",
       "    <tr>\n",
       "      <th>F</th>\n",
       "      <td>16126</td>\n",
       "    </tr>\n",
       "    <tr>\n",
       "      <th>G</th>\n",
       "      <td>13438</td>\n",
       "    </tr>\n",
       "    <tr>\n",
       "      <th>H</th>\n",
       "      <td>7095</td>\n",
       "    </tr>\n",
       "    <tr>\n",
       "      <th>A</th>\n",
       "      <td>3610</td>\n",
       "    </tr>\n",
       "  </tbody>\n",
       "</table>\n",
       "</div>"
      ],
      "text/plain": [
       "    Q002\n",
       "E  51196\n",
       "C  30955\n",
       "D  27744\n",
       "B  27388\n",
       "F  16126\n",
       "G  13438\n",
       "H   7095\n",
       "A   3610"
      ]
     },
     "execution_count": 178,
     "metadata": {
      "tags": []
     },
     "output_type": "execute_result"
    }
   ],
   "source": [
    "var = \"Q002\"\n",
    "tipo = data_1[var].value_counts().index\n",
    "frequencia = data_1[var].value_counts().values\n",
    "tipo, frequencia\n",
    "plt.pie(x=frequencia, labels=tipo, autopct='%2.2f%%',shadow=True, startangle=20)\n",
    "plt.title('Até que série seu mãe, ou a mulher responsável por você, estudou?')\n",
    "plt.show()\n",
    "\n",
    "\n",
    "print(\"A Nunca estudou. \\n B Não completou a 4ª série/5º ano do Ensino Fundamental. \\n C Completou a 4ª série/5º ano, mas não completou a 8ª série/9º ano do Ensino Fundamental. \\n D Completou a 8ª série/9º ano do Ensino Fundamental, mas não completou o Ensino Médio. \\n E Completou o Ensino Médio, mas não completou a Faculdade. \\n F Completou a Faculdade, mas não completou a Pós-graduação. \\n G Completou a Pós-graduação. \\n H Não sei.\")\n",
    "\n",
    "\n",
    "array = pd.DataFrame(data_1[var].value_counts())\n",
    "\n",
    "array\n"
   ]
  },
  {
   "cell_type": "code",
   "execution_count": 0,
   "metadata": {
    "colab": {},
    "colab_type": "code",
    "id": "j0pcJ8GqKUyq",
    "outputId": "53cc0ab0-ba6e-4264-e880-c41a5b0f3389"
   },
   "outputs": [
    {
     "data": {
      "image/png": "[encoded data removed]",
      "text/plain": [
       "<matplotlib.figure.Figure at 0x1d5e961ec50>"
      ]
     },
     "metadata": {
      "tags": []
     },
     "output_type": "display_data"
    },
    {
     "name": "stdout",
     "output_type": "stream",
     "text": [
      "Grupo 1: Lavrador, agricultor sem empregados, boia-fria, criador de animais, apicultor, pescador, lenhador, seringueiro, extrativista.  \n",
      " Grupo 2: Diarista, empregado doméstico, cuidador de idosos, babá, cozinheiro (em casas particulares), motorista particular, jardineiro, faxineiro de empresas e prédios, vigilante, porteiro, carteiro, office-boy, vendedor, caixa, atendente de loja, auxiliar administrativo, recepcionista, servente de pedreiro, repositor de mercadoria. \n",
      " Grupo 3: Padeiro, cozinheiro industrial ou em restaurantes, sapateiro, costureiro, joalheiro, torneiro mecânico, operador de máquinas, soldador, operário de fábrica, trabalhador da mineração, pedreiro, pintor, eletricista, encanador, motorista, caminhoneiro, taxista. \n",
      " Grupo 4: Professor (de ensino fundamental ou médio, idioma, música, artes etc.), técnico (de enfermagem, contabilidade, eletrônica etc.), policial, militar de baixa patente (soldado, cabo, sargento), corretor de imóveis, supervisor, gerente, mestre de obras, pastor, microempresário (proprietário de empresa com menos de 10 empregados), pequeno comerciante, pequeno proprietário de terras, trabalhador autônomo ou por conta própria. \n",
      " Grupo 5: Médico, engenheiro, dentista, psicólogo, economista, advogado, juiz, promotor, defensor, delegado, tenente, capitão, coronel, professor universitário, diretor em empresas públicas ou privadas, político, proprietário de empresas com mais de 10 empregados. \n",
      " Não sei.\n"
     ]
    },
    {
     "data": {
      "text/html": [
       "<div>\n",
       "<style>\n",
       "    .dataframe thead tr:only-child th {\n",
       "        text-align: right;\n",
       "    }\n",
       "\n",
       "    .dataframe thead th {\n",
       "        text-align: left;\n",
       "    }\n",
       "\n",
       "    .dataframe tbody tr th {\n",
       "        vertical-align: top;\n",
       "    }\n",
       "</style>\n",
       "<table border=\"1\" class=\"dataframe\">\n",
       "  <thead>\n",
       "    <tr style=\"text-align: right;\">\n",
       "      <th></th>\n",
       "      <th>Q003</th>\n",
       "    </tr>\n",
       "  </thead>\n",
       "  <tbody>\n",
       "    <tr>\n",
       "      <th>C</th>\n",
       "      <td>51022</td>\n",
       "    </tr>\n",
       "    <tr>\n",
       "      <th>A</th>\n",
       "      <td>33759</td>\n",
       "    </tr>\n",
       "    <tr>\n",
       "      <th>B</th>\n",
       "      <td>33522</td>\n",
       "    </tr>\n",
       "    <tr>\n",
       "      <th>D</th>\n",
       "      <td>29745</td>\n",
       "    </tr>\n",
       "    <tr>\n",
       "      <th>F</th>\n",
       "      <td>20092</td>\n",
       "    </tr>\n",
       "    <tr>\n",
       "      <th>E</th>\n",
       "      <td>9412</td>\n",
       "    </tr>\n",
       "  </tbody>\n",
       "</table>\n",
       "</div>"
      ],
      "text/plain": [
       "    Q003\n",
       "C  51022\n",
       "A  33759\n",
       "B  33522\n",
       "D  29745\n",
       "F  20092\n",
       "E   9412"
      ]
     },
     "execution_count": 114,
     "metadata": {
      "tags": []
     },
     "output_type": "execute_result"
    }
   ],
   "source": [
    "var = \"Q003\"\n",
    "tipo = data_1[var].value_counts().index\n",
    "frequencia = data_1[var].value_counts().values\n",
    "tipo, frequencia\n",
    "plt.pie(x=frequencia, labels=tipo, autopct='%2.2f%%',shadow=True, startangle=90)\n",
    "plt.title('Profissão do pai')\n",
    "plt.show()\n",
    "\n",
    "print(\"Grupo 1: Lavrador, agricultor sem empregados, boia-fria, criador de animais, apicultor, pescador, lenhador, seringueiro, extrativista.  \\n Grupo 2: Diarista, empregado doméstico, cuidador de idosos, babá, cozinheiro (em casas particulares), motorista particular, jardineiro, faxineiro de empresas e prédios, vigilante, porteiro, carteiro, office-boy, vendedor, caixa, atendente de loja, auxiliar administrativo, recepcionista, servente de pedreiro, repositor de mercadoria. \\n Grupo 3: Padeiro, cozinheiro industrial ou em restaurantes, sapateiro, costureiro, joalheiro, torneiro mecânico, operador de máquinas, soldador, operário de fábrica, trabalhador da mineração, pedreiro, pintor, eletricista, encanador, motorista, caminhoneiro, taxista. \\n Grupo 4: Professor (de ensino fundamental ou médio, idioma, música, artes etc.), técnico (de enfermagem, contabilidade, eletrônica etc.), policial, militar de baixa patente (soldado, cabo, sargento), corretor de imóveis, supervisor, gerente, mestre de obras, pastor, microempresário (proprietário de empresa com menos de 10 empregados), pequeno comerciante, pequeno proprietário de terras, trabalhador autônomo ou por conta própria. \\n Grupo 5: Médico, engenheiro, dentista, psicólogo, economista, advogado, juiz, promotor, defensor, delegado, tenente, capitão, coronel, professor universitário, diretor em empresas públicas ou privadas, político, proprietário de empresas com mais de 10 empregados. \\n Não sei.\")\n",
    "\n",
    "\n",
    "array = pd.DataFrame(data_1[var].value_counts())\n",
    "\n",
    "array\n"
   ]
  },
  {
   "cell_type": "code",
   "execution_count": 0,
   "metadata": {
    "colab": {},
    "colab_type": "code",
    "id": "a0SvD5XdKUys",
    "outputId": "355f8ea8-25e7-42d0-9f65-33c99821c677"
   },
   "outputs": [
    {
     "data": {
      "image/png": "[encoded data removed]",
      "text/plain": [
       "<matplotlib.figure.Figure at 0x1d5e95e2ba8>"
      ]
     },
     "metadata": {
      "tags": []
     },
     "output_type": "display_data"
    },
    {
     "name": "stdout",
     "output_type": "stream",
     "text": [
      "Grupo 1: Lavrador, agricultor sem empregados, boia-fria, criador de animais, apicultor, pescador, lenhador, seringueiro, extrativista.  \n",
      " Grupo 2: Diarista, empregado doméstico, cuidador de idosos, babá, cozinheiro (em casas particulares), motorista particular, jardineiro, faxineiro de empresas e prédios, vigilante, porteiro, carteiro, office-boy, vendedor, caixa, atendente de loja, auxiliar administrativo, recepcionista, servente de pedreiro, repositor de mercadoria. \n",
      " Grupo 3: Padeiro, cozinheiro industrial ou em restaurantes, sapateiro, costureiro, joalheiro, torneiro mecânico, operador de máquinas, soldador, operário de fábrica, trabalhador da mineração, pedreiro, pintor, eletricista, encanador, motorista, caminhoneiro, taxista. \n",
      " Grupo 4: Professor (de ensino fundamental ou médio, idioma, música, artes etc.), técnico (de enfermagem, contabilidade, eletrônica etc.), policial, militar de baixa patente (soldado, cabo, sargento), corretor de imóveis, supervisor, gerente, mestre de obras, pastor, microempresário (proprietário de empresa com menos de 10 empregados), pequeno comerciante, pequeno proprietário de terras, trabalhador autônomo ou por conta própria. \n",
      " Grupo 5: Médico, engenheiro, dentista, psicólogo, economista, advogado, juiz, promotor, defensor, delegado, tenente, capitão, coronel, professor universitário, diretor em empresas públicas ou privadas, político, proprietário de empresas com mais de 10 empregados. \n",
      " Não sei.\n"
     ]
    },
    {
     "data": {
      "text/html": [
       "<div>\n",
       "<style>\n",
       "    .dataframe thead tr:only-child th {\n",
       "        text-align: right;\n",
       "    }\n",
       "\n",
       "    .dataframe thead th {\n",
       "        text-align: left;\n",
       "    }\n",
       "\n",
       "    .dataframe tbody tr th {\n",
       "        vertical-align: top;\n",
       "    }\n",
       "</style>\n",
       "<table border=\"1\" class=\"dataframe\">\n",
       "  <thead>\n",
       "    <tr style=\"text-align: right;\">\n",
       "      <th></th>\n",
       "      <th>Q004</th>\n",
       "    </tr>\n",
       "  </thead>\n",
       "  <tbody>\n",
       "    <tr>\n",
       "      <th>B</th>\n",
       "      <td>82768</td>\n",
       "    </tr>\n",
       "    <tr>\n",
       "      <th>D</th>\n",
       "      <td>35941</td>\n",
       "    </tr>\n",
       "    <tr>\n",
       "      <th>A</th>\n",
       "      <td>21890</td>\n",
       "    </tr>\n",
       "    <tr>\n",
       "      <th>F</th>\n",
       "      <td>16850</td>\n",
       "    </tr>\n",
       "    <tr>\n",
       "      <th>C</th>\n",
       "      <td>14157</td>\n",
       "    </tr>\n",
       "    <tr>\n",
       "      <th>E</th>\n",
       "      <td>5946</td>\n",
       "    </tr>\n",
       "  </tbody>\n",
       "</table>\n",
       "</div>"
      ],
      "text/plain": [
       "    Q004\n",
       "B  82768\n",
       "D  35941\n",
       "A  21890\n",
       "F  16850\n",
       "C  14157\n",
       "E   5946"
      ]
     },
     "execution_count": 190,
     "metadata": {
      "tags": []
     },
     "output_type": "execute_result"
    }
   ],
   "source": [
    "var = \"Q004\"\n",
    "tipo = data_1[var].value_counts().index\n",
    "frequencia = data_1[var].value_counts().values\n",
    "tipo, frequencia\n",
    "plt.pie(x=frequencia, labels=tipo, autopct='%2.2f%%',shadow=True, startangle=30)\n",
    "plt.title('Profissão da mãe')\n",
    "plt.show()\n",
    "\n",
    "print(\"Grupo 1: Lavrador, agricultor sem empregados, boia-fria, criador de animais, apicultor, pescador, lenhador, seringueiro, extrativista.  \\n Grupo 2: Diarista, empregado doméstico, cuidador de idosos, babá, cozinheiro (em casas particulares), motorista particular, jardineiro, faxineiro de empresas e prédios, vigilante, porteiro, carteiro, office-boy, vendedor, caixa, atendente de loja, auxiliar administrativo, recepcionista, servente de pedreiro, repositor de mercadoria. \\n Grupo 3: Padeiro, cozinheiro industrial ou em restaurantes, sapateiro, costureiro, joalheiro, torneiro mecânico, operador de máquinas, soldador, operário de fábrica, trabalhador da mineração, pedreiro, pintor, eletricista, encanador, motorista, caminhoneiro, taxista. \\n Grupo 4: Professor (de ensino fundamental ou médio, idioma, música, artes etc.), técnico (de enfermagem, contabilidade, eletrônica etc.), policial, militar de baixa patente (soldado, cabo, sargento), corretor de imóveis, supervisor, gerente, mestre de obras, pastor, microempresário (proprietário de empresa com menos de 10 empregados), pequeno comerciante, pequeno proprietário de terras, trabalhador autônomo ou por conta própria. \\n Grupo 5: Médico, engenheiro, dentista, psicólogo, economista, advogado, juiz, promotor, defensor, delegado, tenente, capitão, coronel, professor universitário, diretor em empresas públicas ou privadas, político, proprietário de empresas com mais de 10 empregados. \\n Não sei.\")\n",
    "\n",
    "\n",
    "array = pd.DataFrame(data_1[var].value_counts())\n",
    "\n",
    "array"
   ]
  },
  {
   "cell_type": "code",
   "execution_count": 1,
   "metadata": {
    "colab": {
     "base_uri": "https://localhost:8080/",
     "height": 231
    },
    "colab_type": "code",
    "executionInfo": {
     "elapsed": 705,
     "status": "error",
     "timestamp": 1585753081242,
     "user": {
      "displayName": "VINICIUS ALBERTO ALVES DA SILVA",
      "photoUrl": "",
      "userId": "04536582988922870960"
     },
     "user_tz": 180
    },
    "id": "LQDcH1-7KUyv",
    "outputId": "6dd47d45-79c6-4fcd-da56-8d4e3d783630"
   },
   "outputs": [
    {
     "ename": "NameError",
     "evalue": "ignored",
     "output_type": "error",
     "traceback": [
      "\u001b[0;31m---------------------------------------------------------------------------\u001b[0m",
      "\u001b[0;31mNameError\u001b[0m                                 Traceback (most recent call last)",
      "\u001b[0;32m<ipython-input-1-ec063fbee7b0>\u001b[0m in \u001b[0;36m<module>\u001b[0;34m()\u001b[0m\n\u001b[0;32m----> 1\u001b[0;31m \u001b[0mdf\u001b[0m \u001b[0;34m=\u001b[0m \u001b[0mdata_1\u001b[0m\u001b[0;34m[\u001b[0m\u001b[0;34m'Q005'\u001b[0m\u001b[0;34m]\u001b[0m\u001b[0;34m\u001b[0m\u001b[0;34m\u001b[0m\u001b[0m\n\u001b[0m\u001b[1;32m      2\u001b[0m \u001b[0mhist\u001b[0m \u001b[0;34m=\u001b[0m \u001b[0mdf\u001b[0m\u001b[0;34m.\u001b[0m\u001b[0mhist\u001b[0m\u001b[0;34m(\u001b[0m\u001b[0mbins\u001b[0m\u001b[0;34m=\u001b[0m\u001b[0;36m3\u001b[0m\u001b[0;34m)\u001b[0m\u001b[0;34m\u001b[0m\u001b[0;34m\u001b[0m\u001b[0m\n\u001b[1;32m      3\u001b[0m \u001b[0mhist\u001b[0m\u001b[0;34m.\u001b[0m\u001b[0mset_xlim\u001b[0m\u001b[0;34m(\u001b[0m\u001b[0;34m(\u001b[0m\u001b[0;36m0\u001b[0m\u001b[0;34m,\u001b[0m\u001b[0;36m15\u001b[0m\u001b[0;34m)\u001b[0m\u001b[0;34m)\u001b[0m\u001b[0;34m\u001b[0m\u001b[0;34m\u001b[0m\u001b[0m\n\u001b[1;32m      4\u001b[0m \u001b[0mplt\u001b[0m\u001b[0;34m.\u001b[0m\u001b[0mtitle\u001b[0m\u001b[0;34m(\u001b[0m\u001b[0;34m'Histograma da Variável QOO5 (Incluindo você, quantas pessoas moram atualmente em sua residência?)'\u001b[0m\u001b[0;34m)\u001b[0m\u001b[0;34m\u001b[0m\u001b[0;34m\u001b[0m\u001b[0m\n\u001b[1;32m      5\u001b[0m \u001b[0mplt\u001b[0m\u001b[0;34m.\u001b[0m\u001b[0mxlabel\u001b[0m\u001b[0;34m(\u001b[0m\u001b[0;34m'Quantidade'\u001b[0m\u001b[0;34m)\u001b[0m\u001b[0;34m\u001b[0m\u001b[0;34m\u001b[0m\u001b[0m\n",
      "\u001b[0;31mNameError\u001b[0m: name 'data_1' is not defined"
     ]
    }
   ],
   "source": [
    "df = data_1['Q005']\n",
    "hist = df.hist(bins=3)\n",
    "\n",
    "plt.title('Histograma da Variável QOO5 (Incluindo você, quantas pessoas moram atualmente em sua residência?)')\n",
    "plt.xlabel('Quantidade')\n",
    "plt.ylabel('Frequência')\n",
    "hist\n",
    "plt.show()"
   ]
  },
  {
   "cell_type": "code",
   "execution_count": 0,
   "metadata": {
    "colab": {},
    "colab_type": "code",
    "id": "yufSgFiEKUyx",
    "outputId": "872108a6-1813-42e1-c95c-c3884e15b8da"
   },
   "outputs": [
    {
     "ename": "NameError",
     "evalue": "name 'data_1' is not defined",
     "output_type": "error",
     "traceback": [
      "\u001b[1;31m---------------------------------------------------------------------------\u001b[0m",
      "\u001b[1;31mNameError\u001b[0m                                 Traceback (most recent call last)",
      "\u001b[1;32m<ipython-input-1-660f06d75609>\u001b[0m in \u001b[0;36m<module>\u001b[1;34m()\u001b[0m\n\u001b[0;32m      1\u001b[0m \u001b[0mvar\u001b[0m \u001b[1;33m=\u001b[0m \u001b[1;34m\"Q006\"\u001b[0m\u001b[1;33m\u001b[0m\u001b[0m\n\u001b[1;32m----> 2\u001b[1;33m \u001b[0mtipo\u001b[0m \u001b[1;33m=\u001b[0m \u001b[0mdata_1\u001b[0m\u001b[1;33m[\u001b[0m\u001b[0mvar\u001b[0m\u001b[1;33m]\u001b[0m\u001b[1;33m.\u001b[0m\u001b[0mvalue_counts\u001b[0m\u001b[1;33m(\u001b[0m\u001b[1;33m)\u001b[0m\u001b[1;33m.\u001b[0m\u001b[0mindex\u001b[0m\u001b[1;33m\u001b[0m\u001b[0m\n\u001b[0m\u001b[0;32m      3\u001b[0m \u001b[0mfrequencia\u001b[0m \u001b[1;33m=\u001b[0m \u001b[0mdata_1\u001b[0m\u001b[1;33m[\u001b[0m\u001b[0mvar\u001b[0m\u001b[1;33m]\u001b[0m\u001b[1;33m.\u001b[0m\u001b[0mvalue_counts\u001b[0m\u001b[1;33m(\u001b[0m\u001b[1;33m)\u001b[0m\u001b[1;33m.\u001b[0m\u001b[0mvalues\u001b[0m\u001b[1;33m\u001b[0m\u001b[0m\n\u001b[0;32m      4\u001b[0m \u001b[0mtipo\u001b[0m\u001b[1;33m,\u001b[0m \u001b[0mfrequencia\u001b[0m\u001b[1;33m\u001b[0m\u001b[0m\n\u001b[0;32m      5\u001b[0m \u001b[0mplt\u001b[0m\u001b[1;33m.\u001b[0m\u001b[0mpie\u001b[0m\u001b[1;33m(\u001b[0m\u001b[0mx\u001b[0m\u001b[1;33m=\u001b[0m\u001b[0mfrequencia\u001b[0m\u001b[1;33m,\u001b[0m \u001b[0mlabels\u001b[0m\u001b[1;33m=\u001b[0m\u001b[0mtipo\u001b[0m\u001b[1;33m,\u001b[0m \u001b[0mautopct\u001b[0m\u001b[1;33m=\u001b[0m\u001b[1;34m'%2.2f%%'\u001b[0m\u001b[1;33m,\u001b[0m\u001b[0mshadow\u001b[0m\u001b[1;33m=\u001b[0m\u001b[1;32mTrue\u001b[0m\u001b[1;33m,\u001b[0m \u001b[0mstartangle\u001b[0m\u001b[1;33m=\u001b[0m\u001b[1;36m0\u001b[0m\u001b[1;33m)\u001b[0m\u001b[1;33m\u001b[0m\u001b[0m\n",
      "\u001b[1;31mNameError\u001b[0m: name 'data_1' is not defined"
     ]
    }
   ],
   "source": [
    "var = \"Q006\"\n",
    "tipo = data_1[var].value_counts().index\n",
    "frequencia = data_1[var].value_counts().values\n",
    "tipo, frequencia\n",
    "plt.pie(x=frequencia, labels=tipo, autopct='%2.2f%%',shadow=True, startangle=0)\n",
    "plt.title('Renda Mensal da Família')\n",
    "plt.show()\n",
    "print(\" A:Nenhuma renda. \\n B:Até R$ 937,00. \\n C:De R$ 937,01 até R$ 1.405,50. \\n D:De R$ 1.405,51 até R$ 1.874,00. \\n E:De R$ 1.874,01 até R$ 2.342,50. \\n F:De R$ 2.342,51 até R$ 2.811,00. \\n G:De R$ 2.811,01 até R$ 3.748,00. \\n H:De R$ 3.748,01 até R$ 4.685,00. \\n I:De R$ 4.685,01 até R$ 5.622,00. \\n J:De R$ 5.622,01 até R$ 6.559,00. \\n K:De R$ 6.559,01 até R$ 7.496,00. \\n L:De R$ 7.496,01 até R$ 8.433,00. \\n M:De R$ 8.433,01 até R$ 9.370,00. \\n N:De R$ 9.370,01 até R$ 11.244,00. \\n O:De R$ 11.244,01 até R$ 14.055,00. \\n P:De R$ 14.055,01 até R$ 18.740,00. \\n Q:Mais de R$ 18.740,00. \\n\" ) \n",
    "\n",
    "\n",
    "array = pd.DataFrame(data_1[var].value_counts(normalize=True).cumsum())\n",
    "\n",
    "array"
   ]
  },
  {
   "cell_type": "code",
   "execution_count": 0,
   "metadata": {
    "colab": {},
    "colab_type": "code",
    "id": "0YqvFukuKUyz",
    "outputId": "f728bb0f-303f-45a8-d7f1-d127e5883ea3"
   },
   "outputs": [
    {
     "data": {
      "image/png": "[encoded data removed]",
      "text/plain": [
       "<matplotlib.figure.Figure at 0x1d5e8f917f0>"
      ]
     },
     "metadata": {
      "tags": []
     },
     "output_type": "display_data"
    },
    {
     "name": "stdout",
     "output_type": "stream",
     "text": [
      "A:Não. \n",
      " B:Sim, um ou dois dias por semana. \n",
      " C:Sim, três ou quatro dias por semana. \n",
      " D:Sim, pelo menos cinco dias por semana.\n"
     ]
    },
    {
     "data": {
      "text/html": [
       "<div>\n",
       "<style>\n",
       "    .dataframe thead tr:only-child th {\n",
       "        text-align: right;\n",
       "    }\n",
       "\n",
       "    .dataframe thead th {\n",
       "        text-align: left;\n",
       "    }\n",
       "\n",
       "    .dataframe tbody tr th {\n",
       "        vertical-align: top;\n",
       "    }\n",
       "</style>\n",
       "<table border=\"1\" class=\"dataframe\">\n",
       "  <thead>\n",
       "    <tr style=\"text-align: right;\">\n",
       "      <th></th>\n",
       "      <th>Q007</th>\n",
       "      <th>Q007normalizado</th>\n",
       "    </tr>\n",
       "  </thead>\n",
       "  <tbody>\n",
       "    <tr>\n",
       "      <th>A</th>\n",
       "      <td>164384</td>\n",
       "      <td>0.925836</td>\n",
       "    </tr>\n",
       "    <tr>\n",
       "      <th>B</th>\n",
       "      <td>6738</td>\n",
       "      <td>0.037949</td>\n",
       "    </tr>\n",
       "    <tr>\n",
       "      <th>D</th>\n",
       "      <td>4960</td>\n",
       "      <td>0.027935</td>\n",
       "    </tr>\n",
       "    <tr>\n",
       "      <th>C</th>\n",
       "      <td>1470</td>\n",
       "      <td>0.008279</td>\n",
       "    </tr>\n",
       "  </tbody>\n",
       "</table>\n",
       "</div>"
      ],
      "text/plain": [
       "     Q007  Q007normalizado\n",
       "A  164384         0.925836\n",
       "B    6738         0.037949\n",
       "D    4960         0.027935\n",
       "C    1470         0.008279"
      ]
     },
     "execution_count": 191,
     "metadata": {
      "tags": []
     },
     "output_type": "execute_result"
    }
   ],
   "source": [
    "var = \"Q007\"\n",
    "tipo = data_1[var].value_counts().index\n",
    "frequencia = data_1[var].value_counts().values\n",
    "tipo, frequencia\n",
    "plt.pie(x=frequencia, labels=tipo, autopct='%2.2f%%',shadow=True, startangle=20)\n",
    "plt.title('Em sua residência trabalha empregado(a) doméstico(a)?')\n",
    "plt.show()\n",
    "\n",
    "print(\"A:Não. \\n B:Sim, um ou dois dias por semana. \\n C:Sim, três ou quatro dias por semana. \\n D:Sim, pelo menos cinco dias por semana.\")\n",
    "\n",
    "array = pd.DataFrame(data_1[var].value_counts())\n",
    "array2 = pd.DataFrame(data_1[var].value_counts(normalize=True))\n",
    "array[var + \"normalizado\"] = array2\n",
    "array\n",
    "\n",
    "array"
   ]
  },
  {
   "cell_type": "code",
   "execution_count": 0,
   "metadata": {
    "colab": {},
    "colab_type": "code",
    "id": "KCawA7wkKUy1",
    "outputId": "93ace7bf-156d-4ce6-dce8-4a3953fb299a"
   },
   "outputs": [
    {
     "data": {
      "image/png": "[encoded data removed]",
      "text/plain": [
       "<matplotlib.figure.Figure at 0x1d5e8e44828>"
      ]
     },
     "metadata": {
      "tags": []
     },
     "output_type": "display_data"
    },
    {
     "name": "stdout",
     "output_type": "stream",
     "text": [
      "A:Não. \n",
      " B:Sim, um  \n",
      " C:Sim, dois \n",
      " D:Sim, três \n",
      " E:Sim, quatro\n"
     ]
    },
    {
     "data": {
      "text/html": [
       "<div>\n",
       "<style>\n",
       "    .dataframe thead tr:only-child th {\n",
       "        text-align: right;\n",
       "    }\n",
       "\n",
       "    .dataframe thead th {\n",
       "        text-align: left;\n",
       "    }\n",
       "\n",
       "    .dataframe tbody tr th {\n",
       "        vertical-align: top;\n",
       "    }\n",
       "</style>\n",
       "<table border=\"1\" class=\"dataframe\">\n",
       "  <thead>\n",
       "    <tr style=\"text-align: right;\">\n",
       "      <th></th>\n",
       "      <th>Q008</th>\n",
       "      <th>Q008normalizado</th>\n",
       "    </tr>\n",
       "  </thead>\n",
       "  <tbody>\n",
       "    <tr>\n",
       "      <th>B</th>\n",
       "      <td>124179</td>\n",
       "      <td>0.699395</td>\n",
       "    </tr>\n",
       "    <tr>\n",
       "      <th>C</th>\n",
       "      <td>38807</td>\n",
       "      <td>0.218567</td>\n",
       "    </tr>\n",
       "    <tr>\n",
       "      <th>D</th>\n",
       "      <td>9519</td>\n",
       "      <td>0.053612</td>\n",
       "    </tr>\n",
       "    <tr>\n",
       "      <th>E</th>\n",
       "      <td>4268</td>\n",
       "      <td>0.024038</td>\n",
       "    </tr>\n",
       "    <tr>\n",
       "      <th>A</th>\n",
       "      <td>779</td>\n",
       "      <td>0.004387</td>\n",
       "    </tr>\n",
       "  </tbody>\n",
       "</table>\n",
       "</div>"
      ],
      "text/plain": [
       "     Q008  Q008normalizado\n",
       "B  124179         0.699395\n",
       "C   38807         0.218567\n",
       "D    9519         0.053612\n",
       "E    4268         0.024038\n",
       "A     779         0.004387"
      ]
     },
     "execution_count": 183,
     "metadata": {
      "tags": []
     },
     "output_type": "execute_result"
    }
   ],
   "source": [
    "var = \"Q008\"\n",
    "tipo = data_1[var].value_counts().index\n",
    "frequencia = data_1[var].value_counts().values\n",
    "tipo, frequencia\n",
    "plt.pie(x=frequencia, labels=tipo, autopct='%2.2f%%',shadow=True, startangle=20)\n",
    "plt.title('Na sua residência tem banheiro?')\n",
    "plt.show()\n",
    "\n",
    "print(\"A:Não. \\n B:Sim, um  \\n C:Sim, dois \\n D:Sim, três \\n E:Sim, quatro\")\n",
    "\n",
    "array = pd.DataFrame(data_1[var].value_counts())\n",
    "array2 = pd.DataFrame(data_1[var].value_counts(normalize=True))\n",
    "array[var + \"normalizado\"] = array2\n",
    "array\n",
    "\n",
    "array"
   ]
  },
  {
   "cell_type": "code",
   "execution_count": 0,
   "metadata": {
    "colab": {},
    "colab_type": "code",
    "id": "IjeTwM_sKUy3",
    "outputId": "91ff0441-e33c-42be-bdd2-c6f4e4b6d64e"
   },
   "outputs": [
    {
     "data": {
      "image/png": "[encoded data removed]",
      "text/plain": [
       "<matplotlib.figure.Figure at 0x1d5e9dd5828>"
      ]
     },
     "metadata": {
      "tags": []
     },
     "output_type": "display_data"
    },
    {
     "name": "stdout",
     "output_type": "stream",
     "text": [
      "A:Não. \n",
      " B:Sim, um  \n",
      " C:Sim, dois \n",
      " D:Sim, três \n",
      " E:Sim, quatro\n"
     ]
    },
    {
     "data": {
      "text/html": [
       "<div>\n",
       "<style>\n",
       "    .dataframe thead tr:only-child th {\n",
       "        text-align: right;\n",
       "    }\n",
       "\n",
       "    .dataframe thead th {\n",
       "        text-align: left;\n",
       "    }\n",
       "\n",
       "    .dataframe tbody tr th {\n",
       "        vertical-align: top;\n",
       "    }\n",
       "</style>\n",
       "<table border=\"1\" class=\"dataframe\">\n",
       "  <thead>\n",
       "    <tr style=\"text-align: right;\">\n",
       "      <th></th>\n",
       "      <th>Q009</th>\n",
       "      <th>Q009normalizado</th>\n",
       "    </tr>\n",
       "  </thead>\n",
       "  <tbody>\n",
       "    <tr>\n",
       "      <th>D</th>\n",
       "      <td>77192</td>\n",
       "      <td>0.434757</td>\n",
       "    </tr>\n",
       "    <tr>\n",
       "      <th>C</th>\n",
       "      <td>76769</td>\n",
       "      <td>0.432375</td>\n",
       "    </tr>\n",
       "    <tr>\n",
       "      <th>E</th>\n",
       "      <td>13814</td>\n",
       "      <td>0.077803</td>\n",
       "    </tr>\n",
       "    <tr>\n",
       "      <th>B</th>\n",
       "      <td>9392</td>\n",
       "      <td>0.052897</td>\n",
       "    </tr>\n",
       "    <tr>\n",
       "      <th>A</th>\n",
       "      <td>385</td>\n",
       "      <td>0.002168</td>\n",
       "    </tr>\n",
       "  </tbody>\n",
       "</table>\n",
       "</div>"
      ],
      "text/plain": [
       "    Q009  Q009normalizado\n",
       "D  77192         0.434757\n",
       "C  76769         0.432375\n",
       "E  13814         0.077803\n",
       "B   9392         0.052897\n",
       "A    385         0.002168"
      ]
     },
     "execution_count": 192,
     "metadata": {
      "tags": []
     },
     "output_type": "execute_result"
    }
   ],
   "source": [
    "var = \"Q009\"\n",
    "tipo = data_1[var].value_counts().index\n",
    "frequencia = data_1[var].value_counts().values\n",
    "tipo, frequencia\n",
    "plt.pie(x=frequencia, labels=tipo, autopct='%2.2f%%',shadow=True, startangle=90)\n",
    "plt.title('Na sua residência tem quantos quartos para dormir?')\n",
    "plt.show()\n",
    "\n",
    "print(\"A:Não. \\n B:Sim, um  \\n C:Sim, dois \\n D:Sim, três \\n E:Sim, quatro\")\n",
    "\n",
    "array = pd.DataFrame(data_1[var].value_counts())\n",
    "array2 = pd.DataFrame(data_1[var].value_counts(normalize=True))\n",
    "array[var + \"normalizado\"] = array2\n",
    "array\n",
    "\n",
    "array"
   ]
  },
  {
   "cell_type": "code",
   "execution_count": 0,
   "metadata": {
    "colab": {},
    "colab_type": "code",
    "id": "c5ym7kkIKUy5",
    "outputId": "52866b3e-cdaf-4243-cc01-65fc880a3b9d"
   },
   "outputs": [
    {
     "data": {
      "image/png": "[encoded data removed]",
      "text/plain": [
       "<matplotlib.figure.Figure at 0x1d5e8e8b160>"
      ]
     },
     "metadata": {
      "tags": []
     },
     "output_type": "display_data"
    },
    {
     "name": "stdout",
     "output_type": "stream",
     "text": [
      "A:Não. \n",
      " B:Sim, um  \n",
      " C:Sim, dois \n",
      " D:Sim, três \n",
      " E:Sim, quatro\n"
     ]
    },
    {
     "data": {
      "text/html": [
       "<div>\n",
       "<style>\n",
       "    .dataframe thead tr:only-child th {\n",
       "        text-align: right;\n",
       "    }\n",
       "\n",
       "    .dataframe thead th {\n",
       "        text-align: left;\n",
       "    }\n",
       "\n",
       "    .dataframe tbody tr th {\n",
       "        vertical-align: top;\n",
       "    }\n",
       "</style>\n",
       "<table border=\"1\" class=\"dataframe\">\n",
       "  <thead>\n",
       "    <tr style=\"text-align: right;\">\n",
       "      <th></th>\n",
       "      <th>Q010</th>\n",
       "      <th>Q010normalizado</th>\n",
       "    </tr>\n",
       "  </thead>\n",
       "  <tbody>\n",
       "    <tr>\n",
       "      <th>A</th>\n",
       "      <td>80857</td>\n",
       "      <td>0.455399</td>\n",
       "    </tr>\n",
       "    <tr>\n",
       "      <th>B</th>\n",
       "      <td>79222</td>\n",
       "      <td>0.446190</td>\n",
       "    </tr>\n",
       "    <tr>\n",
       "      <th>C</th>\n",
       "      <td>14914</td>\n",
       "      <td>0.083998</td>\n",
       "    </tr>\n",
       "    <tr>\n",
       "      <th>D</th>\n",
       "      <td>2028</td>\n",
       "      <td>0.011422</td>\n",
       "    </tr>\n",
       "    <tr>\n",
       "      <th>E</th>\n",
       "      <td>531</td>\n",
       "      <td>0.002991</td>\n",
       "    </tr>\n",
       "  </tbody>\n",
       "</table>\n",
       "</div>"
      ],
      "text/plain": [
       "    Q010  Q010normalizado\n",
       "A  80857         0.455399\n",
       "B  79222         0.446190\n",
       "C  14914         0.083998\n",
       "D   2028         0.011422\n",
       "E    531         0.002991"
      ]
     },
     "execution_count": 193,
     "metadata": {
      "tags": []
     },
     "output_type": "execute_result"
    }
   ],
   "source": [
    "var = \"Q010\"\n",
    "tipo = data_1[var].value_counts().index\n",
    "frequencia = data_1[var].value_counts().values\n",
    "tipo, frequencia\n",
    "plt.pie(x=frequencia, labels=tipo, autopct='%2.2f%%',shadow=True, startangle=20)\n",
    "plt.title('Na sua residência tem carro?')\n",
    "plt.show()\n",
    "\n",
    "print(\"A:Não. \\n B:Sim, um  \\n C:Sim, dois \\n D:Sim, três \\n E:Sim, quatro\")\n",
    "\n",
    "array = pd.DataFrame(data_1[var].value_counts())\n",
    "array2 = pd.DataFrame(data_1[var].value_counts(normalize=True))\n",
    "array[var + \"normalizado\"] = array2\n",
    "array\n",
    "\n",
    "array"
   ]
  },
  {
   "cell_type": "code",
   "execution_count": 0,
   "metadata": {
    "colab": {},
    "colab_type": "code",
    "id": "rPZ9A0WyKUy7",
    "outputId": "03950027-09de-4bc0-8f43-60f6d339e5c3"
   },
   "outputs": [
    {
     "data": {
      "image/png": "[encoded data removed]",
      "text/plain": [
       "<matplotlib.figure.Figure at 0x1d5e8b48b70>"
      ]
     },
     "metadata": {
      "tags": []
     },
     "output_type": "display_data"
    },
    {
     "name": "stdout",
     "output_type": "stream",
     "text": [
      "A:Não. \n",
      " B:Sim, um  \n",
      " C:Sim, dois \n",
      " D:Sim, três \n",
      " E:Sim, quatro\n"
     ]
    },
    {
     "data": {
      "text/html": [
       "<div>\n",
       "<style>\n",
       "    .dataframe thead tr:only-child th {\n",
       "        text-align: right;\n",
       "    }\n",
       "\n",
       "    .dataframe thead th {\n",
       "        text-align: left;\n",
       "    }\n",
       "\n",
       "    .dataframe tbody tr th {\n",
       "        vertical-align: top;\n",
       "    }\n",
       "</style>\n",
       "<table border=\"1\" class=\"dataframe\">\n",
       "  <thead>\n",
       "    <tr style=\"text-align: right;\">\n",
       "      <th></th>\n",
       "      <th>Q011</th>\n",
       "      <th>Q011normalizado</th>\n",
       "    </tr>\n",
       "  </thead>\n",
       "  <tbody>\n",
       "    <tr>\n",
       "      <th>A</th>\n",
       "      <td>136441</td>\n",
       "      <td>0.768457</td>\n",
       "    </tr>\n",
       "    <tr>\n",
       "      <th>B</th>\n",
       "      <td>36921</td>\n",
       "      <td>0.207945</td>\n",
       "    </tr>\n",
       "    <tr>\n",
       "      <th>C</th>\n",
       "      <td>3676</td>\n",
       "      <td>0.020704</td>\n",
       "    </tr>\n",
       "    <tr>\n",
       "      <th>D</th>\n",
       "      <td>408</td>\n",
       "      <td>0.002298</td>\n",
       "    </tr>\n",
       "    <tr>\n",
       "      <th>E</th>\n",
       "      <td>106</td>\n",
       "      <td>0.000597</td>\n",
       "    </tr>\n",
       "  </tbody>\n",
       "</table>\n",
       "</div>"
      ],
      "text/plain": [
       "     Q011  Q011normalizado\n",
       "A  136441         0.768457\n",
       "B   36921         0.207945\n",
       "C    3676         0.020704\n",
       "D     408         0.002298\n",
       "E     106         0.000597"
      ]
     },
     "execution_count": 194,
     "metadata": {
      "tags": []
     },
     "output_type": "execute_result"
    }
   ],
   "source": [
    "var = \"Q011\"\n",
    "tipo = data_1[var].value_counts().index\n",
    "frequencia = data_1[var].value_counts().values\n",
    "tipo, frequencia\n",
    "plt.pie(x=frequencia, labels=tipo, autopct='%2.2f%%',shadow=True, startangle=20)\n",
    "plt.title('Na sua residência tem motocicleta?')\n",
    "plt.show()\n",
    "\n",
    "print(\"A:Não. \\n B:Sim, um  \\n C:Sim, dois \\n D:Sim, três \\n E:Sim, quatro\")\n",
    "\n",
    "array = pd.DataFrame(data_1[var].value_counts())\n",
    "array2 = pd.DataFrame(data_1[var].value_counts(normalize=True))\n",
    "array[var + \"normalizado\"] = array2\n",
    "array\n",
    "\n",
    "array"
   ]
  },
  {
   "cell_type": "code",
   "execution_count": 0,
   "metadata": {
    "colab": {},
    "colab_type": "code",
    "id": "1qNjclYFKUy9",
    "outputId": "a87ea3fb-568f-4a69-d196-5b5ce9316001"
   },
   "outputs": [
    {
     "data": {
      "image/png": "[encoded data removed]",
      "text/plain": [
       "<matplotlib.figure.Figure at 0x1d5e936a320>"
      ]
     },
     "metadata": {
      "tags": []
     },
     "output_type": "display_data"
    },
    {
     "name": "stdout",
     "output_type": "stream",
     "text": [
      "A:Não. \n",
      " B:Sim, um  \n",
      " C:Sim, dois \n",
      " D:Sim, três \n",
      " E:Sim, quatro\n"
     ]
    },
    {
     "data": {
      "text/html": [
       "<div>\n",
       "<style>\n",
       "    .dataframe thead tr:only-child th {\n",
       "        text-align: right;\n",
       "    }\n",
       "\n",
       "    .dataframe thead th {\n",
       "        text-align: left;\n",
       "    }\n",
       "\n",
       "    .dataframe tbody tr th {\n",
       "        vertical-align: top;\n",
       "    }\n",
       "</style>\n",
       "<table border=\"1\" class=\"dataframe\">\n",
       "  <thead>\n",
       "    <tr style=\"text-align: right;\">\n",
       "      <th></th>\n",
       "      <th>Q012</th>\n",
       "      <th>Q012normalizado</th>\n",
       "    </tr>\n",
       "  </thead>\n",
       "  <tbody>\n",
       "    <tr>\n",
       "      <th>B</th>\n",
       "      <td>167565</td>\n",
       "      <td>0.943752</td>\n",
       "    </tr>\n",
       "    <tr>\n",
       "      <th>C</th>\n",
       "      <td>7948</td>\n",
       "      <td>0.044764</td>\n",
       "    </tr>\n",
       "    <tr>\n",
       "      <th>A</th>\n",
       "      <td>1463</td>\n",
       "      <td>0.008240</td>\n",
       "    </tr>\n",
       "    <tr>\n",
       "      <th>D</th>\n",
       "      <td>476</td>\n",
       "      <td>0.002681</td>\n",
       "    </tr>\n",
       "    <tr>\n",
       "      <th>E</th>\n",
       "      <td>100</td>\n",
       "      <td>0.000563</td>\n",
       "    </tr>\n",
       "  </tbody>\n",
       "</table>\n",
       "</div>"
      ],
      "text/plain": [
       "     Q012  Q012normalizado\n",
       "B  167565         0.943752\n",
       "C    7948         0.044764\n",
       "A    1463         0.008240\n",
       "D     476         0.002681\n",
       "E     100         0.000563"
      ]
     },
     "execution_count": 186,
     "metadata": {
      "tags": []
     },
     "output_type": "execute_result"
    }
   ],
   "source": [
    "var = \"Q012\"\n",
    "tipo = data_1[var].value_counts().index\n",
    "frequencia = data_1[var].value_counts().values\n",
    "tipo, frequencia\n",
    "plt.pie(x=frequencia, labels=tipo, autopct='%2.2f%%',shadow=True, startangle=90)\n",
    "plt.title('Na sua residência tem geladeira?')\n",
    "plt.show()\n",
    "\n",
    "print(\"A:Não. \\n B:Sim, um  \\n C:Sim, dois \\n D:Sim, três \\n E:Sim, quatro\")\n",
    "\n",
    "array = pd.DataFrame(data_1[var].value_counts())\n",
    "array2 = pd.DataFrame(data_1[var].value_counts(normalize=True))\n",
    "array[var + \"normalizado\"] = array2\n",
    "array\n",
    "\n",
    "array"
   ]
  },
  {
   "cell_type": "code",
   "execution_count": 0,
   "metadata": {
    "colab": {},
    "colab_type": "code",
    "id": "j8l0jg1zKUzA",
    "outputId": "8b51dd30-3b8b-493b-ca69-762c3a9e9adb"
   },
   "outputs": [
    {
     "data": {
      "image/png": "[encoded data removed]",
      "text/plain": [
       "<matplotlib.figure.Figure at 0x1d5e9ea3048>"
      ]
     },
     "metadata": {
      "tags": []
     },
     "output_type": "display_data"
    },
    {
     "name": "stdout",
     "output_type": "stream",
     "text": [
      "A:Não. \n",
      " B:Sim, um  \n",
      " C:Sim, dois \n",
      " D:Sim, três \n",
      " E:Sim, quatro\n"
     ]
    },
    {
     "data": {
      "text/html": [
       "<div>\n",
       "<style>\n",
       "    .dataframe thead tr:only-child th {\n",
       "        text-align: right;\n",
       "    }\n",
       "\n",
       "    .dataframe thead th {\n",
       "        text-align: left;\n",
       "    }\n",
       "\n",
       "    .dataframe tbody tr th {\n",
       "        vertical-align: top;\n",
       "    }\n",
       "</style>\n",
       "<table border=\"1\" class=\"dataframe\">\n",
       "  <thead>\n",
       "    <tr style=\"text-align: right;\">\n",
       "      <th></th>\n",
       "      <th>Q013</th>\n",
       "      <th>Q013normalizado</th>\n",
       "    </tr>\n",
       "  </thead>\n",
       "  <tbody>\n",
       "    <tr>\n",
       "      <th>A</th>\n",
       "      <td>118692</td>\n",
       "      <td>0.668491</td>\n",
       "    </tr>\n",
       "    <tr>\n",
       "      <th>B</th>\n",
       "      <td>55355</td>\n",
       "      <td>0.311768</td>\n",
       "    </tr>\n",
       "    <tr>\n",
       "      <th>C</th>\n",
       "      <td>3018</td>\n",
       "      <td>0.016998</td>\n",
       "    </tr>\n",
       "    <tr>\n",
       "      <th>D</th>\n",
       "      <td>361</td>\n",
       "      <td>0.002033</td>\n",
       "    </tr>\n",
       "    <tr>\n",
       "      <th>E</th>\n",
       "      <td>126</td>\n",
       "      <td>0.000710</td>\n",
       "    </tr>\n",
       "  </tbody>\n",
       "</table>\n",
       "</div>"
      ],
      "text/plain": [
       "     Q013  Q013normalizado\n",
       "A  118692         0.668491\n",
       "B   55355         0.311768\n",
       "C    3018         0.016998\n",
       "D     361         0.002033\n",
       "E     126         0.000710"
      ]
     },
     "execution_count": 153,
     "metadata": {
      "tags": []
     },
     "output_type": "execute_result"
    }
   ],
   "source": [
    "var = \"Q013\"\n",
    "tipo = data_1[var].value_counts().index\n",
    "frequencia = data_1[var].value_counts().values\n",
    "tipo, frequencia\n",
    "plt.pie(x=frequencia, labels=tipo, autopct='%2.2f%%',shadow=True, startangle=90)\n",
    "plt.title('Na sua residência tem freezer?')\n",
    "plt.show()\n",
    "\n",
    "print(\"A:Não. \\n B:Sim, um  \\n C:Sim, dois \\n D:Sim, três \\n E:Sim, quatro\")\n",
    "\n",
    "array = pd.DataFrame(data_1[var].value_counts())\n",
    "array2 = pd.DataFrame(data_1[var].value_counts(normalize=True))\n",
    "array[var + \"normalizado\"] = array2\n",
    "array\n",
    "\n",
    "array"
   ]
  },
  {
   "cell_type": "code",
   "execution_count": 0,
   "metadata": {
    "colab": {},
    "colab_type": "code",
    "id": "lzruKY_gKUzC",
    "outputId": "314998c9-b564-4a23-aa21-ec79ea43ec54"
   },
   "outputs": [
    {
     "data": {
      "image/png": "[encoded data removed]",
      "text/plain": [
       "<matplotlib.figure.Figure at 0x1d5eb1ca080>"
      ]
     },
     "metadata": {
      "tags": []
     },
     "output_type": "display_data"
    },
    {
     "name": "stdout",
     "output_type": "stream",
     "text": [
      "A:Não. \n",
      " B:Sim, um  \n",
      " C:Sim, dois \n",
      " D:Sim, três \n",
      " E:Sim, quatro\n"
     ]
    },
    {
     "data": {
      "text/html": [
       "<div>\n",
       "<style>\n",
       "    .dataframe thead tr:only-child th {\n",
       "        text-align: right;\n",
       "    }\n",
       "\n",
       "    .dataframe thead th {\n",
       "        text-align: left;\n",
       "    }\n",
       "\n",
       "    .dataframe tbody tr th {\n",
       "        vertical-align: top;\n",
       "    }\n",
       "</style>\n",
       "<table border=\"1\" class=\"dataframe\">\n",
       "  <thead>\n",
       "    <tr style=\"text-align: right;\">\n",
       "      <th></th>\n",
       "      <th>Q014</th>\n",
       "      <th>Q014normalizado</th>\n",
       "    </tr>\n",
       "  </thead>\n",
       "  <tbody>\n",
       "    <tr>\n",
       "      <th>B</th>\n",
       "      <td>114468</td>\n",
       "      <td>0.644701</td>\n",
       "    </tr>\n",
       "    <tr>\n",
       "      <th>A</th>\n",
       "      <td>61017</td>\n",
       "      <td>0.343657</td>\n",
       "    </tr>\n",
       "    <tr>\n",
       "      <th>C</th>\n",
       "      <td>1932</td>\n",
       "      <td>0.010881</td>\n",
       "    </tr>\n",
       "    <tr>\n",
       "      <th>D</th>\n",
       "      <td>94</td>\n",
       "      <td>0.000529</td>\n",
       "    </tr>\n",
       "    <tr>\n",
       "      <th>E</th>\n",
       "      <td>41</td>\n",
       "      <td>0.000231</td>\n",
       "    </tr>\n",
       "  </tbody>\n",
       "</table>\n",
       "</div>"
      ],
      "text/plain": [
       "     Q014  Q014normalizado\n",
       "B  114468         0.644701\n",
       "A   61017         0.343657\n",
       "C    1932         0.010881\n",
       "D      94         0.000529\n",
       "E      41         0.000231"
      ]
     },
     "execution_count": 196,
     "metadata": {
      "tags": []
     },
     "output_type": "execute_result"
    }
   ],
   "source": [
    "var = \"Q014\"\n",
    "tipo = data_1[var].value_counts().index\n",
    "frequencia = data_1[var].value_counts().values\n",
    "tipo, frequencia\n",
    "plt.pie(x=frequencia, labels=tipo, autopct='%2.2f%%',shadow=True, startangle=20)\n",
    "plt.title('Na sua residência tem máquina de lavar roupa?')\n",
    "plt.show()\n",
    "\n",
    "print(\"A:Não. \\n B:Sim, um  \\n C:Sim, dois \\n D:Sim, três \\n E:Sim, quatro\")\n",
    "\n",
    "array = pd.DataFrame(data_1[var].value_counts())\n",
    "array2 = pd.DataFrame(data_1[var].value_counts(normalize=True))\n",
    "array[var + \"normalizado\"] = array2\n",
    "array\n",
    "\n",
    "array"
   ]
  },
  {
   "cell_type": "code",
   "execution_count": 0,
   "metadata": {
    "colab": {},
    "colab_type": "code",
    "id": "GCDT_SgEKUzE",
    "outputId": "515a65f2-bbb3-4a29-c710-4b8d09c12729"
   },
   "outputs": [
    {
     "data": {
      "image/png": "[encoded data removed]",
      "text/plain": [
       "<matplotlib.figure.Figure at 0x1d5e8f33828>"
      ]
     },
     "metadata": {
      "tags": []
     },
     "output_type": "display_data"
    },
    {
     "name": "stdout",
     "output_type": "stream",
     "text": [
      "A:Não. \n",
      " B:Sim, um  \n",
      " C:Sim, dois \n",
      " D:Sim, três \n",
      " E:Sim, quatro\n"
     ]
    },
    {
     "data": {
      "text/html": [
       "<div>\n",
       "<style>\n",
       "    .dataframe thead tr:only-child th {\n",
       "        text-align: right;\n",
       "    }\n",
       "\n",
       "    .dataframe thead th {\n",
       "        text-align: left;\n",
       "    }\n",
       "\n",
       "    .dataframe tbody tr th {\n",
       "        vertical-align: top;\n",
       "    }\n",
       "</style>\n",
       "<table border=\"1\" class=\"dataframe\">\n",
       "  <thead>\n",
       "    <tr style=\"text-align: right;\">\n",
       "      <th></th>\n",
       "      <th>Q015</th>\n",
       "      <th>Q015normalizado</th>\n",
       "    </tr>\n",
       "  </thead>\n",
       "  <tbody>\n",
       "    <tr>\n",
       "      <th>A</th>\n",
       "      <td>158466</td>\n",
       "      <td>0.892505</td>\n",
       "    </tr>\n",
       "    <tr>\n",
       "      <th>B</th>\n",
       "      <td>18824</td>\n",
       "      <td>0.106020</td>\n",
       "    </tr>\n",
       "    <tr>\n",
       "      <th>C</th>\n",
       "      <td>179</td>\n",
       "      <td>0.001008</td>\n",
       "    </tr>\n",
       "    <tr>\n",
       "      <th>D</th>\n",
       "      <td>46</td>\n",
       "      <td>0.000259</td>\n",
       "    </tr>\n",
       "    <tr>\n",
       "      <th>E</th>\n",
       "      <td>37</td>\n",
       "      <td>0.000208</td>\n",
       "    </tr>\n",
       "  </tbody>\n",
       "</table>\n",
       "</div>"
      ],
      "text/plain": [
       "     Q015  Q015normalizado\n",
       "A  158466         0.892505\n",
       "B   18824         0.106020\n",
       "C     179         0.001008\n",
       "D      46         0.000259\n",
       "E      37         0.000208"
      ]
     },
     "execution_count": 197,
     "metadata": {
      "tags": []
     },
     "output_type": "execute_result"
    }
   ],
   "source": [
    "var = \"Q015\"\n",
    "tipo = data_1[var].value_counts().index\n",
    "frequencia = data_1[var].value_counts().values\n",
    "tipo, frequencia\n",
    "plt.pie(x=frequencia, labels=tipo, autopct='%2.2f%%',shadow=True, startangle=30)\n",
    "plt.title('Na sua residência tem máquina de secar roupa?')\n",
    "plt.show()\n",
    "\n",
    "print(\"A:Não. \\n B:Sim, um  \\n C:Sim, dois \\n D:Sim, três \\n E:Sim, quatro\")\n",
    "\n",
    "array = pd.DataFrame(data_1[var].value_counts())\n",
    "array2 = pd.DataFrame(data_1[var].value_counts(normalize=True))\n",
    "array[var + \"normalizado\"] = array2\n",
    "array\n",
    "\n",
    "array"
   ]
  },
  {
   "cell_type": "code",
   "execution_count": 0,
   "metadata": {
    "colab": {},
    "colab_type": "code",
    "id": "vrSbgctUKUzG",
    "outputId": "3c55f2c1-f866-4487-f1f0-2c226f02a421"
   },
   "outputs": [
    {
     "data": {
      "image/png": "[encoded data removed]",
      "text/plain": [
       "<matplotlib.figure.Figure at 0x1d5e8b59710>"
      ]
     },
     "metadata": {
      "tags": []
     },
     "output_type": "display_data"
    },
    {
     "name": "stdout",
     "output_type": "stream",
     "text": [
      "A:Não. \n",
      " B:Sim, um  \n",
      " C:Sim, dois \n",
      " D:Sim, três \n",
      " E:Sim, quatro\n"
     ]
    },
    {
     "data": {
      "text/html": [
       "<div>\n",
       "<style>\n",
       "    .dataframe thead tr:only-child th {\n",
       "        text-align: right;\n",
       "    }\n",
       "\n",
       "    .dataframe thead th {\n",
       "        text-align: left;\n",
       "    }\n",
       "\n",
       "    .dataframe tbody tr th {\n",
       "        vertical-align: top;\n",
       "    }\n",
       "</style>\n",
       "<table border=\"1\" class=\"dataframe\">\n",
       "  <thead>\n",
       "    <tr style=\"text-align: right;\">\n",
       "      <th></th>\n",
       "      <th>Q016</th>\n",
       "      <th>Q016normalizado</th>\n",
       "    </tr>\n",
       "  </thead>\n",
       "  <tbody>\n",
       "    <tr>\n",
       "      <th>B</th>\n",
       "      <td>96807</td>\n",
       "      <td>0.545232</td>\n",
       "    </tr>\n",
       "    <tr>\n",
       "      <th>A</th>\n",
       "      <td>79887</td>\n",
       "      <td>0.449936</td>\n",
       "    </tr>\n",
       "    <tr>\n",
       "      <th>C</th>\n",
       "      <td>784</td>\n",
       "      <td>0.004416</td>\n",
       "    </tr>\n",
       "    <tr>\n",
       "      <th>D</th>\n",
       "      <td>45</td>\n",
       "      <td>0.000253</td>\n",
       "    </tr>\n",
       "    <tr>\n",
       "      <th>E</th>\n",
       "      <td>29</td>\n",
       "      <td>0.000163</td>\n",
       "    </tr>\n",
       "  </tbody>\n",
       "</table>\n",
       "</div>"
      ],
      "text/plain": [
       "    Q016  Q016normalizado\n",
       "B  96807         0.545232\n",
       "A  79887         0.449936\n",
       "C    784         0.004416\n",
       "D     45         0.000253\n",
       "E     29         0.000163"
      ]
     },
     "execution_count": 198,
     "metadata": {
      "tags": []
     },
     "output_type": "execute_result"
    }
   ],
   "source": [
    "var = \"Q016\"\n",
    "tipo = data_1[var].value_counts().index\n",
    "frequencia = data_1[var].value_counts().values\n",
    "tipo, frequencia\n",
    "plt.pie(x=frequencia, labels=tipo, autopct='%2.2f%%',shadow=True, startangle=90)\n",
    "plt.title('Na sua residência tem forno micro-ondas?')\n",
    "plt.show()\n",
    "\n",
    "print(\"A:Não. \\n B:Sim, um  \\n C:Sim, dois \\n D:Sim, três \\n E:Sim, quatro\")\n",
    "\n",
    "array = pd.DataFrame(data_1[var].value_counts())\n",
    "array2 = pd.DataFrame(data_1[var].value_counts(normalize=True))\n",
    "array[var + \"normalizado\"] = array2\n",
    "array\n",
    "\n",
    "array"
   ]
  },
  {
   "cell_type": "code",
   "execution_count": 0,
   "metadata": {
    "colab": {},
    "colab_type": "code",
    "id": "oAY3O3NZKUzI",
    "outputId": "4921bf19-bb3e-497f-9cd9-1f65d7524ccb"
   },
   "outputs": [
    {
     "data": {
      "image/png": "[encoded data removed]",
      "text/plain": [
       "<matplotlib.figure.Figure at 0x1d5e8ebe358>"
      ]
     },
     "metadata": {
      "tags": []
     },
     "output_type": "display_data"
    },
    {
     "name": "stdout",
     "output_type": "stream",
     "text": [
      "A:Não. \n",
      " B:Sim, um  \n",
      " C:Sim, dois \n",
      " D:Sim, três \n",
      " E:Sim, quatro\n"
     ]
    },
    {
     "data": {
      "text/html": [
       "<div>\n",
       "<style>\n",
       "    .dataframe thead tr:only-child th {\n",
       "        text-align: right;\n",
       "    }\n",
       "\n",
       "    .dataframe thead th {\n",
       "        text-align: left;\n",
       "    }\n",
       "\n",
       "    .dataframe tbody tr th {\n",
       "        vertical-align: top;\n",
       "    }\n",
       "</style>\n",
       "<table border=\"1\" class=\"dataframe\">\n",
       "  <thead>\n",
       "    <tr style=\"text-align: right;\">\n",
       "      <th></th>\n",
       "      <th>Q017</th>\n",
       "      <th>Q017normalizado</th>\n",
       "    </tr>\n",
       "  </thead>\n",
       "  <tbody>\n",
       "    <tr>\n",
       "      <th>A</th>\n",
       "      <td>173356</td>\n",
       "      <td>0.976367</td>\n",
       "    </tr>\n",
       "    <tr>\n",
       "      <th>B</th>\n",
       "      <td>4065</td>\n",
       "      <td>0.022895</td>\n",
       "    </tr>\n",
       "    <tr>\n",
       "      <th>C</th>\n",
       "      <td>70</td>\n",
       "      <td>0.000394</td>\n",
       "    </tr>\n",
       "    <tr>\n",
       "      <th>D</th>\n",
       "      <td>36</td>\n",
       "      <td>0.000203</td>\n",
       "    </tr>\n",
       "    <tr>\n",
       "      <th>E</th>\n",
       "      <td>25</td>\n",
       "      <td>0.000141</td>\n",
       "    </tr>\n",
       "  </tbody>\n",
       "</table>\n",
       "</div>"
      ],
      "text/plain": [
       "     Q017  Q017normalizado\n",
       "A  173356         0.976367\n",
       "B    4065         0.022895\n",
       "C      70         0.000394\n",
       "D      36         0.000203\n",
       "E      25         0.000141"
      ]
     },
     "execution_count": 199,
     "metadata": {
      "tags": []
     },
     "output_type": "execute_result"
    }
   ],
   "source": [
    "var = \"Q017\"\n",
    "tipo = data_1[var].value_counts().index\n",
    "frequencia = data_1[var].value_counts().values\n",
    "tipo, frequencia\n",
    "plt.pie(x=frequencia, labels=tipo, autopct='%2.2f%%',shadow=True, startangle=50)\n",
    "plt.title('Na sua residência tem máquina de lavar louça?')\n",
    "plt.show()\n",
    "\n",
    "print(\"A:Não. \\n B:Sim, um  \\n C:Sim, dois \\n D:Sim, três \\n E:Sim, quatro\")\n",
    "\n",
    "array = pd.DataFrame(data_1[var].value_counts())\n",
    "array2 = pd.DataFrame(data_1[var].value_counts(normalize=True))\n",
    "array[var + \"normalizado\"] = array2\n",
    "array\n",
    "\n",
    "array"
   ]
  },
  {
   "cell_type": "code",
   "execution_count": 0,
   "metadata": {
    "colab": {},
    "colab_type": "code",
    "id": "Wyq0EZudKUzL",
    "outputId": "4c8e7aa2-2880-4708-d29b-e3c09bad70bc"
   },
   "outputs": [
    {
     "data": {
      "image/png": "[encoded data removed]",
      "text/plain": [
       "<matplotlib.figure.Figure at 0x1d5e9e824e0>"
      ]
     },
     "metadata": {
      "tags": []
     },
     "output_type": "display_data"
    },
    {
     "name": "stdout",
     "output_type": "stream",
     "text": [
      "A:Não. \n",
      " B:Sim, um  \n",
      " C:Sim, dois \n",
      " D:Sim, três \n",
      " E:Sim, quatro\n"
     ]
    },
    {
     "data": {
      "text/html": [
       "<div>\n",
       "<style>\n",
       "    .dataframe thead tr:only-child th {\n",
       "        text-align: right;\n",
       "    }\n",
       "\n",
       "    .dataframe thead th {\n",
       "        text-align: left;\n",
       "    }\n",
       "\n",
       "    .dataframe tbody tr th {\n",
       "        vertical-align: top;\n",
       "    }\n",
       "</style>\n",
       "<table border=\"1\" class=\"dataframe\">\n",
       "  <thead>\n",
       "    <tr style=\"text-align: right;\">\n",
       "      <th></th>\n",
       "      <th>Q018</th>\n",
       "      <th>Q018normalizado</th>\n",
       "    </tr>\n",
       "  </thead>\n",
       "  <tbody>\n",
       "    <tr>\n",
       "      <th>A</th>\n",
       "      <td>144733</td>\n",
       "      <td>0.815158</td>\n",
       "    </tr>\n",
       "    <tr>\n",
       "      <th>B</th>\n",
       "      <td>32819</td>\n",
       "      <td>0.184842</td>\n",
       "    </tr>\n",
       "  </tbody>\n",
       "</table>\n",
       "</div>"
      ],
      "text/plain": [
       "     Q018  Q018normalizado\n",
       "A  144733         0.815158\n",
       "B   32819         0.184842"
      ]
     },
     "execution_count": 200,
     "metadata": {
      "tags": []
     },
     "output_type": "execute_result"
    }
   ],
   "source": [
    "var = \"Q018\"\n",
    "tipo = data_1[var].value_counts().index\n",
    "frequencia = data_1[var].value_counts().values\n",
    "tipo, frequencia\n",
    "plt.pie(x=frequencia, labels=tipo, autopct='%2.2f%%',shadow=True, startangle=20)\n",
    "plt.title('Na sua residência tem aspirador de pó?')\n",
    "plt.show()\n",
    "\n",
    "print(\"A:Não. \\n B:Sim, um  \\n C:Sim, dois \\n D:Sim, três \\n E:Sim, quatro\")\n",
    "\n",
    "array = pd.DataFrame(data_1[var].value_counts())\n",
    "array2 = pd.DataFrame(data_1[var].value_counts(normalize=True))\n",
    "array[var + \"normalizado\"] = array2\n",
    "array\n",
    "\n",
    "array"
   ]
  },
  {
   "cell_type": "code",
   "execution_count": 0,
   "metadata": {
    "colab": {},
    "colab_type": "code",
    "id": "eImwUZE5KUzN",
    "outputId": "b3178bc6-ea81-484f-c288-060076ceaf5b"
   },
   "outputs": [
    {
     "data": {
      "image/png": "[encoded data removed]",
      "text/plain": [
       "<matplotlib.figure.Figure at 0x1d5e9e44b00>"
      ]
     },
     "metadata": {
      "tags": []
     },
     "output_type": "display_data"
    },
    {
     "name": "stdout",
     "output_type": "stream",
     "text": [
      "A:Não. \n",
      " B:Sim, um  \n",
      " C:Sim, dois \n",
      " D:Sim, três \n",
      " E:Sim, quatro\n"
     ]
    },
    {
     "data": {
      "text/html": [
       "<div>\n",
       "<style>\n",
       "    .dataframe thead tr:only-child th {\n",
       "        text-align: right;\n",
       "    }\n",
       "\n",
       "    .dataframe thead th {\n",
       "        text-align: left;\n",
       "    }\n",
       "\n",
       "    .dataframe tbody tr th {\n",
       "        vertical-align: top;\n",
       "    }\n",
       "</style>\n",
       "<table border=\"1\" class=\"dataframe\">\n",
       "  <thead>\n",
       "    <tr style=\"text-align: right;\">\n",
       "      <th></th>\n",
       "      <th>Q019</th>\n",
       "      <th>Q019normalizado</th>\n",
       "    </tr>\n",
       "  </thead>\n",
       "  <tbody>\n",
       "    <tr>\n",
       "      <th>B</th>\n",
       "      <td>112833</td>\n",
       "      <td>0.635493</td>\n",
       "    </tr>\n",
       "    <tr>\n",
       "      <th>C</th>\n",
       "      <td>43316</td>\n",
       "      <td>0.243962</td>\n",
       "    </tr>\n",
       "    <tr>\n",
       "      <th>D</th>\n",
       "      <td>12381</td>\n",
       "      <td>0.069732</td>\n",
       "    </tr>\n",
       "    <tr>\n",
       "      <th>E</th>\n",
       "      <td>5016</td>\n",
       "      <td>0.028251</td>\n",
       "    </tr>\n",
       "    <tr>\n",
       "      <th>A</th>\n",
       "      <td>4006</td>\n",
       "      <td>0.022562</td>\n",
       "    </tr>\n",
       "  </tbody>\n",
       "</table>\n",
       "</div>"
      ],
      "text/plain": [
       "     Q019  Q019normalizado\n",
       "B  112833         0.635493\n",
       "C   43316         0.243962\n",
       "D   12381         0.069732\n",
       "E    5016         0.028251\n",
       "A    4006         0.022562"
      ]
     },
     "execution_count": 201,
     "metadata": {
      "tags": []
     },
     "output_type": "execute_result"
    }
   ],
   "source": [
    "var = \"Q019\"\n",
    "tipo = data_1[var].value_counts().index\n",
    "frequencia = data_1[var].value_counts().values\n",
    "tipo, frequencia\n",
    "plt.pie(x=frequencia, labels=tipo, autopct='%2.2f%%',shadow=True, startangle=20)\n",
    "plt.title('Na sua residência tem televisão em cores?')\n",
    "plt.show()\n",
    "\n",
    "print(\"A:Não. \\n B:Sim, um  \\n C:Sim, dois \\n D:Sim, três \\n E:Sim, quatro\")\n",
    "\n",
    "array = pd.DataFrame(data_1[var].value_counts())\n",
    "array2 = pd.DataFrame(data_1[var].value_counts(normalize=True))\n",
    "array[var + \"normalizado\"] = array2\n",
    "array\n",
    "\n",
    "array"
   ]
  },
  {
   "cell_type": "code",
   "execution_count": 0,
   "metadata": {
    "colab": {},
    "colab_type": "code",
    "id": "vB9W-0amKUzP",
    "outputId": "69b5db1a-65c2-4935-84f6-cc6fcf9f5211"
   },
   "outputs": [
    {
     "data": {
      "image/png": "[encoded data removed]",
      "text/plain": [
       "<matplotlib.figure.Figure at 0x1d5e8ee7978>"
      ]
     },
     "metadata": {
      "tags": []
     },
     "output_type": "display_data"
    },
    {
     "name": "stdout",
     "output_type": "stream",
     "text": [
      "A:Não. \n",
      " B:Sim, um  \n",
      " C:Sim, dois \n",
      " D:Sim, três \n",
      " E:Sim, quatro\n"
     ]
    },
    {
     "data": {
      "text/html": [
       "<div>\n",
       "<style>\n",
       "    .dataframe thead tr:only-child th {\n",
       "        text-align: right;\n",
       "    }\n",
       "\n",
       "    .dataframe thead th {\n",
       "        text-align: left;\n",
       "    }\n",
       "\n",
       "    .dataframe tbody tr th {\n",
       "        vertical-align: top;\n",
       "    }\n",
       "</style>\n",
       "<table border=\"1\" class=\"dataframe\">\n",
       "  <thead>\n",
       "    <tr style=\"text-align: right;\">\n",
       "      <th></th>\n",
       "      <th>Q020</th>\n",
       "      <th>Q020normalizado</th>\n",
       "    </tr>\n",
       "  </thead>\n",
       "  <tbody>\n",
       "    <tr>\n",
       "      <th>B</th>\n",
       "      <td>96524</td>\n",
       "      <td>0.543638</td>\n",
       "    </tr>\n",
       "    <tr>\n",
       "      <th>A</th>\n",
       "      <td>81028</td>\n",
       "      <td>0.456362</td>\n",
       "    </tr>\n",
       "  </tbody>\n",
       "</table>\n",
       "</div>"
      ],
      "text/plain": [
       "    Q020  Q020normalizado\n",
       "B  96524         0.543638\n",
       "A  81028         0.456362"
      ]
     },
     "execution_count": 202,
     "metadata": {
      "tags": []
     },
     "output_type": "execute_result"
    }
   ],
   "source": [
    "var = \"Q020\"\n",
    "tipo = data_1[var].value_counts().index\n",
    "frequencia = data_1[var].value_counts().values\n",
    "tipo, frequencia\n",
    "plt.pie(x=frequencia, labels=tipo, autopct='%2.2f%%',shadow=True, startangle=20)\n",
    "plt.title('Na sua residência tem aparelho de DVD?')\n",
    "plt.show()\n",
    "\n",
    "print(\"A:Não. \\n B:Sim, um  \\n C:Sim, dois \\n D:Sim, três \\n E:Sim, quatro\")\n",
    "\n",
    "array = pd.DataFrame(data_1[var].value_counts())\n",
    "array2 = pd.DataFrame(data_1[var].value_counts(normalize=True))\n",
    "array[var + \"normalizado\"] = array2\n",
    "array\n",
    "\n",
    "array"
   ]
  },
  {
   "cell_type": "code",
   "execution_count": 0,
   "metadata": {
    "colab": {},
    "colab_type": "code",
    "id": "pkvjiB9CKUzR",
    "outputId": "5d69ede7-8509-468e-db34-048904a623b9"
   },
   "outputs": [
    {
     "data": {
      "image/png": "[encoded data removed]",
      "text/plain": [
       "<matplotlib.figure.Figure at 0x1d5e9e21668>"
      ]
     },
     "metadata": {
      "tags": []
     },
     "output_type": "display_data"
    },
    {
     "name": "stdout",
     "output_type": "stream",
     "text": [
      "A:Não. \n",
      " B:Sim, um  \n",
      " C:Sim, dois \n",
      " D:Sim, três \n",
      " E:Sim, quatro\n"
     ]
    },
    {
     "data": {
      "text/html": [
       "<div>\n",
       "<style>\n",
       "    .dataframe thead tr:only-child th {\n",
       "        text-align: right;\n",
       "    }\n",
       "\n",
       "    .dataframe thead th {\n",
       "        text-align: left;\n",
       "    }\n",
       "\n",
       "    .dataframe tbody tr th {\n",
       "        vertical-align: top;\n",
       "    }\n",
       "</style>\n",
       "<table border=\"1\" class=\"dataframe\">\n",
       "  <thead>\n",
       "    <tr style=\"text-align: right;\">\n",
       "      <th></th>\n",
       "      <th>Q021</th>\n",
       "      <th>Q021normalizado</th>\n",
       "    </tr>\n",
       "  </thead>\n",
       "  <tbody>\n",
       "    <tr>\n",
       "      <th>A</th>\n",
       "      <td>127914</td>\n",
       "      <td>0.720431</td>\n",
       "    </tr>\n",
       "    <tr>\n",
       "      <th>B</th>\n",
       "      <td>49638</td>\n",
       "      <td>0.279569</td>\n",
       "    </tr>\n",
       "  </tbody>\n",
       "</table>\n",
       "</div>"
      ],
      "text/plain": [
       "     Q021  Q021normalizado\n",
       "A  127914         0.720431\n",
       "B   49638         0.279569"
      ]
     },
     "execution_count": 203,
     "metadata": {
      "tags": []
     },
     "output_type": "execute_result"
    }
   ],
   "source": [
    "var = \"Q021\"\n",
    "tipo = data_1[var].value_counts().index\n",
    "frequencia = data_1[var].value_counts().values\n",
    "tipo, frequencia\n",
    "plt.pie(x=frequencia, labels=tipo, autopct='%2.2f%%',shadow=True, startangle=20)\n",
    "plt.title('Na sua residência tem TV por assinatura?')\n",
    "plt.show()\n",
    "\n",
    "print(\"A:Não. \\n B:Sim, um  \\n C:Sim, dois \\n D:Sim, três \\n E:Sim, quatro\")\n",
    "\n",
    "array = pd.DataFrame(data_1[var].value_counts())\n",
    "array2 = pd.DataFrame(data_1[var].value_counts(normalize=True))\n",
    "array[var + \"normalizado\"] = array2\n",
    "array\n",
    "\n",
    "array"
   ]
  },
  {
   "cell_type": "code",
   "execution_count": 0,
   "metadata": {
    "colab": {},
    "colab_type": "code",
    "id": "R6T7DWsVKUzV",
    "outputId": "9aaba64f-0e23-4822-dd44-cf367512300d"
   },
   "outputs": [
    {
     "data": {
      "image/png": "[encoded data removed]",
      "text/plain": [
       "<matplotlib.figure.Figure at 0x1d5e9ee6ac8>"
      ]
     },
     "metadata": {
      "tags": []
     },
     "output_type": "display_data"
    },
    {
     "name": "stdout",
     "output_type": "stream",
     "text": [
      "A:Não. \n",
      " B:Sim, um  \n",
      " C:Sim, dois \n",
      " D:Sim, três \n",
      " E:Sim, quatro\n"
     ]
    },
    {
     "data": {
      "text/html": [
       "<div>\n",
       "<style>\n",
       "    .dataframe thead tr:only-child th {\n",
       "        text-align: right;\n",
       "    }\n",
       "\n",
       "    .dataframe thead th {\n",
       "        text-align: left;\n",
       "    }\n",
       "\n",
       "    .dataframe tbody tr th {\n",
       "        vertical-align: top;\n",
       "    }\n",
       "</style>\n",
       "<table border=\"1\" class=\"dataframe\">\n",
       "  <thead>\n",
       "    <tr style=\"text-align: right;\">\n",
       "      <th></th>\n",
       "      <th>Q022</th>\n",
       "      <th>Q022normalizado</th>\n",
       "    </tr>\n",
       "  </thead>\n",
       "  <tbody>\n",
       "    <tr>\n",
       "      <th>D</th>\n",
       "      <td>54961</td>\n",
       "      <td>0.309549</td>\n",
       "    </tr>\n",
       "    <tr>\n",
       "      <th>C</th>\n",
       "      <td>50057</td>\n",
       "      <td>0.281929</td>\n",
       "    </tr>\n",
       "    <tr>\n",
       "      <th>E</th>\n",
       "      <td>41124</td>\n",
       "      <td>0.231617</td>\n",
       "    </tr>\n",
       "    <tr>\n",
       "      <th>B</th>\n",
       "      <td>28525</td>\n",
       "      <td>0.160657</td>\n",
       "    </tr>\n",
       "    <tr>\n",
       "      <th>A</th>\n",
       "      <td>2885</td>\n",
       "      <td>0.016249</td>\n",
       "    </tr>\n",
       "  </tbody>\n",
       "</table>\n",
       "</div>"
      ],
      "text/plain": [
       "    Q022  Q022normalizado\n",
       "D  54961         0.309549\n",
       "C  50057         0.281929\n",
       "E  41124         0.231617\n",
       "B  28525         0.160657\n",
       "A   2885         0.016249"
      ]
     },
     "execution_count": 204,
     "metadata": {
      "tags": []
     },
     "output_type": "execute_result"
    }
   ],
   "source": [
    "var = \"Q022\"\n",
    "tipo = data_1[var].value_counts().index\n",
    "frequencia = data_1[var].value_counts().values\n",
    "tipo, frequencia\n",
    "plt.pie(x=frequencia, labels=tipo, autopct='%2.2f%%',shadow=True, startangle=20)\n",
    "plt.title('Na sua residência tem telefone celular?')\n",
    "plt.show()\n",
    "\n",
    "print(\"A:Não. \\n B:Sim, um  \\n C:Sim, dois \\n D:Sim, três \\n E:Sim, quatro\")\n",
    "\n",
    "array = pd.DataFrame(data_1[var].value_counts())\n",
    "array2 = pd.DataFrame(data_1[var].value_counts(normalize=True))\n",
    "array[var + \"normalizado\"] = array2\n",
    "array\n",
    "\n",
    "array"
   ]
  },
  {
   "cell_type": "code",
   "execution_count": 0,
   "metadata": {
    "colab": {},
    "colab_type": "code",
    "id": "oPFFpaZAKUzX",
    "outputId": "7e34e693-c3c1-4b28-9105-c5bd2c5cfb2d"
   },
   "outputs": [
    {
     "data": {
      "image/png": "[encoded data removed]",
      "text/plain": [
       "<matplotlib.figure.Figure at 0x1d5eb18a710>"
      ]
     },
     "metadata": {
      "tags": []
     },
     "output_type": "display_data"
    },
    {
     "name": "stdout",
     "output_type": "stream",
     "text": [
      "A:Não. \n",
      " B:Sim, um  \n",
      " C:Sim, dois \n",
      " D:Sim, três \n",
      " E:Sim, quatro\n"
     ]
    },
    {
     "data": {
      "text/html": [
       "<div>\n",
       "<style>\n",
       "    .dataframe thead tr:only-child th {\n",
       "        text-align: right;\n",
       "    }\n",
       "\n",
       "    .dataframe thead th {\n",
       "        text-align: left;\n",
       "    }\n",
       "\n",
       "    .dataframe tbody tr th {\n",
       "        vertical-align: top;\n",
       "    }\n",
       "</style>\n",
       "<table border=\"1\" class=\"dataframe\">\n",
       "  <thead>\n",
       "    <tr style=\"text-align: right;\">\n",
       "      <th></th>\n",
       "      <th>Q023</th>\n",
       "      <th>Q023normalizado</th>\n",
       "    </tr>\n",
       "  </thead>\n",
       "  <tbody>\n",
       "    <tr>\n",
       "      <th>A</th>\n",
       "      <td>115889</td>\n",
       "      <td>0.652705</td>\n",
       "    </tr>\n",
       "    <tr>\n",
       "      <th>B</th>\n",
       "      <td>61663</td>\n",
       "      <td>0.347295</td>\n",
       "    </tr>\n",
       "  </tbody>\n",
       "</table>\n",
       "</div>"
      ],
      "text/plain": [
       "     Q023  Q023normalizado\n",
       "A  115889         0.652705\n",
       "B   61663         0.347295"
      ]
     },
     "execution_count": 205,
     "metadata": {
      "tags": []
     },
     "output_type": "execute_result"
    }
   ],
   "source": [
    "var = \"Q023\"\n",
    "tipo = data_1[var].value_counts().index\n",
    "frequencia = data_1[var].value_counts().values\n",
    "tipo, frequencia\n",
    "plt.pie(x=frequencia, labels=tipo, autopct='%2.2f%%',shadow=True, startangle=20)\n",
    "plt.title('Na sua residência tem telefone fixo?')\n",
    "plt.show()\n",
    "\n",
    "print(\"A:Não. \\n B:Sim, um  \\n C:Sim, dois \\n D:Sim, três \\n E:Sim, quatro\")\n",
    "\n",
    "array = pd.DataFrame(data_1[var].value_counts())\n",
    "array2 = pd.DataFrame(data_1[var].value_counts(normalize=True))\n",
    "array[var + \"normalizado\"] = array2\n",
    "array\n",
    "\n",
    "array"
   ]
  },
  {
   "cell_type": "code",
   "execution_count": 0,
   "metadata": {
    "colab": {},
    "colab_type": "code",
    "id": "AouxycPEKUzZ",
    "outputId": "6187ace6-cdd0-4ded-93ec-0b21f172b077"
   },
   "outputs": [
    {
     "data": {
      "image/png": "[encoded data removed]",
      "text/plain": [
       "<matplotlib.figure.Figure at 0x1d5eb190b70>"
      ]
     },
     "metadata": {
      "tags": []
     },
     "output_type": "display_data"
    },
    {
     "name": "stdout",
     "output_type": "stream",
     "text": [
      "A:Não. \n",
      " B:Sim, um  \n",
      " C:Sim, dois \n",
      " D:Sim, três \n",
      " E:Sim, quatro\n"
     ]
    },
    {
     "data": {
      "text/html": [
       "<div>\n",
       "<style>\n",
       "    .dataframe thead tr:only-child th {\n",
       "        text-align: right;\n",
       "    }\n",
       "\n",
       "    .dataframe thead th {\n",
       "        text-align: left;\n",
       "    }\n",
       "\n",
       "    .dataframe tbody tr th {\n",
       "        vertical-align: top;\n",
       "    }\n",
       "</style>\n",
       "<table border=\"1\" class=\"dataframe\">\n",
       "  <thead>\n",
       "    <tr style=\"text-align: right;\">\n",
       "      <th></th>\n",
       "      <th>Q024</th>\n",
       "      <th>Q024normalizado</th>\n",
       "    </tr>\n",
       "  </thead>\n",
       "  <tbody>\n",
       "    <tr>\n",
       "      <th>B</th>\n",
       "      <td>96338</td>\n",
       "      <td>0.542590</td>\n",
       "    </tr>\n",
       "    <tr>\n",
       "      <th>A</th>\n",
       "      <td>59374</td>\n",
       "      <td>0.334403</td>\n",
       "    </tr>\n",
       "    <tr>\n",
       "      <th>C</th>\n",
       "      <td>15602</td>\n",
       "      <td>0.087873</td>\n",
       "    </tr>\n",
       "    <tr>\n",
       "      <th>D</th>\n",
       "      <td>4448</td>\n",
       "      <td>0.025052</td>\n",
       "    </tr>\n",
       "    <tr>\n",
       "      <th>E</th>\n",
       "      <td>1790</td>\n",
       "      <td>0.010082</td>\n",
       "    </tr>\n",
       "  </tbody>\n",
       "</table>\n",
       "</div>"
      ],
      "text/plain": [
       "    Q024  Q024normalizado\n",
       "B  96338         0.542590\n",
       "A  59374         0.334403\n",
       "C  15602         0.087873\n",
       "D   4448         0.025052\n",
       "E   1790         0.010082"
      ]
     },
     "execution_count": 148,
     "metadata": {
      "tags": []
     },
     "output_type": "execute_result"
    }
   ],
   "source": [
    "var = \"Q024\"\n",
    "tipo = data_1[var].value_counts().index\n",
    "frequencia = data_1[var].value_counts().values\n",
    "tipo, frequencia\n",
    "plt.pie(x=frequencia, labels=tipo, autopct='%2.2f%%',shadow=True, startangle=90)\n",
    "plt.title('Na sua residência tem computador?')\n",
    "plt.show()\n",
    "\n",
    "print(\"A:Não. \\n B:Sim, um  \\n C:Sim, dois \\n D:Sim, três \\n E:Sim, quatro\")\n",
    "\n",
    "array = pd.DataFrame(data_1[var].value_counts())\n",
    "array2 = pd.DataFrame(data_1[var].value_counts(normalize=True))\n",
    "array[var + \"normalizado\"] = array2\n",
    "array\n",
    "\n",
    "array"
   ]
  },
  {
   "cell_type": "code",
   "execution_count": 0,
   "metadata": {
    "colab": {},
    "colab_type": "code",
    "id": "Oi02zR9UKUzc",
    "outputId": "5f2580a6-8472-4d83-e321-b4f50481df39"
   },
   "outputs": [
    {
     "data": {
      "image/png": "[encoded data removed]",
      "text/plain": [
       "<matplotlib.figure.Figure at 0x1d5eb15cf98>"
      ]
     },
     "metadata": {
      "tags": []
     },
     "output_type": "display_data"
    },
    {
     "name": "stdout",
     "output_type": "stream",
     "text": [
      "A:Não. \n",
      " B:Sim, um  \n",
      " C:Sim, dois \n",
      " D:Sim, três \n",
      " E:Sim, quatro\n"
     ]
    },
    {
     "data": {
      "text/html": [
       "<div>\n",
       "<style>\n",
       "    .dataframe thead tr:only-child th {\n",
       "        text-align: right;\n",
       "    }\n",
       "\n",
       "    .dataframe thead th {\n",
       "        text-align: left;\n",
       "    }\n",
       "\n",
       "    .dataframe tbody tr th {\n",
       "        vertical-align: top;\n",
       "    }\n",
       "</style>\n",
       "<table border=\"1\" class=\"dataframe\">\n",
       "  <thead>\n",
       "    <tr style=\"text-align: right;\">\n",
       "      <th></th>\n",
       "      <th>Q025</th>\n",
       "      <th>Q025normalizado</th>\n",
       "    </tr>\n",
       "  </thead>\n",
       "  <tbody>\n",
       "    <tr>\n",
       "      <th>B</th>\n",
       "      <td>132335</td>\n",
       "      <td>0.745331</td>\n",
       "    </tr>\n",
       "    <tr>\n",
       "      <th>A</th>\n",
       "      <td>45217</td>\n",
       "      <td>0.254669</td>\n",
       "    </tr>\n",
       "  </tbody>\n",
       "</table>\n",
       "</div>"
      ],
      "text/plain": [
       "     Q025  Q025normalizado\n",
       "B  132335         0.745331\n",
       "A   45217         0.254669"
      ]
     },
     "execution_count": 206,
     "metadata": {
      "tags": []
     },
     "output_type": "execute_result"
    }
   ],
   "source": [
    "var = \"Q025\"\n",
    "tipo = data_1[var].value_counts().index\n",
    "frequencia = data_1[var].value_counts().values\n",
    "tipo, frequencia\n",
    "plt.pie(x=frequencia, labels=tipo, autopct='%2.2f%%',shadow=True, startangle=20)\n",
    "plt.title('Na sua residência tem acesso à Internet?')\n",
    "plt.show()\n",
    "\n",
    "print(\"A:Não. \\n B:Sim, um  \\n C:Sim, dois \\n D:Sim, três \\n E:Sim, quatro\")\n",
    "\n",
    "array = pd.DataFrame(data_1[var].value_counts())\n",
    "array2 = pd.DataFrame(data_1[var].value_counts(normalize=True))\n",
    "array[var + \"normalizado\"] = array2\n",
    "array\n",
    "\n",
    "array"
   ]
  },
  {
   "cell_type": "code",
   "execution_count": 0,
   "metadata": {
    "colab": {},
    "colab_type": "code",
    "id": "wZ8AD2YtKUze",
    "outputId": "5942d67e-55d8-4719-ca6f-57fdcf6bc02b"
   },
   "outputs": [
    {
     "data": {
      "image/png": "[encoded data removed]",
      "text/plain": [
       "<matplotlib.figure.Figure at 0x1d5e8e2c828>"
      ]
     },
     "metadata": {
      "tags": []
     },
     "output_type": "display_data"
    },
    {
     "name": "stdout",
     "output_type": "stream",
     "text": [
      "A:Não. \n",
      " B:Sim, um  \n",
      " C:Sim, dois \n",
      " D:Sim, três \n",
      " E:Sim, quatro\n"
     ]
    },
    {
     "data": {
      "text/html": [
       "<div>\n",
       "<style>\n",
       "    .dataframe thead tr:only-child th {\n",
       "        text-align: right;\n",
       "    }\n",
       "\n",
       "    .dataframe thead th {\n",
       "        text-align: left;\n",
       "    }\n",
       "\n",
       "    .dataframe tbody tr th {\n",
       "        vertical-align: top;\n",
       "    }\n",
       "</style>\n",
       "<table border=\"1\" class=\"dataframe\">\n",
       "  <thead>\n",
       "    <tr style=\"text-align: right;\">\n",
       "      <th></th>\n",
       "      <th>Q026</th>\n",
       "      <th>Q026normalizado</th>\n",
       "    </tr>\n",
       "  </thead>\n",
       "  <tbody>\n",
       "    <tr>\n",
       "      <th>B</th>\n",
       "      <td>175272</td>\n",
       "      <td>0.987159</td>\n",
       "    </tr>\n",
       "    <tr>\n",
       "      <th>C</th>\n",
       "      <td>1849</td>\n",
       "      <td>0.010414</td>\n",
       "    </tr>\n",
       "    <tr>\n",
       "      <th>A</th>\n",
       "      <td>234</td>\n",
       "      <td>0.001318</td>\n",
       "    </tr>\n",
       "    <tr>\n",
       "      <th>D</th>\n",
       "      <td>197</td>\n",
       "      <td>0.001110</td>\n",
       "    </tr>\n",
       "  </tbody>\n",
       "</table>\n",
       "</div>"
      ],
      "text/plain": [
       "     Q026  Q026normalizado\n",
       "B  175272         0.987159\n",
       "C    1849         0.010414\n",
       "A     234         0.001318\n",
       "D     197         0.001110"
      ]
     },
     "execution_count": 207,
     "metadata": {
      "tags": []
     },
     "output_type": "execute_result"
    }
   ],
   "source": [
    "var = \"Q026\"\n",
    "tipo = data_1[var].value_counts().index\n",
    "frequencia = data_1[var].value_counts().values\n",
    "tipo, frequencia\n",
    "plt.pie(x=frequencia, labels=tipo, autopct='%2.2f%%',shadow=True, startangle=20)\n",
    "plt.title('Você já concluiu ou está concluindo o Ensino Médio?')\n",
    "plt.show()\n",
    "\n",
    "print(\"A:Não. \\n B:Sim, um  \\n C:Sim, dois \\n D:Sim, três \\n E:Sim, quatro\")\n",
    "\n",
    "array = pd.DataFrame(data_1[var].value_counts())\n",
    "array2 = pd.DataFrame(data_1[var].value_counts(normalize=True))\n",
    "array[var + \"normalizado\"] = array2\n",
    "array\n",
    "\n",
    "array"
   ]
  },
  {
   "cell_type": "code",
   "execution_count": 0,
   "metadata": {
    "colab": {},
    "colab_type": "code",
    "id": "zpJSukaKKUzg",
    "outputId": "81b8f8cb-2cf0-4d90-efd9-75b4ce5255a5"
   },
   "outputs": [
    {
     "data": {
      "image/png": "[encoded data removed]",
      "text/plain": [
       "<matplotlib.figure.Figure at 0x1d5e9ec1630>"
      ]
     },
     "metadata": {
      "tags": []
     },
     "output_type": "display_data"
    },
    {
     "name": "stdout",
     "output_type": "stream",
     "text": [
      "A:Não. \n",
      " B:Sim, um  \n",
      " C:Sim, dois \n",
      " D:Sim, três \n",
      " E:Sim, quatro\n"
     ]
    },
    {
     "data": {
      "text/html": [
       "<div>\n",
       "<style>\n",
       "    .dataframe thead tr:only-child th {\n",
       "        text-align: right;\n",
       "    }\n",
       "\n",
       "    .dataframe thead th {\n",
       "        text-align: left;\n",
       "    }\n",
       "\n",
       "    .dataframe tbody tr th {\n",
       "        vertical-align: top;\n",
       "    }\n",
       "</style>\n",
       "<table border=\"1\" class=\"dataframe\">\n",
       "  <thead>\n",
       "    <tr style=\"text-align: right;\">\n",
       "      <th></th>\n",
       "      <th>Q027</th>\n",
       "      <th>Q027normalizado</th>\n",
       "    </tr>\n",
       "  </thead>\n",
       "  <tbody>\n",
       "    <tr>\n",
       "      <th>A</th>\n",
       "      <td>150677</td>\n",
       "      <td>0.848636</td>\n",
       "    </tr>\n",
       "    <tr>\n",
       "      <th>D</th>\n",
       "      <td>16843</td>\n",
       "      <td>0.094862</td>\n",
       "    </tr>\n",
       "    <tr>\n",
       "      <th>B</th>\n",
       "      <td>4306</td>\n",
       "      <td>0.024252</td>\n",
       "    </tr>\n",
       "    <tr>\n",
       "      <th>E</th>\n",
       "      <td>3630</td>\n",
       "      <td>0.020445</td>\n",
       "    </tr>\n",
       "    <tr>\n",
       "      <th>C</th>\n",
       "      <td>2096</td>\n",
       "      <td>0.011805</td>\n",
       "    </tr>\n",
       "  </tbody>\n",
       "</table>\n",
       "</div>"
      ],
      "text/plain": [
       "     Q027  Q027normalizado\n",
       "A  150677         0.848636\n",
       "D   16843         0.094862\n",
       "B    4306         0.024252\n",
       "E    3630         0.020445\n",
       "C    2096         0.011805"
      ]
     },
     "execution_count": 208,
     "metadata": {
      "tags": []
     },
     "output_type": "execute_result"
    }
   ],
   "source": [
    "var = \"Q027\"\n",
    "tipo = data_1[var].value_counts().index\n",
    "frequencia = data_1[var].value_counts().values\n",
    "tipo, frequencia\n",
    "plt.pie(x=frequencia, labels=tipo, autopct='%2.2f%%',shadow=True, startangle=20)\n",
    "plt.title('Em que tipo de escola você frequentou o Ensino Médio?')\n",
    "plt.show()\n",
    "\n",
    "print(\"A:Não. \\n B:Sim, um  \\n C:Sim, dois \\n D:Sim, três \\n E:Sim, quatro\")\n",
    "\n",
    "array = pd.DataFrame(data_1[var].value_counts())\n",
    "array2 = pd.DataFrame(data_1[var].value_counts(normalize=True))\n",
    "array[var + \"normalizado\"] = array2\n",
    "array\n",
    "\n",
    "array"
   ]
  },
  {
   "cell_type": "code",
   "execution_count": 0,
   "metadata": {
    "colab": {},
    "colab_type": "code",
    "id": "3qmPcgb2KUzj"
   },
   "outputs": [],
   "source": [
    "print(data_1.cov())\n",
    "print(data_1.corr())"
   ]
  }
 ],
 "metadata": {
  "celltoolbar": "Edit Metadata",
  "colab": {
   "name": "Tabelas.ipynb",
   "provenance": []
  },
  "kernelspec": {
   "display_name": "Python 3",
   "language": "python",
   "name": "python3"
  },
  "language_info": {
   "codemirror_mode": {
    "name": "ipython",
    "version": 3
   },
   "file_extension": ".py",
   "mimetype": "text/x-python",
   "name": "python",
   "nbconvert_exporter": "python",
   "pygments_lexer": "ipython3",
   "version": "3.7.6"
  }
 },
 "nbformat": 4,
 "nbformat_minor": 1
}
