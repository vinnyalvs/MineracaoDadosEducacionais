{
 "cells": [
  {
   "cell_type": "code",
   "execution_count": 35,
   "metadata": {},
   "outputs": [],
   "source": [
    "import pandas as pd\n",
    "import numpy as np\n",
    "import seaborn as sns\n",
    "import matplotlib.pyplot as plt\n",
    "\n"
   ]
  },
  {
   "cell_type": "code",
   "execution_count": 36,
   "metadata": {},
   "outputs": [],
   "source": [
    "path = \"C:\\\\Users\\\\vinic\\\\Documents\\\\GitHub\\\\Dados_Enem\\\\Microdados2018MG.csv\""
   ]
  },
  {
   "cell_type": "code",
   "execution_count": 37,
   "metadata": {},
   "outputs": [],
   "source": [
    "dadosEnem = pd.read_csv(path,sep=';',encoding='latin1',low_memory=False)"
   ]
  },
  {
   "cell_type": "code",
   "execution_count": 38,
   "metadata": {},
   "outputs": [],
   "source": [
    "#dadosEnem.info()"
   ]
  },
  {
   "cell_type": "code",
   "execution_count": 39,
   "metadata": {},
   "outputs": [
    {
     "name": "stdout",
     "output_type": "stream",
     "text": [
      " A\tNão.\n",
      " B\tSim, um.\n",
      " C\tSim, dois.\n",
      " D\tSim, três.\n",
      " E\tSim, quatro ou mais.\n"
     ]
    },
    {
     "data": {
      "image/png": "[encoded data removed]",
      "text/plain": [
       "<Figure size 432x288 with 1 Axes>"
      ]
     },
     "metadata": {
      "needs_background": "light"
     },
     "output_type": "display_data"
    }
   ],
   "source": [
    "var = \"Q022\"\n",
    "contagem_de_questionario = dadosEnem[var].value_counts().to_frame().reset_index()\n",
    "contagem_de_questionario.columns = [\"Respostas\", \"total\"]\n",
    "frequencia = dadosEnem[var].value_counts(normalize=True)\n",
    "\n",
    "plt.title('Na sua casa tem telefone celular?')\n",
    "\n",
    "sns.barplot(x=\"Respostas\", y = \"total\", data = contagem_de_questionario)\n",
    "\n",
    "print(\" A\tNão.\\n B\tSim, um.\\n C\tSim, dois.\\n D\tSim, três.\\n E\tSim, quatro ou mais.\")\n",
    "\n"
   ]
  },
  {
   "cell_type": "code",
   "execution_count": 40,
   "metadata": {},
   "outputs": [
    {
     "name": "stdout",
     "output_type": "stream",
     "text": [
      " A\tNão.\n",
      " B\tSim, um.\n",
      " C\tSim, dois.\n",
      " D\tSim, três.\n",
      " E\tSim, quatro ou mais.\n"
     ]
    },
    {
     "data": {
      "image/png": "[encoded data removed]",
      "text/plain": [
       "<Figure size 432x288 with 1 Axes>"
      ]
     },
     "metadata": {
      "needs_background": "light"
     },
     "output_type": "display_data"
    }
   ],
   "source": [
    "var = \"Q024\"\n",
    "contagem_de_questionario = dadosEnem[var].value_counts().to_frame().reset_index()\n",
    "contagem_de_questionario.columns = [\"Respostas\", \"total\"]\n",
    "frequencia = dadosEnem[var].value_counts(normalize=True)\n",
    "\n",
    "plt.title('Na sua casa tem acesso a computador?')\n",
    "\n",
    "sns.barplot(x=\"Respostas\", y = \"total\", data = contagem_de_questionario)\n",
    "\n",
    "print(\" A\tNão.\\n B\tSim, um.\\n C\tSim, dois.\\n D\tSim, três.\\n E\tSim, quatro ou mais.\")\n",
    "\n"
   ]
  },
  {
   "cell_type": "code",
   "execution_count": 41,
   "metadata": {},
   "outputs": [
    {
     "name": "stdout",
     "output_type": "stream",
     "text": [
      " A\tNão.\n",
      " B\tSim\n"
     ]
    },
    {
     "data": {
      "image/png": "[encoded data removed]",
      "text/plain": [
       "<Figure size 432x288 with 1 Axes>"
      ]
     },
     "metadata": {
      "needs_background": "light"
     },
     "output_type": "display_data"
    }
   ],
   "source": [
    "var = \"Q025\"\n",
    "contagem_de_questionario = dadosEnem[var].value_counts().to_frame().reset_index()\n",
    "contagem_de_questionario.columns = [\"Respostas\", \"total\"]\n",
    "frequencia = dadosEnem[var].value_counts(normalize=True)\n",
    "\n",
    "plt.title('Na sua casa tem acesso a internet?')\n",
    "\n",
    "sns.barplot(x=\"Respostas\", y = \"total\", data = contagem_de_questionario)\n",
    "\n",
    "print(\" A\tNão.\\n B\tSim\")\n",
    "\n"
   ]
  },
  {
   "cell_type": "markdown",
   "metadata": {},
   "source": [
    "# Analisando Escola Públicas\n"
   ]
  },
  {
   "cell_type": "code",
   "execution_count": null,
   "metadata": {},
   "outputs": [],
   "source": []
  },
  {
   "cell_type": "code",
   "execution_count": 42,
   "metadata": {},
   "outputs": [],
   "source": [
    "#tipo_escola = dadosEnem['TP_ESCOLA'].value_counts().to_frame().reset_index()\n",
    "#tipo_escola.columns = [\"Tipo Escola\", \"total\"]\n",
    "\n",
    "\n",
    "#plt.title('Tipo de Escola')\n",
    "\n",
    "#sns.barplot(x=\"Tipo Escola\", y = \"total\", data = tipo_escola)\n",
    "\n",
    "#print(\" 1\tNão Respondeu \\n 2\tPública \\n 3\tPrivada \\n 4\tExterior\")\n"
   ]
  },
  {
   "cell_type": "code",
   "execution_count": 43,
   "metadata": {},
   "outputs": [],
   "source": [
    "#tipo = dadosEnem['TP_ESCOLA'].value_counts().index\n",
    "#frequencia = dadosEnem['TP_ESCOLA'].value_counts().values\n",
    "#tipo, frequencia\n",
    "#plt.pie(x=frequencia, labels=tipo, autopct='%2.2f%%',shadow=True, startangle=90)\n",
    "#plt.ylabel('Tipo de Escola')\n",
    "#plt.show()\n",
    "\n",
    "#array = pd.DataFrame(dadosEnem['TP_ESCOLA'].value_counts())\n",
    "#array2 = pd.DataFrame(dadosEnem['TP_ESCOLA'].value_counts(normalize=True))\n",
    "#array['TP_ESCOLA_Normalizado'] = array2\n",
    "#array\n",
    "\n",
    "#print(\" 1\tNão Respondeu \\n 2\tPública \\n 3\tPrivada \\n 4\tExterior \")"
   ]
  },
  {
   "cell_type": "code",
   "execution_count": 44,
   "metadata": {},
   "outputs": [],
   "source": [
    "dadosEscolaPublica = dadosEnem.query(\"TP_ESCOLA == 2\")"
   ]
  },
  {
   "cell_type": "code",
   "execution_count": 45,
   "metadata": {},
   "outputs": [
    {
     "name": "stdout",
     "output_type": "stream",
     "text": [
      "Total de participantes de escola pública: 109028\n"
     ]
    }
   ],
   "source": [
    "print(\"Total de participantes de escola pública:\",dadosEscolaPublica.shape[0])"
   ]
  },
  {
   "cell_type": "code",
   "execution_count": null,
   "metadata": {},
   "outputs": [],
   "source": []
  },
  {
   "cell_type": "markdown",
   "metadata": {},
   "source": [
    "# Acesso a Internet"
   ]
  },
  {
   "cell_type": "code",
   "execution_count": 46,
   "metadata": {},
   "outputs": [
    {
     "name": "stdout",
     "output_type": "stream",
     "text": [
      " A\tNão.\n",
      " B\tSim\n"
     ]
    },
    {
     "data": {
      "image/png": "[encoded data removed]",
      "text/plain": [
       "<Figure size 432x288 with 1 Axes>"
      ]
     },
     "metadata": {
      "needs_background": "light"
     },
     "output_type": "display_data"
    }
   ],
   "source": [
    "var = \"Q025\"\n",
    "contagem_de_questionario = dadosEscolaPublica[var].value_counts().to_frame().reset_index()\n",
    "contagem_de_questionario.columns = [\"Respostas\", \"total\"]\n",
    "frequencia = dadosEscolaPublica[var].value_counts().values\n",
    "\n",
    "\n",
    "plt.title('Na sua casa tem acesso a internet?')\n",
    "\n",
    "sns.barplot(x=\"Respostas\", y = \"total\", data = contagem_de_questionario)\n",
    "\n",
    "print(\" A\tNão.\\n B\tSim\")\n"
   ]
  },
  {
   "cell_type": "code",
   "execution_count": 47,
   "metadata": {},
   "outputs": [],
   "source": [
    "dados_Internet = dadosEscolaPublica.query(\"Q025 == 'B'\") "
   ]
  },
  {
   "cell_type": "code",
   "execution_count": 48,
   "metadata": {},
   "outputs": [
    {
     "name": "stdout",
     "output_type": "stream",
     "text": [
      " A\tNão.\n",
      " B\tSim, um.\n",
      " C\tSim, dois.\n",
      " D\tSim, três.\n",
      " E\tSim, quatro ou mais.\n"
     ]
    },
    {
     "data": {
      "text/html": [
       "<div>\n",
       "<style scoped>\n",
       "    .dataframe tbody tr th:only-of-type {\n",
       "        vertical-align: middle;\n",
       "    }\n",
       "\n",
       "    .dataframe tbody tr th {\n",
       "        vertical-align: top;\n",
       "    }\n",
       "\n",
       "    .dataframe thead th {\n",
       "        text-align: right;\n",
       "    }\n",
       "</style>\n",
       "<table border=\"1\" class=\"dataframe\">\n",
       "  <thead>\n",
       "    <tr style=\"text-align: right;\">\n",
       "      <th></th>\n",
       "      <th>Q024</th>\n",
       "      <th>Porcentagem (%)</th>\n",
       "    </tr>\n",
       "  </thead>\n",
       "  <tbody>\n",
       "    <tr>\n",
       "      <th>B</th>\n",
       "      <td>52087</td>\n",
       "      <td>63.005927</td>\n",
       "    </tr>\n",
       "    <tr>\n",
       "      <th>A</th>\n",
       "      <td>23901</td>\n",
       "      <td>28.911334</td>\n",
       "    </tr>\n",
       "    <tr>\n",
       "      <th>C</th>\n",
       "      <td>5508</td>\n",
       "      <td>6.662635</td>\n",
       "    </tr>\n",
       "    <tr>\n",
       "      <th>D</th>\n",
       "      <td>922</td>\n",
       "      <td>1.115278</td>\n",
       "    </tr>\n",
       "    <tr>\n",
       "      <th>E</th>\n",
       "      <td>252</td>\n",
       "      <td>0.304826</td>\n",
       "    </tr>\n",
       "  </tbody>\n",
       "</table>\n",
       "</div>"
      ],
      "text/plain": [
       "    Q024  Porcentagem (%)\n",
       "B  52087        63.005927\n",
       "A  23901        28.911334\n",
       "C   5508         6.662635\n",
       "D    922         1.115278\n",
       "E    252         0.304826"
      ]
     },
     "execution_count": 48,
     "metadata": {},
     "output_type": "execute_result"
    },
    {
     "data": {
      "image/png": "[encoded data removed]",
      "text/plain": [
       "<Figure size 432x288 with 1 Axes>"
      ]
     },
     "metadata": {
      "needs_background": "light"
     },
     "output_type": "display_data"
    }
   ],
   "source": [
    "var = \"Q024\"\n",
    "contagem_de_questionario = dados_Internet[var].value_counts().to_frame().reset_index()\n",
    "contagem_de_questionario.columns = [\"Respostas\", \"total\"]\n",
    "\n",
    "\n",
    "plt.title('Na sua casa tem acesso a computador?')\n",
    "\n",
    "sns.barplot(x=\"Respostas\", y = \"total\", data = contagem_de_questionario)\n",
    "\n",
    "print(\" A\tNão.\\n B\tSim, um.\\n C\tSim, dois.\\n D\tSim, três.\\n E\tSim, quatro ou mais.\")\n",
    "\n",
    "array = pd.DataFrame(dados_Internet[var].value_counts())\n",
    "array2 = pd.DataFrame(dados_Internet[var].value_counts(normalize=True) * 100)\n",
    "array['Porcentagem (%)'] = array2\n",
    "array\n"
   ]
  },
  {
   "cell_type": "code",
   "execution_count": 49,
   "metadata": {},
   "outputs": [
    {
     "data": {
      "text/plain": [
       "pandas.core.frame.DataFrame"
      ]
     },
     "execution_count": 49,
     "metadata": {},
     "output_type": "execute_result"
    }
   ],
   "source": [
    "type(contagem_de_questionario)"
   ]
  },
  {
   "cell_type": "code",
   "execution_count": 50,
   "metadata": {},
   "outputs": [
    {
     "data": {
      "image/png": "[encoded data removed]",
      "text/plain": [
       "<Figure size 432x288 with 1 Axes>"
      ]
     },
     "metadata": {},
     "output_type": "display_data"
    },
    {
     "name": "stdout",
     "output_type": "stream",
     "text": [
      " A\tNão.\n",
      " B\tSim, um.\n",
      " C\tSim, dois.\n",
      " D\tSim, três.\n",
      " E\tSim, quatro ou mais.\n"
     ]
    },
    {
     "data": {
      "text/html": [
       "<div>\n",
       "<style scoped>\n",
       "    .dataframe tbody tr th:only-of-type {\n",
       "        vertical-align: middle;\n",
       "    }\n",
       "\n",
       "    .dataframe tbody tr th {\n",
       "        vertical-align: top;\n",
       "    }\n",
       "\n",
       "    .dataframe thead th {\n",
       "        text-align: right;\n",
       "    }\n",
       "</style>\n",
       "<table border=\"1\" class=\"dataframe\">\n",
       "  <thead>\n",
       "    <tr style=\"text-align: right;\">\n",
       "      <th></th>\n",
       "      <th>Q024</th>\n",
       "      <th>Porcentagem (%)</th>\n",
       "    </tr>\n",
       "  </thead>\n",
       "  <tbody>\n",
       "    <tr>\n",
       "      <th>B</th>\n",
       "      <td>52087</td>\n",
       "      <td>63.005927</td>\n",
       "    </tr>\n",
       "    <tr>\n",
       "      <th>A</th>\n",
       "      <td>23901</td>\n",
       "      <td>28.911334</td>\n",
       "    </tr>\n",
       "    <tr>\n",
       "      <th>C</th>\n",
       "      <td>5508</td>\n",
       "      <td>6.662635</td>\n",
       "    </tr>\n",
       "    <tr>\n",
       "      <th>D</th>\n",
       "      <td>922</td>\n",
       "      <td>1.115278</td>\n",
       "    </tr>\n",
       "    <tr>\n",
       "      <th>E</th>\n",
       "      <td>252</td>\n",
       "      <td>0.304826</td>\n",
       "    </tr>\n",
       "  </tbody>\n",
       "</table>\n",
       "</div>"
      ],
      "text/plain": [
       "    Q024  Porcentagem (%)\n",
       "B  52087        63.005927\n",
       "A  23901        28.911334\n",
       "C   5508         6.662635\n",
       "D    922         1.115278\n",
       "E    252         0.304826"
      ]
     },
     "execution_count": 50,
     "metadata": {},
     "output_type": "execute_result"
    }
   ],
   "source": [
    "var = \"Q024\"\n",
    "tipo = dados_Internet[var].value_counts().index\n",
    "frequencia = dados_Internet[var].value_counts().values\n",
    "tipo, frequencia\n",
    "plt.pie(x=frequencia, labels=tipo, autopct='%2.2f%%',shadow=True, startangle=90)\n",
    "plt.title('Na sua casa tem acesso a computador?')\n",
    "plt.show()\n",
    "\n",
    "print(\" A\tNão.\\n B\tSim, um.\\n C\tSim, dois.\\n D\tSim, três.\\n E\tSim, quatro ou mais.\")\n",
    "\n",
    "array = pd.DataFrame(dados_Internet[var].value_counts())\n",
    "array2 = pd.DataFrame(dados_Internet[var].value_counts(normalize=True) * 100)\n",
    "array['Porcentagem (%)'] = array2\n",
    "array"
   ]
  },
  {
   "cell_type": "code",
   "execution_count": 51,
   "metadata": {},
   "outputs": [
    {
     "data": {
      "image/png": "[encoded data removed]",
      "text/plain": [
       "<Figure size 432x288 with 1 Axes>"
      ]
     },
     "metadata": {},
     "output_type": "display_data"
    },
    {
     "data": {
      "text/html": [
       "<div>\n",
       "<style scoped>\n",
       "    .dataframe tbody tr th:only-of-type {\n",
       "        vertical-align: middle;\n",
       "    }\n",
       "\n",
       "    .dataframe tbody tr th {\n",
       "        vertical-align: top;\n",
       "    }\n",
       "\n",
       "    .dataframe thead th {\n",
       "        text-align: right;\n",
       "    }\n",
       "</style>\n",
       "<table border=\"1\" class=\"dataframe\">\n",
       "  <thead>\n",
       "    <tr style=\"text-align: right;\">\n",
       "      <th></th>\n",
       "      <th>Q025</th>\n",
       "      <th>Porcentagem (%)</th>\n",
       "    </tr>\n",
       "  </thead>\n",
       "  <tbody>\n",
       "    <tr>\n",
       "      <th>B</th>\n",
       "      <td>82670</td>\n",
       "      <td>75.824559</td>\n",
       "    </tr>\n",
       "    <tr>\n",
       "      <th>A</th>\n",
       "      <td>26358</td>\n",
       "      <td>24.175441</td>\n",
       "    </tr>\n",
       "  </tbody>\n",
       "</table>\n",
       "</div>"
      ],
      "text/plain": [
       "    Q025  Porcentagem (%)\n",
       "B  82670        75.824559\n",
       "A  26358        24.175441"
      ]
     },
     "execution_count": 51,
     "metadata": {},
     "output_type": "execute_result"
    }
   ],
   "source": [
    "var = \"Q025\"\n",
    "tipo = dadosEscolaPublica[var].value_counts().index\n",
    "frequencia = dadosEscolaPublica[var].value_counts().values\n",
    "tipo, frequencia\n",
    "plt.pie(x=frequencia, labels=['Sim','Não'], autopct='%2.2f%%',shadow=True, startangle=90)\n",
    "plt.title('Na sua casa tem acesso a internet?')\n",
    "plt.show()\n",
    "\n",
    "\n",
    "array = pd.DataFrame(dadosEscolaPublica[var].value_counts())\n",
    "array2 = pd.DataFrame(dadosEscolaPublica[var].value_counts(normalize=True) * 100)\n",
    "array['Porcentagem (%)'] = array2\n",
    "array"
   ]
  },
  {
   "cell_type": "code",
   "execution_count": 52,
   "metadata": {},
   "outputs": [
    {
     "data": {
      "text/plain": [
       "Index(['B', 'A'], dtype='object')"
      ]
     },
     "execution_count": 52,
     "metadata": {},
     "output_type": "execute_result"
    }
   ],
   "source": [
    "tipo"
   ]
  },
  {
   "cell_type": "markdown",
   "metadata": {},
   "source": [
    "# Acesso a Computador"
   ]
  },
  {
   "cell_type": "code",
   "execution_count": 53,
   "metadata": {},
   "outputs": [
    {
     "name": "stdout",
     "output_type": "stream",
     "text": [
      " A\tNão.\n",
      " B\tSim, um.\n",
      " C\tSim, dois.\n",
      " D\tSim, três.\n",
      " E\tSim, quatro ou mais.\n"
     ]
    },
    {
     "data": {
      "text/html": [
       "<div>\n",
       "<style scoped>\n",
       "    .dataframe tbody tr th:only-of-type {\n",
       "        vertical-align: middle;\n",
       "    }\n",
       "\n",
       "    .dataframe tbody tr th {\n",
       "        vertical-align: top;\n",
       "    }\n",
       "\n",
       "    .dataframe thead th {\n",
       "        text-align: right;\n",
       "    }\n",
       "</style>\n",
       "<table border=\"1\" class=\"dataframe\">\n",
       "  <thead>\n",
       "    <tr style=\"text-align: right;\">\n",
       "      <th></th>\n",
       "      <th>Q024</th>\n",
       "      <th>Porcentagem (%)</th>\n",
       "    </tr>\n",
       "  </thead>\n",
       "  <tbody>\n",
       "    <tr>\n",
       "      <th>B</th>\n",
       "      <td>56254</td>\n",
       "      <td>51.595920</td>\n",
       "    </tr>\n",
       "    <tr>\n",
       "      <th>A</th>\n",
       "      <td>45935</td>\n",
       "      <td>42.131379</td>\n",
       "    </tr>\n",
       "    <tr>\n",
       "      <th>C</th>\n",
       "      <td>5634</td>\n",
       "      <td>5.167480</td>\n",
       "    </tr>\n",
       "    <tr>\n",
       "      <th>D</th>\n",
       "      <td>943</td>\n",
       "      <td>0.864915</td>\n",
       "    </tr>\n",
       "    <tr>\n",
       "      <th>E</th>\n",
       "      <td>262</td>\n",
       "      <td>0.240305</td>\n",
       "    </tr>\n",
       "  </tbody>\n",
       "</table>\n",
       "</div>"
      ],
      "text/plain": [
       "    Q024  Porcentagem (%)\n",
       "B  56254        51.595920\n",
       "A  45935        42.131379\n",
       "C   5634         5.167480\n",
       "D    943         0.864915\n",
       "E    262         0.240305"
      ]
     },
     "execution_count": 53,
     "metadata": {},
     "output_type": "execute_result"
    },
    {
     "data": {
      "image/png": "[encoded data removed]",
      "text/plain": [
       "<Figure size 432x288 with 1 Axes>"
      ]
     },
     "metadata": {
      "needs_background": "light"
     },
     "output_type": "display_data"
    }
   ],
   "source": [
    "var = \"Q024\"\n",
    "contagem_de_questionario = dadosEscolaPublica[var].value_counts().to_frame().reset_index()\n",
    "contagem_de_questionario.columns = [\"Respostas\", \"total\"]\n",
    "\n",
    "\n",
    "plt.title('Na sua casa tem acesso a computador?')\n",
    "\n",
    "sns.barplot(x=\"Respostas\", y = \"total\", data = contagem_de_questionario)\n",
    "\n",
    "print(\" A\tNão.\\n B\tSim, um.\\n C\tSim, dois.\\n D\tSim, três.\\n E\tSim, quatro ou mais.\")\n",
    "\n",
    "array = pd.DataFrame(dadosEscolaPublica[var].value_counts())\n",
    "array2 = pd.DataFrame(dadosEscolaPublica[var].value_counts(normalize=True) * 100)\n",
    "array['Porcentagem (%)'] = array2\n",
    "array\n"
   ]
  },
  {
   "cell_type": "markdown",
   "metadata": {},
   "source": [
    "# Acesso a telefone Celular"
   ]
  },
  {
   "cell_type": "code",
   "execution_count": 54,
   "metadata": {},
   "outputs": [
    {
     "name": "stdout",
     "output_type": "stream",
     "text": [
      " A\tNão.\n",
      " B\tSim, um.\n",
      " C\tSim, dois.\n",
      " D\tSim, três.\n",
      " E\tSim, quatro ou mais.\n"
     ]
    },
    {
     "data": {
      "image/png": "[encoded data removed]",
      "text/plain": [
       "<Figure size 432x288 with 1 Axes>"
      ]
     },
     "metadata": {
      "needs_background": "light"
     },
     "output_type": "display_data"
    }
   ],
   "source": [
    "var = \"Q022\"\n",
    "contagem_de_questionario = dadosEscolaPublica[var].value_counts().to_frame().reset_index()\n",
    "contagem_de_questionario.columns = [\"Respostas\", \"total\"]\n",
    "frequencia = dadosEscolaPublica[var].value_counts(normalize=True)\n",
    "\n",
    "plt.title('Na sua casa tem telefone celular?')\n",
    "\n",
    "sns.barplot(x=\"Respostas\", y = \"total\", data = contagem_de_questionario)\n",
    "\n",
    "print(\" A\tNão.\\n B\tSim, um.\\n C\tSim, dois.\\n D\tSim, três.\\n E\tSim, quatro ou mais.\")"
   ]
  },
  {
   "cell_type": "code",
   "execution_count": 55,
   "metadata": {},
   "outputs": [
    {
     "data": {
      "image/png": "[encoded data removed]",
      "text/plain": [
       "<Figure size 432x288 with 1 Axes>"
      ]
     },
     "metadata": {},
     "output_type": "display_data"
    },
    {
     "data": {
      "text/html": [
       "<div>\n",
       "<style scoped>\n",
       "    .dataframe tbody tr th:only-of-type {\n",
       "        vertical-align: middle;\n",
       "    }\n",
       "\n",
       "    .dataframe tbody tr th {\n",
       "        vertical-align: top;\n",
       "    }\n",
       "\n",
       "    .dataframe thead th {\n",
       "        text-align: right;\n",
       "    }\n",
       "</style>\n",
       "<table border=\"1\" class=\"dataframe\">\n",
       "  <thead>\n",
       "    <tr style=\"text-align: right;\">\n",
       "      <th></th>\n",
       "      <th>Q022</th>\n",
       "      <th>Porcentagem (%)</th>\n",
       "    </tr>\n",
       "  </thead>\n",
       "  <tbody>\n",
       "    <tr>\n",
       "      <th>D</th>\n",
       "      <td>33469</td>\n",
       "      <td>30.697619</td>\n",
       "    </tr>\n",
       "    <tr>\n",
       "      <th>C</th>\n",
       "      <td>32733</td>\n",
       "      <td>30.022563</td>\n",
       "    </tr>\n",
       "    <tr>\n",
       "      <th>E</th>\n",
       "      <td>21552</td>\n",
       "      <td>19.767399</td>\n",
       "    </tr>\n",
       "    <tr>\n",
       "      <th>B</th>\n",
       "      <td>19337</td>\n",
       "      <td>17.735811</td>\n",
       "    </tr>\n",
       "    <tr>\n",
       "      <th>A</th>\n",
       "      <td>1937</td>\n",
       "      <td>1.776608</td>\n",
       "    </tr>\n",
       "  </tbody>\n",
       "</table>\n",
       "</div>"
      ],
      "text/plain": [
       "    Q022  Porcentagem (%)\n",
       "D  33469        30.697619\n",
       "C  32733        30.022563\n",
       "E  21552        19.767399\n",
       "B  19337        17.735811\n",
       "A   1937         1.776608"
      ]
     },
     "execution_count": 55,
     "metadata": {},
     "output_type": "execute_result"
    }
   ],
   "source": [
    "var = \"Q022\"\n",
    "tipo = dadosEscolaPublica[var].value_counts().index\n",
    "frequencia = dadosEscolaPublica[var].value_counts().values\n",
    "tipo, frequencia\n",
    "plt.pie(x=frequencia, labels=tipo, autopct='%2.2f%%',shadow=True, startangle=90)\n",
    "plt.ylabel('Na sua casa tem telefone celular?')\n",
    "plt.show()\n",
    "\n",
    "\n",
    "array = pd.DataFrame(dadosEscolaPublica[var].value_counts())\n",
    "array2 = pd.DataFrame(dadosEscolaPublica[var].value_counts(normalize=True) * 100)\n",
    "array['Porcentagem (%)'] = array2\n",
    "array"
   ]
  },
  {
   "cell_type": "code",
   "execution_count": 56,
   "metadata": {},
   "outputs": [
    {
     "data": {
      "image/png": "[encoded data removed]",
      "text/plain": [
       "<Figure size 432x288 with 1 Axes>"
      ]
     },
     "metadata": {},
     "output_type": "display_data"
    },
    {
     "name": "stdout",
     "output_type": "stream",
     "text": [
      " 1 - Urbano \n",
      " 2 - Rural\n"
     ]
    },
    {
     "data": {
      "text/html": [
       "<div>\n",
       "<style scoped>\n",
       "    .dataframe tbody tr th:only-of-type {\n",
       "        vertical-align: middle;\n",
       "    }\n",
       "\n",
       "    .dataframe tbody tr th {\n",
       "        vertical-align: top;\n",
       "    }\n",
       "\n",
       "    .dataframe thead th {\n",
       "        text-align: right;\n",
       "    }\n",
       "</style>\n",
       "<table border=\"1\" class=\"dataframe\">\n",
       "  <thead>\n",
       "    <tr style=\"text-align: right;\">\n",
       "      <th></th>\n",
       "      <th>TP_LOCALIZACAO_ESC</th>\n",
       "      <th>Porcentagem (%)</th>\n",
       "    </tr>\n",
       "  </thead>\n",
       "  <tbody>\n",
       "    <tr>\n",
       "      <th>1.0</th>\n",
       "      <td>107306</td>\n",
       "      <td>98.420589</td>\n",
       "    </tr>\n",
       "    <tr>\n",
       "      <th>2.0</th>\n",
       "      <td>1722</td>\n",
       "      <td>1.579411</td>\n",
       "    </tr>\n",
       "  </tbody>\n",
       "</table>\n",
       "</div>"
      ],
      "text/plain": [
       "     TP_LOCALIZACAO_ESC  Porcentagem (%)\n",
       "1.0              107306        98.420589\n",
       "2.0                1722         1.579411"
      ]
     },
     "execution_count": 56,
     "metadata": {},
     "output_type": "execute_result"
    }
   ],
   "source": [
    "var = \"TP_LOCALIZACAO_ESC\"\n",
    "tipo = dadosEscolaPublica[var].value_counts().index\n",
    "frequencia = dadosEscolaPublica[var].value_counts().values\n",
    "tipo, frequencia\n",
    "plt.pie(x=frequencia, labels=tipo, autopct='%2.2f%%',shadow=True, startangle=90)\n",
    "plt.ylabel('Localização da Escola')\n",
    "plt.show()\n",
    "\n",
    "print(\" 1 - Urbano \\n 2 - Rural\")\n",
    "\n",
    "array = pd.DataFrame(dadosEscolaPublica[var].value_counts())\n",
    "array2 = pd.DataFrame(dadosEscolaPublica[var].value_counts(normalize=True) * 100)\n",
    "array['Porcentagem (%)'] = array2\n",
    "array"
   ]
  },
  {
   "cell_type": "markdown",
   "metadata": {},
   "source": [
    "# Quantidade de aluno no ensinom médio"
   ]
  },
  {
   "cell_type": "code",
   "execution_count": 57,
   "metadata": {},
   "outputs": [
    {
     "data": {
      "image/png": "[encoded data removed]",
      "text/plain": [
       "<Figure size 432x288 with 1 Axes>"
      ]
     },
     "metadata": {},
     "output_type": "display_data"
    },
    {
     "name": "stdout",
     "output_type": "stream",
     "text": [
      " 1 - Urbano \n",
      " 2 - Rural\n"
     ]
    },
    {
     "data": {
      "text/html": [
       "<div>\n",
       "<style scoped>\n",
       "    .dataframe tbody tr th:only-of-type {\n",
       "        vertical-align: middle;\n",
       "    }\n",
       "\n",
       "    .dataframe tbody tr th {\n",
       "        vertical-align: top;\n",
       "    }\n",
       "\n",
       "    .dataframe thead th {\n",
       "        text-align: right;\n",
       "    }\n",
       "</style>\n",
       "<table border=\"1\" class=\"dataframe\">\n",
       "  <thead>\n",
       "    <tr style=\"text-align: right;\">\n",
       "      <th></th>\n",
       "      <th>TP_LOCALIZACAO_ESC</th>\n",
       "      <th>Porcentagem (%)</th>\n",
       "    </tr>\n",
       "  </thead>\n",
       "  <tbody>\n",
       "    <tr>\n",
       "      <th>1.0</th>\n",
       "      <td>107306</td>\n",
       "      <td>98.420589</td>\n",
       "    </tr>\n",
       "    <tr>\n",
       "      <th>2.0</th>\n",
       "      <td>1722</td>\n",
       "      <td>1.579411</td>\n",
       "    </tr>\n",
       "  </tbody>\n",
       "</table>\n",
       "</div>"
      ],
      "text/plain": [
       "     TP_LOCALIZACAO_ESC  Porcentagem (%)\n",
       "1.0              107306        98.420589\n",
       "2.0                1722         1.579411"
      ]
     },
     "execution_count": 57,
     "metadata": {},
     "output_type": "execute_result"
    }
   ],
   "source": [
    "var = \"TP_LOCALIZACAO_ESC\"\n",
    "tipo = dadosEscolaPublica[var].value_counts().index\n",
    "frequencia = dadosEscolaPublica[var].value_counts().values\n",
    "tipo, frequencia\n",
    "plt.pie(x=frequencia, labels=tipo, autopct='%2.2f%%',shadow=True, startangle=90)\n",
    "plt.ylabel('Localização da Escola')\n",
    "plt.show()\n",
    "\n",
    "print(\" 1 - Urbano \\n 2 - Rural\")\n",
    "\n",
    "array = pd.DataFrame(dadosEscolaPublica[var].value_counts())\n",
    "array2 = pd.DataFrame(dadosEscolaPublica[var].value_counts(normalize=True) * 100)\n",
    "array['Porcentagem (%)'] = array2\n",
    "array"
   ]
  },
  {
   "cell_type": "code",
   "execution_count": 58,
   "metadata": {},
   "outputs": [
    {
     "name": "stdout",
     "output_type": "stream",
     "text": [
      "   TP_ST_CONCLUSAO  Porcentagem (%)\n",
      "2           109028            100.0\n"
     ]
    }
   ],
   "source": [
    "etapa_em = dadosEscolaPublica.query('TP_ST_CONCLUSAO == 2 or TP_ST_CONCLUSAO == 3')\n",
    "array = pd.DataFrame(etapa_em['TP_ST_CONCLUSAO'].value_counts())\n",
    "array2 = pd.DataFrame(etapa_em['TP_ST_CONCLUSAO'].value_counts(normalize=True) * 100)\n",
    "array['Porcentagem (%)'] = array2\n",
    "print(array)\n",
    "\n",
    "\n",
    "array3 = pd.DataFrame(dadosEscolaPublica['TP_ST_CONCLUSAO'].value_counts())\n",
    "array4 = pd.DataFrame(dadosEscolaPublica['TP_ST_CONCLUSAO'].value_counts(normalize=True) * 100)\n",
    "array['Porcentagem (%)'] = array4\n",
    "\n"
   ]
  },
  {
   "cell_type": "code",
   "execution_count": 59,
   "metadata": {},
   "outputs": [
    {
     "name": "stdout",
     "output_type": "stream",
     "text": [
      "   TP_ST_CONCLUSAO\n",
      "2           109028\n"
     ]
    }
   ],
   "source": [
    "print(array3)"
   ]
  },
  {
   "cell_type": "code",
   "execution_count": 60,
   "metadata": {},
   "outputs": [
    {
     "name": "stdout",
     "output_type": "stream",
     "text": [
      "Não Informado\n"
     ]
    },
    {
     "data": {
      "image/png": "[encoded data removed]",
      "text/plain": [
       "<Figure size 432x288 with 1 Axes>"
      ]
     },
     "metadata": {
      "needs_background": "light"
     },
     "output_type": "display_data"
    }
   ],
   "source": [
    "var = \"TP_ANO_CONCLUIU\"\n",
    "contagem_de_questionario = dadosEscolaPublica[var].value_counts().to_frame().reset_index()\n",
    "contagem_de_questionario.columns = [\"Respostas\", \"total\"]\n",
    "frequencia = dadosEscolaPublica[var].value_counts().values\n",
    "\n",
    "\n",
    "plt.title('ANo de conclusão do Ensino Médio')\n",
    "\n",
    "sns.barplot(x=\"Respostas\", y = \"total\", data = contagem_de_questionario)\n",
    "\n",
    "print(\"Não Informado\")"
   ]
  },
  {
   "cell_type": "code",
   "execution_count": null,
   "metadata": {},
   "outputs": [],
   "source": []
  },
  {
   "cell_type": "code",
   "execution_count": null,
   "metadata": {},
   "outputs": [],
   "source": []
  },
  {
   "cell_type": "code",
   "execution_count": null,
   "metadata": {},
   "outputs": [],
   "source": []
  },
  {
   "cell_type": "code",
   "execution_count": null,
   "metadata": {},
   "outputs": [],
   "source": []
  },
  {
   "cell_type": "code",
   "execution_count": null,
   "metadata": {},
   "outputs": [],
   "source": []
  },
  {
   "cell_type": "code",
   "execution_count": null,
   "metadata": {},
   "outputs": [],
   "source": []
  },
  {
   "cell_type": "code",
   "execution_count": null,
   "metadata": {},
   "outputs": [],
   "source": []
  },
  {
   "cell_type": "code",
   "execution_count": null,
   "metadata": {},
   "outputs": [],
   "source": []
  },
  {
   "cell_type": "code",
   "execution_count": null,
   "metadata": {},
   "outputs": [],
   "source": []
  },
  {
   "cell_type": "code",
   "execution_count": null,
   "metadata": {},
   "outputs": [],
   "source": []
  },
  {
   "cell_type": "code",
   "execution_count": null,
   "metadata": {},
   "outputs": [],
   "source": []
  },
  {
   "cell_type": "code",
   "execution_count": null,
   "metadata": {},
   "outputs": [],
   "source": []
  },
  {
   "cell_type": "code",
   "execution_count": null,
   "metadata": {},
   "outputs": [],
   "source": []
  },
  {
   "cell_type": "code",
   "execution_count": null,
   "metadata": {},
   "outputs": [],
   "source": []
  },
  {
   "cell_type": "code",
   "execution_count": null,
   "metadata": {},
   "outputs": [],
   "source": []
  },
  {
   "cell_type": "code",
   "execution_count": null,
   "metadata": {},
   "outputs": [],
   "source": []
  },
  {
   "cell_type": "code",
   "execution_count": null,
   "metadata": {},
   "outputs": [],
   "source": []
  },
  {
   "cell_type": "code",
   "execution_count": null,
   "metadata": {},
   "outputs": [],
   "source": []
  },
  {
   "cell_type": "code",
   "execution_count": null,
   "metadata": {},
   "outputs": [],
   "source": []
  },
  {
   "cell_type": "markdown",
   "metadata": {},
   "source": [
    "# Escolas Privadas"
   ]
  },
  {
   "cell_type": "code",
   "execution_count": 61,
   "metadata": {},
   "outputs": [],
   "source": [
    "dadosEscolaPrivada= dadosEnem.query(\"TP_ESCOLA == 3\")"
   ]
  },
  {
   "cell_type": "code",
   "execution_count": 62,
   "metadata": {},
   "outputs": [
    {
     "name": "stdout",
     "output_type": "stream",
     "text": [
      " A\tNão.\n",
      " B\tSim\n"
     ]
    },
    {
     "data": {
      "image/png": "[encoded data removed]",
      "text/plain": [
       "<Figure size 432x288 with 1 Axes>"
      ]
     },
     "metadata": {
      "needs_background": "light"
     },
     "output_type": "display_data"
    }
   ],
   "source": [
    "var = \"Q025\"\n",
    "contagem_de_questionario = dadosEscolaPrivada[var].value_counts().to_frame().reset_index()\n",
    "contagem_de_questionario.columns = [\"Respostas\", \"total\"]\n",
    "frequencia = dadosEscolaPrivada[var].value_counts().values\n",
    "\n",
    "\n",
    "plt.title('Na sua casa tem acesso a internet?')\n",
    "\n",
    "sns.barplot(x=\"Respostas\", y = \"total\", data = contagem_de_questionario)\n",
    "\n",
    "print(\" A\tNão.\\n B\tSim\")\n"
   ]
  },
  {
   "cell_type": "code",
   "execution_count": 63,
   "metadata": {},
   "outputs": [
    {
     "data": {
      "image/png": "[encoded data removed]",
      "text/plain": [
       "<Figure size 432x288 with 1 Axes>"
      ]
     },
     "metadata": {},
     "output_type": "display_data"
    },
    {
     "name": "stdout",
     "output_type": "stream",
     "text": [
      " A\tNão.\n",
      " B\tSim\n"
     ]
    },
    {
     "data": {
      "text/html": [
       "<div>\n",
       "<style scoped>\n",
       "    .dataframe tbody tr th:only-of-type {\n",
       "        vertical-align: middle;\n",
       "    }\n",
       "\n",
       "    .dataframe tbody tr th {\n",
       "        vertical-align: top;\n",
       "    }\n",
       "\n",
       "    .dataframe thead th {\n",
       "        text-align: right;\n",
       "    }\n",
       "</style>\n",
       "<table border=\"1\" class=\"dataframe\">\n",
       "  <thead>\n",
       "    <tr style=\"text-align: right;\">\n",
       "      <th></th>\n",
       "      <th>Q025</th>\n",
       "      <th>Porcentagem</th>\n",
       "    </tr>\n",
       "  </thead>\n",
       "  <tbody>\n",
       "    <tr>\n",
       "      <th>B</th>\n",
       "      <td>1377</td>\n",
       "      <td>0.831522</td>\n",
       "    </tr>\n",
       "    <tr>\n",
       "      <th>A</th>\n",
       "      <td>279</td>\n",
       "      <td>0.168478</td>\n",
       "    </tr>\n",
       "  </tbody>\n",
       "</table>\n",
       "</div>"
      ],
      "text/plain": [
       "   Q025  Porcentagem\n",
       "B  1377     0.831522\n",
       "A   279     0.168478"
      ]
     },
     "execution_count": 63,
     "metadata": {},
     "output_type": "execute_result"
    }
   ],
   "source": [
    "var = \"Q025\"\n",
    "tipo = dadosEscolaPrivada[var].value_counts().index\n",
    "frequencia = dadosEscolaPrivada[var].value_counts().values\n",
    "tipo, frequencia\n",
    "plt.pie(x=frequencia, labels=tipo, autopct='%2.2f%%',shadow=True, startangle=90)\n",
    "plt.title('Na sua casa tem acesso a internet?')\n",
    "plt.show()\n",
    "\n",
    "print(\" A\tNão.\\n B\tSim\")\n",
    "\n",
    "array = pd.DataFrame(dadosEscolaPrivada[var].value_counts())\n",
    "array2 = pd.DataFrame(dadosEscolaPrivada[var].value_counts(normalize=True))\n",
    "array['Porcentagem'] = array2\n",
    "array"
   ]
  },
  {
   "cell_type": "code",
   "execution_count": 64,
   "metadata": {},
   "outputs": [
    {
     "name": "stdout",
     "output_type": "stream",
     "text": [
      " A\tNão.\n",
      " B\tSim, um.\n",
      " C\tSim, dois.\n",
      " D\tSim, três.\n",
      " E\tSim, quatro ou mais.\n"
     ]
    },
    {
     "data": {
      "image/png": "[encoded data removed]",
      "text/plain": [
       "<Figure size 432x288 with 1 Axes>"
      ]
     },
     "metadata": {
      "needs_background": "light"
     },
     "output_type": "display_data"
    }
   ],
   "source": [
    "var = \"Q024\"\n",
    "contagem_de_questionario = dadosEscolaPrivada[var].value_counts().to_frame().reset_index()\n",
    "contagem_de_questionario.columns = [\"Respostas\", \"total\"]\n",
    "\n",
    "\n",
    "plt.title('Na sua casa tem acesso a computador?')\n",
    "\n",
    "sns.barplot(x=\"Respostas\", y = \"total\", data = contagem_de_questionario)\n",
    "\n",
    "print(\" A\tNão.\\n B\tSim, um.\\n C\tSim, dois.\\n D\tSim, três.\\n E\tSim, quatro ou mais.\")"
   ]
  },
  {
   "cell_type": "markdown",
   "metadata": {},
   "source": [
    "# Acesso a Computador"
   ]
  },
  {
   "cell_type": "code",
   "execution_count": 65,
   "metadata": {},
   "outputs": [
    {
     "data": {
      "image/png": "[encoded data removed]",
      "text/plain": [
       "<Figure size 432x288 with 1 Axes>"
      ]
     },
     "metadata": {},
     "output_type": "display_data"
    },
    {
     "name": "stdout",
     "output_type": "stream",
     "text": [
      " A\tNão.\n",
      " B\tSim, um.\n",
      " C\tSim, dois.\n",
      " D\tSim, três.\n",
      " E\tSim, quatro ou mais.\n"
     ]
    },
    {
     "data": {
      "text/html": [
       "<div>\n",
       "<style scoped>\n",
       "    .dataframe tbody tr th:only-of-type {\n",
       "        vertical-align: middle;\n",
       "    }\n",
       "\n",
       "    .dataframe tbody tr th {\n",
       "        vertical-align: top;\n",
       "    }\n",
       "\n",
       "    .dataframe thead th {\n",
       "        text-align: right;\n",
       "    }\n",
       "</style>\n",
       "<table border=\"1\" class=\"dataframe\">\n",
       "  <thead>\n",
       "    <tr style=\"text-align: right;\">\n",
       "      <th></th>\n",
       "      <th>Q024</th>\n",
       "      <th>Porcentagem</th>\n",
       "    </tr>\n",
       "  </thead>\n",
       "  <tbody>\n",
       "    <tr>\n",
       "      <th>B</th>\n",
       "      <td>980</td>\n",
       "      <td>0.591787</td>\n",
       "    </tr>\n",
       "    <tr>\n",
       "      <th>A</th>\n",
       "      <td>522</td>\n",
       "      <td>0.315217</td>\n",
       "    </tr>\n",
       "    <tr>\n",
       "      <th>C</th>\n",
       "      <td>118</td>\n",
       "      <td>0.071256</td>\n",
       "    </tr>\n",
       "    <tr>\n",
       "      <th>D</th>\n",
       "      <td>28</td>\n",
       "      <td>0.016908</td>\n",
       "    </tr>\n",
       "    <tr>\n",
       "      <th>E</th>\n",
       "      <td>8</td>\n",
       "      <td>0.004831</td>\n",
       "    </tr>\n",
       "  </tbody>\n",
       "</table>\n",
       "</div>"
      ],
      "text/plain": [
       "   Q024  Porcentagem\n",
       "B   980     0.591787\n",
       "A   522     0.315217\n",
       "C   118     0.071256\n",
       "D    28     0.016908\n",
       "E     8     0.004831"
      ]
     },
     "execution_count": 65,
     "metadata": {},
     "output_type": "execute_result"
    }
   ],
   "source": [
    "var = \"Q024\"\n",
    "tipo = dadosEscolaPrivada[var].value_counts().index\n",
    "frequencia = dadosEscolaPrivada[var].value_counts().values\n",
    "tipo, frequencia\n",
    "plt.pie(x=frequencia, labels=tipo, autopct='%2.2f%%',shadow=True, startangle=90)\n",
    "plt.title('Na sua casa tem acesso a computador?')\n",
    "plt.show()\n",
    "\n",
    "print(\" A\tNão.\\n B\tSim, um.\\n C\tSim, dois.\\n D\tSim, três.\\n E\tSim, quatro ou mais.\")\n",
    "\n",
    "array = pd.DataFrame(dadosEscolaPrivada[var].value_counts())\n",
    "array2 = pd.DataFrame(dadosEscolaPrivada[var].value_counts(normalize=True))\n",
    "array['Porcentagem'] = array2\n",
    "array"
   ]
  },
  {
   "cell_type": "code",
   "execution_count": 66,
   "metadata": {},
   "outputs": [
    {
     "name": "stdout",
     "output_type": "stream",
     "text": [
      " A\tNão.\n",
      " B\tSim, um.\n",
      " C\tSim, dois.\n",
      " D\tSim, três.\n",
      " E\tSim, quatro ou mais.\n"
     ]
    },
    {
     "data": {
      "image/png": "[encoded data removed]",
      "text/plain": [
       "<Figure size 432x288 with 1 Axes>"
      ]
     },
     "metadata": {
      "needs_background": "light"
     },
     "output_type": "display_data"
    }
   ],
   "source": [
    "var = \"Q022\"\n",
    "contagem_de_questionario = dadosEscolaPrivada[var].value_counts().to_frame().reset_index()\n",
    "contagem_de_questionario.columns = [\"Respostas\", \"total\"]\n",
    "frequencia = dadosEscolaPrivada[var].value_counts(normalize=True)\n",
    "\n",
    "plt.title('Na sua casa tem telefone celular?')\n",
    "\n",
    "sns.barplot(x=\"Respostas\", y = \"total\", data = contagem_de_questionario)\n",
    "\n",
    "print(\" A\tNão.\\n B\tSim, um.\\n C\tSim, dois.\\n D\tSim, três.\\n E\tSim, quatro ou mais.\")"
   ]
  },
  {
   "cell_type": "code",
   "execution_count": 67,
   "metadata": {},
   "outputs": [
    {
     "data": {
      "image/png": "[encoded data removed]",
      "text/plain": [
       "<Figure size 432x288 with 1 Axes>"
      ]
     },
     "metadata": {},
     "output_type": "display_data"
    },
    {
     "name": "stdout",
     "output_type": "stream",
     "text": [
      " A\tNão.\n",
      " B\tSim, um.\n",
      " C\tSim, dois.\n",
      " D\tSim, três.\n",
      " E\tSim, quatro ou mais.\n"
     ]
    },
    {
     "data": {
      "text/html": [
       "<div>\n",
       "<style scoped>\n",
       "    .dataframe tbody tr th:only-of-type {\n",
       "        vertical-align: middle;\n",
       "    }\n",
       "\n",
       "    .dataframe tbody tr th {\n",
       "        vertical-align: top;\n",
       "    }\n",
       "\n",
       "    .dataframe thead th {\n",
       "        text-align: right;\n",
       "    }\n",
       "</style>\n",
       "<table border=\"1\" class=\"dataframe\">\n",
       "  <thead>\n",
       "    <tr style=\"text-align: right;\">\n",
       "      <th></th>\n",
       "      <th>Q022</th>\n",
       "      <th>Porcentagem</th>\n",
       "    </tr>\n",
       "  </thead>\n",
       "  <tbody>\n",
       "    <tr>\n",
       "      <th>D</th>\n",
       "      <td>540</td>\n",
       "      <td>0.326087</td>\n",
       "    </tr>\n",
       "    <tr>\n",
       "      <th>C</th>\n",
       "      <td>455</td>\n",
       "      <td>0.274758</td>\n",
       "    </tr>\n",
       "    <tr>\n",
       "      <th>E</th>\n",
       "      <td>357</td>\n",
       "      <td>0.215580</td>\n",
       "    </tr>\n",
       "    <tr>\n",
       "      <th>B</th>\n",
       "      <td>282</td>\n",
       "      <td>0.170290</td>\n",
       "    </tr>\n",
       "    <tr>\n",
       "      <th>A</th>\n",
       "      <td>22</td>\n",
       "      <td>0.013285</td>\n",
       "    </tr>\n",
       "  </tbody>\n",
       "</table>\n",
       "</div>"
      ],
      "text/plain": [
       "   Q022  Porcentagem\n",
       "D   540     0.326087\n",
       "C   455     0.274758\n",
       "E   357     0.215580\n",
       "B   282     0.170290\n",
       "A    22     0.013285"
      ]
     },
     "execution_count": 67,
     "metadata": {},
     "output_type": "execute_result"
    }
   ],
   "source": [
    "var = \"Q022\"\n",
    "tipo = dadosEscolaPrivada[var].value_counts().index\n",
    "frequencia = dadosEscolaPrivada[var].value_counts().values\n",
    "tipo, frequencia\n",
    "plt.pie(x=frequencia, labels=tipo, autopct='%2.2f%%',shadow=True, startangle=90)\n",
    "plt.ylabel('Na sua casa tem telefone celular?')\n",
    "plt.show()\n",
    "\n",
    "print(\" A\tNão.\\n B\tSim, um.\\n C\tSim, dois.\\n D\tSim, três.\\n E\tSim, quatro ou mais.\")\n",
    "\n",
    "array = pd.DataFrame(dadosEscolaPrivada[var].value_counts())\n",
    "array2 = pd.DataFrame(dadosEscolaPrivada[var].value_counts(normalize=True))\n",
    "array['Porcentagem'] = array2\n",
    "array"
   ]
  },
  {
   "cell_type": "markdown",
   "metadata": {},
   "source": []
  }
 ],
 "metadata": {
  "hide_input": false,
  "kernelspec": {
   "display_name": "Python 3",
   "language": "python",
   "name": "python3"
  },
  "language_info": {
   "codemirror_mode": {
    "name": "ipython",
    "version": 3
   },
   "file_extension": ".py",
   "mimetype": "text/x-python",
   "name": "python",
   "nbconvert_exporter": "python",
   "pygments_lexer": "ipython3",
   "version": "3.7.6"
  }
 },
 "nbformat": 4,
 "nbformat_minor": 4
}
