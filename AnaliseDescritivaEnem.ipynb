{
 "cells": [
  {
   "cell_type": "code",
   "execution_count": 3,
   "metadata": {
    "colab": {},
    "colab_type": "code",
    "id": "W-S1myidJoKC"
   },
   "outputs": [],
   "source": [
    "import pandas as pd\n",
    "import numpy as np\n",
    "import matplotlib.pyplot as plt\n",
    "import seaborn as sns"
   ]
  },
  {
   "cell_type": "markdown",
   "metadata": {},
   "source": [
    "# Fazendo Leitura de Parte da base do INEP"
   ]
  },
  {
   "cell_type": "code",
   "execution_count": 4,
   "metadata": {
    "colab": {},
    "colab_type": "code",
    "id": "Wpdrcv_PJvgb"
   },
   "outputs": [],
   "source": [
    "path = \"C:\\\\Users\\\\vinic\\\\Documents\\\\GitHub\\\\Enem\\\\2018\\\\Dados\\\\MICRODADOS_ENEM_2018.csv\""
   ]
  },
  {
   "cell_type": "code",
   "execution_count": 64,
   "metadata": {
    "colab": {},
    "colab_type": "code",
    "id": "x83RdcXCO_OL"
   },
   "outputs": [],
   "source": [
    "import pandas as pd\n",
    "import numpy as np\n",
    "import matplotlib.pyplot as plt\n",
    "use_cols = [\"NU_INSCRICAO\",\"CO_ESCOLA\",\"SG_UF_ESC\",\"CO_UF_ESC\",\"SG_UF_RESIDENCIA\", \"TP_ST_CONCLUSAO\", \"TP_ANO_CONCLUIU\", \"TP_ESCOLA\" ,\"TP_ENSINO\", \"IN_TREINEIRO\",\"TP_DEPENDENCIA_ADM_ESC\" , \"Q026\", \"Q027\"]\n",
    "data_iterator = pd.read_csv(path,sep=';',encoding='latin1',low_memory=False,chunksize=10000, usecols=use_cols)\n",
    "chunk_list = []  \n",
    "\n",
    "# Each chunk is in dataframe format\n",
    "for data_chunk in data_iterator:  \n",
    "   # filtered_chunk =  chunk_preprocessing(data_chunk)\n",
    "    chunk_list.append(data_chunk)\n",
    "    \n",
    "filtered_data = pd.concat(chunk_list)\n",
    "\n"
   ]
  },
  {
   "cell_type": "markdown",
   "metadata": {},
   "source": [
    "## Pegando uma amostra desses dados"
   ]
  },
  {
   "cell_type": "code",
   "execution_count": 65,
   "metadata": {},
   "outputs": [],
   "source": [
    "#amostra = filtered_data.sample(500000)\n",
    "amostra = filtered_data"
   ]
  },
  {
   "cell_type": "markdown",
   "metadata": {},
   "source": [
    "### Observando na amostra os valores da varável TP_ST_CONCLUSAO"
   ]
  },
  {
   "cell_type": "code",
   "execution_count": 66,
   "metadata": {},
   "outputs": [
    {
     "data": {
      "text/plain": [
       "1    3233968\n",
       "2    1640099\n",
       "3     586939\n",
       "4      52741\n",
       "Name: TP_ST_CONCLUSAO, dtype: int64"
      ]
     },
     "execution_count": 66,
     "metadata": {},
     "output_type": "execute_result"
    }
   ],
   "source": [
    "amostra.TP_ST_CONCLUSAO.value_counts()"
   ]
  },
  {
   "cell_type": "code",
   "execution_count": 67,
   "metadata": {},
   "outputs": [
    {
     "data": {
      "text/html": [
       "<div>\n",
       "<style scoped>\n",
       "    .dataframe tbody tr th:only-of-type {\n",
       "        vertical-align: middle;\n",
       "    }\n",
       "\n",
       "    .dataframe tbody tr th {\n",
       "        vertical-align: top;\n",
       "    }\n",
       "\n",
       "    .dataframe thead th {\n",
       "        text-align: right;\n",
       "    }\n",
       "</style>\n",
       "<table border=\"1\" class=\"dataframe\">\n",
       "  <thead>\n",
       "    <tr style=\"text-align: right;\">\n",
       "      <th></th>\n",
       "      <th>NU_INSCRICAO</th>\n",
       "      <th>SG_UF_RESIDENCIA</th>\n",
       "      <th>TP_ST_CONCLUSAO</th>\n",
       "      <th>TP_ANO_CONCLUIU</th>\n",
       "      <th>TP_ESCOLA</th>\n",
       "      <th>TP_ENSINO</th>\n",
       "      <th>IN_TREINEIRO</th>\n",
       "      <th>CO_ESCOLA</th>\n",
       "      <th>CO_UF_ESC</th>\n",
       "      <th>SG_UF_ESC</th>\n",
       "      <th>TP_DEPENDENCIA_ADM_ESC</th>\n",
       "      <th>Q026</th>\n",
       "      <th>Q027</th>\n",
       "    </tr>\n",
       "  </thead>\n",
       "  <tbody>\n",
       "    <tr>\n",
       "      <th>0</th>\n",
       "      <td>180008202043</td>\n",
       "      <td>DF</td>\n",
       "      <td>2</td>\n",
       "      <td>0</td>\n",
       "      <td>2</td>\n",
       "      <td>1.0</td>\n",
       "      <td>0</td>\n",
       "      <td>52033333.0</td>\n",
       "      <td>52.0</td>\n",
       "      <td>GO</td>\n",
       "      <td>2.0</td>\n",
       "      <td>B</td>\n",
       "      <td>A</td>\n",
       "    </tr>\n",
       "    <tr>\n",
       "      <th>1</th>\n",
       "      <td>180007197856</td>\n",
       "      <td>MA</td>\n",
       "      <td>1</td>\n",
       "      <td>5</td>\n",
       "      <td>1</td>\n",
       "      <td>1.0</td>\n",
       "      <td>0</td>\n",
       "      <td>NaN</td>\n",
       "      <td>NaN</td>\n",
       "      <td>NaN</td>\n",
       "      <td>NaN</td>\n",
       "      <td>A</td>\n",
       "      <td>A</td>\n",
       "    </tr>\n",
       "    <tr>\n",
       "      <th>2</th>\n",
       "      <td>180008517434</td>\n",
       "      <td>SP</td>\n",
       "      <td>1</td>\n",
       "      <td>3</td>\n",
       "      <td>1</td>\n",
       "      <td>3.0</td>\n",
       "      <td>0</td>\n",
       "      <td>NaN</td>\n",
       "      <td>NaN</td>\n",
       "      <td>NaN</td>\n",
       "      <td>NaN</td>\n",
       "      <td>A</td>\n",
       "      <td>A</td>\n",
       "    </tr>\n",
       "    <tr>\n",
       "      <th>3</th>\n",
       "      <td>180007661228</td>\n",
       "      <td>BA</td>\n",
       "      <td>1</td>\n",
       "      <td>8</td>\n",
       "      <td>1</td>\n",
       "      <td>1.0</td>\n",
       "      <td>0</td>\n",
       "      <td>NaN</td>\n",
       "      <td>NaN</td>\n",
       "      <td>NaN</td>\n",
       "      <td>NaN</td>\n",
       "      <td>A</td>\n",
       "      <td>A</td>\n",
       "    </tr>\n",
       "    <tr>\n",
       "      <th>4</th>\n",
       "      <td>180008787987</td>\n",
       "      <td>BA</td>\n",
       "      <td>2</td>\n",
       "      <td>0</td>\n",
       "      <td>2</td>\n",
       "      <td>1.0</td>\n",
       "      <td>0</td>\n",
       "      <td>29112699.0</td>\n",
       "      <td>29.0</td>\n",
       "      <td>BA</td>\n",
       "      <td>2.0</td>\n",
       "      <td>B</td>\n",
       "      <td>A</td>\n",
       "    </tr>\n",
       "    <tr>\n",
       "      <th>...</th>\n",
       "      <td>...</td>\n",
       "      <td>...</td>\n",
       "      <td>...</td>\n",
       "      <td>...</td>\n",
       "      <td>...</td>\n",
       "      <td>...</td>\n",
       "      <td>...</td>\n",
       "      <td>...</td>\n",
       "      <td>...</td>\n",
       "      <td>...</td>\n",
       "      <td>...</td>\n",
       "      <td>...</td>\n",
       "      <td>...</td>\n",
       "    </tr>\n",
       "    <tr>\n",
       "      <th>5513742</th>\n",
       "      <td>180013945649</td>\n",
       "      <td>RJ</td>\n",
       "      <td>1</td>\n",
       "      <td>6</td>\n",
       "      <td>1</td>\n",
       "      <td>NaN</td>\n",
       "      <td>0</td>\n",
       "      <td>NaN</td>\n",
       "      <td>NaN</td>\n",
       "      <td>NaN</td>\n",
       "      <td>NaN</td>\n",
       "      <td>A</td>\n",
       "      <td>C</td>\n",
       "    </tr>\n",
       "    <tr>\n",
       "      <th>5513743</th>\n",
       "      <td>180013964149</td>\n",
       "      <td>AM</td>\n",
       "      <td>2</td>\n",
       "      <td>0</td>\n",
       "      <td>2</td>\n",
       "      <td>1.0</td>\n",
       "      <td>0</td>\n",
       "      <td>13027573.0</td>\n",
       "      <td>13.0</td>\n",
       "      <td>AM</td>\n",
       "      <td>2.0</td>\n",
       "      <td>B</td>\n",
       "      <td>A</td>\n",
       "    </tr>\n",
       "    <tr>\n",
       "      <th>5513744</th>\n",
       "      <td>180013980226</td>\n",
       "      <td>SP</td>\n",
       "      <td>2</td>\n",
       "      <td>0</td>\n",
       "      <td>1</td>\n",
       "      <td>1.0</td>\n",
       "      <td>0</td>\n",
       "      <td>NaN</td>\n",
       "      <td>NaN</td>\n",
       "      <td>NaN</td>\n",
       "      <td>NaN</td>\n",
       "      <td>B</td>\n",
       "      <td>A</td>\n",
       "    </tr>\n",
       "    <tr>\n",
       "      <th>5513745</th>\n",
       "      <td>180013934137</td>\n",
       "      <td>SP</td>\n",
       "      <td>2</td>\n",
       "      <td>0</td>\n",
       "      <td>4</td>\n",
       "      <td>1.0</td>\n",
       "      <td>0</td>\n",
       "      <td>35125568.0</td>\n",
       "      <td>35.0</td>\n",
       "      <td>SP</td>\n",
       "      <td>4.0</td>\n",
       "      <td>B</td>\n",
       "      <td>C</td>\n",
       "    </tr>\n",
       "    <tr>\n",
       "      <th>5513746</th>\n",
       "      <td>180013962906</td>\n",
       "      <td>MG</td>\n",
       "      <td>1</td>\n",
       "      <td>3</td>\n",
       "      <td>1</td>\n",
       "      <td>NaN</td>\n",
       "      <td>0</td>\n",
       "      <td>NaN</td>\n",
       "      <td>NaN</td>\n",
       "      <td>NaN</td>\n",
       "      <td>NaN</td>\n",
       "      <td>A</td>\n",
       "      <td>A</td>\n",
       "    </tr>\n",
       "  </tbody>\n",
       "</table>\n",
       "<p>5513747 rows × 13 columns</p>\n",
       "</div>"
      ],
      "text/plain": [
       "         NU_INSCRICAO SG_UF_RESIDENCIA  TP_ST_CONCLUSAO  TP_ANO_CONCLUIU  \\\n",
       "0        180008202043               DF                2                0   \n",
       "1        180007197856               MA                1                5   \n",
       "2        180008517434               SP                1                3   \n",
       "3        180007661228               BA                1                8   \n",
       "4        180008787987               BA                2                0   \n",
       "...               ...              ...              ...              ...   \n",
       "5513742  180013945649               RJ                1                6   \n",
       "5513743  180013964149               AM                2                0   \n",
       "5513744  180013980226               SP                2                0   \n",
       "5513745  180013934137               SP                2                0   \n",
       "5513746  180013962906               MG                1                3   \n",
       "\n",
       "         TP_ESCOLA  TP_ENSINO  IN_TREINEIRO   CO_ESCOLA  CO_UF_ESC SG_UF_ESC  \\\n",
       "0                2        1.0             0  52033333.0       52.0        GO   \n",
       "1                1        1.0             0         NaN        NaN       NaN   \n",
       "2                1        3.0             0         NaN        NaN       NaN   \n",
       "3                1        1.0             0         NaN        NaN       NaN   \n",
       "4                2        1.0             0  29112699.0       29.0        BA   \n",
       "...            ...        ...           ...         ...        ...       ...   \n",
       "5513742          1        NaN             0         NaN        NaN       NaN   \n",
       "5513743          2        1.0             0  13027573.0       13.0        AM   \n",
       "5513744          1        1.0             0         NaN        NaN       NaN   \n",
       "5513745          4        1.0             0  35125568.0       35.0        SP   \n",
       "5513746          1        NaN             0         NaN        NaN       NaN   \n",
       "\n",
       "         TP_DEPENDENCIA_ADM_ESC Q026 Q027  \n",
       "0                           2.0    B    A  \n",
       "1                           NaN    A    A  \n",
       "2                           NaN    A    A  \n",
       "3                           NaN    A    A  \n",
       "4                           2.0    B    A  \n",
       "...                         ...  ...  ...  \n",
       "5513742                     NaN    A    C  \n",
       "5513743                     2.0    B    A  \n",
       "5513744                     NaN    B    A  \n",
       "5513745                     4.0    B    C  \n",
       "5513746                     NaN    A    A  \n",
       "\n",
       "[5513747 rows x 13 columns]"
      ]
     },
     "execution_count": 67,
     "metadata": {},
     "output_type": "execute_result"
    }
   ],
   "source": [
    "amostra"
   ]
  },
  {
   "cell_type": "code",
   "execution_count": 68,
   "metadata": {},
   "outputs": [],
   "source": [
    "agrupado = amostra.groupby(['TP_ST_CONCLUSAO'])"
   ]
  },
  {
   "cell_type": "code",
   "execution_count": 69,
   "metadata": {},
   "outputs": [
    {
     "data": {
      "text/html": [
       "<div>\n",
       "<style scoped>\n",
       "    .dataframe tbody tr th:only-of-type {\n",
       "        vertical-align: middle;\n",
       "    }\n",
       "\n",
       "    .dataframe tbody tr th {\n",
       "        vertical-align: top;\n",
       "    }\n",
       "\n",
       "    .dataframe thead th {\n",
       "        text-align: right;\n",
       "    }\n",
       "</style>\n",
       "<table border=\"1\" class=\"dataframe\">\n",
       "  <thead>\n",
       "    <tr style=\"text-align: right;\">\n",
       "      <th></th>\n",
       "      <th>NU_INSCRICAO</th>\n",
       "      <th>SG_UF_RESIDENCIA</th>\n",
       "      <th>TP_ST_CONCLUSAO</th>\n",
       "      <th>TP_ANO_CONCLUIU</th>\n",
       "      <th>TP_ESCOLA</th>\n",
       "      <th>TP_ENSINO</th>\n",
       "      <th>IN_TREINEIRO</th>\n",
       "      <th>CO_ESCOLA</th>\n",
       "      <th>CO_UF_ESC</th>\n",
       "      <th>SG_UF_ESC</th>\n",
       "      <th>TP_DEPENDENCIA_ADM_ESC</th>\n",
       "      <th>Q026</th>\n",
       "      <th>Q027</th>\n",
       "    </tr>\n",
       "  </thead>\n",
       "  <tbody>\n",
       "    <tr>\n",
       "      <th>94</th>\n",
       "      <td>180008895637</td>\n",
       "      <td>MG</td>\n",
       "      <td>2</td>\n",
       "      <td>0</td>\n",
       "      <td>2</td>\n",
       "      <td>1.0</td>\n",
       "      <td>0</td>\n",
       "      <td>31190802.0</td>\n",
       "      <td>31.0</td>\n",
       "      <td>MG</td>\n",
       "      <td>2.0</td>\n",
       "      <td>B</td>\n",
       "      <td>A</td>\n",
       "    </tr>\n",
       "    <tr>\n",
       "      <th>188</th>\n",
       "      <td>180008309642</td>\n",
       "      <td>MG</td>\n",
       "      <td>2</td>\n",
       "      <td>0</td>\n",
       "      <td>2</td>\n",
       "      <td>1.0</td>\n",
       "      <td>0</td>\n",
       "      <td>31002429.0</td>\n",
       "      <td>31.0</td>\n",
       "      <td>MG</td>\n",
       "      <td>2.0</td>\n",
       "      <td>B</td>\n",
       "      <td>A</td>\n",
       "    </tr>\n",
       "    <tr>\n",
       "      <th>527</th>\n",
       "      <td>180007290041</td>\n",
       "      <td>MG</td>\n",
       "      <td>2</td>\n",
       "      <td>0</td>\n",
       "      <td>2</td>\n",
       "      <td>1.0</td>\n",
       "      <td>0</td>\n",
       "      <td>31009873.0</td>\n",
       "      <td>31.0</td>\n",
       "      <td>MG</td>\n",
       "      <td>2.0</td>\n",
       "      <td>B</td>\n",
       "      <td>A</td>\n",
       "    </tr>\n",
       "    <tr>\n",
       "      <th>652</th>\n",
       "      <td>180008199527</td>\n",
       "      <td>MG</td>\n",
       "      <td>2</td>\n",
       "      <td>0</td>\n",
       "      <td>2</td>\n",
       "      <td>1.0</td>\n",
       "      <td>0</td>\n",
       "      <td>31167436.0</td>\n",
       "      <td>31.0</td>\n",
       "      <td>MG</td>\n",
       "      <td>2.0</td>\n",
       "      <td>B</td>\n",
       "      <td>A</td>\n",
       "    </tr>\n",
       "    <tr>\n",
       "      <th>669</th>\n",
       "      <td>180008205421</td>\n",
       "      <td>MG</td>\n",
       "      <td>2</td>\n",
       "      <td>0</td>\n",
       "      <td>2</td>\n",
       "      <td>3.0</td>\n",
       "      <td>0</td>\n",
       "      <td>31166731.0</td>\n",
       "      <td>31.0</td>\n",
       "      <td>MG</td>\n",
       "      <td>2.0</td>\n",
       "      <td>B</td>\n",
       "      <td>A</td>\n",
       "    </tr>\n",
       "    <tr>\n",
       "      <th>...</th>\n",
       "      <td>...</td>\n",
       "      <td>...</td>\n",
       "      <td>...</td>\n",
       "      <td>...</td>\n",
       "      <td>...</td>\n",
       "      <td>...</td>\n",
       "      <td>...</td>\n",
       "      <td>...</td>\n",
       "      <td>...</td>\n",
       "      <td>...</td>\n",
       "      <td>...</td>\n",
       "      <td>...</td>\n",
       "      <td>...</td>\n",
       "    </tr>\n",
       "    <tr>\n",
       "      <th>5513492</th>\n",
       "      <td>180013445996</td>\n",
       "      <td>MG</td>\n",
       "      <td>2</td>\n",
       "      <td>0</td>\n",
       "      <td>2</td>\n",
       "      <td>1.0</td>\n",
       "      <td>0</td>\n",
       "      <td>31193356.0</td>\n",
       "      <td>31.0</td>\n",
       "      <td>MG</td>\n",
       "      <td>2.0</td>\n",
       "      <td>B</td>\n",
       "      <td>A</td>\n",
       "    </tr>\n",
       "    <tr>\n",
       "      <th>5513546</th>\n",
       "      <td>180013951178</td>\n",
       "      <td>MG</td>\n",
       "      <td>2</td>\n",
       "      <td>0</td>\n",
       "      <td>2</td>\n",
       "      <td>1.0</td>\n",
       "      <td>0</td>\n",
       "      <td>31342530.0</td>\n",
       "      <td>31.0</td>\n",
       "      <td>MG</td>\n",
       "      <td>2.0</td>\n",
       "      <td>B</td>\n",
       "      <td>A</td>\n",
       "    </tr>\n",
       "    <tr>\n",
       "      <th>5513601</th>\n",
       "      <td>180013732869</td>\n",
       "      <td>MG</td>\n",
       "      <td>2</td>\n",
       "      <td>0</td>\n",
       "      <td>2</td>\n",
       "      <td>2.0</td>\n",
       "      <td>0</td>\n",
       "      <td>31056537.0</td>\n",
       "      <td>31.0</td>\n",
       "      <td>MG</td>\n",
       "      <td>2.0</td>\n",
       "      <td>B</td>\n",
       "      <td>A</td>\n",
       "    </tr>\n",
       "    <tr>\n",
       "      <th>5513702</th>\n",
       "      <td>180013988434</td>\n",
       "      <td>MG</td>\n",
       "      <td>2</td>\n",
       "      <td>0</td>\n",
       "      <td>2</td>\n",
       "      <td>1.0</td>\n",
       "      <td>0</td>\n",
       "      <td>31041688.0</td>\n",
       "      <td>31.0</td>\n",
       "      <td>MG</td>\n",
       "      <td>2.0</td>\n",
       "      <td>B</td>\n",
       "      <td>A</td>\n",
       "    </tr>\n",
       "    <tr>\n",
       "      <th>5513715</th>\n",
       "      <td>180013945033</td>\n",
       "      <td>MG</td>\n",
       "      <td>2</td>\n",
       "      <td>0</td>\n",
       "      <td>2</td>\n",
       "      <td>1.0</td>\n",
       "      <td>0</td>\n",
       "      <td>31024210.0</td>\n",
       "      <td>31.0</td>\n",
       "      <td>MG</td>\n",
       "      <td>2.0</td>\n",
       "      <td>B</td>\n",
       "      <td>A</td>\n",
       "    </tr>\n",
       "  </tbody>\n",
       "</table>\n",
       "<p>137963 rows × 13 columns</p>\n",
       "</div>"
      ],
      "text/plain": [
       "         NU_INSCRICAO SG_UF_RESIDENCIA  TP_ST_CONCLUSAO  TP_ANO_CONCLUIU  \\\n",
       "94       180008895637               MG                2                0   \n",
       "188      180008309642               MG                2                0   \n",
       "527      180007290041               MG                2                0   \n",
       "652      180008199527               MG                2                0   \n",
       "669      180008205421               MG                2                0   \n",
       "...               ...              ...              ...              ...   \n",
       "5513492  180013445996               MG                2                0   \n",
       "5513546  180013951178               MG                2                0   \n",
       "5513601  180013732869               MG                2                0   \n",
       "5513702  180013988434               MG                2                0   \n",
       "5513715  180013945033               MG                2                0   \n",
       "\n",
       "         TP_ESCOLA  TP_ENSINO  IN_TREINEIRO   CO_ESCOLA  CO_UF_ESC SG_UF_ESC  \\\n",
       "94               2        1.0             0  31190802.0       31.0        MG   \n",
       "188              2        1.0             0  31002429.0       31.0        MG   \n",
       "527              2        1.0             0  31009873.0       31.0        MG   \n",
       "652              2        1.0             0  31167436.0       31.0        MG   \n",
       "669              2        3.0             0  31166731.0       31.0        MG   \n",
       "...            ...        ...           ...         ...        ...       ...   \n",
       "5513492          2        1.0             0  31193356.0       31.0        MG   \n",
       "5513546          2        1.0             0  31342530.0       31.0        MG   \n",
       "5513601          2        2.0             0  31056537.0       31.0        MG   \n",
       "5513702          2        1.0             0  31041688.0       31.0        MG   \n",
       "5513715          2        1.0             0  31024210.0       31.0        MG   \n",
       "\n",
       "         TP_DEPENDENCIA_ADM_ESC Q026 Q027  \n",
       "94                          2.0    B    A  \n",
       "188                         2.0    B    A  \n",
       "527                         2.0    B    A  \n",
       "652                         2.0    B    A  \n",
       "669                         2.0    B    A  \n",
       "...                         ...  ...  ...  \n",
       "5513492                     2.0    B    A  \n",
       "5513546                     2.0    B    A  \n",
       "5513601                     2.0    B    A  \n",
       "5513702                     2.0    B    A  \n",
       "5513715                     2.0    B    A  \n",
       "\n",
       "[137963 rows x 13 columns]"
      ]
     },
     "execution_count": 69,
     "metadata": {},
     "output_type": "execute_result"
    }
   ],
   "source": [
    "amostra.query(\"SG_UF_ESC == 'MG'\")"
   ]
  },
  {
   "cell_type": "code",
   "execution_count": 70,
   "metadata": {},
   "outputs": [
    {
     "data": {
      "text/plain": [
       "2    137963\n",
       "Name: TP_ST_CONCLUSAO, dtype: int64"
      ]
     },
     "execution_count": 70,
     "metadata": {},
     "output_type": "execute_result"
    }
   ],
   "source": [
    "amostra.query(\"SG_UF_ESC == 'MG'\").TP_ST_CONCLUSAO.value_counts()"
   ]
  },
  {
   "cell_type": "code",
   "execution_count": 71,
   "metadata": {},
   "outputs": [
    {
     "data": {
      "text/plain": [
       "2    102500\n",
       "Name: TP_ST_CONCLUSAO, dtype: int64"
      ]
     },
     "execution_count": 71,
     "metadata": {},
     "output_type": "execute_result"
    }
   ],
   "source": [
    "amostra.query(\"SG_UF_ESC == 'RJ'\").TP_ST_CONCLUSAO.value_counts()"
   ]
  },
  {
   "cell_type": "code",
   "execution_count": 72,
   "metadata": {},
   "outputs": [
    {
     "data": {
      "text/plain": [
       "2    298241\n",
       "Name: TP_ST_CONCLUSAO, dtype: int64"
      ]
     },
     "execution_count": 72,
     "metadata": {},
     "output_type": "execute_result"
    }
   ],
   "source": [
    "amostra.query(\"SG_UF_ESC == 'SP'\").TP_ST_CONCLUSAO.value_counts()"
   ]
  },
  {
   "cell_type": "code",
   "execution_count": 73,
   "metadata": {},
   "outputs": [
    {
     "data": {
      "text/plain": [
       "2    49890\n",
       "Name: TP_ST_CONCLUSAO, dtype: int64"
      ]
     },
     "execution_count": 73,
     "metadata": {},
     "output_type": "execute_result"
    }
   ],
   "source": [
    "amostra.query(\"SG_UF_ESC == 'MA'\").TP_ST_CONCLUSAO.value_counts()"
   ]
  },
  {
   "cell_type": "code",
   "execution_count": 74,
   "metadata": {},
   "outputs": [
    {
     "data": {
      "text/plain": [
       "SP    298241\n",
       "MG    137963\n",
       "CE    119983\n",
       "RJ    102500\n",
       "BA     82825\n",
       "PE     82371\n",
       "PR     68729\n",
       "PA     59883\n",
       "GO     56194\n",
       "MA     49890\n",
       "RS     47806\n",
       "SC     45113\n",
       "AM     34847\n",
       "ES     31814\n",
       "PI     29120\n",
       "PB     28402\n",
       "DF     26661\n",
       "MT     23479\n",
       "RN     22728\n",
       "AL     21073\n",
       "MS     18186\n",
       "SE     16562\n",
       "RO     13972\n",
       "TO     12811\n",
       "AP      7474\n",
       "AC      6643\n",
       "RR      3551\n",
       "Name: SG_UF_ESC, dtype: int64"
      ]
     },
     "execution_count": 74,
     "metadata": {},
     "output_type": "execute_result"
    }
   ],
   "source": [
    "amostra.SG_UF_ESC.value_counts()"
   ]
  },
  {
   "cell_type": "code",
   "execution_count": 75,
   "metadata": {},
   "outputs": [
    {
     "data": {
      "text/plain": [
       "NU_INSCRICAO              4208490\n",
       "SG_UF_RESIDENCIA          4208490\n",
       "TP_ST_CONCLUSAO           4208490\n",
       "TP_ANO_CONCLUIU           4208490\n",
       "TP_ESCOLA                 4208490\n",
       "TP_ENSINO                 2953982\n",
       "IN_TREINEIRO              4208490\n",
       "CO_ESCOLA                 1093441\n",
       "CO_UF_ESC                 1093441\n",
       "SG_UF_ESC                 1093441\n",
       "TP_DEPENDENCIA_ADM_ESC    1093441\n",
       "Q026                      4208488\n",
       "Q027                      4208490\n",
       "dtype: int64"
      ]
     },
     "execution_count": 75,
     "metadata": {},
     "output_type": "execute_result"
    }
   ],
   "source": [
    "amostra.query(\"Q027 == 'A'\").count()"
   ]
  },
  {
   "cell_type": "code",
   "execution_count": 76,
   "metadata": {},
   "outputs": [],
   "source": [
    "agrupado = amostra.groupby(['TP_ST_CONCLUSAO'])"
   ]
  },
  {
   "cell_type": "code",
   "execution_count": 77,
   "metadata": {},
   "outputs": [
    {
     "data": {
      "text/plain": [
       "TP_ST_CONCLUSAO  SG_UF_RESIDENCIA\n",
       "1                SP                  498228\n",
       "                 MG                  349479\n",
       "                 BA                  257594\n",
       "                 RJ                  223067\n",
       "                 PA                  185171\n",
       "                                      ...  \n",
       "4                AL                     665\n",
       "                 TO                     570\n",
       "                 AP                     486\n",
       "                 AC                     349\n",
       "                 RR                     133\n",
       "Name: SG_UF_RESIDENCIA, Length: 108, dtype: int64"
      ]
     },
     "execution_count": 77,
     "metadata": {},
     "output_type": "execute_result"
    }
   ],
   "source": [
    "agrupado['SG_UF_RESIDENCIA'].value_counts()"
   ]
  },
  {
   "cell_type": "code",
   "execution_count": 78,
   "metadata": {},
   "outputs": [
    {
     "data": {
      "text/plain": [
       "TP_ST_CONCLUSAO  SG_UF_ESC\n",
       "2                SP           298241\n",
       "                 MG           137963\n",
       "                 CE           119983\n",
       "                 RJ           102500\n",
       "                 BA            82825\n",
       "                 PE            82371\n",
       "                 PR            68729\n",
       "                 PA            59883\n",
       "                 GO            56194\n",
       "                 MA            49890\n",
       "                 RS            47806\n",
       "                 SC            45113\n",
       "                 AM            34847\n",
       "                 ES            31814\n",
       "                 PI            29120\n",
       "                 PB            28402\n",
       "                 DF            26661\n",
       "                 MT            23479\n",
       "                 RN            22728\n",
       "                 AL            21073\n",
       "                 MS            18186\n",
       "                 SE            16562\n",
       "                 RO            13972\n",
       "                 TO            12811\n",
       "                 AP             7474\n",
       "                 AC             6643\n",
       "                 RR             3551\n",
       "Name: SG_UF_ESC, dtype: int64"
      ]
     },
     "execution_count": 78,
     "metadata": {},
     "output_type": "execute_result"
    }
   ],
   "source": [
    "agrupado['SG_UF_ESC'].value_counts()"
   ]
  },
  {
   "cell_type": "markdown",
   "metadata": {},
   "source": [
    "# Notando que existem muitos registros sem o valor de código da UF da Escola"
   ]
  },
  {
   "cell_type": "code",
   "execution_count": 79,
   "metadata": {},
   "outputs": [
    {
     "data": {
      "text/plain": [
       "4064926"
      ]
     },
     "execution_count": 79,
     "metadata": {},
     "output_type": "execute_result"
    }
   ],
   "source": [
    "amostra.CO_UF_ESC.isna().sum()"
   ]
  },
  {
   "cell_type": "code",
   "execution_count": 80,
   "metadata": {},
   "outputs": [
    {
     "data": {
      "text/plain": [
       "1    3233968\n",
       "2    1640099\n",
       "3     586939\n",
       "4      52741\n",
       "Name: TP_ST_CONCLUSAO, dtype: int64"
      ]
     },
     "execution_count": 80,
     "metadata": {},
     "output_type": "execute_result"
    }
   ],
   "source": [
    "amostra.TP_ST_CONCLUSAO.value_counts()"
   ]
  },
  {
   "cell_type": "code",
   "execution_count": 81,
   "metadata": {},
   "outputs": [
    {
     "data": {
      "text/plain": [
       "NU_INSCRICAO              3873648\n",
       "SG_UF_RESIDENCIA          3873648\n",
       "TP_ST_CONCLUSAO           3873648\n",
       "TP_ANO_CONCLUIU           3873648\n",
       "TP_ESCOLA                 3873648\n",
       "TP_ENSINO                 1843160\n",
       "IN_TREINEIRO              3873648\n",
       "CO_ESCOLA                       0\n",
       "CO_UF_ESC                       0\n",
       "SG_UF_ESC                       0\n",
       "TP_DEPENDENCIA_ADM_ESC          0\n",
       "Q026                      3873648\n",
       "Q027                      3873648\n",
       "dtype: int64"
      ]
     },
     "execution_count": 81,
     "metadata": {},
     "output_type": "execute_result"
    }
   ],
   "source": [
    "amostra.query(\"TP_ST_CONCLUSAO != 2\").count()"
   ]
  },
  {
   "cell_type": "code",
   "execution_count": 82,
   "metadata": {},
   "outputs": [
    {
     "data": {
      "text/plain": [
       "NU_INSCRICAO              4986038\n",
       "SG_UF_RESIDENCIA          4986038\n",
       "TP_ST_CONCLUSAO           4986038\n",
       "TP_ANO_CONCLUIU           4986038\n",
       "TP_ESCOLA                 4986038\n",
       "TP_ENSINO                 3483081\n",
       "IN_TREINEIRO              4986038\n",
       "CO_ESCOLA                 1448821\n",
       "CO_UF_ESC                 1448821\n",
       "SG_UF_ESC                 1448821\n",
       "TP_DEPENDENCIA_ADM_ESC    1448821\n",
       "Q026                      4986034\n",
       "Q027                      4986038\n",
       "dtype: int64"
      ]
     },
     "execution_count": 82,
     "metadata": {},
     "output_type": "execute_result"
    }
   ],
   "source": [
    "amostra.query(\"IN_TREINEIRO == 0\").count()"
   ]
  },
  {
   "cell_type": "code",
   "execution_count": 83,
   "metadata": {},
   "outputs": [
    {
     "data": {
      "text/plain": [
       "NU_INSCRICAO              527709\n",
       "SG_UF_RESIDENCIA          527709\n",
       "TP_ST_CONCLUSAO           527709\n",
       "TP_ANO_CONCLUIU           527709\n",
       "TP_ESCOLA                 527709\n",
       "TP_ENSINO                      0\n",
       "IN_TREINEIRO              527709\n",
       "CO_ESCOLA                      0\n",
       "CO_UF_ESC                      0\n",
       "SG_UF_ESC                      0\n",
       "TP_DEPENDENCIA_ADM_ESC         0\n",
       "Q026                      527709\n",
       "Q027                      527709\n",
       "dtype: int64"
      ]
     },
     "execution_count": 83,
     "metadata": {},
     "output_type": "execute_result"
    }
   ],
   "source": [
    "amostra.query(\"IN_TREINEIRO == 1\").count()"
   ]
  },
  {
   "cell_type": "code",
   "execution_count": 84,
   "metadata": {},
   "outputs": [
    {
     "data": {
      "text/plain": [
       "3    527709\n",
       "Name: TP_ST_CONCLUSAO, dtype: int64"
      ]
     },
     "execution_count": 84,
     "metadata": {},
     "output_type": "execute_result"
    }
   ],
   "source": [
    "amostra.query(\"IN_TREINEIRO == 1\").TP_ST_CONCLUSAO.value_counts()     "
   ]
  },
  {
   "cell_type": "code",
   "execution_count": 85,
   "metadata": {},
   "outputs": [
    {
     "data": {
      "text/plain": [
       "NU_INSCRICAO              1640099\n",
       "SG_UF_RESIDENCIA          1640099\n",
       "TP_ST_CONCLUSAO           1640099\n",
       "TP_ANO_CONCLUIU           1640099\n",
       "TP_ESCOLA                 1640099\n",
       "TP_ENSINO                 1639921\n",
       "IN_TREINEIRO              1640099\n",
       "CO_ESCOLA                 1448821\n",
       "CO_UF_ESC                 1448821\n",
       "SG_UF_ESC                 1448821\n",
       "TP_DEPENDENCIA_ADM_ESC    1448821\n",
       "Q026                      1640095\n",
       "Q027                      1640099\n",
       "dtype: int64"
      ]
     },
     "execution_count": 85,
     "metadata": {},
     "output_type": "execute_result"
    }
   ],
   "source": [
    "amostra.query(\"TP_ST_CONCLUSAO == 2\").count()"
   ]
  },
  {
   "cell_type": "code",
   "execution_count": 86,
   "metadata": {},
   "outputs": [
    {
     "data": {
      "text/plain": [
       "NU_INSCRICAO              5513747\n",
       "SG_UF_RESIDENCIA          5513747\n",
       "TP_ST_CONCLUSAO           5513747\n",
       "TP_ANO_CONCLUIU           5513747\n",
       "TP_ESCOLA                 5513747\n",
       "TP_ENSINO                 3483081\n",
       "IN_TREINEIRO              5513747\n",
       "CO_ESCOLA                 1448821\n",
       "CO_UF_ESC                 1448821\n",
       "SG_UF_ESC                 1448821\n",
       "TP_DEPENDENCIA_ADM_ESC    1448821\n",
       "Q026                      5513743\n",
       "Q027                      5513747\n",
       "dtype: int64"
      ]
     },
     "execution_count": 86,
     "metadata": {},
     "output_type": "execute_result"
    }
   ],
   "source": [
    "amostra.count()"
   ]
  },
  {
   "cell_type": "code",
   "execution_count": 87,
   "metadata": {},
   "outputs": [
    {
     "data": {
      "text/plain": [
       "'Porcentagem de alunos com dados de escola 26.276523025086206%'"
      ]
     },
     "execution_count": 87,
     "metadata": {},
     "output_type": "execute_result"
    }
   ],
   "source": [
    "\"Porcentagem de alunos com dados de escola {}%\".format(1448821/5513747 * 100)"
   ]
  },
  {
   "cell_type": "code",
   "execution_count": 88,
   "metadata": {},
   "outputs": [
    {
     "data": {
      "text/plain": [
       "'Porcentagem de alunos com TP_STATUS_CONCLUSAO = 2: 29.745633958177624%'"
      ]
     },
     "execution_count": 88,
     "metadata": {},
     "output_type": "execute_result"
    }
   ],
   "source": [
    "\"Porcentagem de alunos com TP_STATUS_CONCLUSAO = 2: {}%\".format(1640099/5513747 * 100) "
   ]
  },
  {
   "cell_type": "code",
   "execution_count": 89,
   "metadata": {},
   "outputs": [
    {
     "data": {
      "text/plain": [
       "1    4110764\n",
       "2    1137491\n",
       "4     251615\n",
       "3      13877\n",
       "Name: TP_ESCOLA, dtype: int64"
      ]
     },
     "execution_count": 89,
     "metadata": {},
     "output_type": "execute_result"
    }
   ],
   "source": [
    "amostra.TP_ESCOLA.value_counts()"
   ]
  },
  {
   "cell_type": "code",
   "execution_count": 90,
   "metadata": {},
   "outputs": [
    {
     "data": {
      "text/html": [
       "<div>\n",
       "<style scoped>\n",
       "    .dataframe tbody tr th:only-of-type {\n",
       "        vertical-align: middle;\n",
       "    }\n",
       "\n",
       "    .dataframe tbody tr th {\n",
       "        vertical-align: top;\n",
       "    }\n",
       "\n",
       "    .dataframe thead th {\n",
       "        text-align: right;\n",
       "    }\n",
       "</style>\n",
       "<table border=\"1\" class=\"dataframe\">\n",
       "  <thead>\n",
       "    <tr style=\"text-align: right;\">\n",
       "      <th></th>\n",
       "      <th>Q026</th>\n",
       "      <th>Porcentagem</th>\n",
       "    </tr>\n",
       "  </thead>\n",
       "  <tbody>\n",
       "    <tr>\n",
       "      <th>A</th>\n",
       "      <td>3233963</td>\n",
       "      <td>59.0</td>\n",
       "    </tr>\n",
       "    <tr>\n",
       "      <th>B</th>\n",
       "      <td>1639983</td>\n",
       "      <td>30.0</td>\n",
       "    </tr>\n",
       "    <tr>\n",
       "      <th>C</th>\n",
       "      <td>587041</td>\n",
       "      <td>11.0</td>\n",
       "    </tr>\n",
       "    <tr>\n",
       "      <th>D</th>\n",
       "      <td>52756</td>\n",
       "      <td>1.0</td>\n",
       "    </tr>\n",
       "  </tbody>\n",
       "</table>\n",
       "</div>"
      ],
      "text/plain": [
       "      Q026  Porcentagem\n",
       "A  3233963         59.0\n",
       "B  1639983         30.0\n",
       "C   587041         11.0\n",
       "D    52756          1.0"
      ]
     },
     "execution_count": 90,
     "metadata": {},
     "output_type": "execute_result"
    },
    {
     "data": {
      "image/png": "[encoded data removed]",
      "text/plain": [
       "<Figure size 432x288 with 1 Axes>"
      ]
     },
     "metadata": {
      "needs_background": "light"
     },
     "output_type": "display_data"
    }
   ],
   "source": [
    "var = \"Q026\"\n",
    "\n",
    "array = pd.DataFrame(amostra[var].value_counts())\n",
    "array2 = pd.DataFrame(amostra[var].value_counts(normalize=True) * 100).round()\n",
    "array['Porcentagem'] = array2\n",
    "\n",
    "contagem_de_questionario = amostra[var].value_counts().to_frame().reset_index()\n",
    "contagem_de_questionario.columns = [\"Respostas\", \"total\"]\n",
    "contagem_de_questionario.Respostas = ['Ja Terminou ' + str(array['Porcentagem'][0]) + '%','Formando ' + str(array['Porcentagem'][1]) + '%','Treineiro ' + str(array['Porcentagem'][2]) + '%','Não conclui e não estou cursando ' + str(array['Porcentagem'][3]) + '%']\n",
    "\n",
    "\n",
    "\n",
    "\n",
    "plt.title('ANo de conclusão do Ensino Médio')\n",
    "\n",
    "g = sns.barplot(x=\"Respostas\", y = \"total\", data = contagem_de_questionario,hue=\"Respostas\",dodge=False)\n",
    "g.set_xticklabels(\" \")\n",
    "g.set_xlabel(\" \")\n",
    "\n",
    "                     \n",
    "array"
   ]
  },
  {
   "cell_type": "code",
   "execution_count": 91,
   "metadata": {},
   "outputs": [],
   "source": [
    "formandos = amostra.groupby('Q026')\n",
    "names = ['B']\n",
    "formandos = pd.concat([formandos.get_group(name) for name in names])"
   ]
  },
  {
   "cell_type": "code",
   "execution_count": 92,
   "metadata": {},
   "outputs": [
    {
     "data": {
      "text/plain": [
       "NU_INSCRICAO              1639983\n",
       "SG_UF_RESIDENCIA          1639983\n",
       "TP_ST_CONCLUSAO           1639983\n",
       "TP_ANO_CONCLUIU           1639983\n",
       "TP_ESCOLA                 1639983\n",
       "TP_ENSINO                 1639921\n",
       "IN_TREINEIRO              1639983\n",
       "CO_ESCOLA                 1448705\n",
       "CO_UF_ESC                 1448705\n",
       "SG_UF_ESC                 1448705\n",
       "TP_DEPENDENCIA_ADM_ESC    1448705\n",
       "Q026                      1639983\n",
       "Q027                      1639983\n",
       "dtype: int64"
      ]
     },
     "execution_count": 92,
     "metadata": {},
     "output_type": "execute_result"
    }
   ],
   "source": [
    "formandos.count()"
   ]
  },
  {
   "cell_type": "code",
   "execution_count": 93,
   "metadata": {},
   "outputs": [
    {
     "name": "stdout",
     "output_type": "stream",
     "text": [
      "   Respostas    total\n",
      "0          2  1639983\n"
     ]
    },
    {
     "data": {
      "image/png": "[encoded data removed]",
      "text/plain": [
       "<Figure size 432x288 with 1 Axes>"
      ]
     },
     "metadata": {
      "needs_background": "light"
     },
     "output_type": "display_data"
    }
   ],
   "source": [
    "var = \"TP_ST_CONCLUSAO\"\n",
    "contagem_de_questionario = formandos[var].value_counts().to_frame().reset_index()\n",
    "contagem_de_questionario.columns = [\"Respostas\", \"total\"]\n",
    "frequencia = formandos[var].value_counts().values\n",
    "\n",
    "\n",
    "plt.title('ANo de conclusão do Ensino Médio')\n",
    "\n",
    "sns.barplot(x=\"Respostas\", y = \"total\", data = contagem_de_questionario)\n",
    "\n",
    "print(contagem_de_questionario)"
   ]
  },
  {
   "cell_type": "code",
   "execution_count": 94,
   "metadata": {},
   "outputs": [
    {
     "name": "stdout",
     "output_type": "stream",
     "text": [
      "    Respostas   total\n",
      "0        35.0  298230\n",
      "1        31.0  137934\n",
      "2        23.0  119976\n",
      "3        33.0  102491\n",
      "4        29.0   82812\n",
      "5        26.0   82365\n",
      "6        41.0   68726\n",
      "7        15.0   59883\n",
      "8        52.0   56191\n",
      "9        21.0   49887\n",
      "10       43.0   47803\n",
      "11       42.0   45109\n",
      "12       13.0   34847\n",
      "13       32.0   31813\n",
      "14       22.0   29116\n",
      "15       25.0   28398\n",
      "16       53.0   26659\n",
      "17       51.0   23476\n",
      "18       24.0   22727\n",
      "19       27.0   21071\n",
      "20       50.0   18186\n",
      "21       28.0   16555\n",
      "22       11.0   13971\n",
      "23       17.0   12811\n",
      "24       16.0    7474\n",
      "25       12.0    6643\n",
      "26       14.0    3551\n"
     ]
    },
    {
     "data": {
      "image/png": "[encoded data removed]",
      "text/plain": [
       "<Figure size 432x288 with 1 Axes>"
      ]
     },
     "metadata": {
      "needs_background": "light"
     },
     "output_type": "display_data"
    }
   ],
   "source": [
    "var = \"CO_UF_ESC\"\n",
    "contagem_de_questionario = formandos[var].value_counts().to_frame().reset_index()\n",
    "contagem_de_questionario.columns = [\"Respostas\", \"total\"]\n",
    "frequencia = formandos[var].value_counts().values\n",
    "\n",
    "\n",
    "plt.title('ANo de conclusão do Ensino Médio')\n",
    "\n",
    "sns.barplot(x=\"Respostas\", y = \"total\", data = contagem_de_questionario)\n",
    "\n",
    "print(contagem_de_questionario)"
   ]
  },
  {
   "cell_type": "code",
   "execution_count": 155,
   "metadata": {},
   "outputs": [
    {
     "data": {
      "text/plain": [
       "NU_INSCRICAO              5513747\n",
       "SG_UF_RESIDENCIA          5513747\n",
       "TP_ST_CONCLUSAO           5513747\n",
       "TP_ANO_CONCLUIU           5513747\n",
       "TP_ESCOLA                 5513747\n",
       "TP_ENSINO                 3483081\n",
       "IN_TREINEIRO              5513747\n",
       "CO_ESCOLA                 1448821\n",
       "CO_UF_ESC                 1448821\n",
       "SG_UF_ESC                 1448821\n",
       "TP_DEPENDENCIA_ADM_ESC    1448821\n",
       "Q026                      5513743\n",
       "Q027                      5513747\n",
       "dtype: int64"
      ]
     },
     "execution_count": 155,
     "metadata": {},
     "output_type": "execute_result"
    }
   ],
   "source": [
    "amostra.count()"
   ]
  },
  {
   "cell_type": "code",
   "execution_count": 95,
   "metadata": {},
   "outputs": [],
   "source": [
    "formandos = amostra.query(\"Q026 == 'B'\")"
   ]
  },
  {
   "cell_type": "code",
   "execution_count": 96,
   "metadata": {},
   "outputs": [
    {
     "data": {
      "text/plain": [
       "1639983"
      ]
     },
     "execution_count": 96,
     "metadata": {},
     "output_type": "execute_result"
    }
   ],
   "source": [
    "formandos.shape[0]"
   ]
  },
  {
   "cell_type": "code",
   "execution_count": 97,
   "metadata": {},
   "outputs": [
    {
     "data": {
      "text/plain": [
       "2.0    1137305\n",
       "4.0     251804\n",
       "1.0      45761\n",
       "3.0      13835\n",
       "Name: TP_DEPENDENCIA_ADM_ESC, dtype: int64"
      ]
     },
     "execution_count": 97,
     "metadata": {},
     "output_type": "execute_result"
    }
   ],
   "source": [
    "formandos.TP_DEPENDENCIA_ADM_ESC.value_counts()"
   ]
  },
  {
   "cell_type": "code",
   "execution_count": 123,
   "metadata": {},
   "outputs": [],
   "source": [
    "candidatosPublica = formandos.query(\"TP_DEPENDENCIA_ADM_ESC != 4.0 \")"
   ]
  },
  {
   "cell_type": "code",
   "execution_count": 125,
   "metadata": {},
   "outputs": [
    {
     "data": {
      "text/plain": [
       "NU_INSCRICAO              1388179\n",
       "SG_UF_RESIDENCIA          1388179\n",
       "TP_ST_CONCLUSAO           1388179\n",
       "TP_ANO_CONCLUIU           1388179\n",
       "TP_ESCOLA                 1388179\n",
       "TP_ENSINO                 1388128\n",
       "IN_TREINEIRO              1388179\n",
       "CO_ESCOLA                 1196901\n",
       "CO_UF_ESC                 1196901\n",
       "SG_UF_ESC                 1196901\n",
       "TP_DEPENDENCIA_ADM_ESC    1196901\n",
       "Q026                      1388179\n",
       "Q027                      1388179\n",
       "dtype: int64"
      ]
     },
     "execution_count": 125,
     "metadata": {},
     "output_type": "execute_result"
    }
   ],
   "source": [
    "candidatosPublica.count()"
   ]
  },
  {
   "cell_type": "code",
   "execution_count": 126,
   "metadata": {},
   "outputs": [],
   "source": [
    "porcentagemPublica = (candidatosPublica.shape[0]/formandos.shape[0]) * 100"
   ]
  },
  {
   "cell_type": "code",
   "execution_count": 127,
   "metadata": {},
   "outputs": [
    {
     "data": {
      "text/plain": [
       "'Porcentagem de alunos que estudaram no EM em escolas públicas 85 %'"
      ]
     },
     "execution_count": 127,
     "metadata": {},
     "output_type": "execute_result"
    }
   ],
   "source": [
    "\"Porcentagem de alunos que estudaram no EM em escolas públicas {} %\".format(round(porcentagemPublica))"
   ]
  },
  {
   "cell_type": "code",
   "execution_count": 128,
   "metadata": {},
   "outputs": [
    {
     "data": {
      "text/plain": [
       "'Quantidade de alunos que estudaram no EM em escolas públicas 1388179'"
      ]
     },
     "execution_count": 128,
     "metadata": {},
     "output_type": "execute_result"
    }
   ],
   "source": [
    "\"Quantidade de alunos que estudaram no EM em escolas públicas {}\".format(candidatosPublica.shape[0])"
   ]
  },
  {
   "cell_type": "code",
   "execution_count": 129,
   "metadata": {},
   "outputs": [],
   "source": [
    "matriculadosPublicasBrasil =  1764976 "
   ]
  },
  {
   "cell_type": "code",
   "execution_count": 130,
   "metadata": {},
   "outputs": [
    {
     "data": {
      "text/plain": [
       "'Porcentagem de alunos publicas fizeram Enem 0.7865143775326123 %'"
      ]
     },
     "execution_count": 130,
     "metadata": {},
     "output_type": "execute_result"
    }
   ],
   "source": [
    "\"Porcentagem de alunos publicas fizeram Enem {} %\".format(candidatosPublica.shape[0]/matriculadosPublicasBrasil)"
   ]
  },
  {
   "cell_type": "code",
   "execution_count": 131,
   "metadata": {},
   "outputs": [],
   "source": [
    "# Número de estudantes de escolas particulares"
   ]
  },
  {
   "cell_type": "code",
   "execution_count": 148,
   "metadata": {},
   "outputs": [],
   "source": [
    "candidatosParticulares = formandos.query(\"TP_DEPENDENCIA_ADM_ESC == 4.0 \") "
   ]
  },
  {
   "cell_type": "code",
   "execution_count": 150,
   "metadata": {},
   "outputs": [],
   "source": [
    "porcentagemParticulares = (candidatosParticulares.shape[0]/formandos.shape[0]) * 100"
   ]
  },
  {
   "cell_type": "code",
   "execution_count": 151,
   "metadata": {},
   "outputs": [
    {
     "data": {
      "text/plain": [
       "'Porcentagem de alunos que estudaram no EM  em escolas particulares 15 %'"
      ]
     },
     "execution_count": 151,
     "metadata": {},
     "output_type": "execute_result"
    }
   ],
   "source": [
    "\"Porcentagem de alunos que estudaram no EM  em escolas particulares {} %\".format(round(porcentagemParticulares))"
   ]
  },
  {
   "cell_type": "code",
   "execution_count": 152,
   "metadata": {},
   "outputs": [
    {
     "data": {
      "text/plain": [
       "'Quantidade de alunos que estudaram totalmente ou parcialmente no EM em escolas  251804'"
      ]
     },
     "execution_count": 152,
     "metadata": {},
     "output_type": "execute_result"
    }
   ],
   "source": [
    "\"Quantidade de alunos que estudaram totalmente ou parcialmente no EM em escolas  {}\".format(candidatosParticulares.shape[0])"
   ]
  },
  {
   "cell_type": "code",
   "execution_count": 137,
   "metadata": {},
   "outputs": [],
   "source": [
    "matriculadosParticularesBrasil = 276951 "
   ]
  },
  {
   "cell_type": "code",
   "execution_count": 153,
   "metadata": {},
   "outputs": [
    {
     "data": {
      "text/plain": [
       "'Porcentagem de alunos de particulaes que fizeram ENEM 0.9092005445006517 %'"
      ]
     },
     "execution_count": 153,
     "metadata": {},
     "output_type": "execute_result"
    }
   ],
   "source": [
    "\"Porcentagem de alunos de particulaes que fizeram ENEM {} %\".format(candidatosParticulares.shape[0]/matriculadosParticularesBrasil)"
   ]
  },
  {
   "cell_type": "code",
   "execution_count": 139,
   "metadata": {},
   "outputs": [
    {
     "data": {
      "text/plain": [
       "2    1137399\n",
       "4     251615\n",
       "1     237116\n",
       "3      13853\n",
       "Name: TP_ESCOLA, dtype: int64"
      ]
     },
     "execution_count": 139,
     "metadata": {},
     "output_type": "execute_result"
    }
   ],
   "source": [
    "formandos['TP_ESCOLA'].value_counts()"
   ]
  },
  {
   "cell_type": "code",
   "execution_count": 140,
   "metadata": {},
   "outputs": [],
   "source": [
    "candidatosParciais = formandos.query(\"Q027 == 'B' or Q027 == 'C'\")"
   ]
  },
  {
   "cell_type": "code",
   "execution_count": 141,
   "metadata": {},
   "outputs": [
    {
     "data": {
      "text/plain": [
       "176496"
      ]
     },
     "execution_count": 141,
     "metadata": {},
     "output_type": "execute_result"
    }
   ],
   "source": [
    "candidatosParciais.shape[0]"
   ]
  },
  {
   "cell_type": "code",
   "execution_count": 142,
   "metadata": {},
   "outputs": [
    {
     "data": {
      "text/plain": [
       "'Quantidade de alunos que estudaram parcialmente no EM em escolas privadas  176496'"
      ]
     },
     "execution_count": 142,
     "metadata": {},
     "output_type": "execute_result"
    }
   ],
   "source": [
    "\"Quantidade de alunos que estudaram parcialmente no EM em escolas privadas  {}\".format(candidatosParciais.shape[0])"
   ]
  },
  {
   "cell_type": "code",
   "execution_count": 143,
   "metadata": {},
   "outputs": [],
   "source": [
    "porcentagemParciais = (candidatosParciais.shape[0]/formandos.shape[0]) * 100"
   ]
  },
  {
   "cell_type": "code",
   "execution_count": 144,
   "metadata": {},
   "outputs": [
    {
     "data": {
      "text/plain": [
       "'Porcentagem de alunos que estudaram parcialmente no EM  em escolas particulares 11 %'"
      ]
     },
     "execution_count": 144,
     "metadata": {},
     "output_type": "execute_result"
    }
   ],
   "source": [
    "\"Porcentagem de alunos que estudaram parcialmente no EM  em escolas particulares {} %\".format(round(porcentagemParciais))"
   ]
  },
  {
   "cell_type": "code",
   "execution_count": 145,
   "metadata": {},
   "outputs": [
    {
     "data": {
      "text/plain": [
       "2    95301\n",
       "4    51613\n",
       "1    28412\n",
       "3     1170\n",
       "Name: TP_ESCOLA, dtype: int64"
      ]
     },
     "execution_count": 145,
     "metadata": {},
     "output_type": "execute_result"
    }
   ],
   "source": [
    "candidatosParciais.TP_ESCOLA.value_counts()"
   ]
  },
  {
   "cell_type": "code",
   "execution_count": 146,
   "metadata": {},
   "outputs": [
    {
     "data": {
      "text/plain": [
       "4    198775\n",
       "1     11869\n",
       "2      1950\n",
       "3        32\n",
       "Name: TP_ESCOLA, dtype: int64"
      ]
     },
     "execution_count": 146,
     "metadata": {},
     "output_type": "execute_result"
    }
   ],
   "source": [
    "candidatosParticulares.TP_ESCOLA.value_counts()"
   ]
  },
  {
   "cell_type": "code",
   "execution_count": null,
   "metadata": {},
   "outputs": [],
   "source": []
  }
 ],
 "metadata": {
  "colab": {
   "authorship_tag": "ABX9TyN9+VQY7bZSHwLH/6KGEgBW",
   "name": "AEDEnemLimpo.ipynb",
   "provenance": []
  },
  "hide_input": false,
  "kernelspec": {
   "display_name": "Python 3",
   "language": "python",
   "name": "python3"
  },
  "language_info": {
   "codemirror_mode": {
    "name": "ipython",
    "version": 3
   },
   "file_extension": ".py",
   "mimetype": "text/x-python",
   "name": "python",
   "nbconvert_exporter": "python",
   "pygments_lexer": "ipython3",
   "version": "3.7.6"
  }
 },
 "nbformat": 4,
 "nbformat_minor": 1
}
