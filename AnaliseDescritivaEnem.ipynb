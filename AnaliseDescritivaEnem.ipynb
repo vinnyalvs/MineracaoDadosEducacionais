{
 "cells": [
  {
   "cell_type": "code",
   "execution_count": 1,
   "metadata": {
    "colab": {},
    "colab_type": "code",
    "id": "W-S1myidJoKC"
   },
   "outputs": [],
   "source": [
    "import pandas as pd\n",
    "import numpy as np\n",
    "import matplotlib.pyplot as plt\n",
    "import seaborn as sns"
   ]
  },
  {
   "cell_type": "markdown",
   "metadata": {},
   "source": [
    "# Fazendo Leitura de Parte da base do INEP"
   ]
  },
  {
   "cell_type": "code",
   "execution_count": 31,
   "metadata": {
    "colab": {},
    "colab_type": "code",
    "id": "Wpdrcv_PJvgb"
   },
   "outputs": [],
   "source": [
    "path = \"C:\\\\Users\\\\vinic\\\\Documents\\\\GitHub\\\\Enem\\\\2018\\\\Dados\\\\MICRODADOS_ENEM_2018.csv\""
   ]
  },
  {
   "cell_type": "code",
   "execution_count": 77,
   "metadata": {
    "colab": {},
    "colab_type": "code",
    "id": "x83RdcXCO_OL"
   },
   "outputs": [],
   "source": [
    "import pandas as pd\n",
    "import numpy as np\n",
    "import matplotlib.pyplot as plt\n",
    "use_cols = [\"NU_INSCRICAO\",\"CO_ESCOLA\",\"SG_UF_ESC\",\"CO_UF_ESC\",\"SG_UF_RESIDENCIA\", \"TP_ST_CONCLUSAO\", \"TP_ANO_CONCLUIU\", \"TP_ESCOLA\" ,\"TP_ENSINO\", \"IN_TREINEIRO\",\"TP_SIT_FUNC_ESC\"]\n",
    "data_iterator = pd.read_csv(path,sep=';',encoding='latin1',low_memory=False,chunksize=10000, usecols=use_cols)\n",
    "chunk_list = []  \n",
    "\n",
    "# Each chunk is in dataframe format\n",
    "for data_chunk in data_iterator:  \n",
    "   # filtered_chunk =  chunk_preprocessing(data_chunk)\n",
    "    chunk_list.append(data_chunk)\n",
    "    \n",
    "filtered_data = pd.concat(chunk_list)\n",
    "\n"
   ]
  },
  {
   "cell_type": "markdown",
   "metadata": {},
   "source": [
    "## Pegando uma amostra desses dados"
   ]
  },
  {
   "cell_type": "code",
   "execution_count": 99,
   "metadata": {},
   "outputs": [],
   "source": [
    "#amostra = filtered_data.sample(500000)\n",
    "amostra = filtered_data"
   ]
  },
  {
   "cell_type": "markdown",
   "metadata": {},
   "source": [
    "### Observando na amostra os valores da varável TP_ST_CONCLUSAO"
   ]
  },
  {
   "cell_type": "code",
   "execution_count": 100,
   "metadata": {},
   "outputs": [
    {
     "data": {
      "text/plain": [
       "1    3233968\n",
       "2    1640099\n",
       "3     586939\n",
       "4      52741\n",
       "Name: TP_ST_CONCLUSAO, dtype: int64"
      ]
     },
     "execution_count": 100,
     "metadata": {},
     "output_type": "execute_result"
    }
   ],
   "source": [
    "amostra.TP_ST_CONCLUSAO.value_counts()"
   ]
  },
  {
   "cell_type": "code",
   "execution_count": 101,
   "metadata": {},
   "outputs": [
    {
     "data": {
      "text/html": [
       "<div>\n",
       "<style scoped>\n",
       "    .dataframe tbody tr th:only-of-type {\n",
       "        vertical-align: middle;\n",
       "    }\n",
       "\n",
       "    .dataframe tbody tr th {\n",
       "        vertical-align: top;\n",
       "    }\n",
       "\n",
       "    .dataframe thead th {\n",
       "        text-align: right;\n",
       "    }\n",
       "</style>\n",
       "<table border=\"1\" class=\"dataframe\">\n",
       "  <thead>\n",
       "    <tr style=\"text-align: right;\">\n",
       "      <th></th>\n",
       "      <th>NU_INSCRICAO</th>\n",
       "      <th>SG_UF_RESIDENCIA</th>\n",
       "      <th>TP_ST_CONCLUSAO</th>\n",
       "      <th>TP_ANO_CONCLUIU</th>\n",
       "      <th>TP_ESCOLA</th>\n",
       "      <th>TP_ENSINO</th>\n",
       "      <th>IN_TREINEIRO</th>\n",
       "      <th>CO_ESCOLA</th>\n",
       "      <th>CO_UF_ESC</th>\n",
       "      <th>SG_UF_ESC</th>\n",
       "      <th>TP_SIT_FUNC_ESC</th>\n",
       "    </tr>\n",
       "  </thead>\n",
       "  <tbody>\n",
       "    <tr>\n",
       "      <th>0</th>\n",
       "      <td>180008202043</td>\n",
       "      <td>DF</td>\n",
       "      <td>2</td>\n",
       "      <td>0</td>\n",
       "      <td>2</td>\n",
       "      <td>1.0</td>\n",
       "      <td>0</td>\n",
       "      <td>52033333.0</td>\n",
       "      <td>52.0</td>\n",
       "      <td>GO</td>\n",
       "      <td>1.0</td>\n",
       "    </tr>\n",
       "    <tr>\n",
       "      <th>1</th>\n",
       "      <td>180007197856</td>\n",
       "      <td>MA</td>\n",
       "      <td>1</td>\n",
       "      <td>5</td>\n",
       "      <td>1</td>\n",
       "      <td>1.0</td>\n",
       "      <td>0</td>\n",
       "      <td>NaN</td>\n",
       "      <td>NaN</td>\n",
       "      <td>NaN</td>\n",
       "      <td>NaN</td>\n",
       "    </tr>\n",
       "    <tr>\n",
       "      <th>2</th>\n",
       "      <td>180008517434</td>\n",
       "      <td>SP</td>\n",
       "      <td>1</td>\n",
       "      <td>3</td>\n",
       "      <td>1</td>\n",
       "      <td>3.0</td>\n",
       "      <td>0</td>\n",
       "      <td>NaN</td>\n",
       "      <td>NaN</td>\n",
       "      <td>NaN</td>\n",
       "      <td>NaN</td>\n",
       "    </tr>\n",
       "    <tr>\n",
       "      <th>3</th>\n",
       "      <td>180007661228</td>\n",
       "      <td>BA</td>\n",
       "      <td>1</td>\n",
       "      <td>8</td>\n",
       "      <td>1</td>\n",
       "      <td>1.0</td>\n",
       "      <td>0</td>\n",
       "      <td>NaN</td>\n",
       "      <td>NaN</td>\n",
       "      <td>NaN</td>\n",
       "      <td>NaN</td>\n",
       "    </tr>\n",
       "    <tr>\n",
       "      <th>4</th>\n",
       "      <td>180008787987</td>\n",
       "      <td>BA</td>\n",
       "      <td>2</td>\n",
       "      <td>0</td>\n",
       "      <td>2</td>\n",
       "      <td>1.0</td>\n",
       "      <td>0</td>\n",
       "      <td>29112699.0</td>\n",
       "      <td>29.0</td>\n",
       "      <td>BA</td>\n",
       "      <td>1.0</td>\n",
       "    </tr>\n",
       "    <tr>\n",
       "      <th>...</th>\n",
       "      <td>...</td>\n",
       "      <td>...</td>\n",
       "      <td>...</td>\n",
       "      <td>...</td>\n",
       "      <td>...</td>\n",
       "      <td>...</td>\n",
       "      <td>...</td>\n",
       "      <td>...</td>\n",
       "      <td>...</td>\n",
       "      <td>...</td>\n",
       "      <td>...</td>\n",
       "    </tr>\n",
       "    <tr>\n",
       "      <th>5513742</th>\n",
       "      <td>180013945649</td>\n",
       "      <td>RJ</td>\n",
       "      <td>1</td>\n",
       "      <td>6</td>\n",
       "      <td>1</td>\n",
       "      <td>NaN</td>\n",
       "      <td>0</td>\n",
       "      <td>NaN</td>\n",
       "      <td>NaN</td>\n",
       "      <td>NaN</td>\n",
       "      <td>NaN</td>\n",
       "    </tr>\n",
       "    <tr>\n",
       "      <th>5513743</th>\n",
       "      <td>180013964149</td>\n",
       "      <td>AM</td>\n",
       "      <td>2</td>\n",
       "      <td>0</td>\n",
       "      <td>2</td>\n",
       "      <td>1.0</td>\n",
       "      <td>0</td>\n",
       "      <td>13027573.0</td>\n",
       "      <td>13.0</td>\n",
       "      <td>AM</td>\n",
       "      <td>1.0</td>\n",
       "    </tr>\n",
       "    <tr>\n",
       "      <th>5513744</th>\n",
       "      <td>180013980226</td>\n",
       "      <td>SP</td>\n",
       "      <td>2</td>\n",
       "      <td>0</td>\n",
       "      <td>1</td>\n",
       "      <td>1.0</td>\n",
       "      <td>0</td>\n",
       "      <td>NaN</td>\n",
       "      <td>NaN</td>\n",
       "      <td>NaN</td>\n",
       "      <td>NaN</td>\n",
       "    </tr>\n",
       "    <tr>\n",
       "      <th>5513745</th>\n",
       "      <td>180013934137</td>\n",
       "      <td>SP</td>\n",
       "      <td>2</td>\n",
       "      <td>0</td>\n",
       "      <td>4</td>\n",
       "      <td>1.0</td>\n",
       "      <td>0</td>\n",
       "      <td>35125568.0</td>\n",
       "      <td>35.0</td>\n",
       "      <td>SP</td>\n",
       "      <td>1.0</td>\n",
       "    </tr>\n",
       "    <tr>\n",
       "      <th>5513746</th>\n",
       "      <td>180013962906</td>\n",
       "      <td>MG</td>\n",
       "      <td>1</td>\n",
       "      <td>3</td>\n",
       "      <td>1</td>\n",
       "      <td>NaN</td>\n",
       "      <td>0</td>\n",
       "      <td>NaN</td>\n",
       "      <td>NaN</td>\n",
       "      <td>NaN</td>\n",
       "      <td>NaN</td>\n",
       "    </tr>\n",
       "  </tbody>\n",
       "</table>\n",
       "<p>5513747 rows × 11 columns</p>\n",
       "</div>"
      ],
      "text/plain": [
       "         NU_INSCRICAO SG_UF_RESIDENCIA  TP_ST_CONCLUSAO  TP_ANO_CONCLUIU  \\\n",
       "0        180008202043               DF                2                0   \n",
       "1        180007197856               MA                1                5   \n",
       "2        180008517434               SP                1                3   \n",
       "3        180007661228               BA                1                8   \n",
       "4        180008787987               BA                2                0   \n",
       "...               ...              ...              ...              ...   \n",
       "5513742  180013945649               RJ                1                6   \n",
       "5513743  180013964149               AM                2                0   \n",
       "5513744  180013980226               SP                2                0   \n",
       "5513745  180013934137               SP                2                0   \n",
       "5513746  180013962906               MG                1                3   \n",
       "\n",
       "         TP_ESCOLA  TP_ENSINO  IN_TREINEIRO   CO_ESCOLA  CO_UF_ESC SG_UF_ESC  \\\n",
       "0                2        1.0             0  52033333.0       52.0        GO   \n",
       "1                1        1.0             0         NaN        NaN       NaN   \n",
       "2                1        3.0             0         NaN        NaN       NaN   \n",
       "3                1        1.0             0         NaN        NaN       NaN   \n",
       "4                2        1.0             0  29112699.0       29.0        BA   \n",
       "...            ...        ...           ...         ...        ...       ...   \n",
       "5513742          1        NaN             0         NaN        NaN       NaN   \n",
       "5513743          2        1.0             0  13027573.0       13.0        AM   \n",
       "5513744          1        1.0             0         NaN        NaN       NaN   \n",
       "5513745          4        1.0             0  35125568.0       35.0        SP   \n",
       "5513746          1        NaN             0         NaN        NaN       NaN   \n",
       "\n",
       "         TP_SIT_FUNC_ESC  \n",
       "0                    1.0  \n",
       "1                    NaN  \n",
       "2                    NaN  \n",
       "3                    NaN  \n",
       "4                    1.0  \n",
       "...                  ...  \n",
       "5513742              NaN  \n",
       "5513743              1.0  \n",
       "5513744              NaN  \n",
       "5513745              1.0  \n",
       "5513746              NaN  \n",
       "\n",
       "[5513747 rows x 11 columns]"
      ]
     },
     "execution_count": 101,
     "metadata": {},
     "output_type": "execute_result"
    }
   ],
   "source": [
    "amostra"
   ]
  },
  {
   "cell_type": "code",
   "execution_count": 102,
   "metadata": {},
   "outputs": [],
   "source": [
    "agrupado = amostra.groupby(['TP_ST_CONCLUSAO'])"
   ]
  },
  {
   "cell_type": "code",
   "execution_count": 103,
   "metadata": {},
   "outputs": [
    {
     "data": {
      "text/html": [
       "<div>\n",
       "<style scoped>\n",
       "    .dataframe tbody tr th:only-of-type {\n",
       "        vertical-align: middle;\n",
       "    }\n",
       "\n",
       "    .dataframe tbody tr th {\n",
       "        vertical-align: top;\n",
       "    }\n",
       "\n",
       "    .dataframe thead th {\n",
       "        text-align: right;\n",
       "    }\n",
       "</style>\n",
       "<table border=\"1\" class=\"dataframe\">\n",
       "  <thead>\n",
       "    <tr style=\"text-align: right;\">\n",
       "      <th></th>\n",
       "      <th>NU_INSCRICAO</th>\n",
       "      <th>SG_UF_RESIDENCIA</th>\n",
       "      <th>TP_ST_CONCLUSAO</th>\n",
       "      <th>TP_ANO_CONCLUIU</th>\n",
       "      <th>TP_ESCOLA</th>\n",
       "      <th>TP_ENSINO</th>\n",
       "      <th>IN_TREINEIRO</th>\n",
       "      <th>CO_ESCOLA</th>\n",
       "      <th>CO_UF_ESC</th>\n",
       "      <th>SG_UF_ESC</th>\n",
       "      <th>TP_SIT_FUNC_ESC</th>\n",
       "    </tr>\n",
       "  </thead>\n",
       "  <tbody>\n",
       "    <tr>\n",
       "      <th>94</th>\n",
       "      <td>180008895637</td>\n",
       "      <td>MG</td>\n",
       "      <td>2</td>\n",
       "      <td>0</td>\n",
       "      <td>2</td>\n",
       "      <td>1.0</td>\n",
       "      <td>0</td>\n",
       "      <td>31190802.0</td>\n",
       "      <td>31.0</td>\n",
       "      <td>MG</td>\n",
       "      <td>1.0</td>\n",
       "    </tr>\n",
       "    <tr>\n",
       "      <th>188</th>\n",
       "      <td>180008309642</td>\n",
       "      <td>MG</td>\n",
       "      <td>2</td>\n",
       "      <td>0</td>\n",
       "      <td>2</td>\n",
       "      <td>1.0</td>\n",
       "      <td>0</td>\n",
       "      <td>31002429.0</td>\n",
       "      <td>31.0</td>\n",
       "      <td>MG</td>\n",
       "      <td>1.0</td>\n",
       "    </tr>\n",
       "    <tr>\n",
       "      <th>527</th>\n",
       "      <td>180007290041</td>\n",
       "      <td>MG</td>\n",
       "      <td>2</td>\n",
       "      <td>0</td>\n",
       "      <td>2</td>\n",
       "      <td>1.0</td>\n",
       "      <td>0</td>\n",
       "      <td>31009873.0</td>\n",
       "      <td>31.0</td>\n",
       "      <td>MG</td>\n",
       "      <td>1.0</td>\n",
       "    </tr>\n",
       "    <tr>\n",
       "      <th>652</th>\n",
       "      <td>180008199527</td>\n",
       "      <td>MG</td>\n",
       "      <td>2</td>\n",
       "      <td>0</td>\n",
       "      <td>2</td>\n",
       "      <td>1.0</td>\n",
       "      <td>0</td>\n",
       "      <td>31167436.0</td>\n",
       "      <td>31.0</td>\n",
       "      <td>MG</td>\n",
       "      <td>1.0</td>\n",
       "    </tr>\n",
       "    <tr>\n",
       "      <th>669</th>\n",
       "      <td>180008205421</td>\n",
       "      <td>MG</td>\n",
       "      <td>2</td>\n",
       "      <td>0</td>\n",
       "      <td>2</td>\n",
       "      <td>3.0</td>\n",
       "      <td>0</td>\n",
       "      <td>31166731.0</td>\n",
       "      <td>31.0</td>\n",
       "      <td>MG</td>\n",
       "      <td>1.0</td>\n",
       "    </tr>\n",
       "    <tr>\n",
       "      <th>...</th>\n",
       "      <td>...</td>\n",
       "      <td>...</td>\n",
       "      <td>...</td>\n",
       "      <td>...</td>\n",
       "      <td>...</td>\n",
       "      <td>...</td>\n",
       "      <td>...</td>\n",
       "      <td>...</td>\n",
       "      <td>...</td>\n",
       "      <td>...</td>\n",
       "      <td>...</td>\n",
       "    </tr>\n",
       "    <tr>\n",
       "      <th>5513492</th>\n",
       "      <td>180013445996</td>\n",
       "      <td>MG</td>\n",
       "      <td>2</td>\n",
       "      <td>0</td>\n",
       "      <td>2</td>\n",
       "      <td>1.0</td>\n",
       "      <td>0</td>\n",
       "      <td>31193356.0</td>\n",
       "      <td>31.0</td>\n",
       "      <td>MG</td>\n",
       "      <td>1.0</td>\n",
       "    </tr>\n",
       "    <tr>\n",
       "      <th>5513546</th>\n",
       "      <td>180013951178</td>\n",
       "      <td>MG</td>\n",
       "      <td>2</td>\n",
       "      <td>0</td>\n",
       "      <td>2</td>\n",
       "      <td>1.0</td>\n",
       "      <td>0</td>\n",
       "      <td>31342530.0</td>\n",
       "      <td>31.0</td>\n",
       "      <td>MG</td>\n",
       "      <td>1.0</td>\n",
       "    </tr>\n",
       "    <tr>\n",
       "      <th>5513601</th>\n",
       "      <td>180013732869</td>\n",
       "      <td>MG</td>\n",
       "      <td>2</td>\n",
       "      <td>0</td>\n",
       "      <td>2</td>\n",
       "      <td>2.0</td>\n",
       "      <td>0</td>\n",
       "      <td>31056537.0</td>\n",
       "      <td>31.0</td>\n",
       "      <td>MG</td>\n",
       "      <td>1.0</td>\n",
       "    </tr>\n",
       "    <tr>\n",
       "      <th>5513702</th>\n",
       "      <td>180013988434</td>\n",
       "      <td>MG</td>\n",
       "      <td>2</td>\n",
       "      <td>0</td>\n",
       "      <td>2</td>\n",
       "      <td>1.0</td>\n",
       "      <td>0</td>\n",
       "      <td>31041688.0</td>\n",
       "      <td>31.0</td>\n",
       "      <td>MG</td>\n",
       "      <td>1.0</td>\n",
       "    </tr>\n",
       "    <tr>\n",
       "      <th>5513715</th>\n",
       "      <td>180013945033</td>\n",
       "      <td>MG</td>\n",
       "      <td>2</td>\n",
       "      <td>0</td>\n",
       "      <td>2</td>\n",
       "      <td>1.0</td>\n",
       "      <td>0</td>\n",
       "      <td>31024210.0</td>\n",
       "      <td>31.0</td>\n",
       "      <td>MG</td>\n",
       "      <td>1.0</td>\n",
       "    </tr>\n",
       "  </tbody>\n",
       "</table>\n",
       "<p>137963 rows × 11 columns</p>\n",
       "</div>"
      ],
      "text/plain": [
       "         NU_INSCRICAO SG_UF_RESIDENCIA  TP_ST_CONCLUSAO  TP_ANO_CONCLUIU  \\\n",
       "94       180008895637               MG                2                0   \n",
       "188      180008309642               MG                2                0   \n",
       "527      180007290041               MG                2                0   \n",
       "652      180008199527               MG                2                0   \n",
       "669      180008205421               MG                2                0   \n",
       "...               ...              ...              ...              ...   \n",
       "5513492  180013445996               MG                2                0   \n",
       "5513546  180013951178               MG                2                0   \n",
       "5513601  180013732869               MG                2                0   \n",
       "5513702  180013988434               MG                2                0   \n",
       "5513715  180013945033               MG                2                0   \n",
       "\n",
       "         TP_ESCOLA  TP_ENSINO  IN_TREINEIRO   CO_ESCOLA  CO_UF_ESC SG_UF_ESC  \\\n",
       "94               2        1.0             0  31190802.0       31.0        MG   \n",
       "188              2        1.0             0  31002429.0       31.0        MG   \n",
       "527              2        1.0             0  31009873.0       31.0        MG   \n",
       "652              2        1.0             0  31167436.0       31.0        MG   \n",
       "669              2        3.0             0  31166731.0       31.0        MG   \n",
       "...            ...        ...           ...         ...        ...       ...   \n",
       "5513492          2        1.0             0  31193356.0       31.0        MG   \n",
       "5513546          2        1.0             0  31342530.0       31.0        MG   \n",
       "5513601          2        2.0             0  31056537.0       31.0        MG   \n",
       "5513702          2        1.0             0  31041688.0       31.0        MG   \n",
       "5513715          2        1.0             0  31024210.0       31.0        MG   \n",
       "\n",
       "         TP_SIT_FUNC_ESC  \n",
       "94                   1.0  \n",
       "188                  1.0  \n",
       "527                  1.0  \n",
       "652                  1.0  \n",
       "669                  1.0  \n",
       "...                  ...  \n",
       "5513492              1.0  \n",
       "5513546              1.0  \n",
       "5513601              1.0  \n",
       "5513702              1.0  \n",
       "5513715              1.0  \n",
       "\n",
       "[137963 rows x 11 columns]"
      ]
     },
     "execution_count": 103,
     "metadata": {},
     "output_type": "execute_result"
    }
   ],
   "source": [
    "amostra.query(\"SG_UF_ESC == 'MG'\")"
   ]
  },
  {
   "cell_type": "code",
   "execution_count": 104,
   "metadata": {},
   "outputs": [
    {
     "data": {
      "text/plain": [
       "2    137963\n",
       "Name: TP_ST_CONCLUSAO, dtype: int64"
      ]
     },
     "execution_count": 104,
     "metadata": {},
     "output_type": "execute_result"
    }
   ],
   "source": [
    "amostra.query(\"SG_UF_ESC == 'MG'\").TP_ST_CONCLUSAO.value_counts()"
   ]
  },
  {
   "cell_type": "code",
   "execution_count": 105,
   "metadata": {},
   "outputs": [
    {
     "data": {
      "text/plain": [
       "2    102500\n",
       "Name: TP_ST_CONCLUSAO, dtype: int64"
      ]
     },
     "execution_count": 105,
     "metadata": {},
     "output_type": "execute_result"
    }
   ],
   "source": [
    "amostra.query(\"SG_UF_ESC == 'RJ'\").TP_ST_CONCLUSAO.value_counts()"
   ]
  },
  {
   "cell_type": "code",
   "execution_count": 106,
   "metadata": {},
   "outputs": [
    {
     "data": {
      "text/plain": [
       "2    298241\n",
       "Name: TP_ST_CONCLUSAO, dtype: int64"
      ]
     },
     "execution_count": 106,
     "metadata": {},
     "output_type": "execute_result"
    }
   ],
   "source": [
    "amostra.query(\"SG_UF_ESC == 'SP'\").TP_ST_CONCLUSAO.value_counts()"
   ]
  },
  {
   "cell_type": "code",
   "execution_count": 107,
   "metadata": {},
   "outputs": [
    {
     "data": {
      "text/plain": [
       "2    49890\n",
       "Name: TP_ST_CONCLUSAO, dtype: int64"
      ]
     },
     "execution_count": 107,
     "metadata": {},
     "output_type": "execute_result"
    }
   ],
   "source": [
    "amostra.query(\"SG_UF_ESC == 'MA'\").TP_ST_CONCLUSAO.value_counts()"
   ]
  },
  {
   "cell_type": "code",
   "execution_count": 108,
   "metadata": {},
   "outputs": [
    {
     "data": {
      "text/plain": [
       "SP    298241\n",
       "MG    137963\n",
       "CE    119983\n",
       "RJ    102500\n",
       "BA     82825\n",
       "PE     82371\n",
       "PR     68729\n",
       "PA     59883\n",
       "GO     56194\n",
       "MA     49890\n",
       "RS     47806\n",
       "SC     45113\n",
       "AM     34847\n",
       "ES     31814\n",
       "PI     29120\n",
       "PB     28402\n",
       "DF     26661\n",
       "MT     23479\n",
       "RN     22728\n",
       "AL     21073\n",
       "MS     18186\n",
       "SE     16562\n",
       "RO     13972\n",
       "TO     12811\n",
       "AP      7474\n",
       "AC      6643\n",
       "RR      3551\n",
       "Name: SG_UF_ESC, dtype: int64"
      ]
     },
     "execution_count": 108,
     "metadata": {},
     "output_type": "execute_result"
    }
   ],
   "source": [
    "amostra.SG_UF_ESC.value_counts()"
   ]
  },
  {
   "cell_type": "code",
   "execution_count": null,
   "metadata": {},
   "outputs": [],
   "source": []
  },
  {
   "cell_type": "code",
   "execution_count": 109,
   "metadata": {},
   "outputs": [],
   "source": [
    "agrupado = amostra.groupby(['TP_ST_CONCLUSAO'])"
   ]
  },
  {
   "cell_type": "code",
   "execution_count": 110,
   "metadata": {},
   "outputs": [
    {
     "data": {
      "text/plain": [
       "TP_ST_CONCLUSAO  SG_UF_RESIDENCIA\n",
       "1                SP                  498228\n",
       "                 MG                  349479\n",
       "                 BA                  257594\n",
       "                 RJ                  223067\n",
       "                 PA                  185171\n",
       "                                      ...  \n",
       "4                AL                     665\n",
       "                 TO                     570\n",
       "                 AP                     486\n",
       "                 AC                     349\n",
       "                 RR                     133\n",
       "Name: SG_UF_RESIDENCIA, Length: 108, dtype: int64"
      ]
     },
     "execution_count": 110,
     "metadata": {},
     "output_type": "execute_result"
    }
   ],
   "source": [
    "agrupado['SG_UF_RESIDENCIA'].value_counts()"
   ]
  },
  {
   "cell_type": "code",
   "execution_count": 111,
   "metadata": {},
   "outputs": [
    {
     "data": {
      "text/plain": [
       "TP_ST_CONCLUSAO  SG_UF_ESC\n",
       "2                SP           298241\n",
       "                 MG           137963\n",
       "                 CE           119983\n",
       "                 RJ           102500\n",
       "                 BA            82825\n",
       "                 PE            82371\n",
       "                 PR            68729\n",
       "                 PA            59883\n",
       "                 GO            56194\n",
       "                 MA            49890\n",
       "                 RS            47806\n",
       "                 SC            45113\n",
       "                 AM            34847\n",
       "                 ES            31814\n",
       "                 PI            29120\n",
       "                 PB            28402\n",
       "                 DF            26661\n",
       "                 MT            23479\n",
       "                 RN            22728\n",
       "                 AL            21073\n",
       "                 MS            18186\n",
       "                 SE            16562\n",
       "                 RO            13972\n",
       "                 TO            12811\n",
       "                 AP             7474\n",
       "                 AC             6643\n",
       "                 RR             3551\n",
       "Name: SG_UF_ESC, dtype: int64"
      ]
     },
     "execution_count": 111,
     "metadata": {},
     "output_type": "execute_result"
    }
   ],
   "source": [
    "agrupado['SG_UF_ESC'].value_counts()"
   ]
  },
  {
   "cell_type": "code",
   "execution_count": 112,
   "metadata": {},
   "outputs": [
    {
     "data": {
      "text/plain": [
       "4064926"
      ]
     },
     "execution_count": 112,
     "metadata": {},
     "output_type": "execute_result"
    }
   ],
   "source": [
    "amostra.CO_UF_ESC.isna().sum()"
   ]
  },
  {
   "cell_type": "code",
   "execution_count": 113,
   "metadata": {},
   "outputs": [
    {
     "data": {
      "text/plain": [
       "1    3233968\n",
       "2    1640099\n",
       "3     586939\n",
       "4      52741\n",
       "Name: TP_ST_CONCLUSAO, dtype: int64"
      ]
     },
     "execution_count": 113,
     "metadata": {},
     "output_type": "execute_result"
    }
   ],
   "source": [
    "amostra.TP_ST_CONCLUSAO.value_counts()"
   ]
  },
  {
   "cell_type": "code",
   "execution_count": 114,
   "metadata": {},
   "outputs": [
    {
     "data": {
      "text/plain": [
       "NU_INSCRICAO        3873648\n",
       "SG_UF_RESIDENCIA    3873648\n",
       "TP_ST_CONCLUSAO     3873648\n",
       "TP_ANO_CONCLUIU     3873648\n",
       "TP_ESCOLA           3873648\n",
       "TP_ENSINO           1843160\n",
       "IN_TREINEIRO        3873648\n",
       "CO_ESCOLA                 0\n",
       "CO_UF_ESC                 0\n",
       "SG_UF_ESC                 0\n",
       "TP_SIT_FUNC_ESC           0\n",
       "dtype: int64"
      ]
     },
     "execution_count": 114,
     "metadata": {},
     "output_type": "execute_result"
    }
   ],
   "source": [
    "amostra.query(\"TP_ST_CONCLUSAO != 2\").count()"
   ]
  },
  {
   "cell_type": "code",
   "execution_count": 115,
   "metadata": {},
   "outputs": [
    {
     "data": {
      "text/plain": [
       "NU_INSCRICAO        4986038\n",
       "SG_UF_RESIDENCIA    4986038\n",
       "TP_ST_CONCLUSAO     4986038\n",
       "TP_ANO_CONCLUIU     4986038\n",
       "TP_ESCOLA           4986038\n",
       "TP_ENSINO           3483081\n",
       "IN_TREINEIRO        4986038\n",
       "CO_ESCOLA           1448821\n",
       "CO_UF_ESC           1448821\n",
       "SG_UF_ESC           1448821\n",
       "TP_SIT_FUNC_ESC     1448821\n",
       "dtype: int64"
      ]
     },
     "execution_count": 115,
     "metadata": {},
     "output_type": "execute_result"
    }
   ],
   "source": [
    "amostra.query(\"IN_TREINEIRO == 0\").count()"
   ]
  },
  {
   "cell_type": "code",
   "execution_count": 116,
   "metadata": {},
   "outputs": [
    {
     "data": {
      "text/plain": [
       "NU_INSCRICAO        527709\n",
       "SG_UF_RESIDENCIA    527709\n",
       "TP_ST_CONCLUSAO     527709\n",
       "TP_ANO_CONCLUIU     527709\n",
       "TP_ESCOLA           527709\n",
       "TP_ENSINO                0\n",
       "IN_TREINEIRO        527709\n",
       "CO_ESCOLA                0\n",
       "CO_UF_ESC                0\n",
       "SG_UF_ESC                0\n",
       "TP_SIT_FUNC_ESC          0\n",
       "dtype: int64"
      ]
     },
     "execution_count": 116,
     "metadata": {},
     "output_type": "execute_result"
    }
   ],
   "source": [
    "amostra.query(\"IN_TREINEIRO == 1\").count()"
   ]
  },
  {
   "cell_type": "code",
   "execution_count": 117,
   "metadata": {},
   "outputs": [
    {
     "data": {
      "text/plain": [
       "3    527709\n",
       "Name: TP_ST_CONCLUSAO, dtype: int64"
      ]
     },
     "execution_count": 117,
     "metadata": {},
     "output_type": "execute_result"
    }
   ],
   "source": [
    "amostra.query(\"IN_TREINEIRO == 1\").TP_ST_CONCLUSAO.value_counts()     "
   ]
  },
  {
   "cell_type": "code",
   "execution_count": 120,
   "metadata": {},
   "outputs": [
    {
     "data": {
      "text/plain": [
       "NU_INSCRICAO        1640099\n",
       "SG_UF_RESIDENCIA    1640099\n",
       "TP_ST_CONCLUSAO     1640099\n",
       "TP_ANO_CONCLUIU     1640099\n",
       "TP_ESCOLA           1640099\n",
       "TP_ENSINO           1639921\n",
       "IN_TREINEIRO        1640099\n",
       "CO_ESCOLA           1448821\n",
       "CO_UF_ESC           1448821\n",
       "SG_UF_ESC           1448821\n",
       "TP_SIT_FUNC_ESC     1448821\n",
       "dtype: int64"
      ]
     },
     "execution_count": 120,
     "metadata": {},
     "output_type": "execute_result"
    }
   ],
   "source": [
    "amostra.query(\"TP_ST_CONCLUSAO == 2\").count()"
   ]
  },
  {
   "cell_type": "code",
   "execution_count": 119,
   "metadata": {},
   "outputs": [
    {
     "data": {
      "text/plain": [
       "NU_INSCRICAO        5513747\n",
       "SG_UF_RESIDENCIA    5513747\n",
       "TP_ST_CONCLUSAO     5513747\n",
       "TP_ANO_CONCLUIU     5513747\n",
       "TP_ESCOLA           5513747\n",
       "TP_ENSINO           3483081\n",
       "IN_TREINEIRO        5513747\n",
       "CO_ESCOLA           1448821\n",
       "CO_UF_ESC           1448821\n",
       "SG_UF_ESC           1448821\n",
       "TP_SIT_FUNC_ESC     1448821\n",
       "dtype: int64"
      ]
     },
     "execution_count": 119,
     "metadata": {},
     "output_type": "execute_result"
    }
   ],
   "source": [
    "amostra.count()"
   ]
  },
  {
   "cell_type": "code",
   "execution_count": 122,
   "metadata": {},
   "outputs": [
    {
     "data": {
      "text/plain": [
       "26.276523025086206"
      ]
     },
     "execution_count": 122,
     "metadata": {},
     "output_type": "execute_result"
    }
   ],
   "source": [
    "1448821/5513747 * 100"
   ]
  },
  {
   "cell_type": "code",
   "execution_count": 123,
   "metadata": {},
   "outputs": [
    {
     "data": {
      "text/plain": [
       "29.745633958177624"
      ]
     },
     "execution_count": 123,
     "metadata": {},
     "output_type": "execute_result"
    }
   ],
   "source": [
    "1640099/5513747 * 100"
   ]
  },
  {
   "cell_type": "code",
   "execution_count": 124,
   "metadata": {},
   "outputs": [
    {
     "data": {
      "text/plain": [
       "1    4110764\n",
       "2    1137491\n",
       "4     251615\n",
       "3      13877\n",
       "Name: TP_ESCOLA, dtype: int64"
      ]
     },
     "execution_count": 124,
     "metadata": {},
     "output_type": "execute_result"
    }
   ],
   "source": [
    "amostra.TP_ESCOLA.value_counts()"
   ]
  },
  {
   "cell_type": "code",
   "execution_count": null,
   "metadata": {},
   "outputs": [],
   "source": []
  }
 ],
 "metadata": {
  "colab": {
   "authorship_tag": "ABX9TyN9+VQY7bZSHwLH/6KGEgBW",
   "name": "AEDEnemLimpo.ipynb",
   "provenance": []
  },
  "hide_input": false,
  "kernelspec": {
   "display_name": "Python 3",
   "language": "python",
   "name": "python3"
  },
  "language_info": {
   "codemirror_mode": {
    "name": "ipython",
    "version": 3
   },
   "file_extension": ".py",
   "mimetype": "text/x-python",
   "name": "python",
   "nbconvert_exporter": "python",
   "pygments_lexer": "ipython3",
   "version": "3.7.6"
  }
 },
 "nbformat": 4,
 "nbformat_minor": 1
}
