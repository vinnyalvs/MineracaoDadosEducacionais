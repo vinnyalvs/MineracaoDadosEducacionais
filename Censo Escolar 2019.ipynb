{
 "cells": [
  {
   "cell_type": "code",
   "execution_count": 1,
   "metadata": {},
   "outputs": [],
   "source": [
    "import pandas as pd\n",
    "import numpy as np\n",
    "import seaborn as sns\n",
    "import matplotlib.pyplot as plt"
   ]
  },
  {
   "cell_type": "markdown",
   "metadata": {},
   "source": [
    "# Dados Censo Escolar  \n",
    "## Turmas de Minas Gerais"
   ]
  },
  {
   "cell_type": "code",
   "execution_count": 2,
   "metadata": {},
   "outputs": [],
   "source": [
    "path = \"C:\\\\Users\\\\vinic\\\\Documents\\\\GitHub\\\\Dados_Enem\\\\microdados_educacao_basica_2019\\\\DADOS\\\\TURMAS.csv\"\n",
    "\n"
   ]
  },
  {
   "cell_type": "code",
   "execution_count": 3,
   "metadata": {},
   "outputs": [
    {
     "ename": "ParserError",
     "evalue": "Error tokenizing data. C error: Calling read(nbytes) on source failed. Try engine='python'.",
     "output_type": "error",
     "traceback": [
      "\u001b[1;31m---------------------------------------------------------------------------\u001b[0m",
      "\u001b[1;31mParserError\u001b[0m                               Traceback (most recent call last)",
      "\u001b[1;32m<ipython-input-3-f073a4fe5592>\u001b[0m in \u001b[0;36m<module>\u001b[1;34m\u001b[0m\n\u001b[1;32m----> 1\u001b[1;33m \u001b[0mdadosCenso\u001b[0m \u001b[1;33m=\u001b[0m \u001b[0mpd\u001b[0m\u001b[1;33m.\u001b[0m\u001b[0mread_csv\u001b[0m\u001b[1;33m(\u001b[0m\u001b[0mpath\u001b[0m\u001b[1;33m,\u001b[0m\u001b[0msep\u001b[0m\u001b[1;33m=\u001b[0m\u001b[1;34m'|'\u001b[0m\u001b[1;33m,\u001b[0m\u001b[0mencoding\u001b[0m\u001b[1;33m=\u001b[0m\u001b[1;34m'latin1'\u001b[0m\u001b[1;33m,\u001b[0m\u001b[0mlow_memory\u001b[0m\u001b[1;33m=\u001b[0m\u001b[1;32mFalse\u001b[0m\u001b[1;33m)\u001b[0m\u001b[1;33m\u001b[0m\u001b[1;33m\u001b[0m\u001b[0m\n\u001b[0m\u001b[0;32m      2\u001b[0m \u001b[0mdadosCenso\u001b[0m \u001b[1;33m=\u001b[0m \u001b[0mdadosCenso\u001b[0m\u001b[1;33m.\u001b[0m\u001b[0mquery\u001b[0m\u001b[1;33m(\u001b[0m\u001b[1;34m'CO_UF == 31'\u001b[0m\u001b[1;33m)\u001b[0m\u001b[1;33m\u001b[0m\u001b[1;33m\u001b[0m\u001b[0m\n\u001b[0;32m      3\u001b[0m \u001b[0mdadosCenso\u001b[0m\u001b[1;33m.\u001b[0m\u001b[0mto_csv\u001b[0m\u001b[1;33m(\u001b[0m\u001b[1;34m\"CensoTurmaMG2019.csv\"\u001b[0m\u001b[1;33m,\u001b[0m \u001b[0mencoding\u001b[0m\u001b[1;33m=\u001b[0m\u001b[1;34m'latin1'\u001b[0m\u001b[1;33m,\u001b[0m \u001b[0mindex\u001b[0m\u001b[1;33m=\u001b[0m\u001b[1;32mFalse\u001b[0m\u001b[1;33m,\u001b[0m\u001b[0msep\u001b[0m\u001b[1;33m=\u001b[0m\u001b[1;34m';'\u001b[0m\u001b[1;33m)\u001b[0m\u001b[1;33m\u001b[0m\u001b[1;33m\u001b[0m\u001b[0m\n",
      "\u001b[1;32m~\\anaconda3\\lib\\site-packages\\pandas\\io\\parsers.py\u001b[0m in \u001b[0;36mparser_f\u001b[1;34m(filepath_or_buffer, sep, delimiter, header, names, index_col, usecols, squeeze, prefix, mangle_dupe_cols, dtype, engine, converters, true_values, false_values, skipinitialspace, skiprows, skipfooter, nrows, na_values, keep_default_na, na_filter, verbose, skip_blank_lines, parse_dates, infer_datetime_format, keep_date_col, date_parser, dayfirst, cache_dates, iterator, chunksize, compression, thousands, decimal, lineterminator, quotechar, quoting, doublequote, escapechar, comment, encoding, dialect, error_bad_lines, warn_bad_lines, delim_whitespace, low_memory, memory_map, float_precision)\u001b[0m\n\u001b[0;32m    674\u001b[0m         )\n\u001b[0;32m    675\u001b[0m \u001b[1;33m\u001b[0m\u001b[0m\n\u001b[1;32m--> 676\u001b[1;33m         \u001b[1;32mreturn\u001b[0m \u001b[0m_read\u001b[0m\u001b[1;33m(\u001b[0m\u001b[0mfilepath_or_buffer\u001b[0m\u001b[1;33m,\u001b[0m \u001b[0mkwds\u001b[0m\u001b[1;33m)\u001b[0m\u001b[1;33m\u001b[0m\u001b[1;33m\u001b[0m\u001b[0m\n\u001b[0m\u001b[0;32m    677\u001b[0m \u001b[1;33m\u001b[0m\u001b[0m\n\u001b[0;32m    678\u001b[0m     \u001b[0mparser_f\u001b[0m\u001b[1;33m.\u001b[0m\u001b[0m__name__\u001b[0m \u001b[1;33m=\u001b[0m \u001b[0mname\u001b[0m\u001b[1;33m\u001b[0m\u001b[1;33m\u001b[0m\u001b[0m\n",
      "\u001b[1;32m~\\anaconda3\\lib\\site-packages\\pandas\\io\\parsers.py\u001b[0m in \u001b[0;36m_read\u001b[1;34m(filepath_or_buffer, kwds)\u001b[0m\n\u001b[0;32m    452\u001b[0m \u001b[1;33m\u001b[0m\u001b[0m\n\u001b[0;32m    453\u001b[0m     \u001b[1;32mtry\u001b[0m\u001b[1;33m:\u001b[0m\u001b[1;33m\u001b[0m\u001b[1;33m\u001b[0m\u001b[0m\n\u001b[1;32m--> 454\u001b[1;33m         \u001b[0mdata\u001b[0m \u001b[1;33m=\u001b[0m \u001b[0mparser\u001b[0m\u001b[1;33m.\u001b[0m\u001b[0mread\u001b[0m\u001b[1;33m(\u001b[0m\u001b[0mnrows\u001b[0m\u001b[1;33m)\u001b[0m\u001b[1;33m\u001b[0m\u001b[1;33m\u001b[0m\u001b[0m\n\u001b[0m\u001b[0;32m    455\u001b[0m     \u001b[1;32mfinally\u001b[0m\u001b[1;33m:\u001b[0m\u001b[1;33m\u001b[0m\u001b[1;33m\u001b[0m\u001b[0m\n\u001b[0;32m    456\u001b[0m         \u001b[0mparser\u001b[0m\u001b[1;33m.\u001b[0m\u001b[0mclose\u001b[0m\u001b[1;33m(\u001b[0m\u001b[1;33m)\u001b[0m\u001b[1;33m\u001b[0m\u001b[1;33m\u001b[0m\u001b[0m\n",
      "\u001b[1;32m~\\anaconda3\\lib\\site-packages\\pandas\\io\\parsers.py\u001b[0m in \u001b[0;36mread\u001b[1;34m(self, nrows)\u001b[0m\n\u001b[0;32m   1131\u001b[0m     \u001b[1;32mdef\u001b[0m \u001b[0mread\u001b[0m\u001b[1;33m(\u001b[0m\u001b[0mself\u001b[0m\u001b[1;33m,\u001b[0m \u001b[0mnrows\u001b[0m\u001b[1;33m=\u001b[0m\u001b[1;32mNone\u001b[0m\u001b[1;33m)\u001b[0m\u001b[1;33m:\u001b[0m\u001b[1;33m\u001b[0m\u001b[1;33m\u001b[0m\u001b[0m\n\u001b[0;32m   1132\u001b[0m         \u001b[0mnrows\u001b[0m \u001b[1;33m=\u001b[0m \u001b[0m_validate_integer\u001b[0m\u001b[1;33m(\u001b[0m\u001b[1;34m\"nrows\"\u001b[0m\u001b[1;33m,\u001b[0m \u001b[0mnrows\u001b[0m\u001b[1;33m)\u001b[0m\u001b[1;33m\u001b[0m\u001b[1;33m\u001b[0m\u001b[0m\n\u001b[1;32m-> 1133\u001b[1;33m         \u001b[0mret\u001b[0m \u001b[1;33m=\u001b[0m \u001b[0mself\u001b[0m\u001b[1;33m.\u001b[0m\u001b[0m_engine\u001b[0m\u001b[1;33m.\u001b[0m\u001b[0mread\u001b[0m\u001b[1;33m(\u001b[0m\u001b[0mnrows\u001b[0m\u001b[1;33m)\u001b[0m\u001b[1;33m\u001b[0m\u001b[1;33m\u001b[0m\u001b[0m\n\u001b[0m\u001b[0;32m   1134\u001b[0m \u001b[1;33m\u001b[0m\u001b[0m\n\u001b[0;32m   1135\u001b[0m         \u001b[1;31m# May alter columns / col_dict\u001b[0m\u001b[1;33m\u001b[0m\u001b[1;33m\u001b[0m\u001b[1;33m\u001b[0m\u001b[0m\n",
      "\u001b[1;32m~\\anaconda3\\lib\\site-packages\\pandas\\io\\parsers.py\u001b[0m in \u001b[0;36mread\u001b[1;34m(self, nrows)\u001b[0m\n\u001b[0;32m   2035\u001b[0m     \u001b[1;32mdef\u001b[0m \u001b[0mread\u001b[0m\u001b[1;33m(\u001b[0m\u001b[0mself\u001b[0m\u001b[1;33m,\u001b[0m \u001b[0mnrows\u001b[0m\u001b[1;33m=\u001b[0m\u001b[1;32mNone\u001b[0m\u001b[1;33m)\u001b[0m\u001b[1;33m:\u001b[0m\u001b[1;33m\u001b[0m\u001b[1;33m\u001b[0m\u001b[0m\n\u001b[0;32m   2036\u001b[0m         \u001b[1;32mtry\u001b[0m\u001b[1;33m:\u001b[0m\u001b[1;33m\u001b[0m\u001b[1;33m\u001b[0m\u001b[0m\n\u001b[1;32m-> 2037\u001b[1;33m             \u001b[0mdata\u001b[0m \u001b[1;33m=\u001b[0m \u001b[0mself\u001b[0m\u001b[1;33m.\u001b[0m\u001b[0m_reader\u001b[0m\u001b[1;33m.\u001b[0m\u001b[0mread\u001b[0m\u001b[1;33m(\u001b[0m\u001b[0mnrows\u001b[0m\u001b[1;33m)\u001b[0m\u001b[1;33m\u001b[0m\u001b[1;33m\u001b[0m\u001b[0m\n\u001b[0m\u001b[0;32m   2038\u001b[0m         \u001b[1;32mexcept\u001b[0m \u001b[0mStopIteration\u001b[0m\u001b[1;33m:\u001b[0m\u001b[1;33m\u001b[0m\u001b[1;33m\u001b[0m\u001b[0m\n\u001b[0;32m   2039\u001b[0m             \u001b[1;32mif\u001b[0m \u001b[0mself\u001b[0m\u001b[1;33m.\u001b[0m\u001b[0m_first_chunk\u001b[0m\u001b[1;33m:\u001b[0m\u001b[1;33m\u001b[0m\u001b[1;33m\u001b[0m\u001b[0m\n",
      "\u001b[1;32mpandas\\_libs\\parsers.pyx\u001b[0m in \u001b[0;36mpandas._libs.parsers.TextReader.read\u001b[1;34m()\u001b[0m\n",
      "\u001b[1;32mpandas\\_libs\\parsers.pyx\u001b[0m in \u001b[0;36mpandas._libs.parsers.TextReader._read_rows\u001b[1;34m()\u001b[0m\n",
      "\u001b[1;32mpandas\\_libs\\parsers.pyx\u001b[0m in \u001b[0;36mpandas._libs.parsers.raise_parser_error\u001b[1;34m()\u001b[0m\n",
      "\u001b[1;31mParserError\u001b[0m: Error tokenizing data. C error: Calling read(nbytes) on source failed. Try engine='python'."
     ]
    }
   ],
   "source": [
    "dadosCenso = pd.read_csv(path,sep='|',encoding='latin1',low_memory=False)\n",
    "dadosCenso = dadosCenso.query('CO_UF == 31')\n",
    "dadosCenso.to_csv(\"CensoTurmaMG2019.csv\", encoding='latin1', index=False,sep=';')"
   ]
  },
  {
   "cell_type": "markdown",
   "metadata": {},
   "source": [
    "- Olhar relação de alunos matriculados no Ensino Médio com relação de inscritos no ENEM\n",
    "- Alunos tem acesso a  Internet pelo celular?\n",
    "- Organizar ideias no formato de artigo\n",
    "- Fazer revisão bibliográfica (em progresso, olhar planilha no drive )\n",
    "- Base do censo escolar: checar formação dos professores e se tem algo relacionado a EAD (não possui)\n",
    "- Fazer uma análise sobre diferentes regiões de minas "
   ]
  },
  {
   "cell_type": "code",
   "execution_count": null,
   "metadata": {},
   "outputs": [],
   "source": [
    "path = 'CensoTurmaMG2019.csv'"
   ]
  },
  {
   "cell_type": "code",
   "execution_count": null,
   "metadata": {},
   "outputs": [],
   "source": [
    "dadosCenso = pd.read_csv(path,sep=';',encoding='latin1',low_memory=False)"
   ]
  },
  {
   "cell_type": "code",
   "execution_count": null,
   "metadata": {},
   "outputs": [],
   "source": [
    "var = \"TP_MEDIACAO_DIDATICO_PEDAGO\"\n",
    "contagem_de_questionario = dadosCenso[var].value_counts().to_frame().reset_index()\n",
    "contagem_de_questionario.columns = [\"Tipo de Ensino\", \"total\"]\n",
    "\n",
    "\n",
    "plt.title('Tipo de mediação didático-pedagógica?')\n",
    "\n",
    "sns.barplot(x=\"Tipo de Ensino\", y = \"total\", data = contagem_de_questionario)\n",
    "\n",
    "\n",
    "print(\" 1 - Presencial \\n 2 - Semipresencial \\n 3 - Educação a Distância - EAD\")\n",
    "\n",
    "array = pd.DataFrame(dadosCenso[var].value_counts())\n",
    "array2 = pd.DataFrame(dadosCenso[var].value_counts(normalize=True) * 100)\n",
    "array['Porcentagem (%)'] = array2\n",
    "array\n"
   ]
  },
  {
   "cell_type": "code",
   "execution_count": null,
   "metadata": {},
   "outputs": [],
   "source": [
    "tipo_ead = dadosCenso.query('TP_MEDIACAO_DIDATICO_PEDAGO == 3')"
   ]
  },
  {
   "cell_type": "markdown",
   "metadata": {},
   "source": [
    "# Dados Referentes a turmas que são EAD"
   ]
  },
  {
   "cell_type": "code",
   "execution_count": null,
   "metadata": {},
   "outputs": [],
   "source": [
    "var = \"TP_ETAPA_ENSINO\"\n",
    "contagem_de_questionario = tipo_ead[var].value_counts().to_frame().reset_index()\n",
    "contagem_de_questionario.columns = [\"Etapa de Ensino\", \"total\"]\n",
    "\n",
    "\n",
    "plt.title('Etapa de Ensino?')\n",
    "\n",
    "sns.barplot(x=\"Etapa de Ensino\", y = \"total\", data = contagem_de_questionario)\n",
    "\n",
    "print(\" 39 - Curso Técnico - Concomitante \\n 40 - Curso Técnico - Subsequente \\n 64 - Curso Técnico Misto (Concomitante e Subsequente) \\n 68 - Curso FIC Concomitante \\n 65 - EJA - Ensino Fundamental - Projovem Urbano \\n 67 - Curso FIC integrado na modalidade EJA  - Nível Médio \\n 69 - EJA - Ensino Fundamental - Anos Iniciais \\n 70 - EJA - Ensino Fundamental - Anos Finais \\n 71 - EJA - Ensino Médio \")\n",
    "\n",
    "\n",
    "array = pd.DataFrame(tipo_ead[var].value_counts())\n",
    "array2 = pd.DataFrame(tipo_ead[var].value_counts(normalize=True) * 100)\n",
    "array['Porcentagem (%)'] = array2\n",
    "array"
   ]
  },
  {
   "cell_type": "code",
   "execution_count": null,
   "metadata": {},
   "outputs": [],
   "source": [
    "var = \"TP_DEPENDENCIA\"\n",
    "contagem_de_questionario = tipo_ead[var].value_counts().to_frame().reset_index()\n",
    "contagem_de_questionario.columns = [\"Depêndencia Administrativa\", \"total\"]\n",
    "\n",
    "\n",
    "plt.title('Depêndencia Administrativa')\n",
    "\n",
    "sns.barplot(x=\"Depêndencia Administrativa\", y = \"total\", data = contagem_de_questionario)\n",
    "\n",
    "print(\" 1 - Federal \\n 2 - Estadual \\n 3 - Municipal \\n 4 - Privada\")\n",
    "\n",
    "array = pd.DataFrame(tipo_ead[var].value_counts())\n",
    "array2 = pd.DataFrame(tipo_ead[var].value_counts(normalize=True) * 100)\n",
    "array['Porcentagem (%)'] = array2\n",
    "array"
   ]
  },
  {
   "cell_type": "code",
   "execution_count": null,
   "metadata": {},
   "outputs": [],
   "source": [
    "var = \"TP_LOCALIZACAO\"\n",
    "contagem_de_questionario = tipo_ead[var].value_counts().to_frame().reset_index()\n",
    "contagem_de_questionario.columns = [\"Localização (Escola)\", \"total\"]\n",
    "\n",
    "\n",
    "plt.title('Localização (Escola)')\n",
    "\n",
    "sns.barplot(x=\"Localização (Escola)\", y = \"total\", data = contagem_de_questionario)\n",
    "\n",
    "print(\" 1 - Urbana \\n 2 - Rural\")\n",
    "\n",
    "array = pd.DataFrame(tipo_ead[var].value_counts())\n",
    "array2 = pd.DataFrame(tipo_ead[var].value_counts(normalize=True) * 100)\n",
    "array['Porcentagem (%)'] = array2\n",
    "array"
   ]
  },
  {
   "cell_type": "markdown",
   "metadata": {},
   "source": [
    "# Alunos Matriculados Ensino Médio"
   ]
  },
  {
   "cell_type": "code",
   "execution_count": null,
   "metadata": {},
   "outputs": [],
   "source": [
    "etapa_EM = dadosCenso.query('(TP_ETAPA_ENSINO >= 25 and TP_ETAPA_ENSINO <= 38) or TP_ETAPA_ENSINO == 71')"
   ]
  },
  {
   "cell_type": "code",
   "execution_count": null,
   "metadata": {},
   "outputs": [],
   "source": [
    "var = \"TP_ETAPA_ENSINO\"\n",
    "contagem_de_questionario = etapa_EM[var].value_counts().to_frame().reset_index()\n",
    "contagem_de_questionario.columns = [\"Etapa de Ensino\", \"total\"]\n",
    "\n",
    "\n",
    "plt.title('Quantidade de TURMAS por Etapa de Ensino')\n",
    "\n",
    "sns.barplot(x=\"Etapa de Ensino\", y = \"total\", data = contagem_de_questionario)\n",
    "\n",
    "print(\" 39 - Curso Técnico - Concomitante \\n 40 - Curso Técnico - Subsequente \\n 64 - Curso Técnico Misto (Concomitante e Subsequente) \\n 68 - Curso FIC Concomitante \\n 65 - EJA - Ensino Fundamental - Projovem Urbano \\n 67 - Curso FIC integrado na modalidade EJA  - Nível Médio \\n 69 - EJA - Ensino Fundamental - Anos Iniciais \\n 70 - EJA - Ensino Fundamental - Anos Finais \\n 71 - EJA - Ensino Médio \")\n",
    "\n",
    "\n",
    "array = pd.DataFrame(etapa_EM[var].value_counts())\n",
    "array2 = pd.DataFrame(etapa_EM[var].value_counts(normalize=True) * 100)\n",
    "array['Porcentagem (%)'] = array2\n",
    "array"
   ]
  },
  {
   "cell_type": "code",
   "execution_count": null,
   "metadata": {},
   "outputs": [],
   "source": [
    "#Não pode ser calculado dessa forma, pois um aluno participa de mais de uma turma\n",
    "#etapa_3ANO = etapa_EM.query('TP_ETAPA_ENSINO == 27') #27 é o código do terceiro ano de turmas presenciais\n",
    "#print(\"Alunos Matriculados no 3° ano do Ensino Médio Presencial: {}\".format(etapa_EM.QT_MATRICULAS.sum()))"
   ]
  },
  {
   "cell_type": "code",
   "execution_count": 4,
   "metadata": {},
   "outputs": [],
   "source": [
    "path_matriculas = \"C:\\\\Users\\\\vinic\\\\Documents\\\\GitHub\\\\Dados_Enem\\\\microdados_ed_basica_2018\\\\DADOS\\\\MATRICULA_SUDESTE\\\\MATRICULA_SUDESTE.csv\""
   ]
  },
  {
   "cell_type": "code",
   "execution_count": 5,
   "metadata": {},
   "outputs": [],
   "source": [
    "import pandas as pd\n",
    "import numpy as np\n",
    "import matplotlib.pyplot as plt\n",
    "use_cols = ['ID_MATRICULA', 'CO_UF','TP_ETAPA_ENSINO', 'TP_DEPENDENCIA']\n",
    "data_iterator = pd.read_csv(path_matriculas,sep='|',encoding='latin1',low_memory=False,chunksize=1000000, usecols=use_cols,dtype=\"category\")\n",
    "chunk_list = []  \n",
    "\n",
    "# Each chunk is in dataframe format\n",
    "for data_chunk in data_iterator:  \n",
    " #   filtered_chunk =  data_chunk.query(\"CO_UF = 31\")\n",
    "    chunk_list.append(data_chunk)\n",
    "    \n",
    "filtered_data = pd.concat(chunk_list)"
   ]
  },
  {
   "cell_type": "code",
   "execution_count": 18,
   "metadata": {},
   "outputs": [
    {
     "name": "stdout",
     "output_type": "stream",
     "text": [
      " 39 - Curso Técnico - Concomitante \n",
      " 40 - Curso Técnico - Subsequente \n",
      " 64 - Curso Técnico Misto (Concomitante e Subsequente) \n",
      " 68 - Curso FIC Concomitante \n",
      " 65 - EJA - Ensino Fundamental - Projovem Urbano \n",
      " 67 - Curso FIC integrado na modalidade EJA  - Nível Médio \n",
      " 69 - EJA - Ensino Fundamental - Anos Iniciais \n",
      " 70 - EJA - Ensino Fundamental - Anos Finais \n",
      " 71 - EJA - Ensino Médio \n"
     ]
    },
    {
     "data": {
      "text/html": [
       "<div>\n",
       "<style scoped>\n",
       "    .dataframe tbody tr th:only-of-type {\n",
       "        vertical-align: middle;\n",
       "    }\n",
       "\n",
       "    .dataframe tbody tr th {\n",
       "        vertical-align: top;\n",
       "    }\n",
       "\n",
       "    .dataframe thead th {\n",
       "        text-align: right;\n",
       "    }\n",
       "</style>\n",
       "<table border=\"1\" class=\"dataframe\">\n",
       "  <thead>\n",
       "    <tr style=\"text-align: right;\">\n",
       "      <th></th>\n",
       "      <th>TP_ETAPA_ENSINO</th>\n",
       "      <th>Porcentagem (%)</th>\n",
       "    </tr>\n",
       "  </thead>\n",
       "  <tbody>\n",
       "    <tr>\n",
       "      <th>2</th>\n",
       "      <td>2081213</td>\n",
       "      <td>10.910718</td>\n",
       "    </tr>\n",
       "    <tr>\n",
       "      <th>1</th>\n",
       "      <td>1754970</td>\n",
       "      <td>9.200396</td>\n",
       "    </tr>\n",
       "    <tr>\n",
       "      <th>19</th>\n",
       "      <td>1233283</td>\n",
       "      <td>6.465462</td>\n",
       "    </tr>\n",
       "    <tr>\n",
       "      <th>16</th>\n",
       "      <td>1196954</td>\n",
       "      <td>6.275008</td>\n",
       "    </tr>\n",
       "    <tr>\n",
       "      <th>18</th>\n",
       "      <td>1174612</td>\n",
       "      <td>6.157880</td>\n",
       "    </tr>\n",
       "    <tr>\n",
       "      <th>17</th>\n",
       "      <td>1165306</td>\n",
       "      <td>6.109094</td>\n",
       "    </tr>\n",
       "    <tr>\n",
       "      <th>20</th>\n",
       "      <td>1150950</td>\n",
       "      <td>6.033833</td>\n",
       "    </tr>\n",
       "    <tr>\n",
       "      <th>14</th>\n",
       "      <td>1140002</td>\n",
       "      <td>5.976438</td>\n",
       "    </tr>\n",
       "    <tr>\n",
       "      <th>15</th>\n",
       "      <td>1132763</td>\n",
       "      <td>5.938488</td>\n",
       "    </tr>\n",
       "    <tr>\n",
       "      <th>21</th>\n",
       "      <td>1110229</td>\n",
       "      <td>5.820354</td>\n",
       "    </tr>\n",
       "    <tr>\n",
       "      <th>25</th>\n",
       "      <td>1077849</td>\n",
       "      <td>5.650602</td>\n",
       "    </tr>\n",
       "    <tr>\n",
       "      <th>41</th>\n",
       "      <td>1074426</td>\n",
       "      <td>5.632657</td>\n",
       "    </tr>\n",
       "    <tr>\n",
       "      <th>26</th>\n",
       "      <td>996029</td>\n",
       "      <td>5.221663</td>\n",
       "    </tr>\n",
       "    <tr>\n",
       "      <th>27</th>\n",
       "      <td>887016</td>\n",
       "      <td>4.650164</td>\n",
       "    </tr>\n",
       "    <tr>\n",
       "      <th>71</th>\n",
       "      <td>584270</td>\n",
       "      <td>3.063024</td>\n",
       "    </tr>\n",
       "    <tr>\n",
       "      <th>40</th>\n",
       "      <td>420098</td>\n",
       "      <td>2.202356</td>\n",
       "    </tr>\n",
       "    <tr>\n",
       "      <th>70</th>\n",
       "      <td>380942</td>\n",
       "      <td>1.997081</td>\n",
       "    </tr>\n",
       "    <tr>\n",
       "      <th>39</th>\n",
       "      <td>202618</td>\n",
       "      <td>1.062221</td>\n",
       "    </tr>\n",
       "    <tr>\n",
       "      <th>69</th>\n",
       "      <td>104300</td>\n",
       "      <td>0.546791</td>\n",
       "    </tr>\n",
       "    <tr>\n",
       "      <th>30</th>\n",
       "      <td>56159</td>\n",
       "      <td>0.294412</td>\n",
       "    </tr>\n",
       "    <tr>\n",
       "      <th>31</th>\n",
       "      <td>44362</td>\n",
       "      <td>0.232567</td>\n",
       "    </tr>\n",
       "    <tr>\n",
       "      <th>32</th>\n",
       "      <td>40481</td>\n",
       "      <td>0.212221</td>\n",
       "    </tr>\n",
       "    <tr>\n",
       "      <th>38</th>\n",
       "      <td>15125</td>\n",
       "      <td>0.079293</td>\n",
       "    </tr>\n",
       "    <tr>\n",
       "      <th>35</th>\n",
       "      <td>8443</td>\n",
       "      <td>0.044262</td>\n",
       "    </tr>\n",
       "    <tr>\n",
       "      <th>36</th>\n",
       "      <td>7042</td>\n",
       "      <td>0.036918</td>\n",
       "    </tr>\n",
       "    <tr>\n",
       "      <th>68</th>\n",
       "      <td>6972</td>\n",
       "      <td>0.036551</td>\n",
       "    </tr>\n",
       "    <tr>\n",
       "      <th>37</th>\n",
       "      <td>6256</td>\n",
       "      <td>0.032797</td>\n",
       "    </tr>\n",
       "    <tr>\n",
       "      <th>34</th>\n",
       "      <td>5672</td>\n",
       "      <td>0.029735</td>\n",
       "    </tr>\n",
       "    <tr>\n",
       "      <th>29</th>\n",
       "      <td>3751</td>\n",
       "      <td>0.019665</td>\n",
       "    </tr>\n",
       "    <tr>\n",
       "      <th>33</th>\n",
       "      <td>3081</td>\n",
       "      <td>0.016152</td>\n",
       "    </tr>\n",
       "    <tr>\n",
       "      <th>74</th>\n",
       "      <td>2542</td>\n",
       "      <td>0.013326</td>\n",
       "    </tr>\n",
       "    <tr>\n",
       "      <th>4</th>\n",
       "      <td>2239</td>\n",
       "      <td>0.011738</td>\n",
       "    </tr>\n",
       "    <tr>\n",
       "      <th>5</th>\n",
       "      <td>1198</td>\n",
       "      <td>0.006280</td>\n",
       "    </tr>\n",
       "    <tr>\n",
       "      <th>6</th>\n",
       "      <td>845</td>\n",
       "      <td>0.004430</td>\n",
       "    </tr>\n",
       "    <tr>\n",
       "      <th>73</th>\n",
       "      <td>711</td>\n",
       "      <td>0.003727</td>\n",
       "    </tr>\n",
       "    <tr>\n",
       "      <th>8</th>\n",
       "      <td>576</td>\n",
       "      <td>0.003020</td>\n",
       "    </tr>\n",
       "    <tr>\n",
       "      <th>7</th>\n",
       "      <td>511</td>\n",
       "      <td>0.002679</td>\n",
       "    </tr>\n",
       "    <tr>\n",
       "      <th>67</th>\n",
       "      <td>456</td>\n",
       "      <td>0.002391</td>\n",
       "    </tr>\n",
       "    <tr>\n",
       "      <th>11</th>\n",
       "      <td>210</td>\n",
       "      <td>0.001101</td>\n",
       "    </tr>\n",
       "    <tr>\n",
       "      <th>9</th>\n",
       "      <td>198</td>\n",
       "      <td>0.001038</td>\n",
       "    </tr>\n",
       "    <tr>\n",
       "      <th>10</th>\n",
       "      <td>169</td>\n",
       "      <td>0.000886</td>\n",
       "    </tr>\n",
       "    <tr>\n",
       "      <th>28</th>\n",
       "      <td>111</td>\n",
       "      <td>0.000582</td>\n",
       "    </tr>\n",
       "  </tbody>\n",
       "</table>\n",
       "</div>"
      ],
      "text/plain": [
       "    TP_ETAPA_ENSINO  Porcentagem (%)\n",
       "2           2081213        10.910718\n",
       "1           1754970         9.200396\n",
       "19          1233283         6.465462\n",
       "16          1196954         6.275008\n",
       "18          1174612         6.157880\n",
       "17          1165306         6.109094\n",
       "20          1150950         6.033833\n",
       "14          1140002         5.976438\n",
       "15          1132763         5.938488\n",
       "21          1110229         5.820354\n",
       "25          1077849         5.650602\n",
       "41          1074426         5.632657\n",
       "26           996029         5.221663\n",
       "27           887016         4.650164\n",
       "71           584270         3.063024\n",
       "40           420098         2.202356\n",
       "70           380942         1.997081\n",
       "39           202618         1.062221\n",
       "69           104300         0.546791\n",
       "30            56159         0.294412\n",
       "31            44362         0.232567\n",
       "32            40481         0.212221\n",
       "38            15125         0.079293\n",
       "35             8443         0.044262\n",
       "36             7042         0.036918\n",
       "68             6972         0.036551\n",
       "37             6256         0.032797\n",
       "34             5672         0.029735\n",
       "29             3751         0.019665\n",
       "33             3081         0.016152\n",
       "74             2542         0.013326\n",
       "4              2239         0.011738\n",
       "5              1198         0.006280\n",
       "6               845         0.004430\n",
       "73              711         0.003727\n",
       "8               576         0.003020\n",
       "7               511         0.002679\n",
       "67              456         0.002391\n",
       "11              210         0.001101\n",
       "9               198         0.001038\n",
       "10              169         0.000886\n",
       "28              111         0.000582"
      ]
     },
     "execution_count": 18,
     "metadata": {},
     "output_type": "execute_result"
    },
    {
     "data": {
      "image/png": "[encoded data removed]",
      "text/plain": [
       "<Figure size 432x288 with 1 Axes>"
      ]
     },
     "metadata": {
      "needs_background": "light"
     },
     "output_type": "display_data"
    }
   ],
   "source": [
    "var = \"TP_ETAPA_ENSINO\"\n",
    "contagem_de_questionario = filtered_data[var].value_counts().to_frame().reset_index()\n",
    "contagem_de_questionario.columns = [\"Etapa de Ensino\", \"total\"]\n",
    "\n",
    "\n",
    "plt.title('Quantidade de TURMAS por Etapa de Ensino')\n",
    "\n",
    "sns.barplot(x=\"Etapa de Ensino\", y = \"total\", data = contagem_de_questionario)\n",
    "\n",
    "print(\" 39 - Curso Técnico - Concomitante \\n 40 - Curso Técnico - Subsequente \\n 64 - Curso Técnico Misto (Concomitante e Subsequente) \\n 68 - Curso FIC Concomitante \\n 65 - EJA - Ensino Fundamental - Projovem Urbano \\n 67 - Curso FIC integrado na modalidade EJA  - Nível Médio \\n 69 - EJA - Ensino Fundamental - Anos Iniciais \\n 70 - EJA - Ensino Fundamental - Anos Finais \\n 71 - EJA - Ensino Médio \")\n",
    "\n",
    "\n",
    "array = pd.DataFrame(filtered_data[var].value_counts())\n",
    "array2 = pd.DataFrame(filtered_data[var].value_counts(normalize=True) * 100)\n",
    "array['Porcentagem (%)'] = array2\n",
    "array"
   ]
  },
  {
   "cell_type": "code",
   "execution_count": 16,
   "metadata": {},
   "outputs": [
    {
     "data": {
      "text/plain": [
       "ID_MATRICULA       20158053\n",
       "TP_ETAPA_ENSINO    19074940\n",
       "CO_UF              20158053\n",
       "TP_DEPENDENCIA     20158053\n",
       "dtype: int64"
      ]
     },
     "execution_count": 16,
     "metadata": {},
     "output_type": "execute_result"
    }
   ],
   "source": [
    "filtered_data.count()"
   ]
  },
  {
   "cell_type": "code",
   "execution_count": 9,
   "metadata": {},
   "outputs": [],
   "source": [
    "escolasPublicas = filtered_data.query(\"TP_DEPENDENCIA != '4'\")\n",
    "escolasPrivadas = filtered_data.query(\"TP_DEPENDENCIA == '4'\")"
   ]
  },
  {
   "cell_type": "code",
   "execution_count": 12,
   "metadata": {},
   "outputs": [
    {
     "data": {
      "text/plain": [
       "15860530"
      ]
     },
     "execution_count": 12,
     "metadata": {},
     "output_type": "execute_result"
    }
   ],
   "source": [
    "escolasPublicas.shape[0]"
   ]
  },
  {
   "cell_type": "code",
   "execution_count": 7,
   "metadata": {},
   "outputs": [],
   "source": [
    "#27 - Ensino Médio - 3ª Série\n",
    "#28 - Ensino Médio - 4ª Série\n",
    "#29 - Ensino Médio - Não Seriada\n",
    "#30 - Curso Técnico Integrado (Ensino Médio Integrado) 1ª Série\n",
    "#31 - Curso Técnico Integrado (Ensino Médio Integrado) 2ª Série\n",
    "#32 - Curso Técnico Integrado (Ensino Médio Integrado) 3ª Série\n",
    "#33 - Curso Técnico Integrado (Ensino Médio Integrado) 4ª Série\n",
    "#34 - Curso Técnico Integrado (Ensino Médio Integrado) Não Seriada\n",
    "#35 - Ensino Médio - Normal/Magistério 1ª Série\n",
    "#36 - Ensino Médio - Normal/Magistério 2ª Série\n",
    "#37 - Ensino Médio - Normal/Magistério 3ª Série\n",
    "#38 - Ensino Médio - Normal/Magistério 4ª Série\n"
   ]
  },
  {
   "cell_type": "code",
   "execution_count": 10,
   "metadata": {},
   "outputs": [],
   "source": [
    "query = \"TP_ETAPA_ENSINO ==  '27' or TP_ETAPA_ENSINO ==  '28'  or TP_ETAPA_ENSINO ==  '32'  or TP_ETAPA_ENSINO ==  '33' or TP_ETAPA_ENSINO ==  '37' or TP_ETAPA_ENSINO ==  '38'\""
   ]
  },
  {
   "cell_type": "code",
   "execution_count": 17,
   "metadata": {},
   "outputs": [
    {
     "data": {
      "text/plain": [
       "952070"
      ]
     },
     "execution_count": 17,
     "metadata": {},
     "output_type": "execute_result"
    }
   ],
   "source": [
    "filtered_data.query(query).shape[0]"
   ]
  },
  {
   "cell_type": "code",
   "execution_count": 14,
   "metadata": {},
   "outputs": [
    {
     "data": {
      "text/plain": [
       "806407"
      ]
     },
     "execution_count": 14,
     "metadata": {},
     "output_type": "execute_result"
    }
   ],
   "source": [
    "escolasPublicas.query(query).shape[0]"
   ]
  },
  {
   "cell_type": "code",
   "execution_count": 13,
   "metadata": {},
   "outputs": [
    {
     "data": {
      "text/html": [
       "<div>\n",
       "<style scoped>\n",
       "    .dataframe tbody tr th:only-of-type {\n",
       "        vertical-align: middle;\n",
       "    }\n",
       "\n",
       "    .dataframe tbody tr th {\n",
       "        vertical-align: top;\n",
       "    }\n",
       "\n",
       "    .dataframe thead th {\n",
       "        text-align: right;\n",
       "    }\n",
       "</style>\n",
       "<table border=\"1\" class=\"dataframe\">\n",
       "  <thead>\n",
       "    <tr style=\"text-align: right;\">\n",
       "      <th></th>\n",
       "      <th>ID_MATRICULA</th>\n",
       "      <th>TP_ETAPA_ENSINO</th>\n",
       "      <th>CO_UF</th>\n",
       "      <th>TP_DEPENDENCIA</th>\n",
       "    </tr>\n",
       "  </thead>\n",
       "  <tbody>\n",
       "    <tr>\n",
       "      <th>50</th>\n",
       "      <td>291327606</td>\n",
       "      <td>27</td>\n",
       "      <td>32</td>\n",
       "      <td>2</td>\n",
       "    </tr>\n",
       "    <tr>\n",
       "      <th>53</th>\n",
       "      <td>291331161</td>\n",
       "      <td>27</td>\n",
       "      <td>32</td>\n",
       "      <td>2</td>\n",
       "    </tr>\n",
       "    <tr>\n",
       "      <th>55</th>\n",
       "      <td>291331196</td>\n",
       "      <td>27</td>\n",
       "      <td>32</td>\n",
       "      <td>2</td>\n",
       "    </tr>\n",
       "    <tr>\n",
       "      <th>64</th>\n",
       "      <td>291516090</td>\n",
       "      <td>27</td>\n",
       "      <td>32</td>\n",
       "      <td>2</td>\n",
       "    </tr>\n",
       "    <tr>\n",
       "      <th>72</th>\n",
       "      <td>291476889</td>\n",
       "      <td>27</td>\n",
       "      <td>32</td>\n",
       "      <td>2</td>\n",
       "    </tr>\n",
       "    <tr>\n",
       "      <th>...</th>\n",
       "      <td>...</td>\n",
       "      <td>...</td>\n",
       "      <td>...</td>\n",
       "      <td>...</td>\n",
       "    </tr>\n",
       "    <tr>\n",
       "      <th>20157944</th>\n",
       "      <td>295495882</td>\n",
       "      <td>27</td>\n",
       "      <td>31</td>\n",
       "      <td>2</td>\n",
       "    </tr>\n",
       "    <tr>\n",
       "      <th>20157949</th>\n",
       "      <td>298225889</td>\n",
       "      <td>27</td>\n",
       "      <td>31</td>\n",
       "      <td>2</td>\n",
       "    </tr>\n",
       "    <tr>\n",
       "      <th>20157992</th>\n",
       "      <td>303882993</td>\n",
       "      <td>27</td>\n",
       "      <td>31</td>\n",
       "      <td>2</td>\n",
       "    </tr>\n",
       "    <tr>\n",
       "      <th>20158024</th>\n",
       "      <td>298053569</td>\n",
       "      <td>27</td>\n",
       "      <td>31</td>\n",
       "      <td>2</td>\n",
       "    </tr>\n",
       "    <tr>\n",
       "      <th>20158025</th>\n",
       "      <td>297897916</td>\n",
       "      <td>27</td>\n",
       "      <td>31</td>\n",
       "      <td>2</td>\n",
       "    </tr>\n",
       "  </tbody>\n",
       "</table>\n",
       "<p>745787 rows × 4 columns</p>\n",
       "</div>"
      ],
      "text/plain": [
       "         ID_MATRICULA TP_ETAPA_ENSINO CO_UF TP_DEPENDENCIA\n",
       "50          291327606              27    32              2\n",
       "53          291331161              27    32              2\n",
       "55          291331196              27    32              2\n",
       "64          291516090              27    32              2\n",
       "72          291476889              27    32              2\n",
       "...               ...             ...   ...            ...\n",
       "20157944    295495882              27    31              2\n",
       "20157949    298225889              27    31              2\n",
       "20157992    303882993              27    31              2\n",
       "20158024    298053569              27    31              2\n",
       "20158025    297897916              27    31              2\n",
       "\n",
       "[745787 rows x 4 columns]"
      ]
     },
     "execution_count": 13,
     "metadata": {},
     "output_type": "execute_result"
    }
   ],
   "source": [
    "escolasPublicas.query(\"TP_ETAPA_ENSINO ==  '27'\")"
   ]
  },
  {
   "cell_type": "code",
   "execution_count": 18,
   "metadata": {},
   "outputs": [],
   "source": [
    "alunos_MG_Publica = escolasPublicas.query(\"CO_UF == '31'\")"
   ]
  },
  {
   "cell_type": "code",
   "execution_count": 20,
   "metadata": {},
   "outputs": [
    {
     "data": {
      "text/plain": [
       "ID_MATRICULA       200454\n",
       "TP_ETAPA_ENSINO    200454\n",
       "CO_UF              200454\n",
       "TP_DEPENDENCIA     200454\n",
       "dtype: int64"
      ]
     },
     "execution_count": 20,
     "metadata": {},
     "output_type": "execute_result"
    }
   ],
   "source": [
    "alunos_MG_Publica.query(\"TP_ETAPA_ENSINO ==  '27' or TP_ETAPA_ENSINO ==  '32' \").count()"
   ]
  },
  {
   "cell_type": "code",
   "execution_count": 13,
   "metadata": {},
   "outputs": [
    {
     "data": {
      "text/plain": [
       "4297523"
      ]
     },
     "execution_count": 13,
     "metadata": {},
     "output_type": "execute_result"
    }
   ],
   "source": [
    "escolasPrivadas.shape[0]"
   ]
  },
  {
   "cell_type": "code",
   "execution_count": 16,
   "metadata": {},
   "outputs": [],
   "source": [
    "alunos_MG_Privada = escolasPrivadas.query(\"CO_UF == '31'\")"
   ]
  },
  {
   "cell_type": "code",
   "execution_count": 17,
   "metadata": {},
   "outputs": [
    {
     "data": {
      "text/plain": [
       "ID_MATRICULA       22562\n",
       "TP_ETAPA_ENSINO    22562\n",
       "CO_UF              22562\n",
       "TP_DEPENDENCIA     22562\n",
       "dtype: int64"
      ]
     },
     "execution_count": 17,
     "metadata": {},
     "output_type": "execute_result"
    }
   ],
   "source": [
    "alunos_MG_Privada.query(\"TP_ETAPA_ENSINO ==  '27'\").count()"
   ]
  },
  {
   "cell_type": "code",
   "execution_count": 4,
   "metadata": {},
   "outputs": [],
   "source": [
    "alunos_MG = filtered_data.query(\"CO_UF == '31'\")"
   ]
  },
  {
   "cell_type": "code",
   "execution_count": 5,
   "metadata": {},
   "outputs": [],
   "source": [
    "grupo = filtered_data.groupby('CO_UF')"
   ]
  },
  {
   "cell_type": "code",
   "execution_count": 6,
   "metadata": {},
   "outputs": [
    {
     "data": {
      "text/plain": [
       "CO_UF  TP_ETAPA_ENSINO\n",
       "31     2                  484978\n",
       "       1                  317484\n",
       "       25                 314338\n",
       "       19                 311525\n",
       "       18                 307957\n",
       "                           ...  \n",
       "35     6                      61\n",
       "       28                     36\n",
       "       68                     35\n",
       "       9                      26\n",
       "       8                      20\n",
       "Name: TP_ETAPA_ENSINO, Length: 150, dtype: int64"
      ]
     },
     "execution_count": 6,
     "metadata": {},
     "output_type": "execute_result"
    }
   ],
   "source": [
    "grupo.TP_ETAPA_ENSINO.value_counts()"
   ]
  },
  {
   "cell_type": "code",
   "execution_count": 7,
   "metadata": {},
   "outputs": [
    {
     "data": {
      "text/plain": [
       "ID_MATRICULA       217369\n",
       "TP_ETAPA_ENSINO    217369\n",
       "CO_UF              217369\n",
       "TP_DEPENDENCIA     217369\n",
       "dtype: int64"
      ]
     },
     "execution_count": 7,
     "metadata": {},
     "output_type": "execute_result"
    }
   ],
   "source": [
    "alunos_MG.query(\"TP_ETAPA_ENSINO ==  '27'\").count()"
   ]
  },
  {
   "cell_type": "code",
   "execution_count": null,
   "metadata": {},
   "outputs": [],
   "source": []
  }
 ],
 "metadata": {
  "hide_input": false,
  "kernelspec": {
   "display_name": "Python 3",
   "language": "python",
   "name": "python3"
  },
  "language_info": {
   "codemirror_mode": {
    "name": "ipython",
    "version": 3
   },
   "file_extension": ".py",
   "mimetype": "text/x-python",
   "name": "python",
   "nbconvert_exporter": "python",
   "pygments_lexer": "ipython3",
   "version": "3.7.6"
  }
 },
 "nbformat": 4,
 "nbformat_minor": 4
}
