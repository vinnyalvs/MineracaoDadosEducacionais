{
 "cells": [
  {
   "cell_type": "code",
   "execution_count": 1,
   "metadata": {},
   "outputs": [],
   "source": [
    "import pandas as pd\n",
    "import numpy as np\n",
    "import seaborn as sns\n",
    "import matplotlib.pyplot as plt"
   ]
  },
  {
   "cell_type": "markdown",
   "metadata": {},
   "source": [
    "# Dados Censo Escolar  \n",
    "## Turmas de Minas Gerais"
   ]
  },
  {
   "cell_type": "code",
   "execution_count": 14,
   "metadata": {},
   "outputs": [],
   "source": [
    "path = \"C:\\\\Users\\\\vinic\\\\Documents\\\\GitHub\\\\Dados_Enem\\\\microdados_educacao_basica_2019\\\\DADOS\\\\TURMAS.csv\"\n",
    "\n"
   ]
  },
  {
   "cell_type": "code",
   "execution_count": 15,
   "metadata": {},
   "outputs": [],
   "source": [
    "dadosCenso = pd.read_csv(path,sep='|',encoding='latin1',low_memory=False)\n",
    "dadosCenso = dadosCenso.query('CO_UF == 31')\n",
    "dadosCenso.to_csv(\"CensoTurmaMG2019.csv\", encoding='latin1', index=False,sep=';')"
   ]
  },
  {
   "cell_type": "markdown",
   "metadata": {},
   "source": [
    "- Olhar relação de alunos matriculados no Ensino Médio com relação de inscritos no ENEM\n",
    "- Alunos tem acesso a  Internet pelo celular?\n",
    "- Organizar ideias no formato de artigo\n",
    "- Fazer revisão bibliográfica (em progresso, olhar planilha no drive )\n",
    "- Base do censo escolar: checar formação dos professores e se tem algo relacionado a EAD (não possui)\n",
    "- Fazer uma análise sobre diferentes regiões de minas "
   ]
  },
  {
   "cell_type": "code",
   "execution_count": 4,
   "metadata": {},
   "outputs": [],
   "source": [
    "path = 'CensoTurmaMG2019.csv'"
   ]
  },
  {
   "cell_type": "code",
   "execution_count": 5,
   "metadata": {},
   "outputs": [],
   "source": [
    "dadosCenso = pd.read_csv(path,sep=';',encoding='latin1',low_memory=False)"
   ]
  },
  {
   "cell_type": "code",
   "execution_count": 6,
   "metadata": {},
   "outputs": [
    {
     "name": "stdout",
     "output_type": "stream",
     "text": [
      " 1 - Presencial \n",
      " 2 - Semipresencial \n",
      " 3 - Educação a Distância - EAD\n"
     ]
    },
    {
     "data": {
      "text/html": [
       "<div>\n",
       "<style scoped>\n",
       "    .dataframe tbody tr th:only-of-type {\n",
       "        vertical-align: middle;\n",
       "    }\n",
       "\n",
       "    .dataframe tbody tr th {\n",
       "        vertical-align: top;\n",
       "    }\n",
       "\n",
       "    .dataframe thead th {\n",
       "        text-align: right;\n",
       "    }\n",
       "</style>\n",
       "<table border=\"1\" class=\"dataframe\">\n",
       "  <thead>\n",
       "    <tr style=\"text-align: right;\">\n",
       "      <th></th>\n",
       "      <th>TP_MEDIACAO_DIDATICO_PEDAGO</th>\n",
       "      <th>Porcentagem (%)</th>\n",
       "    </tr>\n",
       "  </thead>\n",
       "  <tbody>\n",
       "    <tr>\n",
       "      <th>1</th>\n",
       "      <td>218222</td>\n",
       "      <td>99.714412</td>\n",
       "    </tr>\n",
       "    <tr>\n",
       "      <th>3</th>\n",
       "      <td>345</td>\n",
       "      <td>0.157644</td>\n",
       "    </tr>\n",
       "    <tr>\n",
       "      <th>2</th>\n",
       "      <td>280</td>\n",
       "      <td>0.127943</td>\n",
       "    </tr>\n",
       "  </tbody>\n",
       "</table>\n",
       "</div>"
      ],
      "text/plain": [
       "   TP_MEDIACAO_DIDATICO_PEDAGO  Porcentagem (%)\n",
       "1                       218222        99.714412\n",
       "3                          345         0.157644\n",
       "2                          280         0.127943"
      ]
     },
     "execution_count": 6,
     "metadata": {},
     "output_type": "execute_result"
    },
    {
     "data": {
      "image/png": "[encoded data removed]",
      "text/plain": [
       "<Figure size 432x288 with 1 Axes>"
      ]
     },
     "metadata": {
      "needs_background": "light"
     },
     "output_type": "display_data"
    }
   ],
   "source": [
    "var = \"TP_MEDIACAO_DIDATICO_PEDAGO\"\n",
    "contagem_de_questionario = dadosCenso[var].value_counts().to_frame().reset_index()\n",
    "contagem_de_questionario.columns = [\"Tipo de Ensino\", \"total\"]\n",
    "\n",
    "\n",
    "plt.title('Tipo de mediação didático-pedagógica?')\n",
    "\n",
    "sns.barplot(x=\"Tipo de Ensino\", y = \"total\", data = contagem_de_questionario)\n",
    "\n",
    "\n",
    "print(\" 1 - Presencial \\n 2 - Semipresencial \\n 3 - Educação a Distância - EAD\")\n",
    "\n",
    "array = pd.DataFrame(dadosCenso[var].value_counts())\n",
    "array2 = pd.DataFrame(dadosCenso[var].value_counts(normalize=True) * 100)\n",
    "array['Porcentagem (%)'] = array2\n",
    "array\n"
   ]
  },
  {
   "cell_type": "code",
   "execution_count": 7,
   "metadata": {},
   "outputs": [],
   "source": [
    "tipo_ead = dadosCenso.query('TP_MEDIACAO_DIDATICO_PEDAGO == 3')"
   ]
  },
  {
   "cell_type": "markdown",
   "metadata": {},
   "source": [
    "# Dados Referentes a turmas que são EAD"
   ]
  },
  {
   "cell_type": "code",
   "execution_count": 8,
   "metadata": {},
   "outputs": [
    {
     "name": "stdout",
     "output_type": "stream",
     "text": [
      " 39 - Curso Técnico - Concomitante \n",
      " 40 - Curso Técnico - Subsequente \n",
      " 64 - Curso Técnico Misto (Concomitante e Subsequente) \n",
      " 68 - Curso FIC Concomitante \n",
      " 65 - EJA - Ensino Fundamental - Projovem Urbano \n",
      " 67 - Curso FIC integrado na modalidade EJA  - Nível Médio \n",
      " 69 - EJA - Ensino Fundamental - Anos Iniciais \n",
      " 70 - EJA - Ensino Fundamental - Anos Finais \n",
      " 71 - EJA - Ensino Médio \n"
     ]
    },
    {
     "data": {
      "text/html": [
       "<div>\n",
       "<style scoped>\n",
       "    .dataframe tbody tr th:only-of-type {\n",
       "        vertical-align: middle;\n",
       "    }\n",
       "\n",
       "    .dataframe tbody tr th {\n",
       "        vertical-align: top;\n",
       "    }\n",
       "\n",
       "    .dataframe thead th {\n",
       "        text-align: right;\n",
       "    }\n",
       "</style>\n",
       "<table border=\"1\" class=\"dataframe\">\n",
       "  <thead>\n",
       "    <tr style=\"text-align: right;\">\n",
       "      <th></th>\n",
       "      <th>TP_ETAPA_ENSINO</th>\n",
       "      <th>Porcentagem (%)</th>\n",
       "    </tr>\n",
       "  </thead>\n",
       "  <tbody>\n",
       "    <tr>\n",
       "      <th>40.0</th>\n",
       "      <td>109</td>\n",
       "      <td>31.594203</td>\n",
       "    </tr>\n",
       "    <tr>\n",
       "      <th>64.0</th>\n",
       "      <td>108</td>\n",
       "      <td>31.304348</td>\n",
       "    </tr>\n",
       "    <tr>\n",
       "      <th>39.0</th>\n",
       "      <td>89</td>\n",
       "      <td>25.797101</td>\n",
       "    </tr>\n",
       "    <tr>\n",
       "      <th>71.0</th>\n",
       "      <td>24</td>\n",
       "      <td>6.956522</td>\n",
       "    </tr>\n",
       "    <tr>\n",
       "      <th>70.0</th>\n",
       "      <td>13</td>\n",
       "      <td>3.768116</td>\n",
       "    </tr>\n",
       "    <tr>\n",
       "      <th>67.0</th>\n",
       "      <td>1</td>\n",
       "      <td>0.289855</td>\n",
       "    </tr>\n",
       "    <tr>\n",
       "      <th>68.0</th>\n",
       "      <td>1</td>\n",
       "      <td>0.289855</td>\n",
       "    </tr>\n",
       "  </tbody>\n",
       "</table>\n",
       "</div>"
      ],
      "text/plain": [
       "      TP_ETAPA_ENSINO  Porcentagem (%)\n",
       "40.0              109        31.594203\n",
       "64.0              108        31.304348\n",
       "39.0               89        25.797101\n",
       "71.0               24         6.956522\n",
       "70.0               13         3.768116\n",
       "67.0                1         0.289855\n",
       "68.0                1         0.289855"
      ]
     },
     "execution_count": 8,
     "metadata": {},
     "output_type": "execute_result"
    },
    {
     "data": {
      "image/png": "[encoded data removed]",
      "text/plain": [
       "<Figure size 432x288 with 1 Axes>"
      ]
     },
     "metadata": {
      "needs_background": "light"
     },
     "output_type": "display_data"
    }
   ],
   "source": [
    "var = \"TP_ETAPA_ENSINO\"\n",
    "contagem_de_questionario = tipo_ead[var].value_counts().to_frame().reset_index()\n",
    "contagem_de_questionario.columns = [\"Etapa de Ensino\", \"total\"]\n",
    "\n",
    "\n",
    "plt.title('Etapa de Ensino?')\n",
    "\n",
    "sns.barplot(x=\"Etapa de Ensino\", y = \"total\", data = contagem_de_questionario)\n",
    "\n",
    "print(\" 39 - Curso Técnico - Concomitante \\n 40 - Curso Técnico - Subsequente \\n 64 - Curso Técnico Misto (Concomitante e Subsequente) \\n 68 - Curso FIC Concomitante \\n 65 - EJA - Ensino Fundamental - Projovem Urbano \\n 67 - Curso FIC integrado na modalidade EJA  - Nível Médio \\n 69 - EJA - Ensino Fundamental - Anos Iniciais \\n 70 - EJA - Ensino Fundamental - Anos Finais \\n 71 - EJA - Ensino Médio \")\n",
    "\n",
    "\n",
    "array = pd.DataFrame(tipo_ead[var].value_counts())\n",
    "array2 = pd.DataFrame(tipo_ead[var].value_counts(normalize=True) * 100)\n",
    "array['Porcentagem (%)'] = array2\n",
    "array"
   ]
  },
  {
   "cell_type": "code",
   "execution_count": 9,
   "metadata": {},
   "outputs": [
    {
     "name": "stdout",
     "output_type": "stream",
     "text": [
      " 1 - Federal \n",
      " 2 - Estadual \n",
      " 3 - Municipal \n",
      " 4 - Privada\n"
     ]
    },
    {
     "data": {
      "text/html": [
       "<div>\n",
       "<style scoped>\n",
       "    .dataframe tbody tr th:only-of-type {\n",
       "        vertical-align: middle;\n",
       "    }\n",
       "\n",
       "    .dataframe tbody tr th {\n",
       "        vertical-align: top;\n",
       "    }\n",
       "\n",
       "    .dataframe thead th {\n",
       "        text-align: right;\n",
       "    }\n",
       "</style>\n",
       "<table border=\"1\" class=\"dataframe\">\n",
       "  <thead>\n",
       "    <tr style=\"text-align: right;\">\n",
       "      <th></th>\n",
       "      <th>TP_DEPENDENCIA</th>\n",
       "      <th>Porcentagem (%)</th>\n",
       "    </tr>\n",
       "  </thead>\n",
       "  <tbody>\n",
       "    <tr>\n",
       "      <th>1</th>\n",
       "      <td>182</td>\n",
       "      <td>52.753623</td>\n",
       "    </tr>\n",
       "    <tr>\n",
       "      <th>4</th>\n",
       "      <td>163</td>\n",
       "      <td>47.246377</td>\n",
       "    </tr>\n",
       "  </tbody>\n",
       "</table>\n",
       "</div>"
      ],
      "text/plain": [
       "   TP_DEPENDENCIA  Porcentagem (%)\n",
       "1             182        52.753623\n",
       "4             163        47.246377"
      ]
     },
     "execution_count": 9,
     "metadata": {},
     "output_type": "execute_result"
    },
    {
     "data": {
      "image/png": "[encoded data removed]",
      "text/plain": [
       "<Figure size 432x288 with 1 Axes>"
      ]
     },
     "metadata": {
      "needs_background": "light"
     },
     "output_type": "display_data"
    }
   ],
   "source": [
    "var = \"TP_DEPENDENCIA\"\n",
    "contagem_de_questionario = tipo_ead[var].value_counts().to_frame().reset_index()\n",
    "contagem_de_questionario.columns = [\"Depêndencia Administrativa\", \"total\"]\n",
    "\n",
    "\n",
    "plt.title('Depêndencia Administrativa')\n",
    "\n",
    "sns.barplot(x=\"Depêndencia Administrativa\", y = \"total\", data = contagem_de_questionario)\n",
    "\n",
    "print(\" 1 - Federal \\n 2 - Estadual \\n 3 - Municipal \\n 4 - Privada\")\n",
    "\n",
    "array = pd.DataFrame(tipo_ead[var].value_counts())\n",
    "array2 = pd.DataFrame(tipo_ead[var].value_counts(normalize=True) * 100)\n",
    "array['Porcentagem (%)'] = array2\n",
    "array"
   ]
  },
  {
   "cell_type": "code",
   "execution_count": 10,
   "metadata": {},
   "outputs": [
    {
     "name": "stdout",
     "output_type": "stream",
     "text": [
      " 1 - Urbana \n",
      " 2 - Rural\n"
     ]
    },
    {
     "data": {
      "text/html": [
       "<div>\n",
       "<style scoped>\n",
       "    .dataframe tbody tr th:only-of-type {\n",
       "        vertical-align: middle;\n",
       "    }\n",
       "\n",
       "    .dataframe tbody tr th {\n",
       "        vertical-align: top;\n",
       "    }\n",
       "\n",
       "    .dataframe thead th {\n",
       "        text-align: right;\n",
       "    }\n",
       "</style>\n",
       "<table border=\"1\" class=\"dataframe\">\n",
       "  <thead>\n",
       "    <tr style=\"text-align: right;\">\n",
       "      <th></th>\n",
       "      <th>TP_LOCALIZACAO</th>\n",
       "      <th>Porcentagem (%)</th>\n",
       "    </tr>\n",
       "  </thead>\n",
       "  <tbody>\n",
       "    <tr>\n",
       "      <th>1</th>\n",
       "      <td>279</td>\n",
       "      <td>80.869565</td>\n",
       "    </tr>\n",
       "    <tr>\n",
       "      <th>2</th>\n",
       "      <td>66</td>\n",
       "      <td>19.130435</td>\n",
       "    </tr>\n",
       "  </tbody>\n",
       "</table>\n",
       "</div>"
      ],
      "text/plain": [
       "   TP_LOCALIZACAO  Porcentagem (%)\n",
       "1             279        80.869565\n",
       "2              66        19.130435"
      ]
     },
     "execution_count": 10,
     "metadata": {},
     "output_type": "execute_result"
    },
    {
     "data": {
      "image/png": "[encoded data removed]",
      "text/plain": [
       "<Figure size 432x288 with 1 Axes>"
      ]
     },
     "metadata": {
      "needs_background": "light"
     },
     "output_type": "display_data"
    }
   ],
   "source": [
    "var = \"TP_LOCALIZACAO\"\n",
    "contagem_de_questionario = tipo_ead[var].value_counts().to_frame().reset_index()\n",
    "contagem_de_questionario.columns = [\"Localização (Escola)\", \"total\"]\n",
    "\n",
    "\n",
    "plt.title('Localização (Escola)')\n",
    "\n",
    "sns.barplot(x=\"Localização (Escola)\", y = \"total\", data = contagem_de_questionario)\n",
    "\n",
    "print(\" 1 - Urbana \\n 2 - Rural\")\n",
    "\n",
    "array = pd.DataFrame(tipo_ead[var].value_counts())\n",
    "array2 = pd.DataFrame(tipo_ead[var].value_counts(normalize=True) * 100)\n",
    "array['Porcentagem (%)'] = array2\n",
    "array"
   ]
  },
  {
   "cell_type": "markdown",
   "metadata": {},
   "source": [
    "# Alunos Matriculados Ensino Médio"
   ]
  },
  {
   "cell_type": "code",
   "execution_count": 11,
   "metadata": {},
   "outputs": [],
   "source": [
    "etapa_EM = dadosCenso.query('(TP_ETAPA_ENSINO >= 25 and TP_ETAPA_ENSINO <= 38) or TP_ETAPA_ENSINO == 71')"
   ]
  },
  {
   "cell_type": "code",
   "execution_count": 24,
   "metadata": {},
   "outputs": [
    {
     "name": "stdout",
     "output_type": "stream",
     "text": [
      " 39 - Curso Técnico - Concomitante \n",
      " 40 - Curso Técnico - Subsequente \n",
      " 64 - Curso Técnico Misto (Concomitante e Subsequente) \n",
      " 68 - Curso FIC Concomitante \n",
      " 65 - EJA - Ensino Fundamental - Projovem Urbano \n",
      " 67 - Curso FIC integrado na modalidade EJA  - Nível Médio \n",
      " 69 - EJA - Ensino Fundamental - Anos Iniciais \n",
      " 70 - EJA - Ensino Fundamental - Anos Finais \n",
      " 71 - EJA - Ensino Médio \n"
     ]
    },
    {
     "data": {
      "text/html": [
       "<div>\n",
       "<style scoped>\n",
       "    .dataframe tbody tr th:only-of-type {\n",
       "        vertical-align: middle;\n",
       "    }\n",
       "\n",
       "    .dataframe tbody tr th {\n",
       "        vertical-align: top;\n",
       "    }\n",
       "\n",
       "    .dataframe thead th {\n",
       "        text-align: right;\n",
       "    }\n",
       "</style>\n",
       "<table border=\"1\" class=\"dataframe\">\n",
       "  <thead>\n",
       "    <tr style=\"text-align: right;\">\n",
       "      <th></th>\n",
       "      <th>TP_ETAPA_ENSINO</th>\n",
       "      <th>Porcentagem (%)</th>\n",
       "    </tr>\n",
       "  </thead>\n",
       "  <tbody>\n",
       "    <tr>\n",
       "      <th>25.0</th>\n",
       "      <td>9277</td>\n",
       "      <td>32.725413</td>\n",
       "    </tr>\n",
       "    <tr>\n",
       "      <th>26.0</th>\n",
       "      <td>7904</td>\n",
       "      <td>27.882038</td>\n",
       "    </tr>\n",
       "    <tr>\n",
       "      <th>27.0</th>\n",
       "      <td>7031</td>\n",
       "      <td>24.802455</td>\n",
       "    </tr>\n",
       "    <tr>\n",
       "      <th>71.0</th>\n",
       "      <td>3156</td>\n",
       "      <td>11.133061</td>\n",
       "    </tr>\n",
       "    <tr>\n",
       "      <th>30.0</th>\n",
       "      <td>297</td>\n",
       "      <td>1.047693</td>\n",
       "    </tr>\n",
       "    <tr>\n",
       "      <th>31.0</th>\n",
       "      <td>253</td>\n",
       "      <td>0.892479</td>\n",
       "    </tr>\n",
       "    <tr>\n",
       "      <th>32.0</th>\n",
       "      <td>246</td>\n",
       "      <td>0.867786</td>\n",
       "    </tr>\n",
       "    <tr>\n",
       "      <th>38.0</th>\n",
       "      <td>144</td>\n",
       "      <td>0.507972</td>\n",
       "    </tr>\n",
       "    <tr>\n",
       "      <th>29.0</th>\n",
       "      <td>14</td>\n",
       "      <td>0.049386</td>\n",
       "    </tr>\n",
       "    <tr>\n",
       "      <th>34.0</th>\n",
       "      <td>11</td>\n",
       "      <td>0.038803</td>\n",
       "    </tr>\n",
       "    <tr>\n",
       "      <th>33.0</th>\n",
       "      <td>9</td>\n",
       "      <td>0.031748</td>\n",
       "    </tr>\n",
       "    <tr>\n",
       "      <th>37.0</th>\n",
       "      <td>3</td>\n",
       "      <td>0.010583</td>\n",
       "    </tr>\n",
       "    <tr>\n",
       "      <th>35.0</th>\n",
       "      <td>2</td>\n",
       "      <td>0.007055</td>\n",
       "    </tr>\n",
       "    <tr>\n",
       "      <th>36.0</th>\n",
       "      <td>1</td>\n",
       "      <td>0.003528</td>\n",
       "    </tr>\n",
       "  </tbody>\n",
       "</table>\n",
       "</div>"
      ],
      "text/plain": [
       "      TP_ETAPA_ENSINO  Porcentagem (%)\n",
       "25.0             9277        32.725413\n",
       "26.0             7904        27.882038\n",
       "27.0             7031        24.802455\n",
       "71.0             3156        11.133061\n",
       "30.0              297         1.047693\n",
       "31.0              253         0.892479\n",
       "32.0              246         0.867786\n",
       "38.0              144         0.507972\n",
       "29.0               14         0.049386\n",
       "34.0               11         0.038803\n",
       "33.0                9         0.031748\n",
       "37.0                3         0.010583\n",
       "35.0                2         0.007055\n",
       "36.0                1         0.003528"
      ]
     },
     "execution_count": 24,
     "metadata": {},
     "output_type": "execute_result"
    },
    {
     "data": {
      "image/png": "[encoded data removed]",
      "text/plain": [
       "<Figure size 432x288 with 1 Axes>"
      ]
     },
     "metadata": {
      "needs_background": "light"
     },
     "output_type": "display_data"
    }
   ],
   "source": [
    "var = \"TP_ETAPA_ENSINO\"\n",
    "contagem_de_questionario = etapa_EM[var].value_counts().to_frame().reset_index()\n",
    "contagem_de_questionario.columns = [\"Etapa de Ensino\", \"total\"]\n",
    "\n",
    "\n",
    "plt.title('Quantidade de TURMAS por Etapa de Ensino')\n",
    "\n",
    "sns.barplot(x=\"Etapa de Ensino\", y = \"total\", data = contagem_de_questionario)\n",
    "\n",
    "print(\" 39 - Curso Técnico - Concomitante \\n 40 - Curso Técnico - Subsequente \\n 64 - Curso Técnico Misto (Concomitante e Subsequente) \\n 68 - Curso FIC Concomitante \\n 65 - EJA - Ensino Fundamental - Projovem Urbano \\n 67 - Curso FIC integrado na modalidade EJA  - Nível Médio \\n 69 - EJA - Ensino Fundamental - Anos Iniciais \\n 70 - EJA - Ensino Fundamental - Anos Finais \\n 71 - EJA - Ensino Médio \")\n",
    "\n",
    "\n",
    "array = pd.DataFrame(etapa_EM[var].value_counts())\n",
    "array2 = pd.DataFrame(etapa_EM[var].value_counts(normalize=True) * 100)\n",
    "array['Porcentagem (%)'] = array2\n",
    "array"
   ]
  },
  {
   "cell_type": "code",
   "execution_count": 23,
   "metadata": {},
   "outputs": [
    {
     "name": "stdout",
     "output_type": "stream",
     "text": [
      "Alunos Matriculados no 3° ano do Ensino Médio Presencial: 885370\n"
     ]
    }
   ],
   "source": [
    "etapa_3ANO = etapa_EM.query('TP_ETAPA_ENSINO == 27') #27 é o código do terceiro ano de turmas presenciais\n",
    "print(\"Alunos Matriculados no 3° ano do Ensino Médio Presencial: {}\".format(etapa_EM.QT_MATRICULAS.sum()))"
   ]
  },
  {
   "cell_type": "code",
   "execution_count": null,
   "metadata": {},
   "outputs": [],
   "source": []
  }
 ],
 "metadata": {
  "hide_input": true,
  "kernelspec": {
   "display_name": "Python 3",
   "language": "python",
   "name": "python3"
  },
  "language_info": {
   "codemirror_mode": {
    "name": "ipython",
    "version": 3
   },
   "file_extension": ".py",
   "mimetype": "text/x-python",
   "name": "python",
   "nbconvert_exporter": "python",
   "pygments_lexer": "ipython3",
   "version": "3.7.6"
  }
 },
 "nbformat": 4,
 "nbformat_minor": 4
}
